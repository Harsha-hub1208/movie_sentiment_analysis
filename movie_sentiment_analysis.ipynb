{
  "cells": [
    {
      "cell_type": "code",
      "execution_count": null,
      "id": "272e64ed",
      "metadata": {
        "_cell_guid": "b1076dfc-b9ad-4769-8c92-a6c4dae69d19",
        "_uuid": "8f2839f25d086af736a60e9eeb907d3b93b6e0e5",
        "execution": {
          "iopub.execute_input": "2023-08-28T19:22:21.570161Z",
          "iopub.status.busy": "2023-08-28T19:22:21.569475Z",
          "iopub.status.idle": "2023-08-28T19:22:21.581196Z",
          "shell.execute_reply": "2023-08-28T19:22:21.580075Z"
        },
        "papermill": {
          "duration": 0.061881,
          "end_time": "2023-08-28T19:22:21.583387",
          "exception": false,
          "start_time": "2023-08-28T19:22:21.521506",
          "status": "completed"
        },
        "tags": [],
        "id": "272e64ed",
        "outputId": "f330b284-4088-4778-b367-180f1914d935"
      },
      "outputs": [
        {
          "name": "stdout",
          "output_type": "stream",
          "text": [
            "/kaggle/input/sentiment-prediction-on-movie-reviews/movies.csv\n",
            "/kaggle/input/sentiment-prediction-on-movie-reviews/sample.csv\n",
            "/kaggle/input/sentiment-prediction-on-movie-reviews/train.csv\n",
            "/kaggle/input/sentiment-prediction-on-movie-reviews/test.csv\n"
          ]
        }
      ],
      "source": [
        "# This Python 3 environment comes with many helpful analytics libraries installed\n",
        "# It is defined by the kaggle/python Docker image: https://github.com/kaggle/docker-python\n",
        "# For example, here's several helpful packages to load\n",
        "\n",
        "import numpy as np # linear algebra\n",
        "import pandas as pd # data processing, CSV file I/O (e.g. pd.read_csv)\n",
        "\n",
        "# Input data files are available in the read-only \"../input/\" directory\n",
        "# For example, running this (by clicking run or pressing Shift+Enter) will list all files under the input directory\n",
        "\n",
        "import os\n",
        "for dirname, _, filenames in os.walk('/kaggle/input'):\n",
        "    for filename in filenames:\n",
        "        print(os.path.join(dirname, filename))\n",
        "\n",
        "# You can write up to 20GB to the current directory (/kaggle/working/) that gets preserved as output when you create a version using \"Save & Run All\"\n",
        "# You can also write temporary files to /kaggle/temp/, but they won't be saved outside of the current session"
      ]
    },
    {
      "cell_type": "markdown",
      "id": "9f904c67",
      "metadata": {
        "papermill": {
          "duration": 0.044767,
          "end_time": "2023-08-28T19:22:21.672674",
          "exception": false,
          "start_time": "2023-08-28T19:22:21.627907",
          "status": "completed"
        },
        "tags": [],
        "id": "9f904c67"
      },
      "source": [
        "# *Loading the data.*"
      ]
    },
    {
      "cell_type": "code",
      "execution_count": null,
      "id": "dec7f4da",
      "metadata": {
        "execution": {
          "iopub.execute_input": "2023-08-28T19:22:21.761062Z",
          "iopub.status.busy": "2023-08-28T19:22:21.760653Z",
          "iopub.status.idle": "2023-08-28T19:22:24.059178Z",
          "shell.execute_reply": "2023-08-28T19:22:24.058346Z"
        },
        "papermill": {
          "duration": 2.34565,
          "end_time": "2023-08-28T19:22:24.061702",
          "exception": false,
          "start_time": "2023-08-28T19:22:21.716052",
          "status": "completed"
        },
        "tags": [],
        "id": "dec7f4da"
      },
      "outputs": [],
      "source": [
        "#importing libraries\n",
        "import pandas as pd\n",
        "import numpy as np\n",
        "import matplotlib.pyplot as plt\n",
        "import seaborn as sns\n",
        "\n",
        "#loading the datasets\n",
        "movies_data=pd.read_csv(\"/kaggle/input/sentiment-prediction-on-movie-reviews/movies.csv\")"
      ]
    },
    {
      "cell_type": "code",
      "execution_count": null,
      "id": "4e621601",
      "metadata": {
        "execution": {
          "iopub.execute_input": "2023-08-28T19:22:24.152259Z",
          "iopub.status.busy": "2023-08-28T19:22:24.151542Z",
          "iopub.status.idle": "2023-08-28T19:22:25.643893Z",
          "shell.execute_reply": "2023-08-28T19:22:25.642566Z"
        },
        "papermill": {
          "duration": 1.540808,
          "end_time": "2023-08-28T19:22:25.646447",
          "exception": false,
          "start_time": "2023-08-28T19:22:24.105639",
          "status": "completed"
        },
        "tags": [],
        "id": "4e621601"
      },
      "outputs": [],
      "source": [
        "sample_data=pd.read_csv(\"/kaggle/input/sentiment-prediction-on-movie-reviews/sample.csv\")\n",
        "train_data=pd.read_csv(\"/kaggle/input/sentiment-prediction-on-movie-reviews/train.csv\")\n",
        "test_data=pd.read_csv(\"/kaggle/input/sentiment-prediction-on-movie-reviews/test.csv\")"
      ]
    },
    {
      "cell_type": "markdown",
      "id": "1ee4158f",
      "metadata": {
        "papermill": {
          "duration": 0.042611,
          "end_time": "2023-08-28T19:22:25.732714",
          "exception": false,
          "start_time": "2023-08-28T19:22:25.690103",
          "status": "completed"
        },
        "tags": [],
        "id": "1ee4158f"
      },
      "source": [
        "# *Getting to know train_data.*\n",
        "*This section involves exploring the train_data--this includes looking at the shape of the dataset, it's columns and their types, null values present, number of unique values for each variable, etc. Furthermore, we perform basic data imputing and preprocessing, depending on column type and the information they presnt.*"
      ]
    },
    {
      "cell_type": "code",
      "execution_count": null,
      "id": "305e1635",
      "metadata": {
        "execution": {
          "iopub.execute_input": "2023-08-28T19:22:25.821657Z",
          "iopub.status.busy": "2023-08-28T19:22:25.821266Z",
          "iopub.status.idle": "2023-08-28T19:22:25.851291Z",
          "shell.execute_reply": "2023-08-28T19:22:25.850103Z"
        },
        "papermill": {
          "duration": 0.077546,
          "end_time": "2023-08-28T19:22:25.853668",
          "exception": false,
          "start_time": "2023-08-28T19:22:25.776122",
          "status": "completed"
        },
        "tags": [],
        "id": "305e1635",
        "outputId": "8c091104-7f4a-443c-dc77-2d2818e2a7c6"
      },
      "outputs": [
        {
          "data": {
            "text/html": [
              "<div>\n",
              "<style scoped>\n",
              "    .dataframe tbody tr th:only-of-type {\n",
              "        vertical-align: middle;\n",
              "    }\n",
              "\n",
              "    .dataframe tbody tr th {\n",
              "        vertical-align: top;\n",
              "    }\n",
              "\n",
              "    .dataframe thead th {\n",
              "        text-align: right;\n",
              "    }\n",
              "</style>\n",
              "<table border=\"1\" class=\"dataframe\">\n",
              "  <thead>\n",
              "    <tr style=\"text-align: right;\">\n",
              "      <th></th>\n",
              "      <th>movieid</th>\n",
              "      <th>reviewerName</th>\n",
              "      <th>isFrequentReviewer</th>\n",
              "      <th>reviewText</th>\n",
              "      <th>sentiment</th>\n",
              "    </tr>\n",
              "  </thead>\n",
              "  <tbody>\n",
              "    <tr>\n",
              "      <th>0</th>\n",
              "      <td>marvelous_pirate</td>\n",
              "      <td>Benjamin Henry</td>\n",
              "      <td>False</td>\n",
              "      <td>Henry Selick’s first movie since 2009’s Corali...</td>\n",
              "      <td>POSITIVE</td>\n",
              "    </tr>\n",
              "    <tr>\n",
              "      <th>1</th>\n",
              "      <td>tony_montana_frodo_baggins_v_rocky_balboa</td>\n",
              "      <td>Felicia Lopez</td>\n",
              "      <td>False</td>\n",
              "      <td>With a cast that reads like the Vogue Oscar pa...</td>\n",
              "      <td>NEGATIVE</td>\n",
              "    </tr>\n",
              "    <tr>\n",
              "      <th>2</th>\n",
              "      <td>darth_vader_katniss_everdeen_sorcerer_donnie_d...</td>\n",
              "      <td>Mr. Charles Burgess</td>\n",
              "      <td>True</td>\n",
              "      <td>Creed II does not give us anything but another...</td>\n",
              "      <td>POSITIVE</td>\n",
              "    </tr>\n",
              "    <tr>\n",
              "      <th>3</th>\n",
              "      <td>lara_croft_glimmer</td>\n",
              "      <td>Ryan Barrett</td>\n",
              "      <td>False</td>\n",
              "      <td>I know what you're thinking, but this is no Li...</td>\n",
              "      <td>POSITIVE</td>\n",
              "    </tr>\n",
              "    <tr>\n",
              "      <th>4</th>\n",
              "      <td>jason_bourne_surreal_the_terminator_indiana_jones</td>\n",
              "      <td>Alexander Glover</td>\n",
              "      <td>False</td>\n",
              "      <td>Director Fernando Meirelles tells the story wi...</td>\n",
              "      <td>POSITIVE</td>\n",
              "    </tr>\n",
              "  </tbody>\n",
              "</table>\n",
              "</div>"
            ],
            "text/plain": [
              "                                             movieid         reviewerName  \\\n",
              "0                                   marvelous_pirate       Benjamin Henry   \n",
              "1          tony_montana_frodo_baggins_v_rocky_balboa        Felicia Lopez   \n",
              "2  darth_vader_katniss_everdeen_sorcerer_donnie_d...  Mr. Charles Burgess   \n",
              "3                                 lara_croft_glimmer         Ryan Barrett   \n",
              "4  jason_bourne_surreal_the_terminator_indiana_jones     Alexander Glover   \n",
              "\n",
              "   isFrequentReviewer                                         reviewText  \\\n",
              "0               False  Henry Selick’s first movie since 2009’s Corali...   \n",
              "1               False  With a cast that reads like the Vogue Oscar pa...   \n",
              "2                True  Creed II does not give us anything but another...   \n",
              "3               False  I know what you're thinking, but this is no Li...   \n",
              "4               False  Director Fernando Meirelles tells the story wi...   \n",
              "\n",
              "  sentiment  \n",
              "0  POSITIVE  \n",
              "1  NEGATIVE  \n",
              "2  POSITIVE  \n",
              "3  POSITIVE  \n",
              "4  POSITIVE  "
            ]
          },
          "execution_count": 4,
          "metadata": {},
          "output_type": "execute_result"
        }
      ],
      "source": [
        "train_data.head()"
      ]
    },
    {
      "cell_type": "code",
      "execution_count": null,
      "id": "3f44b0b3",
      "metadata": {
        "execution": {
          "iopub.execute_input": "2023-08-28T19:22:25.943985Z",
          "iopub.status.busy": "2023-08-28T19:22:25.943249Z",
          "iopub.status.idle": "2023-08-28T19:22:25.949842Z",
          "shell.execute_reply": "2023-08-28T19:22:25.948994Z"
        },
        "papermill": {
          "duration": 0.053985,
          "end_time": "2023-08-28T19:22:25.951986",
          "exception": false,
          "start_time": "2023-08-28T19:22:25.898001",
          "status": "completed"
        },
        "tags": [],
        "id": "3f44b0b3",
        "outputId": "7d83911e-cbae-44e0-ae52-4993cd79733c"
      },
      "outputs": [
        {
          "data": {
            "text/plain": [
              "(162758, 5)"
            ]
          },
          "execution_count": 5,
          "metadata": {},
          "output_type": "execute_result"
        }
      ],
      "source": [
        "train_data.shape"
      ]
    },
    {
      "cell_type": "code",
      "execution_count": null,
      "id": "fc627380",
      "metadata": {
        "execution": {
          "iopub.execute_input": "2023-08-28T19:22:26.042827Z",
          "iopub.status.busy": "2023-08-28T19:22:26.041706Z",
          "iopub.status.idle": "2023-08-28T19:22:26.174825Z",
          "shell.execute_reply": "2023-08-28T19:22:26.173410Z"
        },
        "papermill": {
          "duration": 0.181473,
          "end_time": "2023-08-28T19:22:26.177667",
          "exception": false,
          "start_time": "2023-08-28T19:22:25.996194",
          "status": "completed"
        },
        "tags": [],
        "id": "fc627380",
        "outputId": "50569dd2-f14f-44f7-848f-9a30653073bd"
      },
      "outputs": [
        {
          "name": "stdout",
          "output_type": "stream",
          "text": [
            "<class 'pandas.core.frame.DataFrame'>\n",
            "RangeIndex: 162758 entries, 0 to 162757\n",
            "Data columns (total 5 columns):\n",
            " #   Column              Non-Null Count   Dtype \n",
            "---  ------              --------------   ----- \n",
            " 0   movieid             162758 non-null  object\n",
            " 1   reviewerName        162758 non-null  object\n",
            " 2   isFrequentReviewer  162758 non-null  bool  \n",
            " 3   reviewText          156311 non-null  object\n",
            " 4   sentiment           162758 non-null  object\n",
            "dtypes: bool(1), object(4)\n",
            "memory usage: 5.1+ MB\n"
          ]
        }
      ],
      "source": [
        "train_data.info()"
      ]
    },
    {
      "cell_type": "code",
      "execution_count": null,
      "id": "f9b5d48f",
      "metadata": {
        "execution": {
          "iopub.execute_input": "2023-08-28T19:22:26.273497Z",
          "iopub.status.busy": "2023-08-28T19:22:26.273124Z",
          "iopub.status.idle": "2023-08-28T19:22:26.388461Z",
          "shell.execute_reply": "2023-08-28T19:22:26.387336Z"
        },
        "papermill": {
          "duration": 0.163268,
          "end_time": "2023-08-28T19:22:26.390529",
          "exception": false,
          "start_time": "2023-08-28T19:22:26.227261",
          "status": "completed"
        },
        "tags": [],
        "id": "f9b5d48f",
        "outputId": "84256964-59b7-4d3d-9bef-636075799cf6"
      },
      "outputs": [
        {
          "data": {
            "text/plain": [
              "movieid                  0\n",
              "reviewerName             0\n",
              "isFrequentReviewer       0\n",
              "reviewText            6447\n",
              "sentiment                0\n",
              "dtype: int64"
            ]
          },
          "execution_count": 7,
          "metadata": {},
          "output_type": "execute_result"
        }
      ],
      "source": [
        "train_data.isnull().sum()"
      ]
    },
    {
      "cell_type": "code",
      "execution_count": null,
      "id": "893aad39",
      "metadata": {
        "execution": {
          "iopub.execute_input": "2023-08-28T19:22:26.483620Z",
          "iopub.status.busy": "2023-08-28T19:22:26.482934Z",
          "iopub.status.idle": "2023-08-28T19:22:26.601205Z",
          "shell.execute_reply": "2023-08-28T19:22:26.600258Z"
        },
        "papermill": {
          "duration": 0.167819,
          "end_time": "2023-08-28T19:22:26.603565",
          "exception": false,
          "start_time": "2023-08-28T19:22:26.435746",
          "status": "completed"
        },
        "tags": [],
        "id": "893aad39",
        "outputId": "4d0fd493-81c1-4d61-903d-4970cd242054"
      },
      "outputs": [
        {
          "data": {
            "text/plain": [
              "movieid               0\n",
              "reviewerName          0\n",
              "isFrequentReviewer    0\n",
              "reviewText            0\n",
              "sentiment             0\n",
              "dtype: int64"
            ]
          },
          "execution_count": 8,
          "metadata": {},
          "output_type": "execute_result"
        }
      ],
      "source": [
        "train_data.isin(['?','na',' ','n']).sum()"
      ]
    },
    {
      "cell_type": "code",
      "execution_count": null,
      "id": "f922c054",
      "metadata": {
        "execution": {
          "iopub.execute_input": "2023-08-28T19:22:26.696166Z",
          "iopub.status.busy": "2023-08-28T19:22:26.695145Z",
          "iopub.status.idle": "2023-08-28T19:22:26.917267Z",
          "shell.execute_reply": "2023-08-28T19:22:26.915991Z"
        },
        "papermill": {
          "duration": 0.270747,
          "end_time": "2023-08-28T19:22:26.919552",
          "exception": false,
          "start_time": "2023-08-28T19:22:26.648805",
          "status": "completed"
        },
        "tags": [],
        "id": "f922c054",
        "outputId": "aa94fad6-0a4c-4a45-82fb-00f0dbc2c150"
      },
      "outputs": [
        {
          "data": {
            "text/html": [
              "<div>\n",
              "<style scoped>\n",
              "    .dataframe tbody tr th:only-of-type {\n",
              "        vertical-align: middle;\n",
              "    }\n",
              "\n",
              "    .dataframe tbody tr th {\n",
              "        vertical-align: top;\n",
              "    }\n",
              "\n",
              "    .dataframe thead th {\n",
              "        text-align: right;\n",
              "    }\n",
              "</style>\n",
              "<table border=\"1\" class=\"dataframe\">\n",
              "  <thead>\n",
              "    <tr style=\"text-align: right;\">\n",
              "      <th></th>\n",
              "      <th>movieid</th>\n",
              "      <th>reviewerName</th>\n",
              "      <th>isFrequentReviewer</th>\n",
              "      <th>reviewText</th>\n",
              "      <th>sentiment</th>\n",
              "    </tr>\n",
              "  </thead>\n",
              "  <tbody>\n",
              "    <tr>\n",
              "      <th>count</th>\n",
              "      <td>162758</td>\n",
              "      <td>162758</td>\n",
              "      <td>162758</td>\n",
              "      <td>156311</td>\n",
              "      <td>162758</td>\n",
              "    </tr>\n",
              "    <tr>\n",
              "      <th>unique</th>\n",
              "      <td>16812</td>\n",
              "      <td>4482</td>\n",
              "      <td>2</td>\n",
              "      <td>155071</td>\n",
              "      <td>2</td>\n",
              "    </tr>\n",
              "    <tr>\n",
              "      <th>top</th>\n",
              "      <td>escape_the_terminator_tyler_durden_astonish</td>\n",
              "      <td>Sherri Morrison</td>\n",
              "      <td>False</td>\n",
              "      <td>Parental Content Review</td>\n",
              "      <td>POSITIVE</td>\n",
              "    </tr>\n",
              "    <tr>\n",
              "      <th>freq</th>\n",
              "      <td>708</td>\n",
              "      <td>962</td>\n",
              "      <td>113189</td>\n",
              "      <td>29</td>\n",
              "      <td>108761</td>\n",
              "    </tr>\n",
              "  </tbody>\n",
              "</table>\n",
              "</div>"
            ],
            "text/plain": [
              "                                            movieid     reviewerName  \\\n",
              "count                                        162758           162758   \n",
              "unique                                        16812             4482   \n",
              "top     escape_the_terminator_tyler_durden_astonish  Sherri Morrison   \n",
              "freq                                            708              962   \n",
              "\n",
              "       isFrequentReviewer               reviewText sentiment  \n",
              "count              162758                   156311    162758  \n",
              "unique                  2                   155071         2  \n",
              "top                 False  Parental Content Review  POSITIVE  \n",
              "freq               113189                       29    108761  "
            ]
          },
          "execution_count": 9,
          "metadata": {},
          "output_type": "execute_result"
        }
      ],
      "source": [
        "train_data.describe(include='all')"
      ]
    },
    {
      "cell_type": "code",
      "execution_count": null,
      "id": "311e5826",
      "metadata": {
        "execution": {
          "iopub.execute_input": "2023-08-28T19:22:27.015975Z",
          "iopub.status.busy": "2023-08-28T19:22:27.015257Z",
          "iopub.status.idle": "2023-08-28T19:22:27.044987Z",
          "shell.execute_reply": "2023-08-28T19:22:27.044245Z"
        },
        "papermill": {
          "duration": 0.080946,
          "end_time": "2023-08-28T19:22:27.046956",
          "exception": false,
          "start_time": "2023-08-28T19:22:26.966010",
          "status": "completed"
        },
        "tags": [],
        "id": "311e5826",
        "outputId": "7c7d7c49-9dab-47e0-eb99-953f4a6798ff"
      },
      "outputs": [
        {
          "data": {
            "text/plain": [
              "escape_the_terminator_tyler_durden_astonish    708\n",
              "fantasy_forrest_gump_intrigue                  245\n",
              "james_t._kirk_marty_mcfly_astonish             186\n",
              "marvelous_lara_croft_luke_skywalker            140\n",
              "michael_corleone_v_marty_mcfly_tony_stark      138\n",
              "                                              ... \n",
              "james_bond_legend_marty_mcfly_elegant            1\n",
              "myriad_aurora_edward_scissorhands                1\n",
              "mystic_ferris_bueller_spectacular                1\n",
              "crimson_velvet                                   1\n",
              "forrest_gump_fantasy_epic                        1\n",
              "Name: movieid, Length: 16812, dtype: int64"
            ]
          },
          "execution_count": 10,
          "metadata": {},
          "output_type": "execute_result"
        }
      ],
      "source": [
        "train_data['movieid'].value_counts()"
      ]
    },
    {
      "cell_type": "code",
      "execution_count": null,
      "id": "506f87f2",
      "metadata": {
        "execution": {
          "iopub.execute_input": "2023-08-28T19:22:27.144608Z",
          "iopub.status.busy": "2023-08-28T19:22:27.143956Z",
          "iopub.status.idle": "2023-08-28T19:22:27.170957Z",
          "shell.execute_reply": "2023-08-28T19:22:27.169228Z"
        },
        "papermill": {
          "duration": 0.082283,
          "end_time": "2023-08-28T19:22:27.175926",
          "exception": false,
          "start_time": "2023-08-28T19:22:27.093643",
          "status": "completed"
        },
        "tags": [],
        "id": "506f87f2",
        "outputId": "ae868804-5995-4912-b676-913aeb97db7e"
      },
      "outputs": [
        {
          "data": {
            "text/plain": [
              "Sherri Morrison      962\n",
              "Veronica Serrano     952\n",
              "Mrs. Vickie Young    827\n",
              "Kristy Ferguson      822\n",
              "Heather Pena         797\n",
              "                    ... \n",
              "Ashley Munoz           1\n",
              "Ryan Dean              1\n",
              "Joanna Li              1\n",
              "Jason Carroll          1\n",
              "Chad Mueller           1\n",
              "Name: reviewerName, Length: 4482, dtype: int64"
            ]
          },
          "execution_count": 11,
          "metadata": {},
          "output_type": "execute_result"
        }
      ],
      "source": [
        "train_data['reviewerName'].value_counts()"
      ]
    },
    {
      "cell_type": "markdown",
      "id": "0528f02e",
      "metadata": {
        "papermill": {
          "duration": 0.045634,
          "end_time": "2023-08-28T19:22:27.275713",
          "exception": false,
          "start_time": "2023-08-28T19:22:27.230079",
          "status": "completed"
        },
        "tags": [],
        "id": "0528f02e"
      },
      "source": [
        "*There are 4 columns include--movieid, reviwerName, reviewText and isFrequentReviewer.Three of these columns are object type and isFrequentReviewer is boolean type. Further we see that only reviewText has null rows.*"
      ]
    },
    {
      "cell_type": "code",
      "execution_count": null,
      "id": "8d5b55e6",
      "metadata": {
        "execution": {
          "iopub.execute_input": "2023-08-28T19:22:27.368636Z",
          "iopub.status.busy": "2023-08-28T19:22:27.367875Z",
          "iopub.status.idle": "2023-08-28T19:22:27.384757Z",
          "shell.execute_reply": "2023-08-28T19:22:27.383944Z"
        },
        "papermill": {
          "duration": 0.065128,
          "end_time": "2023-08-28T19:22:27.386801",
          "exception": false,
          "start_time": "2023-08-28T19:22:27.321673",
          "status": "completed"
        },
        "tags": [],
        "id": "8d5b55e6",
        "outputId": "b105ea32-c4c8-40dc-8703-68fdf961a26f"
      },
      "outputs": [
        {
          "data": {
            "text/plain": [
              "POSITIVE    108761\n",
              "NEGATIVE     53997\n",
              "Name: sentiment, dtype: int64"
            ]
          },
          "execution_count": 12,
          "metadata": {},
          "output_type": "execute_result"
        }
      ],
      "source": [
        "train_data['sentiment'].value_counts()"
      ]
    },
    {
      "cell_type": "code",
      "execution_count": null,
      "id": "2a8e4249",
      "metadata": {
        "execution": {
          "iopub.execute_input": "2023-08-28T19:22:27.478881Z",
          "iopub.status.busy": "2023-08-28T19:22:27.478464Z",
          "iopub.status.idle": "2023-08-28T19:22:28.007471Z",
          "shell.execute_reply": "2023-08-28T19:22:28.005812Z"
        },
        "papermill": {
          "duration": 0.578004,
          "end_time": "2023-08-28T19:22:28.009968",
          "exception": false,
          "start_time": "2023-08-28T19:22:27.431964",
          "status": "completed"
        },
        "tags": [],
        "id": "2a8e4249",
        "outputId": "38deab40-60b9-4c1b-f30d-a9a7cb85ba5f"
      },
      "outputs": [
        {
          "data": {
            "text/plain": [
              "<Axes: xlabel='sentiment', ylabel='Count'>"
            ]
          },
          "execution_count": 13,
          "metadata": {},
          "output_type": "execute_result"
        },
        {
          "data": {
            "image/png": "[encoded data removed]",
            "text/plain": [
              "<Figure size 640x480 with 1 Axes>"
            ]
          },
          "metadata": {},
          "output_type": "display_data"
        }
      ],
      "source": [
        "sns.histplot(train_data['sentiment'])"
      ]
    },
    {
      "cell_type": "code",
      "execution_count": null,
      "id": "8f9d462b",
      "metadata": {
        "execution": {
          "iopub.execute_input": "2023-08-28T19:22:28.105201Z",
          "iopub.status.busy": "2023-08-28T19:22:28.104815Z",
          "iopub.status.idle": "2023-08-28T19:22:28.123600Z",
          "shell.execute_reply": "2023-08-28T19:22:28.122429Z"
        },
        "papermill": {
          "duration": 0.069334,
          "end_time": "2023-08-28T19:22:28.125597",
          "exception": false,
          "start_time": "2023-08-28T19:22:28.056263",
          "status": "completed"
        },
        "tags": [],
        "id": "8f9d462b",
        "outputId": "2aff7c05-db8e-40de-e19e-e0c6c9102a17"
      },
      "outputs": [
        {
          "data": {
            "text/plain": [
              "POSITIVE    66.823751\n",
              "NEGATIVE    33.176249\n",
              "Name: sentiment, dtype: float64"
            ]
          },
          "execution_count": 14,
          "metadata": {},
          "output_type": "execute_result"
        }
      ],
      "source": [
        "#ratio_of_positive/negitive\n",
        "(train_data['sentiment'].value_counts()/len(train_data['sentiment']))*100"
      ]
    },
    {
      "cell_type": "markdown",
      "id": "6cc14144",
      "metadata": {
        "papermill": {
          "duration": 0.045603,
          "end_time": "2023-08-28T19:22:28.217369",
          "exception": false,
          "start_time": "2023-08-28T19:22:28.171766",
          "status": "completed"
        },
        "tags": [],
        "id": "6cc14144"
      },
      "source": [
        "*Now, we anlyse the sentiment column of the train, since it is the target column.We find that the dataset we have is imbalanced.*\n",
        "***It has 67% positive sentiment data, while only 33% data is for negitive sentiment.***"
      ]
    },
    {
      "cell_type": "markdown",
      "id": "354b5f13",
      "metadata": {
        "papermill": {
          "duration": 0.045223,
          "end_time": "2023-08-28T19:22:28.310325",
          "exception": false,
          "start_time": "2023-08-28T19:22:28.265102",
          "status": "completed"
        },
        "tags": [],
        "id": "354b5f13"
      },
      "source": [
        "**Encoding/preprocessing the train_data: Here, we perform:**     \n",
        "\n",
        "*1)Impute missing values using most_frequent startegy of Simple imputer.      \n",
        "2)use OrdinalEncoder to transform isFrequentReviewer column- it automatically transforms, false to 0 and true to 1.     \n",
        "2)use LabelEncoder to transform the label column-sentiment.*"
      ]
    },
    {
      "cell_type": "code",
      "execution_count": null,
      "id": "1387e332",
      "metadata": {
        "execution": {
          "iopub.execute_input": "2023-08-28T19:22:28.403973Z",
          "iopub.status.busy": "2023-08-28T19:22:28.403584Z",
          "iopub.status.idle": "2023-08-28T19:22:28.863638Z",
          "shell.execute_reply": "2023-08-28T19:22:28.862599Z"
        },
        "papermill": {
          "duration": 0.51033,
          "end_time": "2023-08-28T19:22:28.866455",
          "exception": false,
          "start_time": "2023-08-28T19:22:28.356125",
          "status": "completed"
        },
        "tags": [],
        "id": "1387e332"
      },
      "outputs": [],
      "source": [
        "from sklearn.impute import SimpleImputer\n",
        "si= SimpleImputer(strategy=\"most_frequent\")\n"
      ]
    },
    {
      "cell_type": "code",
      "execution_count": null,
      "id": "a0400e8d",
      "metadata": {
        "execution": {
          "iopub.execute_input": "2023-08-28T19:22:28.961177Z",
          "iopub.status.busy": "2023-08-28T19:22:28.960769Z",
          "iopub.status.idle": "2023-08-28T19:22:28.965853Z",
          "shell.execute_reply": "2023-08-28T19:22:28.964766Z"
        },
        "papermill": {
          "duration": 0.054432,
          "end_time": "2023-08-28T19:22:28.967927",
          "exception": false,
          "start_time": "2023-08-28T19:22:28.913495",
          "status": "completed"
        },
        "tags": [],
        "id": "a0400e8d"
      },
      "outputs": [],
      "source": [
        "from sklearn.preprocessing import OrdinalEncoder\n",
        "from sklearn.preprocessing import LabelEncoder"
      ]
    },
    {
      "cell_type": "code",
      "execution_count": null,
      "id": "36c24ad3",
      "metadata": {
        "execution": {
          "iopub.execute_input": "2023-08-28T19:22:29.061978Z",
          "iopub.status.busy": "2023-08-28T19:22:29.061590Z",
          "iopub.status.idle": "2023-08-28T19:22:29.085483Z",
          "shell.execute_reply": "2023-08-28T19:22:29.084558Z"
        },
        "papermill": {
          "duration": 0.07342,
          "end_time": "2023-08-28T19:22:29.087969",
          "exception": false,
          "start_time": "2023-08-28T19:22:29.014549",
          "status": "completed"
        },
        "tags": [],
        "id": "36c24ad3"
      },
      "outputs": [],
      "source": [
        "from sklearn.compose import ColumnTransformer\n",
        "ORD= OrdinalEncoder()\n",
        "le=LabelEncoder()"
      ]
    },
    {
      "cell_type": "code",
      "execution_count": null,
      "id": "f8adfd57",
      "metadata": {
        "execution": {
          "iopub.execute_input": "2023-08-28T19:22:29.181882Z",
          "iopub.status.busy": "2023-08-28T19:22:29.181051Z",
          "iopub.status.idle": "2023-08-28T19:22:29.355907Z",
          "shell.execute_reply": "2023-08-28T19:22:29.354487Z"
        },
        "papermill": {
          "duration": 0.224164,
          "end_time": "2023-08-28T19:22:29.358402",
          "exception": false,
          "start_time": "2023-08-28T19:22:29.134238",
          "status": "completed"
        },
        "tags": [],
        "id": "f8adfd57"
      },
      "outputs": [],
      "source": [
        "train_data['reviewText']= si.fit_transform(train_data[['reviewText']])\n",
        "train_data['sentiment']=le.fit_transform(train_data['sentiment'])\n",
        "train_data['isFrequentReviewer']=ORD.fit_transform(train_data[['isFrequentReviewer']])"
      ]
    },
    {
      "cell_type": "code",
      "execution_count": null,
      "id": "af96324f",
      "metadata": {
        "execution": {
          "iopub.execute_input": "2023-08-28T19:22:29.455227Z",
          "iopub.status.busy": "2023-08-28T19:22:29.454785Z",
          "iopub.status.idle": "2023-08-28T19:22:29.467381Z",
          "shell.execute_reply": "2023-08-28T19:22:29.466445Z"
        },
        "papermill": {
          "duration": 0.063061,
          "end_time": "2023-08-28T19:22:29.469452",
          "exception": false,
          "start_time": "2023-08-28T19:22:29.406391",
          "status": "completed"
        },
        "tags": [],
        "id": "af96324f",
        "outputId": "df39a201-da85-4d7f-eefc-28151c5138d8"
      },
      "outputs": [
        {
          "data": {
            "text/html": [
              "<div>\n",
              "<style scoped>\n",
              "    .dataframe tbody tr th:only-of-type {\n",
              "        vertical-align: middle;\n",
              "    }\n",
              "\n",
              "    .dataframe tbody tr th {\n",
              "        vertical-align: top;\n",
              "    }\n",
              "\n",
              "    .dataframe thead th {\n",
              "        text-align: right;\n",
              "    }\n",
              "</style>\n",
              "<table border=\"1\" class=\"dataframe\">\n",
              "  <thead>\n",
              "    <tr style=\"text-align: right;\">\n",
              "      <th></th>\n",
              "      <th>movieid</th>\n",
              "      <th>reviewerName</th>\n",
              "      <th>isFrequentReviewer</th>\n",
              "      <th>reviewText</th>\n",
              "      <th>sentiment</th>\n",
              "    </tr>\n",
              "  </thead>\n",
              "  <tbody>\n",
              "    <tr>\n",
              "      <th>0</th>\n",
              "      <td>marvelous_pirate</td>\n",
              "      <td>Benjamin Henry</td>\n",
              "      <td>0.0</td>\n",
              "      <td>Henry Selick’s first movie since 2009’s Corali...</td>\n",
              "      <td>1</td>\n",
              "    </tr>\n",
              "    <tr>\n",
              "      <th>1</th>\n",
              "      <td>tony_montana_frodo_baggins_v_rocky_balboa</td>\n",
              "      <td>Felicia Lopez</td>\n",
              "      <td>0.0</td>\n",
              "      <td>With a cast that reads like the Vogue Oscar pa...</td>\n",
              "      <td>0</td>\n",
              "    </tr>\n",
              "    <tr>\n",
              "      <th>2</th>\n",
              "      <td>darth_vader_katniss_everdeen_sorcerer_donnie_d...</td>\n",
              "      <td>Mr. Charles Burgess</td>\n",
              "      <td>1.0</td>\n",
              "      <td>Creed II does not give us anything but another...</td>\n",
              "      <td>1</td>\n",
              "    </tr>\n",
              "    <tr>\n",
              "      <th>3</th>\n",
              "      <td>lara_croft_glimmer</td>\n",
              "      <td>Ryan Barrett</td>\n",
              "      <td>0.0</td>\n",
              "      <td>I know what you're thinking, but this is no Li...</td>\n",
              "      <td>1</td>\n",
              "    </tr>\n",
              "    <tr>\n",
              "      <th>4</th>\n",
              "      <td>jason_bourne_surreal_the_terminator_indiana_jones</td>\n",
              "      <td>Alexander Glover</td>\n",
              "      <td>0.0</td>\n",
              "      <td>Director Fernando Meirelles tells the story wi...</td>\n",
              "      <td>1</td>\n",
              "    </tr>\n",
              "  </tbody>\n",
              "</table>\n",
              "</div>"
            ],
            "text/plain": [
              "                                             movieid         reviewerName  \\\n",
              "0                                   marvelous_pirate       Benjamin Henry   \n",
              "1          tony_montana_frodo_baggins_v_rocky_balboa        Felicia Lopez   \n",
              "2  darth_vader_katniss_everdeen_sorcerer_donnie_d...  Mr. Charles Burgess   \n",
              "3                                 lara_croft_glimmer         Ryan Barrett   \n",
              "4  jason_bourne_surreal_the_terminator_indiana_jones     Alexander Glover   \n",
              "\n",
              "   isFrequentReviewer                                         reviewText  \\\n",
              "0                 0.0  Henry Selick’s first movie since 2009’s Corali...   \n",
              "1                 0.0  With a cast that reads like the Vogue Oscar pa...   \n",
              "2                 1.0  Creed II does not give us anything but another...   \n",
              "3                 0.0  I know what you're thinking, but this is no Li...   \n",
              "4                 0.0  Director Fernando Meirelles tells the story wi...   \n",
              "\n",
              "   sentiment  \n",
              "0          1  \n",
              "1          0  \n",
              "2          1  \n",
              "3          1  \n",
              "4          1  "
            ]
          },
          "execution_count": 19,
          "metadata": {},
          "output_type": "execute_result"
        }
      ],
      "source": [
        "train_data.head()"
      ]
    },
    {
      "cell_type": "code",
      "execution_count": null,
      "id": "39fd2d9b",
      "metadata": {
        "execution": {
          "iopub.execute_input": "2023-08-28T19:22:29.564695Z",
          "iopub.status.busy": "2023-08-28T19:22:29.564307Z",
          "iopub.status.idle": "2023-08-28T19:22:29.573348Z",
          "shell.execute_reply": "2023-08-28T19:22:29.572568Z"
        },
        "papermill": {
          "duration": 0.05863,
          "end_time": "2023-08-28T19:22:29.575196",
          "exception": false,
          "start_time": "2023-08-28T19:22:29.516566",
          "status": "completed"
        },
        "tags": [],
        "id": "39fd2d9b",
        "outputId": "0b9bfd2e-92e2-4df6-ea5e-3416437ac4fc"
      },
      "outputs": [
        {
          "data": {
            "text/plain": [
              "1    108761\n",
              "0     53997\n",
              "Name: sentiment, dtype: int64"
            ]
          },
          "execution_count": 20,
          "metadata": {},
          "output_type": "execute_result"
        }
      ],
      "source": [
        "train_data['sentiment'].value_counts()"
      ]
    },
    {
      "cell_type": "code",
      "execution_count": null,
      "id": "c8433bee",
      "metadata": {
        "execution": {
          "iopub.execute_input": "2023-08-28T19:22:29.669299Z",
          "iopub.status.busy": "2023-08-28T19:22:29.668844Z",
          "iopub.status.idle": "2023-08-28T19:22:29.675401Z",
          "shell.execute_reply": "2023-08-28T19:22:29.674364Z"
        },
        "papermill": {
          "duration": 0.056101,
          "end_time": "2023-08-28T19:22:29.677444",
          "exception": false,
          "start_time": "2023-08-28T19:22:29.621343",
          "status": "completed"
        },
        "tags": [],
        "id": "c8433bee",
        "outputId": "8361399e-34a3-4a71-be41-05ea279521ec"
      },
      "outputs": [
        {
          "data": {
            "text/plain": [
              "Index(['movieid', 'reviewerName', 'isFrequentReviewer', 'reviewText',\n",
              "       'sentiment'],\n",
              "      dtype='object')"
            ]
          },
          "execution_count": 21,
          "metadata": {},
          "output_type": "execute_result"
        }
      ],
      "source": [
        "train_data.columns"
      ]
    },
    {
      "cell_type": "code",
      "execution_count": null,
      "id": "631fe0fa",
      "metadata": {
        "execution": {
          "iopub.execute_input": "2023-08-28T19:22:29.772178Z",
          "iopub.status.busy": "2023-08-28T19:22:29.771793Z",
          "iopub.status.idle": "2023-08-28T19:22:29.861480Z",
          "shell.execute_reply": "2023-08-28T19:22:29.860515Z"
        },
        "papermill": {
          "duration": 0.139934,
          "end_time": "2023-08-28T19:22:29.863566",
          "exception": false,
          "start_time": "2023-08-28T19:22:29.723632",
          "status": "completed"
        },
        "tags": [],
        "id": "631fe0fa",
        "outputId": "5ce2645f-cc2b-4afe-bc43-ceef270b4a2c"
      },
      "outputs": [
        {
          "data": {
            "text/plain": [
              "movieid               0\n",
              "reviewerName          0\n",
              "isFrequentReviewer    0\n",
              "reviewText            0\n",
              "sentiment             0\n",
              "dtype: int64"
            ]
          },
          "execution_count": 22,
          "metadata": {},
          "output_type": "execute_result"
        }
      ],
      "source": [
        "train_data.isnull().sum()"
      ]
    },
    {
      "cell_type": "code",
      "execution_count": null,
      "id": "c90ee13e",
      "metadata": {
        "execution": {
          "iopub.execute_input": "2023-08-28T19:22:29.959657Z",
          "iopub.status.busy": "2023-08-28T19:22:29.959249Z",
          "iopub.status.idle": "2023-08-28T19:22:30.387600Z",
          "shell.execute_reply": "2023-08-28T19:22:30.386536Z"
        },
        "papermill": {
          "duration": 0.47875,
          "end_time": "2023-08-28T19:22:30.389941",
          "exception": false,
          "start_time": "2023-08-28T19:22:29.911191",
          "status": "completed"
        },
        "tags": [],
        "id": "c90ee13e",
        "outputId": "a7d56d98-3853-4fc8-8b7a-de1453f05e3a"
      },
      "outputs": [
        {
          "data": {
            "text/plain": [
              "<Axes: xlabel='isFrequentReviewer', ylabel='Count'>"
            ]
          },
          "execution_count": 23,
          "metadata": {},
          "output_type": "execute_result"
        },
        {
          "data": {
            "image/png": "[encoded data removed]",
            "text/plain": [
              "<Figure size 640x480 with 1 Axes>"
            ]
          },
          "metadata": {},
          "output_type": "display_data"
        }
      ],
      "source": [
        "sns.histplot(train_data['isFrequentReviewer'])"
      ]
    },
    {
      "cell_type": "markdown",
      "id": "8ac4a2f6",
      "metadata": {
        "papermill": {
          "duration": 0.04687,
          "end_time": "2023-08-28T19:22:30.485851",
          "exception": false,
          "start_time": "2023-08-28T19:22:30.438981",
          "status": "completed"
        },
        "tags": [],
        "id": "8ac4a2f6"
      },
      "source": [
        "*Insights that we find from the data are.*       \n",
        "*1.Train dataset is not a balanced one.It's biased towards positive sentiment prediction. The ratio of positive/negitive reviews are ~2.*     \n",
        "*2.We see it has five columns, one of them is our target column-sentiment. Their initial preprocessing has been performed above*        \n",
        "*3.The most frequent reviewer is 'Sherri Morrison', the most_frequent reviewText is 'Parental Content Review' and the most frequnt movie_id is 'escape_the_terminator_tyler_durden_astonish'*        \n",
        "*4.Here we use most_frequent as the imputing strategy for reviewText, this is because it gives a better result than just filling it with blanks.*"
      ]
    },
    {
      "cell_type": "markdown",
      "id": "c2ca1c0e",
      "metadata": {
        "papermill": {
          "duration": 0.047897,
          "end_time": "2023-08-28T19:22:30.581108",
          "exception": false,
          "start_time": "2023-08-28T19:22:30.533211",
          "status": "completed"
        },
        "tags": [],
        "id": "c2ca1c0e"
      },
      "source": [
        "***EDA for the text data of train_data--FeatureEngineering/Analysis***       \n",
        "*Here we use text extraction using Countvectorizer to find which words are used most used in the reviews with or without the stop words (most commonly used in sentences-from internet).We also did this analysis seperately for positive and negitive sentiment reviews.*"
      ]
    },
    {
      "cell_type": "code",
      "execution_count": null,
      "id": "0b8cc683",
      "metadata": {
        "execution": {
          "iopub.execute_input": "2023-08-28T19:22:30.677970Z",
          "iopub.status.busy": "2023-08-28T19:22:30.677148Z",
          "iopub.status.idle": "2023-08-28T19:22:30.685291Z",
          "shell.execute_reply": "2023-08-28T19:22:30.684449Z"
        },
        "papermill": {
          "duration": 0.058862,
          "end_time": "2023-08-28T19:22:30.687208",
          "exception": false,
          "start_time": "2023-08-28T19:22:30.628346",
          "status": "completed"
        },
        "tags": [],
        "id": "0b8cc683"
      },
      "outputs": [],
      "source": [
        "stop_words = [\"i\", \"me\", \"my\", \"myself\", \"we\", \"our\", \"ours\", \"ourselves\", \"you\", \"your\", \"yours\", \"yourself\",\n",
        "              \"yourselves\", \"he\", \"him\", \"his\", \"himself\", \"she\", \"her\", \"hers\", \"herself\", \"it\", \"its\", \"itself\",\n",
        "              \"they\", \"them\", \"their\", \"theirs\", \"themselves\", \"what\", \"which\", \"who\", \"whom\", \"this\", \"that\", \"these\",\n",
        "              \"those\", \"am\", \"is\", \"are\", \"was\", \"were\", \"be\", \"been\", \"being\", \"have\", \"has\", \"had\", \"having\", \"do\",\n",
        "              \"does\", \"did\", \"doing\", \"a\", \"an\", \"the\", \"and\", \"but\", \"if\", \"or\", \"because\", \"as\", \"until\", \"while\",\n",
        "              \"of\", \"at\", \"by\", \"for\", \"with\", \"about\", \"against\", \"between\", \"into\", \"through\", \"during\", \"before\",\n",
        "              \"after\", \"above\", \"below\", \"to\", \"from\", \"up\", \"down\", \"in\", \"out\", \"on\", \"off\", \"over\", \"under\", \"again\",\n",
        "              \"further\", \"then\", \"once\", \"here\", \"there\", \"when\", \"where\", \"why\", \"how\", \"all\", \"any\", \"both\", \"each\",\n",
        "              \"few\", \"more\", \"most\", \"other\", \"some\", \"such\", \"no\", \"nor\", \"not\", \"only\", \"own\", \"same\", \"so\", \"than\",\n",
        "              \"too\", \"very\", \"s\", \"t\", \"can\", \"will\", \"just\", \"don\", \"should\", \"now\"]"
      ]
    },
    {
      "cell_type": "code",
      "execution_count": null,
      "id": "dcd41923",
      "metadata": {
        "execution": {
          "iopub.execute_input": "2023-08-28T19:22:30.783285Z",
          "iopub.status.busy": "2023-08-28T19:22:30.782615Z",
          "iopub.status.idle": "2023-08-28T19:22:30.790075Z",
          "shell.execute_reply": "2023-08-28T19:22:30.789089Z"
        },
        "papermill": {
          "duration": 0.057909,
          "end_time": "2023-08-28T19:22:30.792349",
          "exception": false,
          "start_time": "2023-08-28T19:22:30.734440",
          "status": "completed"
        },
        "tags": [],
        "id": "dcd41923"
      },
      "outputs": [],
      "source": [
        "doc1= np.array(train_data['reviewText'])"
      ]
    },
    {
      "cell_type": "code",
      "execution_count": null,
      "id": "be2f3b43",
      "metadata": {
        "execution": {
          "iopub.execute_input": "2023-08-28T19:22:30.888982Z",
          "iopub.status.busy": "2023-08-28T19:22:30.888293Z",
          "iopub.status.idle": "2023-08-28T19:22:30.904132Z",
          "shell.execute_reply": "2023-08-28T19:22:30.903085Z"
        },
        "papermill": {
          "duration": 0.067126,
          "end_time": "2023-08-28T19:22:30.906587",
          "exception": false,
          "start_time": "2023-08-28T19:22:30.839461",
          "status": "completed"
        },
        "tags": [],
        "id": "be2f3b43"
      },
      "outputs": [],
      "source": [
        "from sklearn.feature_extraction.text import CountVectorizer"
      ]
    },
    {
      "cell_type": "code",
      "execution_count": null,
      "id": "36eea6ee",
      "metadata": {
        "execution": {
          "iopub.execute_input": "2023-08-28T19:22:31.002171Z",
          "iopub.status.busy": "2023-08-28T19:22:31.001746Z",
          "iopub.status.idle": "2023-08-28T19:22:38.568952Z",
          "shell.execute_reply": "2023-08-28T19:22:38.568172Z"
        },
        "papermill": {
          "duration": 7.617154,
          "end_time": "2023-08-28T19:22:38.570907",
          "exception": false,
          "start_time": "2023-08-28T19:22:30.953753",
          "status": "completed"
        },
        "tags": [],
        "id": "36eea6ee",
        "outputId": "ddaccccc-33c1-4e72-e8ff-d86b14488294"
      },
      "outputs": [
        {
          "data": {
            "text/plain": [
              "(array([[0, 0, 0, ..., 0, 0, 0],\n",
              "        [0, 0, 0, ..., 1, 1, 0],\n",
              "        [0, 0, 1, ..., 0, 0, 0],\n",
              "        ...,\n",
              "        [1, 0, 0, ..., 1, 2, 0],\n",
              "        [0, 0, 1, ..., 0, 1, 0],\n",
              "        [0, 0, 0, ..., 0, 0, 0]]),\n",
              " array([[0],\n",
              "        [1],\n",
              "        [0],\n",
              "        ...,\n",
              "        [2],\n",
              "        [1],\n",
              "        [0]]))"
            ]
          },
          "execution_count": 27,
          "metadata": {},
          "output_type": "execute_result"
        }
      ],
      "source": [
        "cvect=CountVectorizer(max_features=10)\n",
        "cvect2=CountVectorizer(max_features=1)\n",
        "bag= cvect.fit_transform(doc1)\n",
        "bag2= cvect2.fit_transform(doc1)\n",
        "bag.toarray(), bag2.toarray()"
      ]
    },
    {
      "cell_type": "code",
      "execution_count": null,
      "id": "fee3c53a",
      "metadata": {
        "execution": {
          "iopub.execute_input": "2023-08-28T19:22:38.668840Z",
          "iopub.status.busy": "2023-08-28T19:22:38.668188Z",
          "iopub.status.idle": "2023-08-28T19:22:38.674263Z",
          "shell.execute_reply": "2023-08-28T19:22:38.673048Z"
        },
        "papermill": {
          "duration": 0.056356,
          "end_time": "2023-08-28T19:22:38.676459",
          "exception": false,
          "start_time": "2023-08-28T19:22:38.620103",
          "status": "completed"
        },
        "tags": [],
        "id": "fee3c53a",
        "outputId": "12b4d10b-1fbd-45ab-fb47-7b47a6ec337a"
      },
      "outputs": [
        {
          "name": "stdout",
          "output_type": "stream",
          "text": [
            "['and' 'as' 'but' 'in' 'is' 'it' 'of' 'that' 'the' 'to']\n",
            "['the']\n"
          ]
        }
      ],
      "source": [
        " top_ten=print(cvect.get_feature_names_out())\n",
        " top =  print(cvect2.get_feature_names_out())"
      ]
    },
    {
      "cell_type": "markdown",
      "id": "c254a23b",
      "metadata": {
        "papermill": {
          "duration": 0.047038,
          "end_time": "2023-08-28T19:22:38.771814",
          "exception": false,
          "start_time": "2023-08-28T19:22:38.724776",
          "status": "completed"
        },
        "tags": [],
        "id": "c254a23b"
      },
      "source": [
        "*'the' is the most used word in the review--and above that are the top ten words used in the th review...this is along the expected line. Its similar to what we expect from ANY/ALL documents. We can put them as stop words along with similar such words.*"
      ]
    },
    {
      "cell_type": "markdown",
      "id": "67a1ba73",
      "metadata": {
        "papermill": {
          "duration": 0.108703,
          "end_time": "2023-08-28T19:22:38.928562",
          "exception": false,
          "start_time": "2023-08-28T19:22:38.819859",
          "status": "completed"
        },
        "tags": [],
        "id": "67a1ba73"
      },
      "source": [
        "***Using stop_words we perform the same analysis***"
      ]
    },
    {
      "cell_type": "code",
      "execution_count": null,
      "id": "b0cb8942",
      "metadata": {
        "execution": {
          "iopub.execute_input": "2023-08-28T19:22:39.025067Z",
          "iopub.status.busy": "2023-08-28T19:22:39.024675Z",
          "iopub.status.idle": "2023-08-28T19:22:39.032758Z",
          "shell.execute_reply": "2023-08-28T19:22:39.031942Z"
        },
        "papermill": {
          "duration": 0.059069,
          "end_time": "2023-08-28T19:22:39.034826",
          "exception": false,
          "start_time": "2023-08-28T19:22:38.975757",
          "status": "completed"
        },
        "tags": [],
        "id": "b0cb8942"
      },
      "outputs": [],
      "source": [
        "doc2= np.array(train_data['reviewText'])"
      ]
    },
    {
      "cell_type": "code",
      "execution_count": null,
      "id": "0f346df5",
      "metadata": {
        "execution": {
          "iopub.execute_input": "2023-08-28T19:22:39.134660Z",
          "iopub.status.busy": "2023-08-28T19:22:39.134014Z",
          "iopub.status.idle": "2023-08-28T19:22:39.138779Z",
          "shell.execute_reply": "2023-08-28T19:22:39.138050Z"
        },
        "papermill": {
          "duration": 0.058718,
          "end_time": "2023-08-28T19:22:39.140973",
          "exception": false,
          "start_time": "2023-08-28T19:22:39.082255",
          "status": "completed"
        },
        "tags": [],
        "id": "0f346df5"
      },
      "outputs": [],
      "source": [
        "cvect3=CountVectorizer(max_features=10,stop_words=stop_words )\n",
        "cvect4=CountVectorizer(max_features=1,stop_words=stop_words )"
      ]
    },
    {
      "cell_type": "code",
      "execution_count": null,
      "id": "afeab3d5",
      "metadata": {
        "execution": {
          "iopub.execute_input": "2023-08-28T19:22:39.237462Z",
          "iopub.status.busy": "2023-08-28T19:22:39.237101Z",
          "iopub.status.idle": "2023-08-28T19:22:46.358921Z",
          "shell.execute_reply": "2023-08-28T19:22:46.357846Z"
        },
        "papermill": {
          "duration": 7.172974,
          "end_time": "2023-08-28T19:22:46.361367",
          "exception": false,
          "start_time": "2023-08-28T19:22:39.188393",
          "status": "completed"
        },
        "tags": [],
        "id": "afeab3d5",
        "outputId": "cd06a8a6-f81c-4318-e6fc-cf6bf2571e0c"
      },
      "outputs": [
        {
          "data": {
            "text/plain": [
              "(array([[0, 0, 0, ..., 0, 0, 0],\n",
              "        [0, 0, 0, ..., 0, 0, 0],\n",
              "        [0, 0, 0, ..., 0, 0, 0],\n",
              "        ...,\n",
              "        [0, 0, 0, ..., 0, 0, 0],\n",
              "        [0, 0, 0, ..., 0, 0, 0],\n",
              "        [0, 0, 0, ..., 0, 0, 0]]),\n",
              " array([[0],\n",
              "        [0],\n",
              "        [0],\n",
              "        ...,\n",
              "        [0],\n",
              "        [1],\n",
              "        [0]]))"
            ]
          },
          "execution_count": 31,
          "metadata": {},
          "output_type": "execute_result"
        }
      ],
      "source": [
        "bag= cvect3.fit_transform(doc2)\n",
        "bag2= cvect4.fit_transform(doc2)\n",
        "bag.toarray(), bag2.toarray()"
      ]
    },
    {
      "cell_type": "code",
      "execution_count": null,
      "id": "d1bccbd7",
      "metadata": {
        "execution": {
          "iopub.execute_input": "2023-08-28T19:22:46.458205Z",
          "iopub.status.busy": "2023-08-28T19:22:46.457813Z",
          "iopub.status.idle": "2023-08-28T19:22:46.463781Z",
          "shell.execute_reply": "2023-08-28T19:22:46.462705Z"
        },
        "papermill": {
          "duration": 0.057082,
          "end_time": "2023-08-28T19:22:46.465977",
          "exception": false,
          "start_time": "2023-08-28T19:22:46.408895",
          "status": "completed"
        },
        "tags": [],
        "id": "d1bccbd7",
        "outputId": "624e4b5a-aacc-4ba2-9a82-765708e66604"
      },
      "outputs": [
        {
          "name": "stdout",
          "output_type": "stream",
          "text": [
            "['44' '46' 'content' 'film' 'like' 'movie' 'much' 'one' 'review' 'story']\n",
            "['film']\n"
          ]
        }
      ],
      "source": [
        " top_ten=print(cvect3.get_feature_names_out())\n",
        " top =  print(cvect4.get_feature_names_out())"
      ]
    },
    {
      "cell_type": "markdown",
      "id": "4480500f",
      "metadata": {
        "papermill": {
          "duration": 0.047061,
          "end_time": "2023-08-28T19:22:46.560489",
          "exception": false,
          "start_time": "2023-08-28T19:22:46.513428",
          "status": "completed"
        },
        "tags": [],
        "id": "4480500f"
      },
      "source": [
        "***We comapre the most frequently occuring word in positive and negitive sentiment***"
      ]
    },
    {
      "cell_type": "code",
      "execution_count": null,
      "id": "b6d2657a",
      "metadata": {
        "execution": {
          "iopub.execute_input": "2023-08-28T19:22:46.659436Z",
          "iopub.status.busy": "2023-08-28T19:22:46.659054Z",
          "iopub.status.idle": "2023-08-28T19:22:46.680965Z",
          "shell.execute_reply": "2023-08-28T19:22:46.679938Z"
        },
        "papermill": {
          "duration": 0.074415,
          "end_time": "2023-08-28T19:22:46.683483",
          "exception": false,
          "start_time": "2023-08-28T19:22:46.609068",
          "status": "completed"
        },
        "tags": [],
        "id": "b6d2657a"
      },
      "outputs": [],
      "source": [
        "#making seperate datasets for positive and negitive reviews\n",
        "data_positive=train_data[train_data['sentiment']==1]\n",
        "data_negitive=train_data[train_data['sentiment']==0]"
      ]
    },
    {
      "cell_type": "code",
      "execution_count": null,
      "id": "e045bb35",
      "metadata": {
        "execution": {
          "iopub.execute_input": "2023-08-28T19:22:46.780653Z",
          "iopub.status.busy": "2023-08-28T19:22:46.780294Z",
          "iopub.status.idle": "2023-08-28T19:22:46.787928Z",
          "shell.execute_reply": "2023-08-28T19:22:46.786952Z"
        },
        "papermill": {
          "duration": 0.058953,
          "end_time": "2023-08-28T19:22:46.790126",
          "exception": false,
          "start_time": "2023-08-28T19:22:46.731173",
          "status": "completed"
        },
        "tags": [],
        "id": "e045bb35"
      },
      "outputs": [],
      "source": [
        "doc3= np.array(data_positive['reviewText'])\n",
        "doc4= np.array(data_negitive['reviewText'])"
      ]
    },
    {
      "cell_type": "markdown",
      "id": "844f0493",
      "metadata": {
        "papermill": {
          "duration": 0.047706,
          "end_time": "2023-08-28T19:22:46.885513",
          "exception": false,
          "start_time": "2023-08-28T19:22:46.837807",
          "status": "completed"
        },
        "tags": [],
        "id": "844f0493"
      },
      "source": [
        "***FOR POSITIVE REVIEWS***"
      ]
    },
    {
      "cell_type": "code",
      "execution_count": null,
      "id": "27727ee3",
      "metadata": {
        "execution": {
          "iopub.execute_input": "2023-08-28T19:22:46.981974Z",
          "iopub.status.busy": "2023-08-28T19:22:46.981493Z",
          "iopub.status.idle": "2023-08-28T19:22:51.910879Z",
          "shell.execute_reply": "2023-08-28T19:22:51.909866Z"
        },
        "papermill": {
          "duration": 4.980518,
          "end_time": "2023-08-28T19:22:51.913243",
          "exception": false,
          "start_time": "2023-08-28T19:22:46.932725",
          "status": "completed"
        },
        "tags": [],
        "id": "27727ee3",
        "outputId": "e3a7a280-3ab1-49c3-ee3a-b83e93842928"
      },
      "outputs": [
        {
          "data": {
            "text/plain": [
              "(array([[0, 0, 0, ..., 0, 0, 0],\n",
              "        [0, 0, 0, ..., 0, 0, 0],\n",
              "        [0, 0, 0, ..., 0, 0, 0],\n",
              "        ...,\n",
              "        [0, 0, 0, ..., 0, 0, 0],\n",
              "        [0, 0, 0, ..., 0, 0, 0],\n",
              "        [0, 0, 0, ..., 0, 0, 0]]),\n",
              " array([[0],\n",
              "        [0],\n",
              "        [0],\n",
              "        ...,\n",
              "        [0],\n",
              "        [0],\n",
              "        [0]]))"
            ]
          },
          "execution_count": 35,
          "metadata": {},
          "output_type": "execute_result"
        }
      ],
      "source": [
        "bag= cvect3.fit_transform(doc3)\n",
        "bag2= cvect4.fit_transform(doc3)\n",
        "bag.toarray(), bag2.toarray()"
      ]
    },
    {
      "cell_type": "code",
      "execution_count": null,
      "id": "e004d7ff",
      "metadata": {
        "execution": {
          "iopub.execute_input": "2023-08-28T19:22:52.012232Z",
          "iopub.status.busy": "2023-08-28T19:22:52.011822Z",
          "iopub.status.idle": "2023-08-28T19:22:52.018710Z",
          "shell.execute_reply": "2023-08-28T19:22:52.017031Z"
        },
        "papermill": {
          "duration": 0.058134,
          "end_time": "2023-08-28T19:22:52.020915",
          "exception": false,
          "start_time": "2023-08-28T19:22:51.962781",
          "status": "completed"
        },
        "tags": [],
        "id": "e004d7ff",
        "outputId": "6ede9488-9d03-4b5c-ab46-8f8ada29823f"
      },
      "outputs": [
        {
          "name": "stdout",
          "output_type": "stream",
          "text": [
            "['44' '46' 'best' 'film' 'good' 'like' 'movie' 'one' 'review' 'story']\n",
            "['film']\n"
          ]
        }
      ],
      "source": [
        " top_ten=print(cvect3.get_feature_names_out())\n",
        " top =  print(cvect4.get_feature_names_out())"
      ]
    },
    {
      "cell_type": "markdown",
      "id": "2251ecfc",
      "metadata": {
        "papermill": {
          "duration": 0.047152,
          "end_time": "2023-08-28T19:22:52.116319",
          "exception": false,
          "start_time": "2023-08-28T19:22:52.069167",
          "status": "completed"
        },
        "tags": [],
        "id": "2251ecfc"
      },
      "source": [
        "***NEGITIVE SENTIMENT REVIEW***"
      ]
    },
    {
      "cell_type": "code",
      "execution_count": null,
      "id": "7122d875",
      "metadata": {
        "execution": {
          "iopub.execute_input": "2023-08-28T19:22:52.215856Z",
          "iopub.status.busy": "2023-08-28T19:22:52.215446Z",
          "iopub.status.idle": "2023-08-28T19:22:54.626496Z",
          "shell.execute_reply": "2023-08-28T19:22:54.625462Z"
        },
        "papermill": {
          "duration": 2.463233,
          "end_time": "2023-08-28T19:22:54.628962",
          "exception": false,
          "start_time": "2023-08-28T19:22:52.165729",
          "status": "completed"
        },
        "tags": [],
        "id": "7122d875",
        "outputId": "9a5e972c-7d35-43c1-ea86-602b95b5fd3d"
      },
      "outputs": [
        {
          "data": {
            "text/plain": [
              "(array([[0, 0, 0, ..., 0, 0, 0],\n",
              "        [0, 0, 0, ..., 0, 0, 0],\n",
              "        [0, 0, 0, ..., 0, 0, 0],\n",
              "        ...,\n",
              "        [0, 0, 1, ..., 0, 0, 0],\n",
              "        [0, 0, 0, ..., 0, 0, 0],\n",
              "        [0, 0, 1, ..., 0, 0, 0]]),\n",
              " array([[0],\n",
              "        [0],\n",
              "        [0],\n",
              "        ...,\n",
              "        [1],\n",
              "        [0],\n",
              "        [1]]))"
            ]
          },
          "execution_count": 37,
          "metadata": {},
          "output_type": "execute_result"
        }
      ],
      "source": [
        "bag= cvect3.fit_transform(doc4)\n",
        "bag2= cvect4.fit_transform(doc4)\n",
        "bag.toarray(), bag2.toarray()"
      ]
    },
    {
      "cell_type": "code",
      "execution_count": null,
      "id": "d9e106de",
      "metadata": {
        "execution": {
          "iopub.execute_input": "2023-08-28T19:22:54.728265Z",
          "iopub.status.busy": "2023-08-28T19:22:54.727893Z",
          "iopub.status.idle": "2023-08-28T19:22:54.733857Z",
          "shell.execute_reply": "2023-08-28T19:22:54.732846Z"
        },
        "papermill": {
          "duration": 0.058483,
          "end_time": "2023-08-28T19:22:54.736305",
          "exception": false,
          "start_time": "2023-08-28T19:22:54.677822",
          "status": "completed"
        },
        "tags": [],
        "id": "d9e106de",
        "outputId": "e4e4a1a4-9be4-4af4-8f92-0b3c783d3321"
      },
      "outputs": [
        {
          "name": "stdout",
          "output_type": "stream",
          "text": [
            "['46' 'content' 'film' 'like' 'movie' 'much' 'one' 'parental' 'review'\n",
            " 'story']\n",
            "['film']\n"
          ]
        }
      ],
      "source": [
        " top_ten=print(cvect3.get_feature_names_out())\n",
        " top =  print(cvect4.get_feature_names_out())"
      ]
    },
    {
      "cell_type": "markdown",
      "id": "38c133e6",
      "metadata": {
        "papermill": {
          "duration": 0.047968,
          "end_time": "2023-08-28T19:22:54.832109",
          "exception": false,
          "start_time": "2023-08-28T19:22:54.784141",
          "status": "completed"
        },
        "tags": [],
        "id": "38c133e6"
      },
      "source": [
        "*On using stop_words, we see that even though the most used word is the same(that is,'film') for reviews for both sentiment.For the top ten words we see a difference --words like 'best','good' are present, whereas, for negitive sentiments we see words like--'parental','much'. We also observed the most used review which we used to imputing null values in reviewText, 'parental' word was present. The improved result could have been because better negitive review detection.*"
      ]
    },
    {
      "cell_type": "markdown",
      "id": "fb549c27",
      "metadata": {
        "papermill": {
          "duration": 0.047218,
          "end_time": "2023-08-28T19:22:54.927852",
          "exception": false,
          "start_time": "2023-08-28T19:22:54.880634",
          "status": "completed"
        },
        "tags": [],
        "id": "fb549c27"
      },
      "source": [
        "# *Performing EDA on movies_data*"
      ]
    },
    {
      "cell_type": "markdown",
      "id": "85f6ed18",
      "metadata": {
        "papermill": {
          "duration": 0.047358,
          "end_time": "2023-08-28T19:22:55.023201",
          "exception": false,
          "start_time": "2023-08-28T19:22:54.975843",
          "status": "completed"
        },
        "tags": [],
        "id": "85f6ed18"
      },
      "source": [
        "*In this section we look at the movies_dataset. We look at its columns, their types,etc. We will further deal with the null row values by using different imputation techniques.We also perform preprocessing based on column type. After that we merge the dataset with train_data above and understanf how the numerical column affect our target variable.*"
      ]
    },
    {
      "cell_type": "code",
      "execution_count": null,
      "id": "5dc8060d",
      "metadata": {
        "execution": {
          "iopub.execute_input": "2023-08-28T19:22:55.120804Z",
          "iopub.status.busy": "2023-08-28T19:22:55.120097Z",
          "iopub.status.idle": "2023-08-28T19:22:55.136303Z",
          "shell.execute_reply": "2023-08-28T19:22:55.135560Z"
        },
        "papermill": {
          "duration": 0.067479,
          "end_time": "2023-08-28T19:22:55.138488",
          "exception": false,
          "start_time": "2023-08-28T19:22:55.071009",
          "status": "completed"
        },
        "tags": [],
        "id": "5dc8060d",
        "outputId": "3e057186-7ad1-45c9-96a2-43455f712c29"
      },
      "outputs": [
        {
          "data": {
            "text/html": [
              "<div>\n",
              "<style scoped>\n",
              "    .dataframe tbody tr th:only-of-type {\n",
              "        vertical-align: middle;\n",
              "    }\n",
              "\n",
              "    .dataframe tbody tr th {\n",
              "        vertical-align: top;\n",
              "    }\n",
              "\n",
              "    .dataframe thead th {\n",
              "        text-align: right;\n",
              "    }\n",
              "</style>\n",
              "<table border=\"1\" class=\"dataframe\">\n",
              "  <thead>\n",
              "    <tr style=\"text-align: right;\">\n",
              "      <th></th>\n",
              "      <th>movieid</th>\n",
              "      <th>title</th>\n",
              "      <th>audienceScore</th>\n",
              "      <th>rating</th>\n",
              "      <th>ratingContents</th>\n",
              "      <th>releaseDateTheaters</th>\n",
              "      <th>releaseDateStreaming</th>\n",
              "      <th>runtimeMinutes</th>\n",
              "      <th>genre</th>\n",
              "      <th>originalLanguage</th>\n",
              "      <th>director</th>\n",
              "      <th>boxOffice</th>\n",
              "      <th>distributor</th>\n",
              "      <th>soundType</th>\n",
              "    </tr>\n",
              "  </thead>\n",
              "  <tbody>\n",
              "    <tr>\n",
              "      <th>0</th>\n",
              "      <td>han_solo_heroic_myth_wonder_woman</td>\n",
              "      <td>Han Solo Heroic Myth Wonder Woman</td>\n",
              "      <td>50.0</td>\n",
              "      <td>NaN</td>\n",
              "      <td>NaN</td>\n",
              "      <td>NaN</td>\n",
              "      <td>2018-08-25</td>\n",
              "      <td>75.0</td>\n",
              "      <td>Comedy, Horror, Sci-fi</td>\n",
              "      <td>English</td>\n",
              "      <td>Claude Nicolet</td>\n",
              "      <td>NaN</td>\n",
              "      <td>NaN</td>\n",
              "      <td>NaN</td>\n",
              "    </tr>\n",
              "    <tr>\n",
              "      <th>1</th>\n",
              "      <td>voyage_tyler_durden_han_solo_stardust</td>\n",
              "      <td>Voyage Tyler Durden Han Solo Stardust</td>\n",
              "      <td>NaN</td>\n",
              "      <td>NaN</td>\n",
              "      <td>NaN</td>\n",
              "      <td>NaN</td>\n",
              "      <td>2020-02-11</td>\n",
              "      <td>114.0</td>\n",
              "      <td>Drama</td>\n",
              "      <td>English</td>\n",
              "      <td>Nathan Haack</td>\n",
              "      <td>NaN</td>\n",
              "      <td>NaN</td>\n",
              "      <td>NaN</td>\n",
              "    </tr>\n",
              "    <tr>\n",
              "      <th>2</th>\n",
              "      <td>norman_bates_ferris_bueller_hermione_granger_v...</td>\n",
              "      <td>Norman Bates Ferris Bueller Hermione Granger V...</td>\n",
              "      <td>43.0</td>\n",
              "      <td>NaN</td>\n",
              "      <td>NaN</td>\n",
              "      <td>NaN</td>\n",
              "      <td>NaN</td>\n",
              "      <td>120.0</td>\n",
              "      <td>Drama</td>\n",
              "      <td>Korean</td>\n",
              "      <td>Theresa Smith</td>\n",
              "      <td>NaN</td>\n",
              "      <td>NaN</td>\n",
              "      <td>NaN</td>\n",
              "    </tr>\n",
              "    <tr>\n",
              "      <th>3</th>\n",
              "      <td>elegant_hermione_granger</td>\n",
              "      <td>Elegant Hermione Granger</td>\n",
              "      <td>60.0</td>\n",
              "      <td>NaN</td>\n",
              "      <td>NaN</td>\n",
              "      <td>NaN</td>\n",
              "      <td>2020-10-23</td>\n",
              "      <td>90.0</td>\n",
              "      <td>Action, Mystery &amp; thriller</td>\n",
              "      <td>English</td>\n",
              "      <td>Donald Lewis</td>\n",
              "      <td>NaN</td>\n",
              "      <td>NaN</td>\n",
              "      <td>NaN</td>\n",
              "    </tr>\n",
              "    <tr>\n",
              "      <th>4</th>\n",
              "      <td>adventure_rocky_balboa</td>\n",
              "      <td>Adventure Rocky Balboa</td>\n",
              "      <td>70.0</td>\n",
              "      <td>NaN</td>\n",
              "      <td>NaN</td>\n",
              "      <td>NaN</td>\n",
              "      <td>2017-03-27</td>\n",
              "      <td>80.0</td>\n",
              "      <td>Fantasy, Adventure, Animation</td>\n",
              "      <td>English</td>\n",
              "      <td>Howard Simms</td>\n",
              "      <td>NaN</td>\n",
              "      <td>NaN</td>\n",
              "      <td>NaN</td>\n",
              "    </tr>\n",
              "  </tbody>\n",
              "</table>\n",
              "</div>"
            ],
            "text/plain": [
              "                                             movieid  \\\n",
              "0                  han_solo_heroic_myth_wonder_woman   \n",
              "1              voyage_tyler_durden_han_solo_stardust   \n",
              "2  norman_bates_ferris_bueller_hermione_granger_v...   \n",
              "3                           elegant_hermione_granger   \n",
              "4                             adventure_rocky_balboa   \n",
              "\n",
              "                                               title  audienceScore rating  \\\n",
              "0                  Han Solo Heroic Myth Wonder Woman           50.0    NaN   \n",
              "1              Voyage Tyler Durden Han Solo Stardust            NaN    NaN   \n",
              "2  Norman Bates Ferris Bueller Hermione Granger V...           43.0    NaN   \n",
              "3                           Elegant Hermione Granger           60.0    NaN   \n",
              "4                             Adventure Rocky Balboa           70.0    NaN   \n",
              "\n",
              "  ratingContents releaseDateTheaters releaseDateStreaming  runtimeMinutes  \\\n",
              "0            NaN                 NaN           2018-08-25            75.0   \n",
              "1            NaN                 NaN           2020-02-11           114.0   \n",
              "2            NaN                 NaN                  NaN           120.0   \n",
              "3            NaN                 NaN           2020-10-23            90.0   \n",
              "4            NaN                 NaN           2017-03-27            80.0   \n",
              "\n",
              "                           genre originalLanguage        director boxOffice  \\\n",
              "0         Comedy, Horror, Sci-fi          English  Claude Nicolet       NaN   \n",
              "1                          Drama          English    Nathan Haack       NaN   \n",
              "2                          Drama           Korean   Theresa Smith       NaN   \n",
              "3     Action, Mystery & thriller          English    Donald Lewis       NaN   \n",
              "4  Fantasy, Adventure, Animation          English    Howard Simms       NaN   \n",
              "\n",
              "  distributor soundType  \n",
              "0         NaN       NaN  \n",
              "1         NaN       NaN  \n",
              "2         NaN       NaN  \n",
              "3         NaN       NaN  \n",
              "4         NaN       NaN  "
            ]
          },
          "execution_count": 39,
          "metadata": {},
          "output_type": "execute_result"
        }
      ],
      "source": [
        "#checking_movies_data\n",
        "movies_data.head()"
      ]
    },
    {
      "cell_type": "code",
      "execution_count": null,
      "id": "1f0ecf75",
      "metadata": {
        "execution": {
          "iopub.execute_input": "2023-08-28T19:22:55.241173Z",
          "iopub.status.busy": "2023-08-28T19:22:55.240419Z",
          "iopub.status.idle": "2023-08-28T19:22:55.504241Z",
          "shell.execute_reply": "2023-08-28T19:22:55.503329Z"
        },
        "papermill": {
          "duration": 0.316961,
          "end_time": "2023-08-28T19:22:55.506844",
          "exception": false,
          "start_time": "2023-08-28T19:22:55.189883",
          "status": "completed"
        },
        "tags": [],
        "id": "1f0ecf75",
        "outputId": "69f3b43a-654a-4f96-9966-abd21a152936"
      },
      "outputs": [
        {
          "name": "stdout",
          "output_type": "stream",
          "text": [
            "<class 'pandas.core.frame.DataFrame'>\n",
            "RangeIndex: 143258 entries, 0 to 143257\n",
            "Data columns (total 14 columns):\n",
            " #   Column                Non-Null Count   Dtype  \n",
            "---  ------                --------------   -----  \n",
            " 0   movieid               143258 non-null  object \n",
            " 1   title                 143258 non-null  object \n",
            " 2   audienceScore         73248 non-null   float64\n",
            " 3   rating                13991 non-null   object \n",
            " 4   ratingContents        13991 non-null   object \n",
            " 5   releaseDateTheaters   30773 non-null   object \n",
            " 6   releaseDateStreaming  79420 non-null   object \n",
            " 7   runtimeMinutes        129431 non-null  float64\n",
            " 8   genre                 132175 non-null  object \n",
            " 9   originalLanguage      129400 non-null  object \n",
            " 10  director              143258 non-null  object \n",
            " 11  boxOffice             14743 non-null   object \n",
            " 12  distributor           23005 non-null   object \n",
            " 13  soundType             15917 non-null   object \n",
            "dtypes: float64(2), object(12)\n",
            "memory usage: 15.3+ MB\n"
          ]
        }
      ],
      "source": [
        "movies_data.info()"
      ]
    },
    {
      "cell_type": "code",
      "execution_count": null,
      "id": "a4ebca73",
      "metadata": {
        "execution": {
          "iopub.execute_input": "2023-08-28T19:22:55.607302Z",
          "iopub.status.busy": "2023-08-28T19:22:55.606900Z",
          "iopub.status.idle": "2023-08-28T19:22:55.877776Z",
          "shell.execute_reply": "2023-08-28T19:22:55.876734Z"
        },
        "papermill": {
          "duration": 0.323618,
          "end_time": "2023-08-28T19:22:55.879960",
          "exception": false,
          "start_time": "2023-08-28T19:22:55.556342",
          "status": "completed"
        },
        "tags": [],
        "id": "a4ebca73",
        "outputId": "4aa6e381-c85e-44f1-8fc0-8aeb3ab34035"
      },
      "outputs": [
        {
          "data": {
            "text/plain": [
              "movieid                      0\n",
              "title                        0\n",
              "audienceScore            70010\n",
              "rating                  129267\n",
              "ratingContents          129267\n",
              "releaseDateTheaters     112485\n",
              "releaseDateStreaming     63838\n",
              "runtimeMinutes           13827\n",
              "genre                    11083\n",
              "originalLanguage         13858\n",
              "director                     0\n",
              "boxOffice               128515\n",
              "distributor             120253\n",
              "soundType               127341\n",
              "dtype: int64"
            ]
          },
          "execution_count": 41,
          "metadata": {},
          "output_type": "execute_result"
        }
      ],
      "source": [
        "movies_data.isnull().sum()"
      ]
    },
    {
      "cell_type": "code",
      "execution_count": null,
      "id": "a7bc978f",
      "metadata": {
        "execution": {
          "iopub.execute_input": "2023-08-28T19:22:55.978584Z",
          "iopub.status.busy": "2023-08-28T19:22:55.978232Z",
          "iopub.status.idle": "2023-08-28T19:22:55.984281Z",
          "shell.execute_reply": "2023-08-28T19:22:55.983245Z"
        },
        "papermill": {
          "duration": 0.057776,
          "end_time": "2023-08-28T19:22:55.986314",
          "exception": false,
          "start_time": "2023-08-28T19:22:55.928538",
          "status": "completed"
        },
        "tags": [],
        "id": "a7bc978f",
        "outputId": "1b1b1050-3fc2-4072-ba56-04af13a36bbb"
      },
      "outputs": [
        {
          "data": {
            "text/plain": [
              "(143258, 14)"
            ]
          },
          "execution_count": 42,
          "metadata": {},
          "output_type": "execute_result"
        }
      ],
      "source": [
        "movies_data.shape"
      ]
    },
    {
      "cell_type": "code",
      "execution_count": null,
      "id": "01c1f06e",
      "metadata": {
        "execution": {
          "iopub.execute_input": "2023-08-28T19:22:56.084600Z",
          "iopub.status.busy": "2023-08-28T19:22:56.083627Z",
          "iopub.status.idle": "2023-08-28T19:22:56.108569Z",
          "shell.execute_reply": "2023-08-28T19:22:56.107576Z"
        },
        "papermill": {
          "duration": 0.076186,
          "end_time": "2023-08-28T19:22:56.110707",
          "exception": false,
          "start_time": "2023-08-28T19:22:56.034521",
          "status": "completed"
        },
        "tags": [],
        "id": "01c1f06e",
        "outputId": "4e1ceafe-8bd0-49ff-80ee-70a9500c1070"
      },
      "outputs": [
        {
          "data": {
            "text/plain": [
              "Index(['movieid', 'title', 'rating', 'ratingContents', 'releaseDateTheaters',\n",
              "       'releaseDateStreaming', 'genre', 'originalLanguage', 'director',\n",
              "       'boxOffice', 'distributor', 'soundType'],\n",
              "      dtype='object')"
            ]
          },
          "execution_count": 43,
          "metadata": {},
          "output_type": "execute_result"
        }
      ],
      "source": [
        "movies_data.select_dtypes('number').columns\n",
        "movies_data.select_dtypes('object').columns"
      ]
    },
    {
      "cell_type": "markdown",
      "id": "963c4ffe",
      "metadata": {
        "papermill": {
          "duration": 0.05063,
          "end_time": "2023-08-28T19:22:56.209684",
          "exception": false,
          "start_time": "2023-08-28T19:22:56.159054",
          "status": "completed"
        },
        "tags": [],
        "id": "963c4ffe"
      },
      "source": [
        "*We see that releaseDateTheaters,  relaseDatestreaming and BoxOffice are shownn as object. We will convert them to numerical columns.The first two will be converted to datetime format and for box offic we use to_numeric for conversion as shown below.After this we can extract important information from these variables--like year, month of realease,etc.*"
      ]
    },
    {
      "cell_type": "code",
      "execution_count": null,
      "id": "1c89047b",
      "metadata": {
        "execution": {
          "iopub.execute_input": "2023-08-28T19:22:56.307619Z",
          "iopub.status.busy": "2023-08-28T19:22:56.307253Z",
          "iopub.status.idle": "2023-08-28T19:22:56.323890Z",
          "shell.execute_reply": "2023-08-28T19:22:56.322804Z"
        },
        "papermill": {
          "duration": 0.067969,
          "end_time": "2023-08-28T19:22:56.325875",
          "exception": false,
          "start_time": "2023-08-28T19:22:56.257906",
          "status": "completed"
        },
        "tags": [],
        "id": "1c89047b",
        "outputId": "6abd1989-b052-40aa-9f48-3ffe5922384b"
      },
      "outputs": [
        {
          "data": {
            "text/html": [
              "<div>\n",
              "<style scoped>\n",
              "    .dataframe tbody tr th:only-of-type {\n",
              "        vertical-align: middle;\n",
              "    }\n",
              "\n",
              "    .dataframe tbody tr th {\n",
              "        vertical-align: top;\n",
              "    }\n",
              "\n",
              "    .dataframe thead th {\n",
              "        text-align: right;\n",
              "    }\n",
              "</style>\n",
              "<table border=\"1\" class=\"dataframe\">\n",
              "  <thead>\n",
              "    <tr style=\"text-align: right;\">\n",
              "      <th></th>\n",
              "      <th>releaseDateTheaters</th>\n",
              "      <th>releaseDateStreaming</th>\n",
              "      <th>boxOffice</th>\n",
              "    </tr>\n",
              "  </thead>\n",
              "  <tbody>\n",
              "    <tr>\n",
              "      <th>0</th>\n",
              "      <td>NaN</td>\n",
              "      <td>2018-08-25</td>\n",
              "      <td>NaN</td>\n",
              "    </tr>\n",
              "    <tr>\n",
              "      <th>1</th>\n",
              "      <td>NaN</td>\n",
              "      <td>2020-02-11</td>\n",
              "      <td>NaN</td>\n",
              "    </tr>\n",
              "    <tr>\n",
              "      <th>2</th>\n",
              "      <td>NaN</td>\n",
              "      <td>NaN</td>\n",
              "      <td>NaN</td>\n",
              "    </tr>\n",
              "    <tr>\n",
              "      <th>3</th>\n",
              "      <td>NaN</td>\n",
              "      <td>2020-10-23</td>\n",
              "      <td>NaN</td>\n",
              "    </tr>\n",
              "    <tr>\n",
              "      <th>4</th>\n",
              "      <td>NaN</td>\n",
              "      <td>2017-03-27</td>\n",
              "      <td>NaN</td>\n",
              "    </tr>\n",
              "    <tr>\n",
              "      <th>...</th>\n",
              "      <td>...</td>\n",
              "      <td>...</td>\n",
              "      <td>...</td>\n",
              "    </tr>\n",
              "    <tr>\n",
              "      <th>143253</th>\n",
              "      <td>2002-08-27</td>\n",
              "      <td>NaN</td>\n",
              "      <td>NaN</td>\n",
              "    </tr>\n",
              "    <tr>\n",
              "      <th>143254</th>\n",
              "      <td>NaN</td>\n",
              "      <td>NaN</td>\n",
              "      <td>NaN</td>\n",
              "    </tr>\n",
              "    <tr>\n",
              "      <th>143255</th>\n",
              "      <td>NaN</td>\n",
              "      <td>NaN</td>\n",
              "      <td>NaN</td>\n",
              "    </tr>\n",
              "    <tr>\n",
              "      <th>143256</th>\n",
              "      <td>NaN</td>\n",
              "      <td>2006-11-21</td>\n",
              "      <td>NaN</td>\n",
              "    </tr>\n",
              "    <tr>\n",
              "      <th>143257</th>\n",
              "      <td>NaN</td>\n",
              "      <td>NaN</td>\n",
              "      <td>NaN</td>\n",
              "    </tr>\n",
              "  </tbody>\n",
              "</table>\n",
              "<p>143258 rows × 3 columns</p>\n",
              "</div>"
            ],
            "text/plain": [
              "       releaseDateTheaters releaseDateStreaming boxOffice\n",
              "0                      NaN           2018-08-25       NaN\n",
              "1                      NaN           2020-02-11       NaN\n",
              "2                      NaN                  NaN       NaN\n",
              "3                      NaN           2020-10-23       NaN\n",
              "4                      NaN           2017-03-27       NaN\n",
              "...                    ...                  ...       ...\n",
              "143253          2002-08-27                  NaN       NaN\n",
              "143254                 NaN                  NaN       NaN\n",
              "143255                 NaN                  NaN       NaN\n",
              "143256                 NaN           2006-11-21       NaN\n",
              "143257                 NaN                  NaN       NaN\n",
              "\n",
              "[143258 rows x 3 columns]"
            ]
          },
          "execution_count": 44,
          "metadata": {},
          "output_type": "execute_result"
        }
      ],
      "source": [
        "movies_data[['releaseDateTheaters','releaseDateStreaming', 'boxOffice']]"
      ]
    },
    {
      "cell_type": "code",
      "execution_count": null,
      "id": "8f2d6912",
      "metadata": {
        "execution": {
          "iopub.execute_input": "2023-08-28T19:22:56.426447Z",
          "iopub.status.busy": "2023-08-28T19:22:56.425756Z",
          "iopub.status.idle": "2023-08-28T19:22:56.440102Z",
          "shell.execute_reply": "2023-08-28T19:22:56.439069Z"
        },
        "papermill": {
          "duration": 0.067534,
          "end_time": "2023-08-28T19:22:56.442376",
          "exception": false,
          "start_time": "2023-08-28T19:22:56.374842",
          "status": "completed"
        },
        "tags": [],
        "id": "8f2d6912",
        "outputId": "f0cc8efa-2fe0-4820-c024-bd0a7af968ac"
      },
      "outputs": [
        {
          "data": {
            "text/plain": [
              "$1.1M      118\n",
              "$1.2M      100\n",
              "$1.3M       97\n",
              "$1.0M       97\n",
              "$1.6M       70\n",
              "          ... \n",
              "$86.5K       1\n",
              "$160.4K      1\n",
              "$129.4K      1\n",
              "$536.8K      1\n",
              "$218.3K      1\n",
              "Name: boxOffice, Length: 4863, dtype: int64"
            ]
          },
          "execution_count": 45,
          "metadata": {},
          "output_type": "execute_result"
        }
      ],
      "source": [
        "movies_data['boxOffice'].value_counts()"
      ]
    },
    {
      "cell_type": "code",
      "execution_count": null,
      "id": "f0875bb9",
      "metadata": {
        "execution": {
          "iopub.execute_input": "2023-08-28T19:22:56.546617Z",
          "iopub.status.busy": "2023-08-28T19:22:56.545856Z",
          "iopub.status.idle": "2023-08-28T19:22:56.693190Z",
          "shell.execute_reply": "2023-08-28T19:22:56.691482Z"
        },
        "papermill": {
          "duration": 0.201108,
          "end_time": "2023-08-28T19:22:56.695334",
          "exception": false,
          "start_time": "2023-08-28T19:22:56.494226",
          "status": "completed"
        },
        "tags": [],
        "id": "f0875bb9",
        "outputId": "c323ecce-9bda-4340-bf03-943e75329bba"
      },
      "outputs": [
        {
          "name": "stderr",
          "output_type": "stream",
          "text": [
            "/tmp/ipykernel_20/2273438333.py:1: FutureWarning: The default value of regex will change from True to False in a future version.\n",
            "  movies_data['boxOffice']=pd.to_numeric(movies_data['boxOffice'].str.replace('[^0-9.]', ''))\n"
          ]
        }
      ],
      "source": [
        "movies_data['boxOffice']=pd.to_numeric(movies_data['boxOffice'].str.replace('[^0-9.]', ''))\n",
        "\n",
        "# converting dates from object to datetime\n",
        "movies_data['releaseDateTheaters']= pd.to_datetime(movies_data['releaseDateTheaters'])\n",
        "movies_data['releaseDateStreaming']= pd.to_datetime(movies_data['releaseDateStreaming'])"
      ]
    },
    {
      "cell_type": "code",
      "execution_count": null,
      "id": "5f22e821",
      "metadata": {
        "execution": {
          "iopub.execute_input": "2023-08-28T19:22:56.796151Z",
          "iopub.status.busy": "2023-08-28T19:22:56.795388Z",
          "iopub.status.idle": "2023-08-28T19:22:56.814863Z",
          "shell.execute_reply": "2023-08-28T19:22:56.814082Z"
        },
        "papermill": {
          "duration": 0.073043,
          "end_time": "2023-08-28T19:22:56.817265",
          "exception": false,
          "start_time": "2023-08-28T19:22:56.744222",
          "status": "completed"
        },
        "tags": [],
        "id": "5f22e821"
      },
      "outputs": [],
      "source": [
        "movies_data['Year_Theaters']= movies_data['releaseDateTheaters'].dt.year\n",
        "movies_data['Month_Theaters']=movies_data['releaseDateTheaters'].dt.month"
      ]
    },
    {
      "cell_type": "code",
      "execution_count": null,
      "id": "ac35eb87",
      "metadata": {
        "execution": {
          "iopub.execute_input": "2023-08-28T19:22:56.917388Z",
          "iopub.status.busy": "2023-08-28T19:22:56.916983Z",
          "iopub.status.idle": "2023-08-28T19:22:56.947053Z",
          "shell.execute_reply": "2023-08-28T19:22:56.946169Z"
        },
        "papermill": {
          "duration": 0.083125,
          "end_time": "2023-08-28T19:22:56.949538",
          "exception": false,
          "start_time": "2023-08-28T19:22:56.866413",
          "status": "completed"
        },
        "tags": [],
        "id": "ac35eb87"
      },
      "outputs": [],
      "source": [
        "movies_data['Year_Stream']= movies_data['releaseDateStreaming'].dt.year\n",
        "movies_data['Month_Stream']=movies_data['releaseDateStreaming'].dt.month"
      ]
    },
    {
      "cell_type": "code",
      "execution_count": null,
      "id": "0f17fafa",
      "metadata": {
        "execution": {
          "iopub.execute_input": "2023-08-28T19:22:57.052559Z",
          "iopub.status.busy": "2023-08-28T19:22:57.052178Z",
          "iopub.status.idle": "2023-08-28T19:22:57.542659Z",
          "shell.execute_reply": "2023-08-28T19:22:57.541616Z"
        },
        "papermill": {
          "duration": 0.544208,
          "end_time": "2023-08-28T19:22:57.544996",
          "exception": false,
          "start_time": "2023-08-28T19:22:57.000788",
          "status": "completed"
        },
        "tags": [],
        "id": "0f17fafa",
        "outputId": "7fce280f-0729-4fb0-805d-a180aeebd7ae"
      },
      "outputs": [
        {
          "name": "stderr",
          "output_type": "stream",
          "text": [
            "/tmp/ipykernel_20/14951424.py:1: FutureWarning: Treating datetime data as categorical rather than numeric in `.describe` is deprecated and will be removed in a future version of pandas. Specify `datetime_is_numeric=True` to silence this warning and adopt the future behavior now.\n",
            "  movies_data.describe(include='all')\n",
            "/tmp/ipykernel_20/14951424.py:1: FutureWarning: Treating datetime data as categorical rather than numeric in `.describe` is deprecated and will be removed in a future version of pandas. Specify `datetime_is_numeric=True` to silence this warning and adopt the future behavior now.\n",
            "  movies_data.describe(include='all')\n"
          ]
        },
        {
          "data": {
            "text/html": [
              "<div>\n",
              "<style scoped>\n",
              "    .dataframe tbody tr th:only-of-type {\n",
              "        vertical-align: middle;\n",
              "    }\n",
              "\n",
              "    .dataframe tbody tr th {\n",
              "        vertical-align: top;\n",
              "    }\n",
              "\n",
              "    .dataframe thead th {\n",
              "        text-align: right;\n",
              "    }\n",
              "</style>\n",
              "<table border=\"1\" class=\"dataframe\">\n",
              "  <thead>\n",
              "    <tr style=\"text-align: right;\">\n",
              "      <th></th>\n",
              "      <th>movieid</th>\n",
              "      <th>title</th>\n",
              "      <th>audienceScore</th>\n",
              "      <th>rating</th>\n",
              "      <th>ratingContents</th>\n",
              "      <th>releaseDateTheaters</th>\n",
              "      <th>releaseDateStreaming</th>\n",
              "      <th>runtimeMinutes</th>\n",
              "      <th>genre</th>\n",
              "      <th>originalLanguage</th>\n",
              "      <th>director</th>\n",
              "      <th>boxOffice</th>\n",
              "      <th>distributor</th>\n",
              "      <th>soundType</th>\n",
              "      <th>Year_Theaters</th>\n",
              "      <th>Month_Theaters</th>\n",
              "      <th>Year_Stream</th>\n",
              "      <th>Month_Stream</th>\n",
              "    </tr>\n",
              "  </thead>\n",
              "  <tbody>\n",
              "    <tr>\n",
              "      <th>count</th>\n",
              "      <td>143258</td>\n",
              "      <td>143258</td>\n",
              "      <td>73248.000000</td>\n",
              "      <td>13991</td>\n",
              "      <td>13991</td>\n",
              "      <td>30773</td>\n",
              "      <td>79420</td>\n",
              "      <td>129431.000000</td>\n",
              "      <td>132175</td>\n",
              "      <td>129400</td>\n",
              "      <td>143258</td>\n",
              "      <td>14743.000000</td>\n",
              "      <td>23005</td>\n",
              "      <td>15917</td>\n",
              "      <td>30773.000000</td>\n",
              "      <td>30773.000000</td>\n",
              "      <td>79420.000000</td>\n",
              "      <td>79420.000000</td>\n",
              "    </tr>\n",
              "    <tr>\n",
              "      <th>unique</th>\n",
              "      <td>126404</td>\n",
              "      <td>126404</td>\n",
              "      <td>NaN</td>\n",
              "      <td>10</td>\n",
              "      <td>8353</td>\n",
              "      <td>12062</td>\n",
              "      <td>4725</td>\n",
              "      <td>NaN</td>\n",
              "      <td>2912</td>\n",
              "      <td>112</td>\n",
              "      <td>62208</td>\n",
              "      <td>NaN</td>\n",
              "      <td>3694</td>\n",
              "      <td>551</td>\n",
              "      <td>NaN</td>\n",
              "      <td>NaN</td>\n",
              "      <td>NaN</td>\n",
              "      <td>NaN</td>\n",
              "    </tr>\n",
              "    <tr>\n",
              "      <th>top</th>\n",
              "      <td>escape_the_terminator_tyler_durden_astonish</td>\n",
              "      <td>Escape The Terminator Tyler Durden Astonish</td>\n",
              "      <td>NaN</td>\n",
              "      <td>R</td>\n",
              "      <td>['Language']</td>\n",
              "      <td>2018-09-14 00:00:00</td>\n",
              "      <td>2017-05-22 00:00:00</td>\n",
              "      <td>NaN</td>\n",
              "      <td>Drama</td>\n",
              "      <td>English</td>\n",
              "      <td>Joseph Brooks</td>\n",
              "      <td>NaN</td>\n",
              "      <td>Paramount Pictures</td>\n",
              "      <td>Surround</td>\n",
              "      <td>NaN</td>\n",
              "      <td>NaN</td>\n",
              "      <td>NaN</td>\n",
              "      <td>NaN</td>\n",
              "    </tr>\n",
              "    <tr>\n",
              "      <th>freq</th>\n",
              "      <td>367</td>\n",
              "      <td>367</td>\n",
              "      <td>NaN</td>\n",
              "      <td>7734</td>\n",
              "      <td>365</td>\n",
              "      <td>37</td>\n",
              "      <td>1232</td>\n",
              "      <td>NaN</td>\n",
              "      <td>27860</td>\n",
              "      <td>85034</td>\n",
              "      <td>4194</td>\n",
              "      <td>NaN</td>\n",
              "      <td>994</td>\n",
              "      <td>4075</td>\n",
              "      <td>NaN</td>\n",
              "      <td>NaN</td>\n",
              "      <td>NaN</td>\n",
              "      <td>NaN</td>\n",
              "    </tr>\n",
              "    <tr>\n",
              "      <th>first</th>\n",
              "      <td>NaN</td>\n",
              "      <td>NaN</td>\n",
              "      <td>NaN</td>\n",
              "      <td>NaN</td>\n",
              "      <td>NaN</td>\n",
              "      <td>1902-10-04 00:00:00</td>\n",
              "      <td>1928-12-18 00:00:00</td>\n",
              "      <td>NaN</td>\n",
              "      <td>NaN</td>\n",
              "      <td>NaN</td>\n",
              "      <td>NaN</td>\n",
              "      <td>NaN</td>\n",
              "      <td>NaN</td>\n",
              "      <td>NaN</td>\n",
              "      <td>NaN</td>\n",
              "      <td>NaN</td>\n",
              "      <td>NaN</td>\n",
              "      <td>NaN</td>\n",
              "    </tr>\n",
              "    <tr>\n",
              "      <th>last</th>\n",
              "      <td>NaN</td>\n",
              "      <td>NaN</td>\n",
              "      <td>NaN</td>\n",
              "      <td>NaN</td>\n",
              "      <td>NaN</td>\n",
              "      <td>2032-04-21 00:00:00</td>\n",
              "      <td>2023-12-22 00:00:00</td>\n",
              "      <td>NaN</td>\n",
              "      <td>NaN</td>\n",
              "      <td>NaN</td>\n",
              "      <td>NaN</td>\n",
              "      <td>NaN</td>\n",
              "      <td>NaN</td>\n",
              "      <td>NaN</td>\n",
              "      <td>NaN</td>\n",
              "      <td>NaN</td>\n",
              "      <td>NaN</td>\n",
              "      <td>NaN</td>\n",
              "    </tr>\n",
              "    <tr>\n",
              "      <th>mean</th>\n",
              "      <td>NaN</td>\n",
              "      <td>NaN</td>\n",
              "      <td>55.674967</td>\n",
              "      <td>NaN</td>\n",
              "      <td>NaN</td>\n",
              "      <td>NaN</td>\n",
              "      <td>NaN</td>\n",
              "      <td>93.708578</td>\n",
              "      <td>NaN</td>\n",
              "      <td>NaN</td>\n",
              "      <td>NaN</td>\n",
              "      <td>110.960842</td>\n",
              "      <td>NaN</td>\n",
              "      <td>NaN</td>\n",
              "      <td>1994.935268</td>\n",
              "      <td>6.649985</td>\n",
              "      <td>2013.997028</td>\n",
              "      <td>6.370259</td>\n",
              "    </tr>\n",
              "    <tr>\n",
              "      <th>std</th>\n",
              "      <td>NaN</td>\n",
              "      <td>NaN</td>\n",
              "      <td>24.553648</td>\n",
              "      <td>NaN</td>\n",
              "      <td>NaN</td>\n",
              "      <td>NaN</td>\n",
              "      <td>NaN</td>\n",
              "      <td>28.129175</td>\n",
              "      <td>NaN</td>\n",
              "      <td>NaN</td>\n",
              "      <td>NaN</td>\n",
              "      <td>186.776874</td>\n",
              "      <td>NaN</td>\n",
              "      <td>NaN</td>\n",
              "      <td>27.778387</td>\n",
              "      <td>3.431532</td>\n",
              "      <td>5.911238</td>\n",
              "      <td>3.465665</td>\n",
              "    </tr>\n",
              "    <tr>\n",
              "      <th>min</th>\n",
              "      <td>NaN</td>\n",
              "      <td>NaN</td>\n",
              "      <td>0.000000</td>\n",
              "      <td>NaN</td>\n",
              "      <td>NaN</td>\n",
              "      <td>NaN</td>\n",
              "      <td>NaN</td>\n",
              "      <td>1.000000</td>\n",
              "      <td>NaN</td>\n",
              "      <td>NaN</td>\n",
              "      <td>NaN</td>\n",
              "      <td>0.000000</td>\n",
              "      <td>NaN</td>\n",
              "      <td>NaN</td>\n",
              "      <td>1902.000000</td>\n",
              "      <td>1.000000</td>\n",
              "      <td>1928.000000</td>\n",
              "      <td>1.000000</td>\n",
              "    </tr>\n",
              "    <tr>\n",
              "      <th>25%</th>\n",
              "      <td>NaN</td>\n",
              "      <td>NaN</td>\n",
              "      <td>37.000000</td>\n",
              "      <td>NaN</td>\n",
              "      <td>NaN</td>\n",
              "      <td>NaN</td>\n",
              "      <td>NaN</td>\n",
              "      <td>84.000000</td>\n",
              "      <td>NaN</td>\n",
              "      <td>NaN</td>\n",
              "      <td>NaN</td>\n",
              "      <td>8.600000</td>\n",
              "      <td>NaN</td>\n",
              "      <td>NaN</td>\n",
              "      <td>1981.000000</td>\n",
              "      <td>4.000000</td>\n",
              "      <td>2010.000000</td>\n",
              "      <td>3.000000</td>\n",
              "    </tr>\n",
              "    <tr>\n",
              "      <th>50%</th>\n",
              "      <td>NaN</td>\n",
              "      <td>NaN</td>\n",
              "      <td>57.000000</td>\n",
              "      <td>NaN</td>\n",
              "      <td>NaN</td>\n",
              "      <td>NaN</td>\n",
              "      <td>NaN</td>\n",
              "      <td>92.000000</td>\n",
              "      <td>NaN</td>\n",
              "      <td>NaN</td>\n",
              "      <td>NaN</td>\n",
              "      <td>31.600000</td>\n",
              "      <td>NaN</td>\n",
              "      <td>NaN</td>\n",
              "      <td>2006.000000</td>\n",
              "      <td>7.000000</td>\n",
              "      <td>2016.000000</td>\n",
              "      <td>6.000000</td>\n",
              "    </tr>\n",
              "    <tr>\n",
              "      <th>75%</th>\n",
              "      <td>NaN</td>\n",
              "      <td>NaN</td>\n",
              "      <td>76.000000</td>\n",
              "      <td>NaN</td>\n",
              "      <td>NaN</td>\n",
              "      <td>NaN</td>\n",
              "      <td>NaN</td>\n",
              "      <td>103.000000</td>\n",
              "      <td>NaN</td>\n",
              "      <td>NaN</td>\n",
              "      <td>NaN</td>\n",
              "      <td>112.250000</td>\n",
              "      <td>NaN</td>\n",
              "      <td>NaN</td>\n",
              "      <td>2016.000000</td>\n",
              "      <td>10.000000</td>\n",
              "      <td>2018.000000</td>\n",
              "      <td>9.000000</td>\n",
              "    </tr>\n",
              "    <tr>\n",
              "      <th>max</th>\n",
              "      <td>NaN</td>\n",
              "      <td>NaN</td>\n",
              "      <td>100.000000</td>\n",
              "      <td>NaN</td>\n",
              "      <td>NaN</td>\n",
              "      <td>NaN</td>\n",
              "      <td>NaN</td>\n",
              "      <td>2700.000000</td>\n",
              "      <td>NaN</td>\n",
              "      <td>NaN</td>\n",
              "      <td>NaN</td>\n",
              "      <td>999.400000</td>\n",
              "      <td>NaN</td>\n",
              "      <td>NaN</td>\n",
              "      <td>2032.000000</td>\n",
              "      <td>12.000000</td>\n",
              "      <td>2023.000000</td>\n",
              "      <td>12.000000</td>\n",
              "    </tr>\n",
              "  </tbody>\n",
              "</table>\n",
              "</div>"
            ],
            "text/plain": [
              "                                            movieid  \\\n",
              "count                                        143258   \n",
              "unique                                       126404   \n",
              "top     escape_the_terminator_tyler_durden_astonish   \n",
              "freq                                            367   \n",
              "first                                           NaN   \n",
              "last                                            NaN   \n",
              "mean                                            NaN   \n",
              "std                                             NaN   \n",
              "min                                             NaN   \n",
              "25%                                             NaN   \n",
              "50%                                             NaN   \n",
              "75%                                             NaN   \n",
              "max                                             NaN   \n",
              "\n",
              "                                              title  audienceScore rating  \\\n",
              "count                                        143258   73248.000000  13991   \n",
              "unique                                       126404            NaN     10   \n",
              "top     Escape The Terminator Tyler Durden Astonish            NaN      R   \n",
              "freq                                            367            NaN   7734   \n",
              "first                                           NaN            NaN    NaN   \n",
              "last                                            NaN            NaN    NaN   \n",
              "mean                                            NaN      55.674967    NaN   \n",
              "std                                             NaN      24.553648    NaN   \n",
              "min                                             NaN       0.000000    NaN   \n",
              "25%                                             NaN      37.000000    NaN   \n",
              "50%                                             NaN      57.000000    NaN   \n",
              "75%                                             NaN      76.000000    NaN   \n",
              "max                                             NaN     100.000000    NaN   \n",
              "\n",
              "       ratingContents  releaseDateTheaters releaseDateStreaming  \\\n",
              "count           13991                30773                79420   \n",
              "unique           8353                12062                 4725   \n",
              "top      ['Language']  2018-09-14 00:00:00  2017-05-22 00:00:00   \n",
              "freq              365                   37                 1232   \n",
              "first             NaN  1902-10-04 00:00:00  1928-12-18 00:00:00   \n",
              "last              NaN  2032-04-21 00:00:00  2023-12-22 00:00:00   \n",
              "mean              NaN                  NaN                  NaN   \n",
              "std               NaN                  NaN                  NaN   \n",
              "min               NaN                  NaN                  NaN   \n",
              "25%               NaN                  NaN                  NaN   \n",
              "50%               NaN                  NaN                  NaN   \n",
              "75%               NaN                  NaN                  NaN   \n",
              "max               NaN                  NaN                  NaN   \n",
              "\n",
              "        runtimeMinutes   genre originalLanguage       director     boxOffice  \\\n",
              "count    129431.000000  132175           129400         143258  14743.000000   \n",
              "unique             NaN    2912              112          62208           NaN   \n",
              "top                NaN   Drama          English  Joseph Brooks           NaN   \n",
              "freq               NaN   27860            85034           4194           NaN   \n",
              "first              NaN     NaN              NaN            NaN           NaN   \n",
              "last               NaN     NaN              NaN            NaN           NaN   \n",
              "mean         93.708578     NaN              NaN            NaN    110.960842   \n",
              "std          28.129175     NaN              NaN            NaN    186.776874   \n",
              "min           1.000000     NaN              NaN            NaN      0.000000   \n",
              "25%          84.000000     NaN              NaN            NaN      8.600000   \n",
              "50%          92.000000     NaN              NaN            NaN     31.600000   \n",
              "75%         103.000000     NaN              NaN            NaN    112.250000   \n",
              "max        2700.000000     NaN              NaN            NaN    999.400000   \n",
              "\n",
              "               distributor soundType  Year_Theaters  Month_Theaters  \\\n",
              "count                23005     15917   30773.000000    30773.000000   \n",
              "unique                3694       551            NaN             NaN   \n",
              "top     Paramount Pictures  Surround            NaN             NaN   \n",
              "freq                   994      4075            NaN             NaN   \n",
              "first                  NaN       NaN            NaN             NaN   \n",
              "last                   NaN       NaN            NaN             NaN   \n",
              "mean                   NaN       NaN    1994.935268        6.649985   \n",
              "std                    NaN       NaN      27.778387        3.431532   \n",
              "min                    NaN       NaN    1902.000000        1.000000   \n",
              "25%                    NaN       NaN    1981.000000        4.000000   \n",
              "50%                    NaN       NaN    2006.000000        7.000000   \n",
              "75%                    NaN       NaN    2016.000000       10.000000   \n",
              "max                    NaN       NaN    2032.000000       12.000000   \n",
              "\n",
              "         Year_Stream  Month_Stream  \n",
              "count   79420.000000  79420.000000  \n",
              "unique           NaN           NaN  \n",
              "top              NaN           NaN  \n",
              "freq             NaN           NaN  \n",
              "first            NaN           NaN  \n",
              "last             NaN           NaN  \n",
              "mean     2013.997028      6.370259  \n",
              "std         5.911238      3.465665  \n",
              "min      1928.000000      1.000000  \n",
              "25%      2010.000000      3.000000  \n",
              "50%      2016.000000      6.000000  \n",
              "75%      2018.000000      9.000000  \n",
              "max      2023.000000     12.000000  "
            ]
          },
          "execution_count": 49,
          "metadata": {},
          "output_type": "execute_result"
        }
      ],
      "source": [
        "movies_data.describe(include='all')"
      ]
    },
    {
      "cell_type": "code",
      "execution_count": null,
      "id": "ef04295b",
      "metadata": {
        "execution": {
          "iopub.execute_input": "2023-08-28T19:22:57.649157Z",
          "iopub.status.busy": "2023-08-28T19:22:57.648085Z",
          "iopub.status.idle": "2023-08-28T19:22:57.655085Z",
          "shell.execute_reply": "2023-08-28T19:22:57.654041Z"
        },
        "papermill": {
          "duration": 0.061539,
          "end_time": "2023-08-28T19:22:57.657307",
          "exception": false,
          "start_time": "2023-08-28T19:22:57.595768",
          "status": "completed"
        },
        "tags": [],
        "id": "ef04295b",
        "outputId": "4d5e372f-9a29-464f-b04e-3d9f607e6397"
      },
      "outputs": [
        {
          "data": {
            "text/plain": [
              "(143258, 18)"
            ]
          },
          "execution_count": 50,
          "metadata": {},
          "output_type": "execute_result"
        }
      ],
      "source": [
        "movies_data.shape"
      ]
    },
    {
      "cell_type": "markdown",
      "id": "cfb9425c",
      "metadata": {
        "papermill": {
          "duration": 0.049227,
          "end_time": "2023-08-28T19:22:57.756379",
          "exception": false,
          "start_time": "2023-08-28T19:22:57.707152",
          "status": "completed"
        },
        "tags": [],
        "id": "cfb9425c"
      },
      "source": [
        "*From above we see that the difference between the maximum and 75th percentile for runtimeMinutes is unusually high. This indicates the presence of outliers. Below we calculate how many datapoints below to that category. We do this using percentile method.*"
      ]
    },
    {
      "cell_type": "code",
      "execution_count": null,
      "id": "b31e0900",
      "metadata": {
        "execution": {
          "iopub.execute_input": "2023-08-28T19:22:57.857929Z",
          "iopub.status.busy": "2023-08-28T19:22:57.856850Z",
          "iopub.status.idle": "2023-08-28T19:22:57.870947Z",
          "shell.execute_reply": "2023-08-28T19:22:57.870158Z"
        },
        "papermill": {
          "duration": 0.06733,
          "end_time": "2023-08-28T19:22:57.873390",
          "exception": false,
          "start_time": "2023-08-28T19:22:57.806060",
          "status": "completed"
        },
        "tags": [],
        "id": "b31e0900"
      },
      "outputs": [],
      "source": [
        "fq=movies_data['runtimeMinutes'].quantile(0.25)\n",
        "tq=movies_data['runtimeMinutes'].quantile(0.75)"
      ]
    },
    {
      "cell_type": "code",
      "execution_count": null,
      "id": "3aa9480c",
      "metadata": {
        "execution": {
          "iopub.execute_input": "2023-08-28T19:22:57.974872Z",
          "iopub.status.busy": "2023-08-28T19:22:57.974493Z",
          "iopub.status.idle": "2023-08-28T19:22:57.980670Z",
          "shell.execute_reply": "2023-08-28T19:22:57.979603Z"
        },
        "papermill": {
          "duration": 0.059647,
          "end_time": "2023-08-28T19:22:57.982848",
          "exception": false,
          "start_time": "2023-08-28T19:22:57.923201",
          "status": "completed"
        },
        "tags": [],
        "id": "3aa9480c",
        "outputId": "c0b5eddc-b1cc-4d9a-9637-ffb1e26b35e6"
      },
      "outputs": [
        {
          "data": {
            "text/plain": [
              "19.0"
            ]
          },
          "execution_count": 52,
          "metadata": {},
          "output_type": "execute_result"
        }
      ],
      "source": [
        "iqr=tq-fq\n",
        "iqr"
      ]
    },
    {
      "cell_type": "code",
      "execution_count": null,
      "id": "9b6c2392",
      "metadata": {
        "execution": {
          "iopub.execute_input": "2023-08-28T19:22:58.085291Z",
          "iopub.status.busy": "2023-08-28T19:22:58.084570Z",
          "iopub.status.idle": "2023-08-28T19:22:58.091320Z",
          "shell.execute_reply": "2023-08-28T19:22:58.090327Z"
        },
        "papermill": {
          "duration": 0.059889,
          "end_time": "2023-08-28T19:22:58.093393",
          "exception": false,
          "start_time": "2023-08-28T19:22:58.033504",
          "status": "completed"
        },
        "tags": [],
        "id": "9b6c2392",
        "outputId": "400a0c03-92ac-43b1-fc21-ef55ffb7d30c"
      },
      "outputs": [
        {
          "data": {
            "text/plain": [
              "(131.5, 55.5)"
            ]
          },
          "execution_count": 53,
          "metadata": {},
          "output_type": "execute_result"
        }
      ],
      "source": [
        "ul=tq+1.5*iqr de\n",
        "ll=fq-1.5*iqr\n",
        "ul,ll"
      ]
    },
    {
      "cell_type": "code",
      "execution_count": null,
      "id": "a619effc",
      "metadata": {
        "execution": {
          "iopub.execute_input": "2023-08-28T19:22:58.195547Z",
          "iopub.status.busy": "2023-08-28T19:22:58.194605Z",
          "iopub.status.idle": "2023-08-28T19:22:58.222814Z",
          "shell.execute_reply": "2023-08-28T19:22:58.221778Z"
        },
        "papermill": {
          "duration": 0.081619,
          "end_time": "2023-08-28T19:22:58.225011",
          "exception": false,
          "start_time": "2023-08-28T19:22:58.143392",
          "status": "completed"
        },
        "tags": [],
        "id": "a619effc",
        "outputId": "47d8fb6d-d8f4-46d7-95be-b25264f1386d"
      },
      "outputs": [
        {
          "data": {
            "text/plain": [
              "10.275167878931718"
            ]
          },
          "execution_count": 54,
          "metadata": {},
          "output_type": "execute_result"
        }
      ],
      "source": [
        "((len(movies_data[movies_data['runtimeMinutes']<ll])+len(movies_data[movies_data['runtimeMinutes']>ul]))/len(movies_data))*100"
      ]
    },
    {
      "cell_type": "markdown",
      "id": "c5898bd4",
      "metadata": {
        "papermill": {
          "duration": 0.049601,
          "end_time": "2023-08-28T19:22:58.325011",
          "exception": false,
          "start_time": "2023-08-28T19:22:58.275410",
          "status": "completed"
        },
        "tags": [],
        "id": "c5898bd4"
      },
      "source": [
        "*We see that % of outliers is close to 10%, so we dont remove them. If we remove them important information might be lost from other columns.*"
      ]
    },
    {
      "cell_type": "markdown",
      "id": "1a8444c0",
      "metadata": {
        "papermill": {
          "duration": 0.049443,
          "end_time": "2023-08-28T19:22:58.424721",
          "exception": false,
          "start_time": "2023-08-28T19:22:58.375278",
          "status": "completed"
        },
        "tags": [],
        "id": "1a8444c0"
      },
      "source": [
        "**VISUALISATION OF NUMERICAL COLUMNS**"
      ]
    },
    {
      "cell_type": "code",
      "execution_count": null,
      "id": "bf5906a9",
      "metadata": {
        "execution": {
          "iopub.execute_input": "2023-08-28T19:22:58.526721Z",
          "iopub.status.busy": "2023-08-28T19:22:58.526322Z",
          "iopub.status.idle": "2023-08-28T19:22:58.991683Z",
          "shell.execute_reply": "2023-08-28T19:22:58.990620Z"
        },
        "papermill": {
          "duration": 0.51883,
          "end_time": "2023-08-28T19:22:58.993825",
          "exception": false,
          "start_time": "2023-08-28T19:22:58.474995",
          "status": "completed"
        },
        "tags": [],
        "id": "bf5906a9",
        "outputId": "bd039bc7-4963-4ce1-f039-2207a6b291d4"
      },
      "outputs": [
        {
          "data": {
            "text/plain": [
              "<Axes: xlabel='audienceScore', ylabel='Count'>"
            ]
          },
          "execution_count": 55,
          "metadata": {},
          "output_type": "execute_result"
        },
        {
          "data": {
            "image/png": "[encoded data removed]",
            "text/plain": [
              "<Figure size 640x480 with 1 Axes>"
            ]
          },
          "metadata": {},
          "output_type": "display_data"
        }
      ],
      "source": [
        "sns.histplot(movies_data['audienceScore'])"
      ]
    },
    {
      "cell_type": "code",
      "execution_count": null,
      "id": "f1b91dd3",
      "metadata": {
        "execution": {
          "iopub.execute_input": "2023-08-28T19:22:59.097763Z",
          "iopub.status.busy": "2023-08-28T19:22:59.097334Z",
          "iopub.status.idle": "2023-08-28T19:22:59.119447Z",
          "shell.execute_reply": "2023-08-28T19:22:59.118272Z"
        },
        "papermill": {
          "duration": 0.076728,
          "end_time": "2023-08-28T19:22:59.121653",
          "exception": false,
          "start_time": "2023-08-28T19:22:59.044925",
          "status": "completed"
        },
        "tags": [],
        "id": "f1b91dd3",
        "outputId": "292680a1-8221-47b5-8130-0d3ebb6d1f38"
      },
      "outputs": [
        {
          "data": {
            "text/plain": [
              "count    73248.000000\n",
              "mean        55.674967\n",
              "std         24.553648\n",
              "min          0.000000\n",
              "25%         37.000000\n",
              "50%         57.000000\n",
              "75%         76.000000\n",
              "max        100.000000\n",
              "Name: audienceScore, dtype: float64"
            ]
          },
          "execution_count": 56,
          "metadata": {},
          "output_type": "execute_result"
        }
      ],
      "source": [
        "movies_data['audienceScore'].describe()"
      ]
    },
    {
      "cell_type": "markdown",
      "id": "6b89e931",
      "metadata": {
        "papermill": {
          "duration": 0.052357,
          "end_time": "2023-08-28T19:22:59.225537",
          "exception": false,
          "start_time": "2023-08-28T19:22:59.173180",
          "status": "completed"
        },
        "tags": [],
        "id": "6b89e931"
      },
      "source": [
        "*Over here, we plot distribution of audience score. It ranges from 0 to 100, with a peak close to 60. It's almost in the middle, leaning towards the higher value.*"
      ]
    },
    {
      "cell_type": "code",
      "execution_count": null,
      "id": "ebcc6415",
      "metadata": {
        "execution": {
          "iopub.execute_input": "2023-08-28T19:22:59.329762Z",
          "iopub.status.busy": "2023-08-28T19:22:59.328944Z",
          "iopub.status.idle": "2023-08-28T19:22:59.798838Z",
          "shell.execute_reply": "2023-08-28T19:22:59.797716Z"
        },
        "papermill": {
          "duration": 0.525189,
          "end_time": "2023-08-28T19:22:59.801436",
          "exception": false,
          "start_time": "2023-08-28T19:22:59.276247",
          "status": "completed"
        },
        "tags": [],
        "id": "ebcc6415",
        "outputId": "691621f9-4f29-43b2-eb70-2fbc3cd0a2b9"
      },
      "outputs": [
        {
          "data": {
            "text/plain": [
              "<Axes: xlabel='Year_Theaters', ylabel='Count'>"
            ]
          },
          "execution_count": 57,
          "metadata": {},
          "output_type": "execute_result"
        },
        {
          "data": {
            "image/png": "[encoded data removed]",
            "text/plain": [
              "<Figure size 640x480 with 1 Axes>"
            ]
          },
          "metadata": {},
          "output_type": "display_data"
        }
      ],
      "source": [
        "sns.histplot(movies_data['Year_Theaters'])"
      ]
    },
    {
      "cell_type": "code",
      "execution_count": null,
      "id": "bf23038b",
      "metadata": {
        "execution": {
          "iopub.execute_input": "2023-08-28T19:22:59.906586Z",
          "iopub.status.busy": "2023-08-28T19:22:59.905941Z",
          "iopub.status.idle": "2023-08-28T19:22:59.923979Z",
          "shell.execute_reply": "2023-08-28T19:22:59.922997Z"
        },
        "papermill": {
          "duration": 0.073023,
          "end_time": "2023-08-28T19:22:59.925993",
          "exception": false,
          "start_time": "2023-08-28T19:22:59.852970",
          "status": "completed"
        },
        "tags": [],
        "id": "bf23038b",
        "outputId": "95ba6112-c7c8-465b-fbe3-b54d31d372ac"
      },
      "outputs": [
        {
          "data": {
            "text/plain": [
              "count    30773.000000\n",
              "mean      1994.935268\n",
              "std         27.778387\n",
              "min       1902.000000\n",
              "25%       1981.000000\n",
              "50%       2006.000000\n",
              "75%       2016.000000\n",
              "max       2032.000000\n",
              "Name: Year_Theaters, dtype: float64"
            ]
          },
          "execution_count": 58,
          "metadata": {},
          "output_type": "execute_result"
        }
      ],
      "source": [
        "movies_data['Year_Theaters'].describe()"
      ]
    },
    {
      "cell_type": "markdown",
      "id": "6428db92",
      "metadata": {
        "papermill": {
          "duration": 0.050517,
          "end_time": "2023-08-28T19:23:00.027683",
          "exception": false,
          "start_time": "2023-08-28T19:22:59.977166",
          "status": "completed"
        },
        "tags": [],
        "id": "6428db92"
      },
      "source": [
        "*We see that the number of movies relaeasing in theaters is increasing with years. The increase almost seems exponential. This is along the expected lines, since the starting point is close to 1900, and the movie business and theatre business is seen a very high boom since then. We see the increase has been the most sharp since early 2000's.*"
      ]
    },
    {
      "cell_type": "code",
      "execution_count": null,
      "id": "7e1398f5",
      "metadata": {
        "execution": {
          "iopub.execute_input": "2023-08-28T19:23:00.132083Z",
          "iopub.status.busy": "2023-08-28T19:23:00.131440Z",
          "iopub.status.idle": "2023-08-28T19:23:00.548997Z",
          "shell.execute_reply": "2023-08-28T19:23:00.547937Z"
        },
        "papermill": {
          "duration": 0.472367,
          "end_time": "2023-08-28T19:23:00.551251",
          "exception": false,
          "start_time": "2023-08-28T19:23:00.078884",
          "status": "completed"
        },
        "tags": [],
        "id": "7e1398f5",
        "outputId": "e7b85778-fdf3-4976-a73e-13a7d121acbe"
      },
      "outputs": [
        {
          "data": {
            "text/plain": [
              "<Axes: xlabel='Month_Theaters', ylabel='Count'>"
            ]
          },
          "execution_count": 59,
          "metadata": {},
          "output_type": "execute_result"
        },
        {
          "data": {
            "image/png": "[encoded data removed]",
            "text/plain": [
              "<Figure size 640x480 with 1 Axes>"
            ]
          },
          "metadata": {},
          "output_type": "display_data"
        }
      ],
      "source": [
        "sns.histplot(movies_data['Month_Theaters'])"
      ]
    },
    {
      "cell_type": "code",
      "execution_count": null,
      "id": "7da7b829",
      "metadata": {
        "execution": {
          "iopub.execute_input": "2023-08-28T19:23:00.656665Z",
          "iopub.status.busy": "2023-08-28T19:23:00.655936Z",
          "iopub.status.idle": "2023-08-28T19:23:00.674490Z",
          "shell.execute_reply": "2023-08-28T19:23:00.673543Z"
        },
        "papermill": {
          "duration": 0.073995,
          "end_time": "2023-08-28T19:23:00.676427",
          "exception": false,
          "start_time": "2023-08-28T19:23:00.602432",
          "status": "completed"
        },
        "tags": [],
        "id": "7da7b829",
        "outputId": "e9d732f2-7264-49c3-9d50-79eb2e43a981"
      },
      "outputs": [
        {
          "data": {
            "text/plain": [
              "count    30773.000000\n",
              "mean         6.649985\n",
              "std          3.431532\n",
              "min          1.000000\n",
              "25%          4.000000\n",
              "50%          7.000000\n",
              "75%         10.000000\n",
              "max         12.000000\n",
              "Name: Month_Theaters, dtype: float64"
            ]
          },
          "execution_count": 60,
          "metadata": {},
          "output_type": "execute_result"
        }
      ],
      "source": [
        "movies_data['Month_Theaters'].describe()"
      ]
    },
    {
      "cell_type": "markdown",
      "id": "5cf26dab",
      "metadata": {
        "papermill": {
          "duration": 0.051903,
          "end_time": "2023-08-28T19:23:00.779911",
          "exception": false,
          "start_time": "2023-08-28T19:23:00.728008",
          "status": "completed"
        },
        "tags": [],
        "id": "5cf26dab"
      },
      "source": [
        "*Above we have plotted months and the counts of movies relaeased in them. Here, we see that there is almost a uniform distribution of the number of movies realeased across all months. We also see a small spike around October. This could be because of holidays like halloween, since most of the movies in the dataset are western.*"
      ]
    },
    {
      "cell_type": "code",
      "execution_count": null,
      "id": "680cae59",
      "metadata": {
        "execution": {
          "iopub.execute_input": "2023-08-28T19:23:00.886321Z",
          "iopub.status.busy": "2023-08-28T19:23:00.885912Z",
          "iopub.status.idle": "2023-08-28T19:23:01.818973Z",
          "shell.execute_reply": "2023-08-28T19:23:01.817706Z"
        },
        "papermill": {
          "duration": 0.989448,
          "end_time": "2023-08-28T19:23:01.821219",
          "exception": false,
          "start_time": "2023-08-28T19:23:00.831771",
          "status": "completed"
        },
        "tags": [],
        "id": "680cae59",
        "outputId": "b0482750-6b73-4054-9f3d-4bebafad9ed2"
      },
      "outputs": [
        {
          "data": {
            "text/plain": [
              "<Axes: xlabel='Year_Stream', ylabel='Count'>"
            ]
          },
          "execution_count": 61,
          "metadata": {},
          "output_type": "execute_result"
        },
        {
          "data": {
            "image/png": "[encoded data removed]",
            "text/plain": [
              "<Figure size 640x480 with 1 Axes>"
            ]
          },
          "metadata": {},
          "output_type": "display_data"
        }
      ],
      "source": [
        "sns.histplot(movies_data['Year_Stream'])"
      ]
    },
    {
      "cell_type": "code",
      "execution_count": null,
      "id": "8cce1d67",
      "metadata": {
        "execution": {
          "iopub.execute_input": "2023-08-28T19:23:01.928817Z",
          "iopub.status.busy": "2023-08-28T19:23:01.928373Z",
          "iopub.status.idle": "2023-08-28T19:23:01.949267Z",
          "shell.execute_reply": "2023-08-28T19:23:01.948098Z"
        },
        "papermill": {
          "duration": 0.077376,
          "end_time": "2023-08-28T19:23:01.951622",
          "exception": false,
          "start_time": "2023-08-28T19:23:01.874246",
          "status": "completed"
        },
        "tags": [],
        "id": "8cce1d67",
        "outputId": "8c74c132-042a-4761-fc87-e99e4742529a"
      },
      "outputs": [
        {
          "data": {
            "text/plain": [
              "count    79420.000000\n",
              "mean      2013.997028\n",
              "std          5.911238\n",
              "min       1928.000000\n",
              "25%       2010.000000\n",
              "50%       2016.000000\n",
              "75%       2018.000000\n",
              "max       2023.000000\n",
              "Name: Year_Stream, dtype: float64"
            ]
          },
          "execution_count": 62,
          "metadata": {},
          "output_type": "execute_result"
        }
      ],
      "source": [
        "movies_data['Year_Stream'].describe()"
      ]
    },
    {
      "cell_type": "markdown",
      "id": "e1634fb0",
      "metadata": {
        "papermill": {
          "duration": 0.052182,
          "end_time": "2023-08-28T19:23:02.057009",
          "exception": false,
          "start_time": "2023-08-28T19:23:02.004827",
          "status": "completed"
        },
        "tags": [],
        "id": "e1634fb0"
      },
      "source": [
        "*Here, we have plotted stream_year with the counts of movies released in those years. Since streaming is a reletively new phenomenon, and we see distribution starting only from 2000's. Moreover, we that it's only in the last few years that the there has been a very high increase in the movie release on streaming platforms.*"
      ]
    },
    {
      "cell_type": "code",
      "execution_count": null,
      "id": "329aaa53",
      "metadata": {
        "execution": {
          "iopub.execute_input": "2023-08-28T19:23:02.163762Z",
          "iopub.status.busy": "2023-08-28T19:23:02.163044Z",
          "iopub.status.idle": "2023-08-28T19:23:02.616656Z",
          "shell.execute_reply": "2023-08-28T19:23:02.615680Z"
        },
        "papermill": {
          "duration": 0.509168,
          "end_time": "2023-08-28T19:23:02.618905",
          "exception": false,
          "start_time": "2023-08-28T19:23:02.109737",
          "status": "completed"
        },
        "tags": [],
        "id": "329aaa53",
        "outputId": "f8c9d4ef-9b4b-4688-8b38-4e24add9021e"
      },
      "outputs": [
        {
          "data": {
            "text/plain": [
              "<Axes: xlabel='Month_Stream', ylabel='Count'>"
            ]
          },
          "execution_count": 63,
          "metadata": {},
          "output_type": "execute_result"
        },
        {
          "data": {
            "image/png": "[encoded data removed]",
            "text/plain": [
              "<Figure size 640x480 with 1 Axes>"
            ]
          },
          "metadata": {},
          "output_type": "display_data"
        }
      ],
      "source": [
        "sns.histplot(movies_data['Month_Stream'])"
      ]
    },
    {
      "cell_type": "code",
      "execution_count": null,
      "id": "2695b5f8",
      "metadata": {
        "execution": {
          "iopub.execute_input": "2023-08-28T19:23:02.727795Z",
          "iopub.status.busy": "2023-08-28T19:23:02.727405Z",
          "iopub.status.idle": "2023-08-28T19:23:02.748426Z",
          "shell.execute_reply": "2023-08-28T19:23:02.747354Z"
        },
        "papermill": {
          "duration": 0.077403,
          "end_time": "2023-08-28T19:23:02.750618",
          "exception": false,
          "start_time": "2023-08-28T19:23:02.673215",
          "status": "completed"
        },
        "tags": [],
        "id": "2695b5f8",
        "outputId": "a7325f35-b7d8-40d3-ab60-712b4358f779"
      },
      "outputs": [
        {
          "data": {
            "text/plain": [
              "count    79420.000000\n",
              "mean         6.370259\n",
              "std          3.465665\n",
              "min          1.000000\n",
              "25%          3.000000\n",
              "50%          6.000000\n",
              "75%          9.000000\n",
              "max         12.000000\n",
              "Name: Month_Stream, dtype: float64"
            ]
          },
          "execution_count": 64,
          "metadata": {},
          "output_type": "execute_result"
        }
      ],
      "source": [
        "movies_data['Month_Stream'].describe()"
      ]
    },
    {
      "cell_type": "markdown",
      "id": "9e47c89c",
      "metadata": {
        "papermill": {
          "duration": 0.052663,
          "end_time": "2023-08-28T19:23:02.856530",
          "exception": false,
          "start_time": "2023-08-28T19:23:02.803867",
          "status": "completed"
        },
        "tags": [],
        "id": "9e47c89c"
      },
      "source": [
        "*We see that like before, this follows an almost uniform distribution.*"
      ]
    },
    {
      "cell_type": "markdown",
      "id": "a8e6be6f",
      "metadata": {
        "papermill": {
          "duration": 0.054649,
          "end_time": "2023-08-28T19:23:02.965198",
          "exception": false,
          "start_time": "2023-08-28T19:23:02.910549",
          "status": "completed"
        },
        "tags": [],
        "id": "a8e6be6f"
      },
      "source": [
        "*Below we drop the columns releaseDateTheaters and releaseDateStreaming since we have already extracted information about month and year from it and stored it in different columns.*"
      ]
    },
    {
      "cell_type": "code",
      "execution_count": null,
      "id": "04fdd7f8",
      "metadata": {
        "execution": {
          "iopub.execute_input": "2023-08-28T19:23:03.074194Z",
          "iopub.status.busy": "2023-08-28T19:23:03.073050Z",
          "iopub.status.idle": "2023-08-28T19:23:03.101978Z",
          "shell.execute_reply": "2023-08-28T19:23:03.101172Z"
        },
        "papermill": {
          "duration": 0.085351,
          "end_time": "2023-08-28T19:23:03.104352",
          "exception": false,
          "start_time": "2023-08-28T19:23:03.019001",
          "status": "completed"
        },
        "tags": [],
        "id": "04fdd7f8"
      },
      "outputs": [],
      "source": [
        "#dropping the date columns since we have the information we need from them\n",
        "movies_data= movies_data.drop(['releaseDateTheaters','releaseDateStreaming'], axis=1)"
      ]
    },
    {
      "cell_type": "code",
      "execution_count": null,
      "id": "f91c869f",
      "metadata": {
        "execution": {
          "iopub.execute_input": "2023-08-28T19:23:03.212211Z",
          "iopub.status.busy": "2023-08-28T19:23:03.211287Z",
          "iopub.status.idle": "2023-08-28T19:23:03.218473Z",
          "shell.execute_reply": "2023-08-28T19:23:03.217414Z"
        },
        "papermill": {
          "duration": 0.063573,
          "end_time": "2023-08-28T19:23:03.220797",
          "exception": false,
          "start_time": "2023-08-28T19:23:03.157224",
          "status": "completed"
        },
        "tags": [],
        "id": "f91c869f",
        "outputId": "56df9478-dcfd-4820-f2b8-32f39e322049"
      },
      "outputs": [
        {
          "data": {
            "text/plain": [
              "(143258, 16)"
            ]
          },
          "execution_count": 66,
          "metadata": {},
          "output_type": "execute_result"
        }
      ],
      "source": [
        "movies_data.shape"
      ]
    },
    {
      "cell_type": "code",
      "execution_count": null,
      "id": "caff5020",
      "metadata": {
        "execution": {
          "iopub.execute_input": "2023-08-28T19:23:03.332186Z",
          "iopub.status.busy": "2023-08-28T19:23:03.331799Z",
          "iopub.status.idle": "2023-08-28T19:23:03.338232Z",
          "shell.execute_reply": "2023-08-28T19:23:03.337166Z"
        },
        "papermill": {
          "duration": 0.06376,
          "end_time": "2023-08-28T19:23:03.340425",
          "exception": false,
          "start_time": "2023-08-28T19:23:03.276665",
          "status": "completed"
        },
        "tags": [],
        "id": "caff5020",
        "outputId": "d5a60afc-9e7c-4303-b6bb-f2c4955dbb3e"
      },
      "outputs": [
        {
          "data": {
            "text/plain": [
              "Index(['movieid', 'title', 'audienceScore', 'rating', 'ratingContents',\n",
              "       'runtimeMinutes', 'genre', 'originalLanguage', 'director', 'boxOffice',\n",
              "       'distributor', 'soundType', 'Year_Theaters', 'Month_Theaters',\n",
              "       'Year_Stream', 'Month_Stream'],\n",
              "      dtype='object')"
            ]
          },
          "execution_count": 67,
          "metadata": {},
          "output_type": "execute_result"
        }
      ],
      "source": [
        "movies_data.columns"
      ]
    },
    {
      "cell_type": "markdown",
      "id": "018e35c6",
      "metadata": {
        "papermill": {
          "duration": 0.052831,
          "end_time": "2023-08-28T19:23:03.508597",
          "exception": false,
          "start_time": "2023-08-28T19:23:03.455766",
          "status": "completed"
        },
        "tags": [],
        "id": "018e35c6"
      },
      "source": [
        "***Preprocessing***\n",
        "\n",
        "*Below we perform various preprocessing steps for the movies dataset. First, we perform imputation using SimpleImputer, followed by different preprocessing steps for different columns depending on whether they are numerical or categorical columns.For numerical columns we use MinMaxScaler and for categorical columns we use CountVectorizer. These have been chosen because they are giving better results than other alternatives.*"
      ]
    },
    {
      "cell_type": "code",
      "execution_count": null,
      "id": "bea1301a",
      "metadata": {
        "execution": {
          "iopub.execute_input": "2023-08-28T19:23:03.617857Z",
          "iopub.status.busy": "2023-08-28T19:23:03.616873Z",
          "iopub.status.idle": "2023-08-28T19:23:03.621789Z",
          "shell.execute_reply": "2023-08-28T19:23:03.621048Z"
        },
        "papermill": {
          "duration": 0.061661,
          "end_time": "2023-08-28T19:23:03.623896",
          "exception": false,
          "start_time": "2023-08-28T19:23:03.562235",
          "status": "completed"
        },
        "tags": [],
        "id": "bea1301a"
      },
      "outputs": [],
      "source": [
        "from sklearn.impute import SimpleImputer\n",
        "from sklearn.preprocessing import MinMaxScaler\n",
        "from sklearn.feature_extraction.text import CountVectorizer\n",
        "from sklearn.preprocessing import OneHotEncoder"
      ]
    },
    {
      "cell_type": "code",
      "execution_count": null,
      "id": "be51c111",
      "metadata": {
        "execution": {
          "iopub.execute_input": "2023-08-28T19:23:03.734674Z",
          "iopub.status.busy": "2023-08-28T19:23:03.734103Z",
          "iopub.status.idle": "2023-08-28T19:23:03.738460Z",
          "shell.execute_reply": "2023-08-28T19:23:03.737747Z"
        },
        "papermill": {
          "duration": 0.062187,
          "end_time": "2023-08-28T19:23:03.740317",
          "exception": false,
          "start_time": "2023-08-28T19:23:03.678130",
          "status": "completed"
        },
        "tags": [],
        "id": "be51c111"
      },
      "outputs": [],
      "source": [
        "#Initiating all the SimpleImputers we might use\n",
        "SI1= SimpleImputer(strategy='mean')\n",
        "SI2= SimpleImputer(strategy='most_frequent')\n",
        "SI3= SimpleImputer(strategy='constant', fill_value=' ')\n",
        "OHE= OneHotEncoder(handle_unknown='ignore', sparse_output=False)"
      ]
    },
    {
      "cell_type": "code",
      "execution_count": null,
      "id": "d642a720",
      "metadata": {
        "execution": {
          "iopub.execute_input": "2023-08-28T19:23:03.850358Z",
          "iopub.status.busy": "2023-08-28T19:23:03.849738Z",
          "iopub.status.idle": "2023-08-28T19:23:03.853583Z",
          "shell.execute_reply": "2023-08-28T19:23:03.852860Z"
        },
        "papermill": {
          "duration": 0.061477,
          "end_time": "2023-08-28T19:23:03.855461",
          "exception": false,
          "start_time": "2023-08-28T19:23:03.793984",
          "status": "completed"
        },
        "tags": [],
        "id": "d642a720"
      },
      "outputs": [],
      "source": [
        "#initiating other preprocessing steps\n",
        "MM= MinMaxScaler()\n",
        "vect= CountVectorizer()"
      ]
    },
    {
      "cell_type": "code",
      "execution_count": null,
      "id": "45d0a814",
      "metadata": {
        "execution": {
          "iopub.execute_input": "2023-08-28T19:23:03.963918Z",
          "iopub.status.busy": "2023-08-28T19:23:03.963359Z",
          "iopub.status.idle": "2023-08-28T19:23:04.174193Z",
          "shell.execute_reply": "2023-08-28T19:23:04.173413Z"
        },
        "papermill": {
          "duration": 0.267444,
          "end_time": "2023-08-28T19:23:04.176204",
          "exception": false,
          "start_time": "2023-08-28T19:23:03.908760",
          "status": "completed"
        },
        "tags": [],
        "id": "45d0a814",
        "outputId": "2f42b3bb-4d1f-4f84-fd81-fa4e22fab67b"
      },
      "outputs": [
        {
          "data": {
            "text/plain": [
              "movieid             False\n",
              "title               False\n",
              "audienceScore       False\n",
              "rating               True\n",
              "ratingContents       True\n",
              "runtimeMinutes      False\n",
              "genre               False\n",
              "originalLanguage    False\n",
              "director            False\n",
              "boxOffice            True\n",
              "distributor          True\n",
              "soundType            True\n",
              "Year_Theaters       False\n",
              "Month_Theaters      False\n",
              "Year_Stream         False\n",
              "Month_Stream        False\n",
              "dtype: bool"
            ]
          },
          "execution_count": 71,
          "metadata": {},
          "output_type": "execute_result"
        }
      ],
      "source": [
        "#checking what fraction of the values are nu0lll .\n",
        "(movies_data.isnull().sum()/len(movies_data))*100>80"
      ]
    },
    {
      "cell_type": "markdown",
      "id": "a3b6d80d",
      "metadata": {
        "papermill": {
          "duration": 0.052917,
          "end_time": "2023-08-28T19:23:04.284719",
          "exception": false,
          "start_time": "2023-08-28T19:23:04.231802",
          "status": "completed"
        },
        "tags": [],
        "id": "a3b6d80d"
      },
      "source": [
        "*We see that  5 columns have greater than 80 percent of values as null, there is no point conitnuing with them as they dont give any important information which can be trusted. We are continue with preprocessing and analysis with the rest of the columns.*"
      ]
    },
    {
      "cell_type": "code",
      "execution_count": null,
      "id": "2b70749f",
      "metadata": {
        "execution": {
          "iopub.execute_input": "2023-08-28T19:23:04.393707Z",
          "iopub.status.busy": "2023-08-28T19:23:04.393135Z",
          "iopub.status.idle": "2023-08-28T19:23:04.399000Z",
          "shell.execute_reply": "2023-08-28T19:23:04.398070Z"
        },
        "papermill": {
          "duration": 0.062906,
          "end_time": "2023-08-28T19:23:04.401039",
          "exception": false,
          "start_time": "2023-08-28T19:23:04.338133",
          "status": "completed"
        },
        "tags": [],
        "id": "2b70749f",
        "outputId": "0ddc71eb-bfef-4603-b8e6-c09b6e210b78"
      },
      "outputs": [
        {
          "data": {
            "text/plain": [
              "Index(['movieid', 'title', 'audienceScore', 'rating', 'ratingContents',\n",
              "       'runtimeMinutes', 'genre', 'originalLanguage', 'director', 'boxOffice',\n",
              "       'distributor', 'soundType', 'Year_Theaters', 'Month_Theaters',\n",
              "       'Year_Stream', 'Month_Stream'],\n",
              "      dtype='object')"
            ]
          },
          "execution_count": 72,
          "metadata": {},
          "output_type": "execute_result"
        }
      ],
      "source": [
        "movies_data.columns"
      ]
    },
    {
      "cell_type": "code",
      "execution_count": null,
      "id": "51b15025",
      "metadata": {
        "execution": {
          "iopub.execute_input": "2023-08-28T19:23:04.509956Z",
          "iopub.status.busy": "2023-08-28T19:23:04.509307Z",
          "iopub.status.idle": "2023-08-28T19:23:04.513615Z",
          "shell.execute_reply": "2023-08-28T19:23:04.512776Z"
        },
        "papermill": {
          "duration": 0.060768,
          "end_time": "2023-08-28T19:23:04.515494",
          "exception": false,
          "start_time": "2023-08-28T19:23:04.454726",
          "status": "completed"
        },
        "tags": [],
        "id": "51b15025"
      },
      "outputs": [],
      "source": [
        "drop_col= ['rating','ratingContents','boxOffice','distributor', 'soundType']"
      ]
    },
    {
      "cell_type": "code",
      "execution_count": null,
      "id": "3d8588fc",
      "metadata": {
        "execution": {
          "iopub.execute_input": "2023-08-28T19:23:04.624394Z",
          "iopub.status.busy": "2023-08-28T19:23:04.623651Z",
          "iopub.status.idle": "2023-08-28T19:23:04.646569Z",
          "shell.execute_reply": "2023-08-28T19:23:04.645489Z"
        },
        "papermill": {
          "duration": 0.080237,
          "end_time": "2023-08-28T19:23:04.649100",
          "exception": false,
          "start_time": "2023-08-28T19:23:04.568863",
          "status": "completed"
        },
        "tags": [],
        "id": "3d8588fc",
        "outputId": "b7e5531d-e536-4347-dd14-7d820ef0b40a"
      },
      "outputs": [
        {
          "data": {
            "text/plain": [
              "(143258, 11)"
            ]
          },
          "execution_count": 74,
          "metadata": {},
          "output_type": "execute_result"
        }
      ],
      "source": [
        "# dropping unimportant columns\n",
        "movies_data=movies_data.drop(drop_col, axis=1)\n",
        "movies_data.shape"
      ]
    },
    {
      "cell_type": "code",
      "execution_count": null,
      "id": "c0b654cd",
      "metadata": {
        "execution": {
          "iopub.execute_input": "2023-08-28T19:23:04.760658Z",
          "iopub.status.busy": "2023-08-28T19:23:04.760278Z",
          "iopub.status.idle": "2023-08-28T19:23:04.766829Z",
          "shell.execute_reply": "2023-08-28T19:23:04.765923Z"
        },
        "papermill": {
          "duration": 0.064137,
          "end_time": "2023-08-28T19:23:04.769070",
          "exception": false,
          "start_time": "2023-08-28T19:23:04.704933",
          "status": "completed"
        },
        "tags": [],
        "id": "c0b654cd"
      },
      "outputs": [],
      "source": [
        "num_col=movies_data.select_dtypes('number').columns"
      ]
    },
    {
      "cell_type": "code",
      "execution_count": null,
      "id": "11bb4b67",
      "metadata": {
        "execution": {
          "iopub.execute_input": "2023-08-28T19:23:04.881730Z",
          "iopub.status.busy": "2023-08-28T19:23:04.880973Z",
          "iopub.status.idle": "2023-08-28T19:23:04.897293Z",
          "shell.execute_reply": "2023-08-28T19:23:04.896525Z"
        },
        "papermill": {
          "duration": 0.074715,
          "end_time": "2023-08-28T19:23:04.899236",
          "exception": false,
          "start_time": "2023-08-28T19:23:04.824521",
          "status": "completed"
        },
        "tags": [],
        "id": "11bb4b67",
        "outputId": "61f769dd-c0a7-44e5-ade3-7eeb14d7517f"
      },
      "outputs": [
        {
          "data": {
            "text/plain": [
              "Index(['movieid', 'title', 'genre', 'originalLanguage', 'director'], dtype='object')"
            ]
          },
          "execution_count": 76,
          "metadata": {},
          "output_type": "execute_result"
        }
      ],
      "source": [
        "movies_data.select_dtypes('object').columns"
      ]
    },
    {
      "cell_type": "code",
      "execution_count": null,
      "id": "14f7e0d4",
      "metadata": {
        "execution": {
          "iopub.execute_input": "2023-08-28T19:23:05.008237Z",
          "iopub.status.busy": "2023-08-28T19:23:05.007855Z",
          "iopub.status.idle": "2023-08-28T19:23:05.129264Z",
          "shell.execute_reply": "2023-08-28T19:23:05.128502Z"
        },
        "papermill": {
          "duration": 0.178284,
          "end_time": "2023-08-28T19:23:05.131160",
          "exception": false,
          "start_time": "2023-08-28T19:23:04.952876",
          "status": "completed"
        },
        "tags": [],
        "id": "14f7e0d4",
        "outputId": "c45c5427-99a0-457b-8203-ff44d78f4a30"
      },
      "outputs": [
        {
          "data": {
            "text/plain": [
              "movieid                  0\n",
              "title                    0\n",
              "audienceScore        70010\n",
              "runtimeMinutes       13827\n",
              "genre                11083\n",
              "originalLanguage     13858\n",
              "director                 0\n",
              "Year_Theaters       112485\n",
              "Month_Theaters      112485\n",
              "Year_Stream          63838\n",
              "Month_Stream         63838\n",
              "dtype: int64"
            ]
          },
          "execution_count": 77,
          "metadata": {},
          "output_type": "execute_result"
        }
      ],
      "source": [
        "movies_data.isnull().sum()"
      ]
    },
    {
      "cell_type": "markdown",
      "id": "b70a3018",
      "metadata": {
        "papermill": {
          "duration": 0.057223,
          "end_time": "2023-08-28T19:23:05.243209",
          "exception": false,
          "start_time": "2023-08-28T19:23:05.185986",
          "status": "completed"
        },
        "tags": [],
        "id": "b70a3018"
      },
      "source": [
        "***Use of pipeline***"
      ]
    },
    {
      "cell_type": "code",
      "execution_count": null,
      "id": "b51ce0e8",
      "metadata": {
        "execution": {
          "iopub.execute_input": "2023-08-28T19:23:05.353751Z",
          "iopub.status.busy": "2023-08-28T19:23:05.353108Z",
          "iopub.status.idle": "2023-08-28T19:23:05.356882Z",
          "shell.execute_reply": "2023-08-28T19:23:05.356202Z"
        },
        "papermill": {
          "duration": 0.061127,
          "end_time": "2023-08-28T19:23:05.358908",
          "exception": false,
          "start_time": "2023-08-28T19:23:05.297781",
          "status": "completed"
        },
        "tags": [],
        "id": "b51ce0e8"
      },
      "outputs": [],
      "source": [
        "from  sklearn.pipeline import Pipeline"
      ]
    },
    {
      "cell_type": "code",
      "execution_count": null,
      "id": "a6b3c584",
      "metadata": {
        "execution": {
          "iopub.execute_input": "2023-08-28T19:23:05.468237Z",
          "iopub.status.busy": "2023-08-28T19:23:05.467825Z",
          "iopub.status.idle": "2023-08-28T19:23:05.472484Z",
          "shell.execute_reply": "2023-08-28T19:23:05.471453Z"
        },
        "papermill": {
          "duration": 0.06207,
          "end_time": "2023-08-28T19:23:05.474724",
          "exception": false,
          "start_time": "2023-08-28T19:23:05.412654",
          "status": "completed"
        },
        "tags": [],
        "id": "a6b3c584"
      },
      "outputs": [],
      "source": [
        "pipe_num= Pipeline([('impute_1',SI1),('Scale_1', MM)])"
      ]
    },
    {
      "cell_type": "markdown",
      "id": "1ef7b8d5",
      "metadata": {
        "papermill": {
          "duration": 0.053677,
          "end_time": "2023-08-28T19:23:05.582843",
          "exception": false,
          "start_time": "2023-08-28T19:23:05.529166",
          "status": "completed"
        },
        "tags": [],
        "id": "1ef7b8d5"
      },
      "source": [
        "#for the categorical we will make a pipeline for OriginalLanguage and genre because the rest dont have any null values and we will use different extraction techniques for that."
      ]
    },
    {
      "cell_type": "code",
      "execution_count": null,
      "id": "f1249f87",
      "metadata": {
        "execution": {
          "iopub.execute_input": "2023-08-28T19:23:05.693671Z",
          "iopub.status.busy": "2023-08-28T19:23:05.693100Z",
          "iopub.status.idle": "2023-08-28T19:23:05.696864Z",
          "shell.execute_reply": "2023-08-28T19:23:05.696187Z"
        },
        "papermill": {
          "duration": 0.062126,
          "end_time": "2023-08-28T19:23:05.698871",
          "exception": false,
          "start_time": "2023-08-28T19:23:05.636745",
          "status": "completed"
        },
        "tags": [],
        "id": "f1249f87"
      },
      "outputs": [],
      "source": [
        "catg_col=['originalLanguage','genre']\n",
        "pipe_catg= Pipeline([('impute_2',SI2 )])"
      ]
    },
    {
      "cell_type": "code",
      "execution_count": null,
      "id": "6a445a8f",
      "metadata": {
        "execution": {
          "iopub.execute_input": "2023-08-28T19:23:05.809148Z",
          "iopub.status.busy": "2023-08-28T19:23:05.808544Z",
          "iopub.status.idle": "2023-08-28T19:23:05.836683Z",
          "shell.execute_reply": "2023-08-28T19:23:05.835659Z"
        },
        "papermill": {
          "duration": 0.085735,
          "end_time": "2023-08-28T19:23:05.838802",
          "exception": false,
          "start_time": "2023-08-28T19:23:05.753067",
          "status": "completed"
        },
        "tags": [],
        "id": "6a445a8f",
        "outputId": "1544ee9d-9798-4744-d035-62dc82e4b0f4"
      },
      "outputs": [
        {
          "data": {
            "text/html": [
              "<style>#sk-container-id-1 {color: black;background-color: white;}#sk-container-id-1 pre{padding: 0;}#sk-container-id-1 div.sk-toggleable {background-color: white;}#sk-container-id-1 label.sk-toggleable__label {cursor: pointer;display: block;width: 100%;margin-bottom: 0;padding: 0.3em;box-sizing: border-box;text-align: center;}#sk-container-id-1 label.sk-toggleable__label-arrow:before {content: \"▸\";float: left;margin-right: 0.25em;color: #696969;}#sk-container-id-1 label.sk-toggleable__label-arrow:hover:before {color: black;}#sk-container-id-1 div.sk-estimator:hover label.sk-toggleable__label-arrow:before {color: black;}#sk-container-id-1 div.sk-toggleable__content {max-height: 0;max-width: 0;overflow: hidden;text-align: left;background-color: #f0f8ff;}#sk-container-id-1 div.sk-toggleable__content pre {margin: 0.2em;color: black;border-radius: 0.25em;background-color: #f0f8ff;}#sk-container-id-1 input.sk-toggleable__control:checked~div.sk-toggleable__content {max-height: 200px;max-width: 100%;overflow: auto;}#sk-container-id-1 input.sk-toggleable__control:checked~label.sk-toggleable__label-arrow:before {content: \"▾\";}#sk-container-id-1 div.sk-estimator input.sk-toggleable__control:checked~label.sk-toggleable__label {background-color: #d4ebff;}#sk-container-id-1 div.sk-label input.sk-toggleable__control:checked~label.sk-toggleable__label {background-color: #d4ebff;}#sk-container-id-1 input.sk-hidden--visually {border: 0;clip: rect(1px 1px 1px 1px);clip: rect(1px, 1px, 1px, 1px);height: 1px;margin: -1px;overflow: hidden;padding: 0;position: absolute;width: 1px;}#sk-container-id-1 div.sk-estimator {font-family: monospace;background-color: #f0f8ff;border: 1px dotted black;border-radius: 0.25em;box-sizing: border-box;margin-bottom: 0.5em;}#sk-container-id-1 div.sk-estimator:hover {background-color: #d4ebff;}#sk-container-id-1 div.sk-parallel-item::after {content: \"\";width: 100%;border-bottom: 1px solid gray;flex-grow: 1;}#sk-container-id-1 div.sk-label:hover label.sk-toggleable__label {background-color: #d4ebff;}#sk-container-id-1 div.sk-serial::before {content: \"\";position: absolute;border-left: 1px solid gray;box-sizing: border-box;top: 0;bottom: 0;left: 50%;z-index: 0;}#sk-container-id-1 div.sk-serial {display: flex;flex-direction: column;align-items: center;background-color: white;padding-right: 0.2em;padding-left: 0.2em;position: relative;}#sk-container-id-1 div.sk-item {position: relative;z-index: 1;}#sk-container-id-1 div.sk-parallel {display: flex;align-items: stretch;justify-content: center;background-color: white;position: relative;}#sk-container-id-1 div.sk-item::before, #sk-container-id-1 div.sk-parallel-item::before {content: \"\";position: absolute;border-left: 1px solid gray;box-sizing: border-box;top: 0;bottom: 0;left: 50%;z-index: -1;}#sk-container-id-1 div.sk-parallel-item {display: flex;flex-direction: column;z-index: 1;position: relative;background-color: white;}#sk-container-id-1 div.sk-parallel-item:first-child::after {align-self: flex-end;width: 50%;}#sk-container-id-1 div.sk-parallel-item:last-child::after {align-self: flex-start;width: 50%;}#sk-container-id-1 div.sk-parallel-item:only-child::after {width: 0;}#sk-container-id-1 div.sk-dashed-wrapped {border: 1px dashed gray;margin: 0 0.4em 0.5em 0.4em;box-sizing: border-box;padding-bottom: 0.4em;background-color: white;}#sk-container-id-1 div.sk-label label {font-family: monospace;font-weight: bold;display: inline-block;line-height: 1.2em;}#sk-container-id-1 div.sk-label-container {text-align: center;}#sk-container-id-1 div.sk-container {/* jupyter's `normalize.less` sets `[hidden] { display: none; }` but bootstrap.min.css set `[hidden] { display: none !important; }` so we also need the `!important` here to be able to override the default hidden behavior on the sphinx rendered scikit-learn.org. See: https://github.com/scikit-learn/scikit-learn/issues/21755 */display: inline-block !important;position: relative;}#sk-container-id-1 div.sk-text-repr-fallback {display: none;}</style><div id=\"sk-container-id-1\" class=\"sk-top-container\"><div class=\"sk-text-repr-fallback\"><pre>ColumnTransformer(remainder=&#x27;passthrough&#x27;,\n",
              "                  transformers=[(&#x27;number&#x27;,\n",
              "                                 Pipeline(steps=[(&#x27;impute_1&#x27;, SimpleImputer()),\n",
              "                                                 (&#x27;Scale_1&#x27;, MinMaxScaler())]),\n",
              "                                 Index([&#x27;audienceScore&#x27;, &#x27;runtimeMinutes&#x27;, &#x27;Year_Theaters&#x27;, &#x27;Month_Theaters&#x27;,\n",
              "       &#x27;Year_Stream&#x27;, &#x27;Month_Stream&#x27;],\n",
              "      dtype=&#x27;object&#x27;)),\n",
              "                                (&#x27;object&#x27;,\n",
              "                                 Pipeline(steps=[(&#x27;impute_2&#x27;,\n",
              "                                                  SimpleImputer(strategy=&#x27;most_frequent&#x27;))]),\n",
              "                                 [&#x27;originalLanguage&#x27;, &#x27;genre&#x27;])],\n",
              "                  verbose_feature_names_out=False)</pre><b>In a Jupyter environment, please rerun this cell to show the HTML representation or trust the notebook. <br />On GitHub, the HTML representation is unable to render, please try loading this page with nbviewer.org.</b></div><div class=\"sk-container\" hidden><div class=\"sk-item sk-dashed-wrapped\"><div class=\"sk-label-container\"><div class=\"sk-label sk-toggleable\"><input class=\"sk-toggleable__control sk-hidden--visually\" id=\"sk-estimator-id-1\" type=\"checkbox\" ><label for=\"sk-estimator-id-1\" class=\"sk-toggleable__label sk-toggleable__label-arrow\">ColumnTransformer</label><div class=\"sk-toggleable__content\"><pre>ColumnTransformer(remainder=&#x27;passthrough&#x27;,\n",
              "                  transformers=[(&#x27;number&#x27;,\n",
              "                                 Pipeline(steps=[(&#x27;impute_1&#x27;, SimpleImputer()),\n",
              "                                                 (&#x27;Scale_1&#x27;, MinMaxScaler())]),\n",
              "                                 Index([&#x27;audienceScore&#x27;, &#x27;runtimeMinutes&#x27;, &#x27;Year_Theaters&#x27;, &#x27;Month_Theaters&#x27;,\n",
              "       &#x27;Year_Stream&#x27;, &#x27;Month_Stream&#x27;],\n",
              "      dtype=&#x27;object&#x27;)),\n",
              "                                (&#x27;object&#x27;,\n",
              "                                 Pipeline(steps=[(&#x27;impute_2&#x27;,\n",
              "                                                  SimpleImputer(strategy=&#x27;most_frequent&#x27;))]),\n",
              "                                 [&#x27;originalLanguage&#x27;, &#x27;genre&#x27;])],\n",
              "                  verbose_feature_names_out=False)</pre></div></div></div><div class=\"sk-parallel\"><div class=\"sk-parallel-item\"><div class=\"sk-item\"><div class=\"sk-label-container\"><div class=\"sk-label sk-toggleable\"><input class=\"sk-toggleable__control sk-hidden--visually\" id=\"sk-estimator-id-2\" type=\"checkbox\" ><label for=\"sk-estimator-id-2\" class=\"sk-toggleable__label sk-toggleable__label-arrow\">number</label><div class=\"sk-toggleable__content\"><pre>Index([&#x27;audienceScore&#x27;, &#x27;runtimeMinutes&#x27;, &#x27;Year_Theaters&#x27;, &#x27;Month_Theaters&#x27;,\n",
              "       &#x27;Year_Stream&#x27;, &#x27;Month_Stream&#x27;],\n",
              "      dtype=&#x27;object&#x27;)</pre></div></div></div><div class=\"sk-serial\"><div class=\"sk-item\"><div class=\"sk-serial\"><div class=\"sk-item\"><div class=\"sk-estimator sk-toggleable\"><input class=\"sk-toggleable__control sk-hidden--visually\" id=\"sk-estimator-id-3\" type=\"checkbox\" ><label for=\"sk-estimator-id-3\" class=\"sk-toggleable__label sk-toggleable__label-arrow\">SimpleImputer</label><div class=\"sk-toggleable__content\"><pre>SimpleImputer()</pre></div></div></div><div class=\"sk-item\"><div class=\"sk-estimator sk-toggleable\"><input class=\"sk-toggleable__control sk-hidden--visually\" id=\"sk-estimator-id-4\" type=\"checkbox\" ><label for=\"sk-estimator-id-4\" class=\"sk-toggleable__label sk-toggleable__label-arrow\">MinMaxScaler</label><div class=\"sk-toggleable__content\"><pre>MinMaxScaler()</pre></div></div></div></div></div></div></div></div><div class=\"sk-parallel-item\"><div class=\"sk-item\"><div class=\"sk-label-container\"><div class=\"sk-label sk-toggleable\"><input class=\"sk-toggleable__control sk-hidden--visually\" id=\"sk-estimator-id-5\" type=\"checkbox\" ><label for=\"sk-estimator-id-5\" class=\"sk-toggleable__label sk-toggleable__label-arrow\">object</label><div class=\"sk-toggleable__content\"><pre>[&#x27;originalLanguage&#x27;, &#x27;genre&#x27;]</pre></div></div></div><div class=\"sk-serial\"><div class=\"sk-item\"><div class=\"sk-serial\"><div class=\"sk-item\"><div class=\"sk-estimator sk-toggleable\"><input class=\"sk-toggleable__control sk-hidden--visually\" id=\"sk-estimator-id-6\" type=\"checkbox\" ><label for=\"sk-estimator-id-6\" class=\"sk-toggleable__label sk-toggleable__label-arrow\">SimpleImputer</label><div class=\"sk-toggleable__content\"><pre>SimpleImputer(strategy=&#x27;most_frequent&#x27;)</pre></div></div></div></div></div></div></div></div><div class=\"sk-parallel-item\"><div class=\"sk-item\"><div class=\"sk-label-container\"><div class=\"sk-label sk-toggleable\"><input class=\"sk-toggleable__control sk-hidden--visually\" id=\"sk-estimator-id-7\" type=\"checkbox\" ><label for=\"sk-estimator-id-7\" class=\"sk-toggleable__label sk-toggleable__label-arrow\">remainder</label><div class=\"sk-toggleable__content\"><pre></pre></div></div></div><div class=\"sk-serial\"><div class=\"sk-item\"><div class=\"sk-estimator sk-toggleable\"><input class=\"sk-toggleable__control sk-hidden--visually\" id=\"sk-estimator-id-8\" type=\"checkbox\" ><label for=\"sk-estimator-id-8\" class=\"sk-toggleable__label sk-toggleable__label-arrow\">passthrough</label><div class=\"sk-toggleable__content\"><pre>passthrough</pre></div></div></div></div></div></div></div></div></div></div>"
            ],
            "text/plain": [
              "ColumnTransformer(remainder='passthrough',\n",
              "                  transformers=[('number',\n",
              "                                 Pipeline(steps=[('impute_1', SimpleImputer()),\n",
              "                                                 ('Scale_1', MinMaxScaler())]),\n",
              "                                 Index(['audienceScore', 'runtimeMinutes', 'Year_Theaters', 'Month_Theaters',\n",
              "       'Year_Stream', 'Month_Stream'],\n",
              "      dtype='object')),\n",
              "                                ('object',\n",
              "                                 Pipeline(steps=[('impute_2',\n",
              "                                                  SimpleImputer(strategy='most_frequent'))]),\n",
              "                                 ['originalLanguage', 'genre'])],\n",
              "                  verbose_feature_names_out=False)"
            ]
          },
          "execution_count": 81,
          "metadata": {},
          "output_type": "execute_result"
        }
      ],
      "source": [
        "from sklearn.compose import ColumnTransformer\n",
        "ct1=ColumnTransformer([('number',pipe_num,num_col),('object',pipe_catg, catg_col)],\n",
        "                      remainder='passthrough', verbose_feature_names_out=False)\n",
        "ct1"
      ]
    },
    {
      "cell_type": "code",
      "execution_count": null,
      "id": "f92bfe1b",
      "metadata": {
        "execution": {
          "iopub.execute_input": "2023-08-28T19:23:05.949317Z",
          "iopub.status.busy": "2023-08-28T19:23:05.948885Z",
          "iopub.status.idle": "2023-08-28T19:23:06.084930Z",
          "shell.execute_reply": "2023-08-28T19:23:06.083781Z"
        },
        "papermill": {
          "duration": 0.194328,
          "end_time": "2023-08-28T19:23:06.087480",
          "exception": false,
          "start_time": "2023-08-28T19:23:05.893152",
          "status": "completed"
        },
        "tags": [],
        "id": "f92bfe1b"
      },
      "outputs": [],
      "source": [
        "movies_data_final=ct1.fit_transform(movies_data)"
      ]
    },
    {
      "cell_type": "code",
      "execution_count": null,
      "id": "58df80de",
      "metadata": {
        "execution": {
          "iopub.execute_input": "2023-08-28T19:23:06.199549Z",
          "iopub.status.busy": "2023-08-28T19:23:06.199156Z",
          "iopub.status.idle": "2023-08-28T19:23:06.204072Z",
          "shell.execute_reply": "2023-08-28T19:23:06.203411Z"
        },
        "papermill": {
          "duration": 0.06287,
          "end_time": "2023-08-28T19:23:06.205921",
          "exception": false,
          "start_time": "2023-08-28T19:23:06.143051",
          "status": "completed"
        },
        "tags": [],
        "id": "58df80de"
      },
      "outputs": [],
      "source": [
        "columns=ct1.get_feature_names_out()"
      ]
    },
    {
      "cell_type": "code",
      "execution_count": null,
      "id": "7f81291d",
      "metadata": {
        "execution": {
          "iopub.execute_input": "2023-08-28T19:23:06.317396Z",
          "iopub.status.busy": "2023-08-28T19:23:06.316398Z",
          "iopub.status.idle": "2023-08-28T19:23:06.321727Z",
          "shell.execute_reply": "2023-08-28T19:23:06.320876Z"
        },
        "papermill": {
          "duration": 0.062059,
          "end_time": "2023-08-28T19:23:06.323745",
          "exception": false,
          "start_time": "2023-08-28T19:23:06.261686",
          "status": "completed"
        },
        "tags": [],
        "id": "7f81291d"
      },
      "outputs": [],
      "source": [
        "movies_data_new=pd.DataFrame(movies_data_final,columns=columns)"
      ]
    },
    {
      "cell_type": "code",
      "execution_count": null,
      "id": "dd59c299",
      "metadata": {
        "execution": {
          "iopub.execute_input": "2023-08-28T19:23:06.434354Z",
          "iopub.status.busy": "2023-08-28T19:23:06.433945Z",
          "iopub.status.idle": "2023-08-28T19:23:06.449265Z",
          "shell.execute_reply": "2023-08-28T19:23:06.448212Z"
        },
        "papermill": {
          "duration": 0.073746,
          "end_time": "2023-08-28T19:23:06.451378",
          "exception": false,
          "start_time": "2023-08-28T19:23:06.377632",
          "status": "completed"
        },
        "tags": [],
        "id": "dd59c299",
        "outputId": "f03c6081-5768-4bd8-9130-cf6b80b11e36"
      },
      "outputs": [
        {
          "data": {
            "text/html": [
              "<div>\n",
              "<style scoped>\n",
              "    .dataframe tbody tr th:only-of-type {\n",
              "        vertical-align: middle;\n",
              "    }\n",
              "\n",
              "    .dataframe tbody tr th {\n",
              "        vertical-align: top;\n",
              "    }\n",
              "\n",
              "    .dataframe thead th {\n",
              "        text-align: right;\n",
              "    }\n",
              "</style>\n",
              "<table border=\"1\" class=\"dataframe\">\n",
              "  <thead>\n",
              "    <tr style=\"text-align: right;\">\n",
              "      <th></th>\n",
              "      <th>audienceScore</th>\n",
              "      <th>runtimeMinutes</th>\n",
              "      <th>Year_Theaters</th>\n",
              "      <th>Month_Theaters</th>\n",
              "      <th>Year_Stream</th>\n",
              "      <th>Month_Stream</th>\n",
              "      <th>originalLanguage</th>\n",
              "      <th>genre</th>\n",
              "      <th>movieid</th>\n",
              "      <th>title</th>\n",
              "      <th>director</th>\n",
              "    </tr>\n",
              "  </thead>\n",
              "  <tbody>\n",
              "    <tr>\n",
              "      <th>0</th>\n",
              "      <td>0.5</td>\n",
              "      <td>0.027418</td>\n",
              "      <td>0.714887</td>\n",
              "      <td>0.513635</td>\n",
              "      <td>0.947368</td>\n",
              "      <td>0.636364</td>\n",
              "      <td>English</td>\n",
              "      <td>Comedy, Horror, Sci-fi</td>\n",
              "      <td>han_solo_heroic_myth_wonder_woman</td>\n",
              "      <td>Han Solo Heroic Myth Wonder Woman</td>\n",
              "      <td>Claude Nicolet</td>\n",
              "    </tr>\n",
              "    <tr>\n",
              "      <th>1</th>\n",
              "      <td>0.55675</td>\n",
              "      <td>0.041867</td>\n",
              "      <td>0.714887</td>\n",
              "      <td>0.513635</td>\n",
              "      <td>0.968421</td>\n",
              "      <td>0.090909</td>\n",
              "      <td>English</td>\n",
              "      <td>Drama</td>\n",
              "      <td>voyage_tyler_durden_han_solo_stardust</td>\n",
              "      <td>Voyage Tyler Durden Han Solo Stardust</td>\n",
              "      <td>Nathan Haack</td>\n",
              "    </tr>\n",
              "    <tr>\n",
              "      <th>2</th>\n",
              "      <td>0.43</td>\n",
              "      <td>0.04409</td>\n",
              "      <td>0.714887</td>\n",
              "      <td>0.513635</td>\n",
              "      <td>0.905232</td>\n",
              "      <td>0.488205</td>\n",
              "      <td>Korean</td>\n",
              "      <td>Drama</td>\n",
              "      <td>norman_bates_ferris_bueller_hermione_granger_v...</td>\n",
              "      <td>Norman Bates Ferris Bueller Hermione Granger V...</td>\n",
              "      <td>Theresa Smith</td>\n",
              "    </tr>\n",
              "    <tr>\n",
              "      <th>3</th>\n",
              "      <td>0.6</td>\n",
              "      <td>0.032975</td>\n",
              "      <td>0.714887</td>\n",
              "      <td>0.513635</td>\n",
              "      <td>0.968421</td>\n",
              "      <td>0.818182</td>\n",
              "      <td>English</td>\n",
              "      <td>Action, Mystery &amp; thriller</td>\n",
              "      <td>elegant_hermione_granger</td>\n",
              "      <td>Elegant Hermione Granger</td>\n",
              "      <td>Donald Lewis</td>\n",
              "    </tr>\n",
              "    <tr>\n",
              "      <th>4</th>\n",
              "      <td>0.7</td>\n",
              "      <td>0.02927</td>\n",
              "      <td>0.714887</td>\n",
              "      <td>0.513635</td>\n",
              "      <td>0.936842</td>\n",
              "      <td>0.181818</td>\n",
              "      <td>English</td>\n",
              "      <td>Fantasy, Adventure, Animation</td>\n",
              "      <td>adventure_rocky_balboa</td>\n",
              "      <td>Adventure Rocky Balboa</td>\n",
              "      <td>Howard Simms</td>\n",
              "    </tr>\n",
              "  </tbody>\n",
              "</table>\n",
              "</div>"
            ],
            "text/plain": [
              "  audienceScore runtimeMinutes Year_Theaters Month_Theaters Year_Stream  \\\n",
              "0           0.5       0.027418      0.714887       0.513635    0.947368   \n",
              "1       0.55675       0.041867      0.714887       0.513635    0.968421   \n",
              "2          0.43        0.04409      0.714887       0.513635    0.905232   \n",
              "3           0.6       0.032975      0.714887       0.513635    0.968421   \n",
              "4           0.7        0.02927      0.714887       0.513635    0.936842   \n",
              "\n",
              "  Month_Stream originalLanguage                          genre  \\\n",
              "0     0.636364          English         Comedy, Horror, Sci-fi   \n",
              "1     0.090909          English                          Drama   \n",
              "2     0.488205           Korean                          Drama   \n",
              "3     0.818182          English     Action, Mystery & thriller   \n",
              "4     0.181818          English  Fantasy, Adventure, Animation   \n",
              "\n",
              "                                             movieid  \\\n",
              "0                  han_solo_heroic_myth_wonder_woman   \n",
              "1              voyage_tyler_durden_han_solo_stardust   \n",
              "2  norman_bates_ferris_bueller_hermione_granger_v...   \n",
              "3                           elegant_hermione_granger   \n",
              "4                             adventure_rocky_balboa   \n",
              "\n",
              "                                               title        director  \n",
              "0                  Han Solo Heroic Myth Wonder Woman  Claude Nicolet  \n",
              "1              Voyage Tyler Durden Han Solo Stardust    Nathan Haack  \n",
              "2  Norman Bates Ferris Bueller Hermione Granger V...   Theresa Smith  \n",
              "3                           Elegant Hermione Granger    Donald Lewis  \n",
              "4                             Adventure Rocky Balboa    Howard Simms  "
            ]
          },
          "execution_count": 85,
          "metadata": {},
          "output_type": "execute_result"
        }
      ],
      "source": [
        "movies_data_new.head()"
      ]
    },
    {
      "cell_type": "code",
      "execution_count": null,
      "id": "b045b307",
      "metadata": {
        "execution": {
          "iopub.execute_input": "2023-08-28T19:23:06.561282Z",
          "iopub.status.busy": "2023-08-28T19:23:06.560891Z",
          "iopub.status.idle": "2023-08-28T19:23:06.803531Z",
          "shell.execute_reply": "2023-08-28T19:23:06.802558Z"
        },
        "papermill": {
          "duration": 0.300209,
          "end_time": "2023-08-28T19:23:06.805988",
          "exception": false,
          "start_time": "2023-08-28T19:23:06.505779",
          "status": "completed"
        },
        "tags": [],
        "id": "b045b307",
        "outputId": "b4eac483-f873-4314-f91a-0401c1e65384"
      },
      "outputs": [
        {
          "data": {
            "text/plain": [
              "audienceScore       0\n",
              "runtimeMinutes      0\n",
              "Year_Theaters       0\n",
              "Month_Theaters      0\n",
              "Year_Stream         0\n",
              "Month_Stream        0\n",
              "originalLanguage    0\n",
              "genre               0\n",
              "movieid             0\n",
              "title               0\n",
              "director            0\n",
              "dtype: int64"
            ]
          },
          "execution_count": 86,
          "metadata": {},
          "output_type": "execute_result"
        }
      ],
      "source": [
        "movies_data_new.isnull().sum()"
      ]
    },
    {
      "cell_type": "code",
      "execution_count": null,
      "id": "eaf65520",
      "metadata": {
        "execution": {
          "iopub.execute_input": "2023-08-28T19:23:06.918274Z",
          "iopub.status.busy": "2023-08-28T19:23:06.917491Z",
          "iopub.status.idle": "2023-08-28T19:23:07.115898Z",
          "shell.execute_reply": "2023-08-28T19:23:07.115071Z"
        },
        "papermill": {
          "duration": 0.257455,
          "end_time": "2023-08-28T19:23:07.118260",
          "exception": false,
          "start_time": "2023-08-28T19:23:06.860805",
          "status": "completed"
        },
        "tags": [],
        "id": "eaf65520"
      },
      "outputs": [],
      "source": [
        "movies_data_new[num_col]=movies_data_new[num_col].apply(pd.to_numeric)"
      ]
    },
    {
      "cell_type": "code",
      "execution_count": null,
      "id": "b48d235a",
      "metadata": {
        "execution": {
          "iopub.execute_input": "2023-08-28T19:23:07.240786Z",
          "iopub.status.busy": "2023-08-28T19:23:07.239855Z",
          "iopub.status.idle": "2023-08-28T19:23:07.363764Z",
          "shell.execute_reply": "2023-08-28T19:23:07.362657Z"
        },
        "papermill": {
          "duration": 0.185422,
          "end_time": "2023-08-28T19:23:07.366008",
          "exception": false,
          "start_time": "2023-08-28T19:23:07.180586",
          "status": "completed"
        },
        "tags": [],
        "id": "b48d235a",
        "outputId": "f553fe02-ceb5-4562-d8d9-88cc43a978ca"
      },
      "outputs": [
        {
          "name": "stdout",
          "output_type": "stream",
          "text": [
            "<class 'pandas.core.frame.DataFrame'>\n",
            "RangeIndex: 143258 entries, 0 to 143257\n",
            "Data columns (total 11 columns):\n",
            " #   Column            Non-Null Count   Dtype  \n",
            "---  ------            --------------   -----  \n",
            " 0   audienceScore     143258 non-null  float64\n",
            " 1   runtimeMinutes    143258 non-null  float64\n",
            " 2   Year_Theaters     143258 non-null  float64\n",
            " 3   Month_Theaters    143258 non-null  float64\n",
            " 4   Year_Stream       143258 non-null  float64\n",
            " 5   Month_Stream      143258 non-null  float64\n",
            " 6   originalLanguage  143258 non-null  object \n",
            " 7   genre             143258 non-null  object \n",
            " 8   movieid           143258 non-null  object \n",
            " 9   title             143258 non-null  object \n",
            " 10  director          143258 non-null  object \n",
            "dtypes: float64(6), object(5)\n",
            "memory usage: 12.0+ MB\n"
          ]
        }
      ],
      "source": [
        "movies_data_new.info()"
      ]
    },
    {
      "cell_type": "markdown",
      "id": "4fc9d39c",
      "metadata": {
        "papermill": {
          "duration": 0.054321,
          "end_time": "2023-08-28T19:23:07.474993",
          "exception": false,
          "start_time": "2023-08-28T19:23:07.420672",
          "status": "completed"
        },
        "tags": [],
        "id": "4fc9d39c"
      },
      "source": [
        "*We see that we have successfully  handled all the null values and  preprocessed them based on whether they were numerical or categorical. We used ColumnTransformer to do the preprocessing all together.*"
      ]
    },
    {
      "cell_type": "markdown",
      "id": "adf70815",
      "metadata": {
        "papermill": {
          "duration": 0.054213,
          "end_time": "2023-08-28T19:23:07.583608",
          "exception": false,
          "start_time": "2023-08-28T19:23:07.529395",
          "status": "completed"
        },
        "tags": [],
        "id": "adf70815"
      },
      "source": [
        "***Duplicate removal and merging of train and movies datasets on 'movie_id'.***"
      ]
    },
    {
      "cell_type": "code",
      "execution_count": null,
      "id": "aeff5af1",
      "metadata": {
        "execution": {
          "iopub.execute_input": "2023-08-28T19:23:07.698322Z",
          "iopub.status.busy": "2023-08-28T19:23:07.697592Z",
          "iopub.status.idle": "2023-08-28T19:23:07.738601Z",
          "shell.execute_reply": "2023-08-28T19:23:07.737433Z"
        },
        "papermill": {
          "duration": 0.101125,
          "end_time": "2023-08-28T19:23:07.741171",
          "exception": false,
          "start_time": "2023-08-28T19:23:07.640046",
          "status": "completed"
        },
        "tags": [],
        "id": "aeff5af1"
      },
      "outputs": [],
      "source": [
        "movies_data_new.drop_duplicates('movieid', inplace=True)"
      ]
    },
    {
      "cell_type": "code",
      "execution_count": null,
      "id": "1d57b935",
      "metadata": {
        "execution": {
          "iopub.execute_input": "2023-08-28T19:23:07.855761Z",
          "iopub.status.busy": "2023-08-28T19:23:07.854772Z",
          "iopub.status.idle": "2023-08-28T19:23:08.031520Z",
          "shell.execute_reply": "2023-08-28T19:23:08.030602Z"
        },
        "papermill": {
          "duration": 0.236093,
          "end_time": "2023-08-28T19:23:08.033777",
          "exception": false,
          "start_time": "2023-08-28T19:23:07.797684",
          "status": "completed"
        },
        "tags": [],
        "id": "1d57b935"
      },
      "outputs": [],
      "source": [
        "train_data_final= train_data.merge(movies_data_new,on='movieid', how='inner')"
      ]
    },
    {
      "cell_type": "code",
      "execution_count": null,
      "id": "57ff782d",
      "metadata": {
        "execution": {
          "iopub.execute_input": "2023-08-28T19:23:08.144151Z",
          "iopub.status.busy": "2023-08-28T19:23:08.143484Z",
          "iopub.status.idle": "2023-08-28T19:23:08.161996Z",
          "shell.execute_reply": "2023-08-28T19:23:08.160928Z"
        },
        "papermill": {
          "duration": 0.075907,
          "end_time": "2023-08-28T19:23:08.164147",
          "exception": false,
          "start_time": "2023-08-28T19:23:08.088240",
          "status": "completed"
        },
        "tags": [],
        "id": "57ff782d",
        "outputId": "25ca5769-8ec4-428c-b363-2a2cf39c63e6"
      },
      "outputs": [
        {
          "data": {
            "text/html": [
              "<div>\n",
              "<style scoped>\n",
              "    .dataframe tbody tr th:only-of-type {\n",
              "        vertical-align: middle;\n",
              "    }\n",
              "\n",
              "    .dataframe tbody tr th {\n",
              "        vertical-align: top;\n",
              "    }\n",
              "\n",
              "    .dataframe thead th {\n",
              "        text-align: right;\n",
              "    }\n",
              "</style>\n",
              "<table border=\"1\" class=\"dataframe\">\n",
              "  <thead>\n",
              "    <tr style=\"text-align: right;\">\n",
              "      <th></th>\n",
              "      <th>movieid</th>\n",
              "      <th>reviewerName</th>\n",
              "      <th>isFrequentReviewer</th>\n",
              "      <th>reviewText</th>\n",
              "      <th>sentiment</th>\n",
              "      <th>audienceScore</th>\n",
              "      <th>runtimeMinutes</th>\n",
              "      <th>Year_Theaters</th>\n",
              "      <th>Month_Theaters</th>\n",
              "      <th>Year_Stream</th>\n",
              "      <th>Month_Stream</th>\n",
              "      <th>originalLanguage</th>\n",
              "      <th>genre</th>\n",
              "      <th>title</th>\n",
              "      <th>director</th>\n",
              "    </tr>\n",
              "  </thead>\n",
              "  <tbody>\n",
              "    <tr>\n",
              "      <th>0</th>\n",
              "      <td>marvelous_pirate</td>\n",
              "      <td>Benjamin Henry</td>\n",
              "      <td>0.0</td>\n",
              "      <td>Henry Selick’s first movie since 2009’s Corali...</td>\n",
              "      <td>1</td>\n",
              "      <td>0.65</td>\n",
              "      <td>0.038533</td>\n",
              "      <td>0.923077</td>\n",
              "      <td>0.818182</td>\n",
              "      <td>0.989474</td>\n",
              "      <td>0.818182</td>\n",
              "      <td>English</td>\n",
              "      <td>Comedy, Animation, Adventure, Fantasy</td>\n",
              "      <td>Marvelous Pirate</td>\n",
              "      <td>Bennie Basso</td>\n",
              "    </tr>\n",
              "    <tr>\n",
              "      <th>1</th>\n",
              "      <td>marvelous_pirate</td>\n",
              "      <td>Sharon Foster</td>\n",
              "      <td>0.0</td>\n",
              "      <td>&amp;#91;T&amp;#93;he haphazard way this story is asse...</td>\n",
              "      <td>0</td>\n",
              "      <td>0.65</td>\n",
              "      <td>0.038533</td>\n",
              "      <td>0.923077</td>\n",
              "      <td>0.818182</td>\n",
              "      <td>0.989474</td>\n",
              "      <td>0.818182</td>\n",
              "      <td>English</td>\n",
              "      <td>Comedy, Animation, Adventure, Fantasy</td>\n",
              "      <td>Marvelous Pirate</td>\n",
              "      <td>Bennie Basso</td>\n",
              "    </tr>\n",
              "    <tr>\n",
              "      <th>2</th>\n",
              "      <td>marvelous_pirate</td>\n",
              "      <td>Melinda Dunn</td>\n",
              "      <td>0.0</td>\n",
              "      <td>The stop-motion artistry of Wendell &amp;amp; Wild...</td>\n",
              "      <td>1</td>\n",
              "      <td>0.65</td>\n",
              "      <td>0.038533</td>\n",
              "      <td>0.923077</td>\n",
              "      <td>0.818182</td>\n",
              "      <td>0.989474</td>\n",
              "      <td>0.818182</td>\n",
              "      <td>English</td>\n",
              "      <td>Comedy, Animation, Adventure, Fantasy</td>\n",
              "      <td>Marvelous Pirate</td>\n",
              "      <td>Bennie Basso</td>\n",
              "    </tr>\n",
              "    <tr>\n",
              "      <th>3</th>\n",
              "      <td>marvelous_pirate</td>\n",
              "      <td>Mr. Wayne Smith</td>\n",
              "      <td>0.0</td>\n",
              "      <td>Wendell &amp;amp; Wild is narratively overstuffed ...</td>\n",
              "      <td>0</td>\n",
              "      <td>0.65</td>\n",
              "      <td>0.038533</td>\n",
              "      <td>0.923077</td>\n",
              "      <td>0.818182</td>\n",
              "      <td>0.989474</td>\n",
              "      <td>0.818182</td>\n",
              "      <td>English</td>\n",
              "      <td>Comedy, Animation, Adventure, Fantasy</td>\n",
              "      <td>Marvelous Pirate</td>\n",
              "      <td>Bennie Basso</td>\n",
              "    </tr>\n",
              "    <tr>\n",
              "      <th>4</th>\n",
              "      <td>marvelous_pirate</td>\n",
              "      <td>Connor Nelson</td>\n",
              "      <td>0.0</td>\n",
              "      <td>For being about the Netherworlds&amp;#44; it&amp;#8217...</td>\n",
              "      <td>1</td>\n",
              "      <td>0.65</td>\n",
              "      <td>0.038533</td>\n",
              "      <td>0.923077</td>\n",
              "      <td>0.818182</td>\n",
              "      <td>0.989474</td>\n",
              "      <td>0.818182</td>\n",
              "      <td>English</td>\n",
              "      <td>Comedy, Animation, Adventure, Fantasy</td>\n",
              "      <td>Marvelous Pirate</td>\n",
              "      <td>Bennie Basso</td>\n",
              "    </tr>\n",
              "  </tbody>\n",
              "</table>\n",
              "</div>"
            ],
            "text/plain": [
              "            movieid     reviewerName  isFrequentReviewer  \\\n",
              "0  marvelous_pirate   Benjamin Henry                 0.0   \n",
              "1  marvelous_pirate    Sharon Foster                 0.0   \n",
              "2  marvelous_pirate     Melinda Dunn                 0.0   \n",
              "3  marvelous_pirate  Mr. Wayne Smith                 0.0   \n",
              "4  marvelous_pirate    Connor Nelson                 0.0   \n",
              "\n",
              "                                          reviewText  sentiment  \\\n",
              "0  Henry Selick’s first movie since 2009’s Corali...          1   \n",
              "1  &#91;T&#93;he haphazard way this story is asse...          0   \n",
              "2  The stop-motion artistry of Wendell &amp; Wild...          1   \n",
              "3  Wendell &amp; Wild is narratively overstuffed ...          0   \n",
              "4  For being about the Netherworlds&#44; it&#8217...          1   \n",
              "\n",
              "   audienceScore  runtimeMinutes  Year_Theaters  Month_Theaters  Year_Stream  \\\n",
              "0           0.65        0.038533       0.923077        0.818182     0.989474   \n",
              "1           0.65        0.038533       0.923077        0.818182     0.989474   \n",
              "2           0.65        0.038533       0.923077        0.818182     0.989474   \n",
              "3           0.65        0.038533       0.923077        0.818182     0.989474   \n",
              "4           0.65        0.038533       0.923077        0.818182     0.989474   \n",
              "\n",
              "   Month_Stream originalLanguage                                  genre  \\\n",
              "0      0.818182          English  Comedy, Animation, Adventure, Fantasy   \n",
              "1      0.818182          English  Comedy, Animation, Adventure, Fantasy   \n",
              "2      0.818182          English  Comedy, Animation, Adventure, Fantasy   \n",
              "3      0.818182          English  Comedy, Animation, Adventure, Fantasy   \n",
              "4      0.818182          English  Comedy, Animation, Adventure, Fantasy   \n",
              "\n",
              "              title      director  \n",
              "0  Marvelous Pirate  Bennie Basso  \n",
              "1  Marvelous Pirate  Bennie Basso  \n",
              "2  Marvelous Pirate  Bennie Basso  \n",
              "3  Marvelous Pirate  Bennie Basso  \n",
              "4  Marvelous Pirate  Bennie Basso  "
            ]
          },
          "execution_count": 91,
          "metadata": {},
          "output_type": "execute_result"
        }
      ],
      "source": [
        "train_data_final.head()"
      ]
    },
    {
      "cell_type": "code",
      "execution_count": null,
      "id": "e744d6aa",
      "metadata": {
        "execution": {
          "iopub.execute_input": "2023-08-28T19:23:08.276294Z",
          "iopub.status.busy": "2023-08-28T19:23:08.275579Z",
          "iopub.status.idle": "2023-08-28T19:23:08.280711Z",
          "shell.execute_reply": "2023-08-28T19:23:08.280075Z"
        },
        "papermill": {
          "duration": 0.063541,
          "end_time": "2023-08-28T19:23:08.282470",
          "exception": false,
          "start_time": "2023-08-28T19:23:08.218929",
          "status": "completed"
        },
        "tags": [],
        "id": "e744d6aa",
        "outputId": "768cdf46-b35e-45de-a96c-3e46e2a6b391"
      },
      "outputs": [
        {
          "data": {
            "text/plain": [
              "(162758, 15)"
            ]
          },
          "execution_count": 92,
          "metadata": {},
          "output_type": "execute_result"
        }
      ],
      "source": [
        "train_data_final.shape"
      ]
    },
    {
      "cell_type": "markdown",
      "id": "430897d6",
      "metadata": {
        "papermill": {
          "duration": 0.05432,
          "end_time": "2023-08-28T19:23:08.391037",
          "exception": false,
          "start_time": "2023-08-28T19:23:08.336717",
          "status": "completed"
        },
        "tags": [],
        "id": "430897d6"
      },
      "source": [
        "*Below, we use all the numerical columns to understand how they are related to each other using correlation analysis. We focus particularly on our target variable (sentiment) and how other numerical variable affect it.*"
      ]
    },
    {
      "cell_type": "code",
      "execution_count": null,
      "id": "3d54c5f7",
      "metadata": {
        "execution": {
          "iopub.execute_input": "2023-08-28T19:23:08.502272Z",
          "iopub.status.busy": "2023-08-28T19:23:08.501611Z",
          "iopub.status.idle": "2023-08-28T19:23:08.549456Z",
          "shell.execute_reply": "2023-08-28T19:23:08.548319Z"
        },
        "papermill": {
          "duration": 0.106091,
          "end_time": "2023-08-28T19:23:08.551895",
          "exception": false,
          "start_time": "2023-08-28T19:23:08.445804",
          "status": "completed"
        },
        "tags": [],
        "id": "3d54c5f7"
      },
      "outputs": [],
      "source": [
        "exp_set=train_data_final.select_dtypes('number')\n",
        "corr_matrix=exp_set.corr()"
      ]
    },
    {
      "cell_type": "code",
      "execution_count": null,
      "id": "b51b51ff",
      "metadata": {
        "execution": {
          "iopub.execute_input": "2023-08-28T19:23:08.663309Z",
          "iopub.status.busy": "2023-08-28T19:23:08.662915Z",
          "iopub.status.idle": "2023-08-28T19:23:08.669910Z",
          "shell.execute_reply": "2023-08-28T19:23:08.669023Z"
        },
        "papermill": {
          "duration": 0.064991,
          "end_time": "2023-08-28T19:23:08.671747",
          "exception": false,
          "start_time": "2023-08-28T19:23:08.606756",
          "status": "completed"
        },
        "tags": [],
        "id": "b51b51ff",
        "outputId": "d95c1a1d-ff1c-4c9c-8eb0-489c868de3f3"
      },
      "outputs": [
        {
          "data": {
            "text/plain": [
              "isFrequentReviewer   -0.050806\n",
              "sentiment             1.000000\n",
              "audienceScore         0.297779\n",
              "runtimeMinutes        0.047179\n",
              "Year_Theaters        -0.002842\n",
              "Month_Theaters        0.036732\n",
              "Year_Stream           0.088521\n",
              "Month_Stream          0.003483\n",
              "Name: sentiment, dtype: float64"
            ]
          },
          "execution_count": 94,
          "metadata": {},
          "output_type": "execute_result"
        }
      ],
      "source": [
        "corr_matrix['sentiment']"
      ]
    },
    {
      "cell_type": "code",
      "execution_count": null,
      "id": "034ff4ee",
      "metadata": {
        "execution": {
          "iopub.execute_input": "2023-08-28T19:23:08.784847Z",
          "iopub.status.busy": "2023-08-28T19:23:08.784062Z",
          "iopub.status.idle": "2023-08-28T19:23:09.166745Z",
          "shell.execute_reply": "2023-08-28T19:23:09.165590Z"
        },
        "papermill": {
          "duration": 0.44218,
          "end_time": "2023-08-28T19:23:09.169488",
          "exception": false,
          "start_time": "2023-08-28T19:23:08.727308",
          "status": "completed"
        },
        "tags": [],
        "id": "034ff4ee",
        "outputId": "b1da1d57-8348-4834-fcb1-4383f525f2dd"
      },
      "outputs": [
        {
          "data": {
            "text/plain": [
              "<Axes: >"
            ]
          },
          "execution_count": 95,
          "metadata": {},
          "output_type": "execute_result"
        },
        {
          "data": {
            "image/png": "[encoded data removed]",
            "text/plain": [
              "<Figure size 640x480 with 2 Axes>"
            ]
          },
          "metadata": {},
          "output_type": "display_data"
        }
      ],
      "source": [
        "sns.heatmap(corr_matrix)"
      ]
    },
    {
      "cell_type": "code",
      "execution_count": null,
      "id": "4bc988ab",
      "metadata": {
        "execution": {
          "iopub.execute_input": "2023-08-28T19:23:09.285884Z",
          "iopub.status.busy": "2023-08-28T19:23:09.284872Z",
          "iopub.status.idle": "2023-08-28T19:23:09.300212Z",
          "shell.execute_reply": "2023-08-28T19:23:09.299260Z"
        },
        "papermill": {
          "duration": 0.076734,
          "end_time": "2023-08-28T19:23:09.302297",
          "exception": false,
          "start_time": "2023-08-28T19:23:09.225563",
          "status": "completed"
        },
        "tags": [],
        "id": "4bc988ab",
        "outputId": "e97e9fe6-4315-47ce-8ad7-eef412dd2bd2"
      },
      "outputs": [
        {
          "data": {
            "text/html": [
              "<div>\n",
              "<style scoped>\n",
              "    .dataframe tbody tr th:only-of-type {\n",
              "        vertical-align: middle;\n",
              "    }\n",
              "\n",
              "    .dataframe tbody tr th {\n",
              "        vertical-align: top;\n",
              "    }\n",
              "\n",
              "    .dataframe thead th {\n",
              "        text-align: right;\n",
              "    }\n",
              "</style>\n",
              "<table border=\"1\" class=\"dataframe\">\n",
              "  <thead>\n",
              "    <tr style=\"text-align: right;\">\n",
              "      <th></th>\n",
              "      <th>isFrequentReviewer</th>\n",
              "      <th>sentiment</th>\n",
              "      <th>audienceScore</th>\n",
              "      <th>runtimeMinutes</th>\n",
              "      <th>Year_Theaters</th>\n",
              "      <th>Month_Theaters</th>\n",
              "      <th>Year_Stream</th>\n",
              "      <th>Month_Stream</th>\n",
              "    </tr>\n",
              "  </thead>\n",
              "  <tbody>\n",
              "    <tr>\n",
              "      <th>isFrequentReviewer</th>\n",
              "      <td>1.000000</td>\n",
              "      <td>-0.050806</td>\n",
              "      <td>-0.026313</td>\n",
              "      <td>-0.031757</td>\n",
              "      <td>-0.003171</td>\n",
              "      <td>-0.013973</td>\n",
              "      <td>-0.033056</td>\n",
              "      <td>-0.006511</td>\n",
              "    </tr>\n",
              "    <tr>\n",
              "      <th>sentiment</th>\n",
              "      <td>-0.050806</td>\n",
              "      <td>1.000000</td>\n",
              "      <td>0.297779</td>\n",
              "      <td>0.047179</td>\n",
              "      <td>-0.002842</td>\n",
              "      <td>0.036732</td>\n",
              "      <td>0.088521</td>\n",
              "      <td>0.003483</td>\n",
              "    </tr>\n",
              "    <tr>\n",
              "      <th>audienceScore</th>\n",
              "      <td>-0.026313</td>\n",
              "      <td>0.297779</td>\n",
              "      <td>1.000000</td>\n",
              "      <td>0.265502</td>\n",
              "      <td>0.014202</td>\n",
              "      <td>0.073057</td>\n",
              "      <td>0.000819</td>\n",
              "      <td>0.008624</td>\n",
              "    </tr>\n",
              "    <tr>\n",
              "      <th>runtimeMinutes</th>\n",
              "      <td>-0.031757</td>\n",
              "      <td>0.047179</td>\n",
              "      <td>0.265502</td>\n",
              "      <td>1.000000</td>\n",
              "      <td>0.122649</td>\n",
              "      <td>0.107822</td>\n",
              "      <td>-0.018545</td>\n",
              "      <td>-0.015272</td>\n",
              "    </tr>\n",
              "    <tr>\n",
              "      <th>Year_Theaters</th>\n",
              "      <td>-0.003171</td>\n",
              "      <td>-0.002842</td>\n",
              "      <td>0.014202</td>\n",
              "      <td>0.122649</td>\n",
              "      <td>1.000000</td>\n",
              "      <td>-0.010699</td>\n",
              "      <td>0.452856</td>\n",
              "      <td>0.041239</td>\n",
              "    </tr>\n",
              "    <tr>\n",
              "      <th>Month_Theaters</th>\n",
              "      <td>-0.013973</td>\n",
              "      <td>0.036732</td>\n",
              "      <td>0.073057</td>\n",
              "      <td>0.107822</td>\n",
              "      <td>-0.010699</td>\n",
              "      <td>1.000000</td>\n",
              "      <td>0.011079</td>\n",
              "      <td>-0.043407</td>\n",
              "    </tr>\n",
              "    <tr>\n",
              "      <th>Year_Stream</th>\n",
              "      <td>-0.033056</td>\n",
              "      <td>0.088521</td>\n",
              "      <td>0.000819</td>\n",
              "      <td>-0.018545</td>\n",
              "      <td>0.452856</td>\n",
              "      <td>0.011079</td>\n",
              "      <td>1.000000</td>\n",
              "      <td>-0.023136</td>\n",
              "    </tr>\n",
              "    <tr>\n",
              "      <th>Month_Stream</th>\n",
              "      <td>-0.006511</td>\n",
              "      <td>0.003483</td>\n",
              "      <td>0.008624</td>\n",
              "      <td>-0.015272</td>\n",
              "      <td>0.041239</td>\n",
              "      <td>-0.043407</td>\n",
              "      <td>-0.023136</td>\n",
              "      <td>1.000000</td>\n",
              "    </tr>\n",
              "  </tbody>\n",
              "</table>\n",
              "</div>"
            ],
            "text/plain": [
              "                    isFrequentReviewer  sentiment  audienceScore  \\\n",
              "isFrequentReviewer            1.000000  -0.050806      -0.026313   \n",
              "sentiment                    -0.050806   1.000000       0.297779   \n",
              "audienceScore                -0.026313   0.297779       1.000000   \n",
              "runtimeMinutes               -0.031757   0.047179       0.265502   \n",
              "Year_Theaters                -0.003171  -0.002842       0.014202   \n",
              "Month_Theaters               -0.013973   0.036732       0.073057   \n",
              "Year_Stream                  -0.033056   0.088521       0.000819   \n",
              "Month_Stream                 -0.006511   0.003483       0.008624   \n",
              "\n",
              "                    runtimeMinutes  Year_Theaters  Month_Theaters  \\\n",
              "isFrequentReviewer       -0.031757      -0.003171       -0.013973   \n",
              "sentiment                 0.047179      -0.002842        0.036732   \n",
              "audienceScore             0.265502       0.014202        0.073057   \n",
              "runtimeMinutes            1.000000       0.122649        0.107822   \n",
              "Year_Theaters             0.122649       1.000000       -0.010699   \n",
              "Month_Theaters            0.107822      -0.010699        1.000000   \n",
              "Year_Stream              -0.018545       0.452856        0.011079   \n",
              "Month_Stream             -0.015272       0.041239       -0.043407   \n",
              "\n",
              "                    Year_Stream  Month_Stream  \n",
              "isFrequentReviewer    -0.033056     -0.006511  \n",
              "sentiment              0.088521      0.003483  \n",
              "audienceScore          0.000819      0.008624  \n",
              "runtimeMinutes        -0.018545     -0.015272  \n",
              "Year_Theaters          0.452856      0.041239  \n",
              "Month_Theaters         0.011079     -0.043407  \n",
              "Year_Stream            1.000000     -0.023136  \n",
              "Month_Stream          -0.023136      1.000000  "
            ]
          },
          "execution_count": 96,
          "metadata": {},
          "output_type": "execute_result"
        }
      ],
      "source": [
        "corr_matrix"
      ]
    },
    {
      "cell_type": "markdown",
      "id": "d814500e",
      "metadata": {
        "papermill": {
          "duration": 0.055917,
          "end_time": "2023-08-28T19:23:09.415281",
          "exception": false,
          "start_time": "2023-08-28T19:23:09.359364",
          "status": "completed"
        },
        "tags": [],
        "id": "d814500e"
      },
      "source": [
        "*Some interesting insights from the above correlation analysis are:      \n",
        "1.The heighest correlation that sentiment has is with audienceScore. We see that the correlation value between the two variables is ~0.3. This indicates a positive correlation between the two, which is similar to expectation.     \n",
        "2.We see also that being a reviwer has a negitive correlation with the sentiment.Though the correlation value of ~-0.05 is very small and its hard to get to any conclusion with that.*"
      ]
    },
    {
      "cell_type": "markdown",
      "id": "2a1e3e05",
      "metadata": {
        "papermill": {
          "duration": 0.055809,
          "end_time": "2023-08-28T19:23:09.527417",
          "exception": false,
          "start_time": "2023-08-28T19:23:09.471608",
          "status": "completed"
        },
        "tags": [],
        "id": "2a1e3e05"
      },
      "source": [
        "# ***Preparing final data for model-building***"
      ]
    },
    {
      "cell_type": "markdown",
      "id": "85d26112",
      "metadata": {
        "papermill": {
          "duration": 0.055866,
          "end_time": "2023-08-28T19:23:09.640073",
          "exception": false,
          "start_time": "2023-08-28T19:23:09.584207",
          "status": "completed"
        },
        "tags": [],
        "id": "85d26112"
      },
      "source": [
        "*Below we see allocate x and y for building the model. We use reviewText and reviewerName column as our x, since using merged dataset is not giving good results results for test_data, even though it is increasing the performance of train--train and validation dataset.This could be because even though it gives important information for the train data but that information might not be correct for test data.Moreover , we do not use the column 'isFrequentReviewer since there is no equivalent of that in tests data.*"
      ]
    },
    {
      "cell_type": "code",
      "execution_count": null,
      "id": "921af679",
      "metadata": {
        "execution": {
          "iopub.execute_input": "2023-08-28T19:23:09.754335Z",
          "iopub.status.busy": "2023-08-28T19:23:09.753946Z",
          "iopub.status.idle": "2023-08-28T19:23:09.760721Z",
          "shell.execute_reply": "2023-08-28T19:23:09.759801Z"
        },
        "papermill": {
          "duration": 0.066278,
          "end_time": "2023-08-28T19:23:09.762635",
          "exception": false,
          "start_time": "2023-08-28T19:23:09.696357",
          "status": "completed"
        },
        "tags": [],
        "id": "921af679",
        "outputId": "0083caa8-2683-4813-caa1-419aad10a408"
      },
      "outputs": [
        {
          "data": {
            "text/plain": [
              "Index(['movieid', 'reviewerName', 'isFrequentReviewer', 'reviewText',\n",
              "       'sentiment'],\n",
              "      dtype='object')"
            ]
          },
          "execution_count": 97,
          "metadata": {},
          "output_type": "execute_result"
        }
      ],
      "source": [
        "train_data.columns"
      ]
    },
    {
      "cell_type": "code",
      "execution_count": null,
      "id": "abc7eee9",
      "metadata": {
        "execution": {
          "iopub.execute_input": "2023-08-28T19:23:09.878964Z",
          "iopub.status.busy": "2023-08-28T19:23:09.878566Z",
          "iopub.status.idle": "2023-08-28T19:23:09.889150Z",
          "shell.execute_reply": "2023-08-28T19:23:09.888181Z"
        },
        "papermill": {
          "duration": 0.070527,
          "end_time": "2023-08-28T19:23:09.891102",
          "exception": false,
          "start_time": "2023-08-28T19:23:09.820575",
          "status": "completed"
        },
        "tags": [],
        "id": "abc7eee9"
      },
      "outputs": [],
      "source": [
        "x=train_data[['reviewText', 'reviewerName']]\n",
        "y=train_data['sentiment']"
      ]
    },
    {
      "cell_type": "code",
      "execution_count": null,
      "id": "516fb884",
      "metadata": {
        "execution": {
          "iopub.execute_input": "2023-08-28T19:23:10.005944Z",
          "iopub.status.busy": "2023-08-28T19:23:10.005230Z",
          "iopub.status.idle": "2023-08-28T19:23:10.011304Z",
          "shell.execute_reply": "2023-08-28T19:23:10.010301Z"
        },
        "papermill": {
          "duration": 0.065548,
          "end_time": "2023-08-28T19:23:10.013333",
          "exception": false,
          "start_time": "2023-08-28T19:23:09.947785",
          "status": "completed"
        },
        "tags": [],
        "id": "516fb884",
        "outputId": "a6c571d1-a1d5-4628-f1fb-76432909d96a"
      },
      "outputs": [
        {
          "data": {
            "text/plain": [
              "((162758, 2), (162758,))"
            ]
          },
          "execution_count": 99,
          "metadata": {},
          "output_type": "execute_result"
        }
      ],
      "source": [
        "x.shape, y.shape"
      ]
    },
    {
      "cell_type": "code",
      "execution_count": null,
      "id": "3d6706ce",
      "metadata": {
        "execution": {
          "iopub.execute_input": "2023-08-28T19:23:10.128501Z",
          "iopub.status.busy": "2023-08-28T19:23:10.127802Z",
          "iopub.status.idle": "2023-08-28T19:23:10.187748Z",
          "shell.execute_reply": "2023-08-28T19:23:10.186719Z"
        },
        "papermill": {
          "duration": 0.120288,
          "end_time": "2023-08-28T19:23:10.190040",
          "exception": false,
          "start_time": "2023-08-28T19:23:10.069752",
          "status": "completed"
        },
        "tags": [],
        "id": "3d6706ce",
        "outputId": "0c1a7225-4864-4a4d-fb95-744fe466bfde"
      },
      "outputs": [
        {
          "data": {
            "text/plain": [
              "reviewText      0\n",
              "reviewerName    0\n",
              "dtype: int64"
            ]
          },
          "execution_count": 100,
          "metadata": {},
          "output_type": "execute_result"
        }
      ],
      "source": [
        "x.isnull().sum()"
      ]
    },
    {
      "cell_type": "code",
      "execution_count": null,
      "id": "9aaec4fb",
      "metadata": {
        "execution": {
          "iopub.execute_input": "2023-08-28T19:23:10.306279Z",
          "iopub.status.busy": "2023-08-28T19:23:10.305090Z",
          "iopub.status.idle": "2023-08-28T19:23:10.337253Z",
          "shell.execute_reply": "2023-08-28T19:23:10.336155Z"
        },
        "papermill": {
          "duration": 0.09336,
          "end_time": "2023-08-28T19:23:10.339608",
          "exception": false,
          "start_time": "2023-08-28T19:23:10.246248",
          "status": "completed"
        },
        "tags": [],
        "id": "9aaec4fb"
      },
      "outputs": [],
      "source": [
        "from sklearn.model_selection import train_test_split\n",
        "x_train,x_test,y_train,y_test=train_test_split(x,y ,test_size=0.13, random_state=42)"
      ]
    },
    {
      "cell_type": "code",
      "execution_count": null,
      "id": "9320e5e8",
      "metadata": {
        "execution": {
          "iopub.execute_input": "2023-08-28T19:23:10.455166Z",
          "iopub.status.busy": "2023-08-28T19:23:10.454704Z",
          "iopub.status.idle": "2023-08-28T19:23:10.460524Z",
          "shell.execute_reply": "2023-08-28T19:23:10.459852Z"
        },
        "papermill": {
          "duration": 0.066159,
          "end_time": "2023-08-28T19:23:10.462464",
          "exception": false,
          "start_time": "2023-08-28T19:23:10.396305",
          "status": "completed"
        },
        "tags": [],
        "id": "9320e5e8",
        "outputId": "15d9bf01-8614-41f4-cba2-3305b48ee093"
      },
      "outputs": [
        {
          "data": {
            "text/plain": [
              "((141599, 2), (141599,))"
            ]
          },
          "execution_count": 102,
          "metadata": {},
          "output_type": "execute_result"
        }
      ],
      "source": [
        "x_train.shape, y_train.shape"
      ]
    },
    {
      "cell_type": "code",
      "execution_count": null,
      "id": "5cb8c36e",
      "metadata": {
        "execution": {
          "iopub.execute_input": "2023-08-28T19:23:10.577218Z",
          "iopub.status.busy": "2023-08-28T19:23:10.576212Z",
          "iopub.status.idle": "2023-08-28T19:23:10.582148Z",
          "shell.execute_reply": "2023-08-28T19:23:10.581465Z"
        },
        "papermill": {
          "duration": 0.065059,
          "end_time": "2023-08-28T19:23:10.583965",
          "exception": false,
          "start_time": "2023-08-28T19:23:10.518906",
          "status": "completed"
        },
        "tags": [],
        "id": "5cb8c36e",
        "outputId": "0aca43dd-8dc6-4351-cf38-12cb3b4270e0"
      },
      "outputs": [
        {
          "data": {
            "text/plain": [
              "((21159, 2), (21159,))"
            ]
          },
          "execution_count": 103,
          "metadata": {},
          "output_type": "execute_result"
        }
      ],
      "source": [
        "x_test.shape, y_test.shape"
      ]
    },
    {
      "cell_type": "markdown",
      "id": "3e732d72",
      "metadata": {
        "papermill": {
          "duration": 0.05588,
          "end_time": "2023-08-28T19:23:10.696439",
          "exception": false,
          "start_time": "2023-08-28T19:23:10.640559",
          "status": "completed"
        },
        "tags": [],
        "id": "3e732d72"
      },
      "source": [
        "*We use countVectorizer for vectorizing the text data to make it usable for ML models. We have further optimized it's parameter to enhance the model performance. We also tried using TfidifVectorizer, but that did not have a good effect on performance.*"
      ]
    },
    {
      "cell_type": "code",
      "execution_count": null,
      "id": "36221033",
      "metadata": {
        "execution": {
          "iopub.execute_input": "2023-08-28T19:23:10.812318Z",
          "iopub.status.busy": "2023-08-28T19:23:10.811618Z",
          "iopub.status.idle": "2023-08-28T19:23:10.816074Z",
          "shell.execute_reply": "2023-08-28T19:23:10.815356Z"
        },
        "papermill": {
          "duration": 0.064123,
          "end_time": "2023-08-28T19:23:10.817879",
          "exception": false,
          "start_time": "2023-08-28T19:23:10.753756",
          "status": "completed"
        },
        "tags": [],
        "id": "36221033"
      },
      "outputs": [],
      "source": [
        "from sklearn.feature_extraction.text import CountVectorizer\n",
        "vect1=CountVectorizer(min_df=1,ngram_range=(1,3))\n",
        "vect2=CountVectorizer(min_df=1,ngram_range=(1,3))"
      ]
    },
    {
      "cell_type": "code",
      "execution_count": null,
      "id": "78bf12a7",
      "metadata": {
        "execution": {
          "iopub.execute_input": "2023-08-28T19:23:10.934246Z",
          "iopub.status.busy": "2023-08-28T19:23:10.933534Z",
          "iopub.status.idle": "2023-08-28T19:23:10.947815Z",
          "shell.execute_reply": "2023-08-28T19:23:10.947082Z"
        },
        "papermill": {
          "duration": 0.073851,
          "end_time": "2023-08-28T19:23:10.949696",
          "exception": false,
          "start_time": "2023-08-28T19:23:10.875845",
          "status": "completed"
        },
        "tags": [],
        "id": "78bf12a7",
        "outputId": "3cc25370-73cb-4b99-aa78-a448e75f2441"
      },
      "outputs": [
        {
          "data": {
            "text/html": [
              "<style>#sk-container-id-2 {color: black;background-color: white;}#sk-container-id-2 pre{padding: 0;}#sk-container-id-2 div.sk-toggleable {background-color: white;}#sk-container-id-2 label.sk-toggleable__label {cursor: pointer;display: block;width: 100%;margin-bottom: 0;padding: 0.3em;box-sizing: border-box;text-align: center;}#sk-container-id-2 label.sk-toggleable__label-arrow:before {content: \"▸\";float: left;margin-right: 0.25em;color: #696969;}#sk-container-id-2 label.sk-toggleable__label-arrow:hover:before {color: black;}#sk-container-id-2 div.sk-estimator:hover label.sk-toggleable__label-arrow:before {color: black;}#sk-container-id-2 div.sk-toggleable__content {max-height: 0;max-width: 0;overflow: hidden;text-align: left;background-color: #f0f8ff;}#sk-container-id-2 div.sk-toggleable__content pre {margin: 0.2em;color: black;border-radius: 0.25em;background-color: #f0f8ff;}#sk-container-id-2 input.sk-toggleable__control:checked~div.sk-toggleable__content {max-height: 200px;max-width: 100%;overflow: auto;}#sk-container-id-2 input.sk-toggleable__control:checked~label.sk-toggleable__label-arrow:before {content: \"▾\";}#sk-container-id-2 div.sk-estimator input.sk-toggleable__control:checked~label.sk-toggleable__label {background-color: #d4ebff;}#sk-container-id-2 div.sk-label input.sk-toggleable__control:checked~label.sk-toggleable__label {background-color: #d4ebff;}#sk-container-id-2 input.sk-hidden--visually {border: 0;clip: rect(1px 1px 1px 1px);clip: rect(1px, 1px, 1px, 1px);height: 1px;margin: -1px;overflow: hidden;padding: 0;position: absolute;width: 1px;}#sk-container-id-2 div.sk-estimator {font-family: monospace;background-color: #f0f8ff;border: 1px dotted black;border-radius: 0.25em;box-sizing: border-box;margin-bottom: 0.5em;}#sk-container-id-2 div.sk-estimator:hover {background-color: #d4ebff;}#sk-container-id-2 div.sk-parallel-item::after {content: \"\";width: 100%;border-bottom: 1px solid gray;flex-grow: 1;}#sk-container-id-2 div.sk-label:hover label.sk-toggleable__label {background-color: #d4ebff;}#sk-container-id-2 div.sk-serial::before {content: \"\";position: absolute;border-left: 1px solid gray;box-sizing: border-box;top: 0;bottom: 0;left: 50%;z-index: 0;}#sk-container-id-2 div.sk-serial {display: flex;flex-direction: column;align-items: center;background-color: white;padding-right: 0.2em;padding-left: 0.2em;position: relative;}#sk-container-id-2 div.sk-item {position: relative;z-index: 1;}#sk-container-id-2 div.sk-parallel {display: flex;align-items: stretch;justify-content: center;background-color: white;position: relative;}#sk-container-id-2 div.sk-item::before, #sk-container-id-2 div.sk-parallel-item::before {content: \"\";position: absolute;border-left: 1px solid gray;box-sizing: border-box;top: 0;bottom: 0;left: 50%;z-index: -1;}#sk-container-id-2 div.sk-parallel-item {display: flex;flex-direction: column;z-index: 1;position: relative;background-color: white;}#sk-container-id-2 div.sk-parallel-item:first-child::after {align-self: flex-end;width: 50%;}#sk-container-id-2 div.sk-parallel-item:last-child::after {align-self: flex-start;width: 50%;}#sk-container-id-2 div.sk-parallel-item:only-child::after {width: 0;}#sk-container-id-2 div.sk-dashed-wrapped {border: 1px dashed gray;margin: 0 0.4em 0.5em 0.4em;box-sizing: border-box;padding-bottom: 0.4em;background-color: white;}#sk-container-id-2 div.sk-label label {font-family: monospace;font-weight: bold;display: inline-block;line-height: 1.2em;}#sk-container-id-2 div.sk-label-container {text-align: center;}#sk-container-id-2 div.sk-container {/* jupyter's `normalize.less` sets `[hidden] { display: none; }` but bootstrap.min.css set `[hidden] { display: none !important; }` so we also need the `!important` here to be able to override the default hidden behavior on the sphinx rendered scikit-learn.org. See: https://github.com/scikit-learn/scikit-learn/issues/21755 */display: inline-block !important;position: relative;}#sk-container-id-2 div.sk-text-repr-fallback {display: none;}</style><div id=\"sk-container-id-2\" class=\"sk-top-container\"><div class=\"sk-text-repr-fallback\"><pre>ColumnTransformer(remainder=&#x27;passthrough&#x27;,\n",
              "                  transformers=[(&#x27;countvectorizer-1&#x27;,\n",
              "                                 CountVectorizer(ngram_range=(1, 3)),\n",
              "                                 &#x27;reviewText&#x27;),\n",
              "                                (&#x27;countvectorizer-2&#x27;,\n",
              "                                 CountVectorizer(ngram_range=(1, 3)),\n",
              "                                 &#x27;reviewerName&#x27;)])</pre><b>In a Jupyter environment, please rerun this cell to show the HTML representation or trust the notebook. <br />On GitHub, the HTML representation is unable to render, please try loading this page with nbviewer.org.</b></div><div class=\"sk-container\" hidden><div class=\"sk-item sk-dashed-wrapped\"><div class=\"sk-label-container\"><div class=\"sk-label sk-toggleable\"><input class=\"sk-toggleable__control sk-hidden--visually\" id=\"sk-estimator-id-9\" type=\"checkbox\" ><label for=\"sk-estimator-id-9\" class=\"sk-toggleable__label sk-toggleable__label-arrow\">ColumnTransformer</label><div class=\"sk-toggleable__content\"><pre>ColumnTransformer(remainder=&#x27;passthrough&#x27;,\n",
              "                  transformers=[(&#x27;countvectorizer-1&#x27;,\n",
              "                                 CountVectorizer(ngram_range=(1, 3)),\n",
              "                                 &#x27;reviewText&#x27;),\n",
              "                                (&#x27;countvectorizer-2&#x27;,\n",
              "                                 CountVectorizer(ngram_range=(1, 3)),\n",
              "                                 &#x27;reviewerName&#x27;)])</pre></div></div></div><div class=\"sk-parallel\"><div class=\"sk-parallel-item\"><div class=\"sk-item\"><div class=\"sk-label-container\"><div class=\"sk-label sk-toggleable\"><input class=\"sk-toggleable__control sk-hidden--visually\" id=\"sk-estimator-id-10\" type=\"checkbox\" ><label for=\"sk-estimator-id-10\" class=\"sk-toggleable__label sk-toggleable__label-arrow\">countvectorizer-1</label><div class=\"sk-toggleable__content\"><pre>reviewText</pre></div></div></div><div class=\"sk-serial\"><div class=\"sk-item\"><div class=\"sk-estimator sk-toggleable\"><input class=\"sk-toggleable__control sk-hidden--visually\" id=\"sk-estimator-id-11\" type=\"checkbox\" ><label for=\"sk-estimator-id-11\" class=\"sk-toggleable__label sk-toggleable__label-arrow\">CountVectorizer</label><div class=\"sk-toggleable__content\"><pre>CountVectorizer(ngram_range=(1, 3))</pre></div></div></div></div></div></div><div class=\"sk-parallel-item\"><div class=\"sk-item\"><div class=\"sk-label-container\"><div class=\"sk-label sk-toggleable\"><input class=\"sk-toggleable__control sk-hidden--visually\" id=\"sk-estimator-id-12\" type=\"checkbox\" ><label for=\"sk-estimator-id-12\" class=\"sk-toggleable__label sk-toggleable__label-arrow\">countvectorizer-2</label><div class=\"sk-toggleable__content\"><pre>reviewerName</pre></div></div></div><div class=\"sk-serial\"><div class=\"sk-item\"><div class=\"sk-estimator sk-toggleable\"><input class=\"sk-toggleable__control sk-hidden--visually\" id=\"sk-estimator-id-13\" type=\"checkbox\" ><label for=\"sk-estimator-id-13\" class=\"sk-toggleable__label sk-toggleable__label-arrow\">CountVectorizer</label><div class=\"sk-toggleable__content\"><pre>CountVectorizer(ngram_range=(1, 3))</pre></div></div></div></div></div></div><div class=\"sk-parallel-item\"><div class=\"sk-item\"><div class=\"sk-label-container\"><div class=\"sk-label sk-toggleable\"><input class=\"sk-toggleable__control sk-hidden--visually\" id=\"sk-estimator-id-14\" type=\"checkbox\" ><label for=\"sk-estimator-id-14\" class=\"sk-toggleable__label sk-toggleable__label-arrow\">remainder</label><div class=\"sk-toggleable__content\"><pre></pre></div></div></div><div class=\"sk-serial\"><div class=\"sk-item\"><div class=\"sk-estimator sk-toggleable\"><input class=\"sk-toggleable__control sk-hidden--visually\" id=\"sk-estimator-id-15\" type=\"checkbox\" ><label for=\"sk-estimator-id-15\" class=\"sk-toggleable__label sk-toggleable__label-arrow\">passthrough</label><div class=\"sk-toggleable__content\"><pre>passthrough</pre></div></div></div></div></div></div></div></div></div></div>"
            ],
            "text/plain": [
              "ColumnTransformer(remainder='passthrough',\n",
              "                  transformers=[('countvectorizer-1',\n",
              "                                 CountVectorizer(ngram_range=(1, 3)),\n",
              "                                 'reviewText'),\n",
              "                                ('countvectorizer-2',\n",
              "                                 CountVectorizer(ngram_range=(1, 3)),\n",
              "                                 'reviewerName')])"
            ]
          },
          "execution_count": 105,
          "metadata": {},
          "output_type": "execute_result"
        }
      ],
      "source": [
        "from sklearn.compose import make_column_transformer\n",
        "ct2=make_column_transformer((vect1,'reviewText'),\n",
        "                           ( vect2,'reviewerName'),\n",
        "    remainder='passthrough')\n",
        "ct2"
      ]
    },
    {
      "cell_type": "code",
      "execution_count": null,
      "id": "bb52e360",
      "metadata": {
        "execution": {
          "iopub.execute_input": "2023-08-28T19:23:11.126858Z",
          "iopub.status.busy": "2023-08-28T19:23:11.126176Z",
          "iopub.status.idle": "2023-08-28T19:23:38.456731Z",
          "shell.execute_reply": "2023-08-28T19:23:38.455379Z"
        },
        "papermill": {
          "duration": 27.391814,
          "end_time": "2023-08-28T19:23:38.459719",
          "exception": false,
          "start_time": "2023-08-28T19:23:11.067905",
          "status": "completed"
        },
        "tags": [],
        "id": "bb52e360"
      },
      "outputs": [],
      "source": [
        "x_train_t=ct2.fit_transform(x_train)\n",
        "x_test_t=ct2.transform(x_test)"
      ]
    },
    {
      "cell_type": "code",
      "execution_count": null,
      "id": "0bcf3004",
      "metadata": {
        "execution": {
          "iopub.execute_input": "2023-08-28T19:23:38.576946Z",
          "iopub.status.busy": "2023-08-28T19:23:38.576570Z",
          "iopub.status.idle": "2023-08-28T19:23:38.581981Z",
          "shell.execute_reply": "2023-08-28T19:23:38.581234Z"
        },
        "papermill": {
          "duration": 0.065925,
          "end_time": "2023-08-28T19:23:38.583765",
          "exception": false,
          "start_time": "2023-08-28T19:23:38.517840",
          "status": "completed"
        },
        "tags": [],
        "id": "0bcf3004",
        "outputId": "6e45849f-47f5-4e2c-c33f-9fa565c1497c"
      },
      "outputs": [
        {
          "data": {
            "text/plain": [
              "((141599, 2945522), (21159, 2945522))"
            ]
          },
          "execution_count": 107,
          "metadata": {},
          "output_type": "execute_result"
        }
      ],
      "source": [
        "x_train_t.shape,x_test_t.shape"
      ]
    },
    {
      "cell_type": "markdown",
      "id": "b63e7e70",
      "metadata": {
        "papermill": {
          "duration": 0.05749,
          "end_time": "2023-08-28T19:23:38.699323",
          "exception": false,
          "start_time": "2023-08-28T19:23:38.641833",
          "status": "completed"
        },
        "tags": [],
        "id": "b63e7e70"
      },
      "source": [
        "# *Model-1--Linear.svm.SVC*"
      ]
    },
    {
      "cell_type": "code",
      "execution_count": null,
      "id": "d72a632d",
      "metadata": {
        "execution": {
          "iopub.execute_input": "2023-08-28T19:23:38.815690Z",
          "iopub.status.busy": "2023-08-28T19:23:38.814939Z",
          "iopub.status.idle": "2023-08-28T19:23:38.819278Z",
          "shell.execute_reply": "2023-08-28T19:23:38.818512Z"
        },
        "papermill": {
          "duration": 0.064606,
          "end_time": "2023-08-28T19:23:38.821165",
          "exception": false,
          "start_time": "2023-08-28T19:23:38.756559",
          "status": "completed"
        },
        "tags": [],
        "id": "d72a632d"
      },
      "outputs": [],
      "source": [
        "from sklearn.svm import LinearSVC\n",
        "lsvc= LinearSVC(C=0.02 , max_iter=1500)"
      ]
    },
    {
      "cell_type": "code",
      "execution_count": null,
      "id": "c849e031",
      "metadata": {
        "execution": {
          "iopub.execute_input": "2023-08-28T19:23:38.939994Z",
          "iopub.status.busy": "2023-08-28T19:23:38.939032Z",
          "iopub.status.idle": "2023-08-28T19:23:45.610144Z",
          "shell.execute_reply": "2023-08-28T19:23:45.608854Z"
        },
        "papermill": {
          "duration": 6.732639,
          "end_time": "2023-08-28T19:23:45.612586",
          "exception": false,
          "start_time": "2023-08-28T19:23:38.879947",
          "status": "completed"
        },
        "tags": [],
        "id": "c849e031",
        "outputId": "8794ec87-678c-43de-c13c-fe7589603de1"
      },
      "outputs": [
        {
          "data": {
            "text/html": [
              "<style>#sk-container-id-3 {color: black;background-color: white;}#sk-container-id-3 pre{padding: 0;}#sk-container-id-3 div.sk-toggleable {background-color: white;}#sk-container-id-3 label.sk-toggleable__label {cursor: pointer;display: block;width: 100%;margin-bottom: 0;padding: 0.3em;box-sizing: border-box;text-align: center;}#sk-container-id-3 label.sk-toggleable__label-arrow:before {content: \"▸\";float: left;margin-right: 0.25em;color: #696969;}#sk-container-id-3 label.sk-toggleable__label-arrow:hover:before {color: black;}#sk-container-id-3 div.sk-estimator:hover label.sk-toggleable__label-arrow:before {color: black;}#sk-container-id-3 div.sk-toggleable__content {max-height: 0;max-width: 0;overflow: hidden;text-align: left;background-color: #f0f8ff;}#sk-container-id-3 div.sk-toggleable__content pre {margin: 0.2em;color: black;border-radius: 0.25em;background-color: #f0f8ff;}#sk-container-id-3 input.sk-toggleable__control:checked~div.sk-toggleable__content {max-height: 200px;max-width: 100%;overflow: auto;}#sk-container-id-3 input.sk-toggleable__control:checked~label.sk-toggleable__label-arrow:before {content: \"▾\";}#sk-container-id-3 div.sk-estimator input.sk-toggleable__control:checked~label.sk-toggleable__label {background-color: #d4ebff;}#sk-container-id-3 div.sk-label input.sk-toggleable__control:checked~label.sk-toggleable__label {background-color: #d4ebff;}#sk-container-id-3 input.sk-hidden--visually {border: 0;clip: rect(1px 1px 1px 1px);clip: rect(1px, 1px, 1px, 1px);height: 1px;margin: -1px;overflow: hidden;padding: 0;position: absolute;width: 1px;}#sk-container-id-3 div.sk-estimator {font-family: monospace;background-color: #f0f8ff;border: 1px dotted black;border-radius: 0.25em;box-sizing: border-box;margin-bottom: 0.5em;}#sk-container-id-3 div.sk-estimator:hover {background-color: #d4ebff;}#sk-container-id-3 div.sk-parallel-item::after {content: \"\";width: 100%;border-bottom: 1px solid gray;flex-grow: 1;}#sk-container-id-3 div.sk-label:hover label.sk-toggleable__label {background-color: #d4ebff;}#sk-container-id-3 div.sk-serial::before {content: \"\";position: absolute;border-left: 1px solid gray;box-sizing: border-box;top: 0;bottom: 0;left: 50%;z-index: 0;}#sk-container-id-3 div.sk-serial {display: flex;flex-direction: column;align-items: center;background-color: white;padding-right: 0.2em;padding-left: 0.2em;position: relative;}#sk-container-id-3 div.sk-item {position: relative;z-index: 1;}#sk-container-id-3 div.sk-parallel {display: flex;align-items: stretch;justify-content: center;background-color: white;position: relative;}#sk-container-id-3 div.sk-item::before, #sk-container-id-3 div.sk-parallel-item::before {content: \"\";position: absolute;border-left: 1px solid gray;box-sizing: border-box;top: 0;bottom: 0;left: 50%;z-index: -1;}#sk-container-id-3 div.sk-parallel-item {display: flex;flex-direction: column;z-index: 1;position: relative;background-color: white;}#sk-container-id-3 div.sk-parallel-item:first-child::after {align-self: flex-end;width: 50%;}#sk-container-id-3 div.sk-parallel-item:last-child::after {align-self: flex-start;width: 50%;}#sk-container-id-3 div.sk-parallel-item:only-child::after {width: 0;}#sk-container-id-3 div.sk-dashed-wrapped {border: 1px dashed gray;margin: 0 0.4em 0.5em 0.4em;box-sizing: border-box;padding-bottom: 0.4em;background-color: white;}#sk-container-id-3 div.sk-label label {font-family: monospace;font-weight: bold;display: inline-block;line-height: 1.2em;}#sk-container-id-3 div.sk-label-container {text-align: center;}#sk-container-id-3 div.sk-container {/* jupyter's `normalize.less` sets `[hidden] { display: none; }` but bootstrap.min.css set `[hidden] { display: none !important; }` so we also need the `!important` here to be able to override the default hidden behavior on the sphinx rendered scikit-learn.org. See: https://github.com/scikit-learn/scikit-learn/issues/21755 */display: inline-block !important;position: relative;}#sk-container-id-3 div.sk-text-repr-fallback {display: none;}</style><div id=\"sk-container-id-3\" class=\"sk-top-container\"><div class=\"sk-text-repr-fallback\"><pre>LinearSVC(C=0.02, max_iter=1500)</pre><b>In a Jupyter environment, please rerun this cell to show the HTML representation or trust the notebook. <br />On GitHub, the HTML representation is unable to render, please try loading this page with nbviewer.org.</b></div><div class=\"sk-container\" hidden><div class=\"sk-item\"><div class=\"sk-estimator sk-toggleable\"><input class=\"sk-toggleable__control sk-hidden--visually\" id=\"sk-estimator-id-16\" type=\"checkbox\" checked><label for=\"sk-estimator-id-16\" class=\"sk-toggleable__label sk-toggleable__label-arrow\">LinearSVC</label><div class=\"sk-toggleable__content\"><pre>LinearSVC(C=0.02, max_iter=1500)</pre></div></div></div></div></div>"
            ],
            "text/plain": [
              "LinearSVC(C=0.02, max_iter=1500)"
            ]
          },
          "execution_count": 109,
          "metadata": {},
          "output_type": "execute_result"
        }
      ],
      "source": [
        "lsvc.fit(x_train_t,y_train)"
      ]
    },
    {
      "cell_type": "code",
      "execution_count": null,
      "id": "f5cac5e0",
      "metadata": {
        "execution": {
          "iopub.execute_input": "2023-08-28T19:23:45.730881Z",
          "iopub.status.busy": "2023-08-28T19:23:45.730285Z",
          "iopub.status.idle": "2023-08-28T19:23:45.840931Z",
          "shell.execute_reply": "2023-08-28T19:23:45.839750Z"
        },
        "papermill": {
          "duration": 0.172768,
          "end_time": "2023-08-28T19:23:45.843264",
          "exception": false,
          "start_time": "2023-08-28T19:23:45.670496",
          "status": "completed"
        },
        "tags": [],
        "id": "f5cac5e0",
        "outputId": "2f2cd701-7063-4a77-f97d-558053e5acce"
      },
      "outputs": [
        {
          "data": {
            "text/plain": [
              "(0.9807625760068927, 0.8213526159081243)"
            ]
          },
          "execution_count": 110,
          "metadata": {},
          "output_type": "execute_result"
        }
      ],
      "source": [
        "lsvc.score(x_train_t,y_train), lsvc.score(x_test_t,y_test)"
      ]
    },
    {
      "cell_type": "code",
      "execution_count": null,
      "id": "110472dd",
      "metadata": {
        "execution": {
          "iopub.execute_input": "2023-08-28T19:23:45.960615Z",
          "iopub.status.busy": "2023-08-28T19:23:45.960005Z",
          "iopub.status.idle": "2023-08-28T19:23:46.013701Z",
          "shell.execute_reply": "2023-08-28T19:23:46.012545Z"
        },
        "papermill": {
          "duration": 0.114686,
          "end_time": "2023-08-28T19:23:46.015932",
          "exception": false,
          "start_time": "2023-08-28T19:23:45.901246",
          "status": "completed"
        },
        "tags": [],
        "id": "110472dd",
        "outputId": "1627a981-77d0-491b-cf19-5750207731b9"
      },
      "outputs": [
        {
          "name": "stdout",
          "output_type": "stream",
          "text": [
            "              precision    recall  f1-score   support\n",
            "\n",
            "           0       0.78      0.64      0.70      6992\n",
            "           1       0.84      0.91      0.87     14167\n",
            "\n",
            "    accuracy                           0.82     21159\n",
            "   macro avg       0.81      0.78      0.79     21159\n",
            "weighted avg       0.82      0.82      0.82     21159\n",
            "\n"
          ]
        }
      ],
      "source": [
        "y_pred_lsvc=lsvc.predict(x_test_t)\n",
        "from sklearn.metrics import classification_report\n",
        "print(classification_report(y_test,y_pred_lsvc, labels=[0,1]))"
      ]
    },
    {
      "cell_type": "markdown",
      "id": "0bb97c2e",
      "metadata": {
        "papermill": {
          "duration": 0.057069,
          "end_time": "2023-08-28T19:23:46.130175",
          "exception": false,
          "start_time": "2023-08-28T19:23:46.073106",
          "status": "completed"
        },
        "tags": [],
        "id": "0bb97c2e"
      },
      "source": [
        "***Insights***         \n",
        "*We see all--precision,recall, f1_score and accuracy-- are better for 1(positive) than for 0(negitive).This could be because the dataset is imbalanced in favour of positive sentiment as we have seen above. Moreover, we see that there is almost a 0.15 difference in score for train and test data. This could be because despite the use ands optimization of regularization parameter, the model is overfitting on train_data.*       \n",
        "*Apart from this we also tried both penalties and found 'l2' to be better suited. Also the default loss function gives a better result.*"
      ]
    },
    {
      "cell_type": "markdown",
      "id": "6d4e9c50",
      "metadata": {
        "papermill": {
          "duration": 0.057985,
          "end_time": "2023-08-28T19:23:46.245726",
          "exception": false,
          "start_time": "2023-08-28T19:23:46.187741",
          "status": "completed"
        },
        "tags": [],
        "id": "6d4e9c50"
      },
      "source": [
        "***Hyperparameter tuning for LinearSvm*****"
      ]
    },
    {
      "cell_type": "code",
      "execution_count": null,
      "id": "308d1f04",
      "metadata": {
        "execution": {
          "iopub.execute_input": "2023-08-28T19:23:46.365651Z",
          "iopub.status.busy": "2023-08-28T19:23:46.364987Z",
          "iopub.status.idle": "2023-08-28T19:23:46.369775Z",
          "shell.execute_reply": "2023-08-28T19:23:46.369014Z"
        },
        "papermill": {
          "duration": 0.068489,
          "end_time": "2023-08-28T19:23:46.371766",
          "exception": false,
          "start_time": "2023-08-28T19:23:46.303277",
          "status": "completed"
        },
        "tags": [],
        "id": "308d1f04"
      },
      "outputs": [],
      "source": [
        "from sklearn.model_selection import GridSearchCV"
      ]
    },
    {
      "cell_type": "code",
      "execution_count": null,
      "id": "b3c0f775",
      "metadata": {
        "execution": {
          "iopub.execute_input": "2023-08-28T19:23:46.491004Z",
          "iopub.status.busy": "2023-08-28T19:23:46.490613Z",
          "iopub.status.idle": "2023-08-28T19:23:46.495203Z",
          "shell.execute_reply": "2023-08-28T19:23:46.494071Z"
        },
        "papermill": {
          "duration": 0.065337,
          "end_time": "2023-08-28T19:23:46.497187",
          "exception": false,
          "start_time": "2023-08-28T19:23:46.431850",
          "status": "completed"
        },
        "tags": [],
        "id": "b3c0f775"
      },
      "outputs": [],
      "source": [
        "param_grid={'C':[0.01,0.1, 1],'tol':[0.005, 0.001, 0.0001]\n",
        "            }"
      ]
    },
    {
      "cell_type": "code",
      "execution_count": null,
      "id": "3b464722",
      "metadata": {
        "execution": {
          "iopub.execute_input": "2023-08-28T19:23:46.613809Z",
          "iopub.status.busy": "2023-08-28T19:23:46.612716Z",
          "iopub.status.idle": "2023-08-28T19:23:46.618186Z",
          "shell.execute_reply": "2023-08-28T19:23:46.617069Z"
        },
        "papermill": {
          "duration": 0.066201,
          "end_time": "2023-08-28T19:23:46.620336",
          "exception": false,
          "start_time": "2023-08-28T19:23:46.554135",
          "status": "completed"
        },
        "tags": [],
        "id": "3b464722"
      },
      "outputs": [],
      "source": [
        "gscv_svm= GridSearchCV(estimator=LinearSVC(max_iter=3500), param_grid=param_grid,cv=3,\n",
        "                     return_train_score=True, scoring='f1', n_jobs=-1)"
      ]
    },
    {
      "cell_type": "code",
      "execution_count": null,
      "id": "96a2f233",
      "metadata": {
        "execution": {
          "iopub.execute_input": "2023-08-28T19:23:46.737191Z",
          "iopub.status.busy": "2023-08-28T19:23:46.736777Z",
          "iopub.status.idle": "2023-08-28T19:27:29.469500Z",
          "shell.execute_reply": "2023-08-28T19:27:29.468129Z"
        },
        "papermill": {
          "duration": 222.852541,
          "end_time": "2023-08-28T19:27:29.530455",
          "exception": false,
          "start_time": "2023-08-28T19:23:46.677914",
          "status": "completed"
        },
        "tags": [],
        "id": "96a2f233",
        "outputId": "4ebae8c5-368f-4455-c787-ddd4579d79c3"
      },
      "outputs": [
        {
          "data": {
            "text/html": [
              "<style>#sk-container-id-4 {color: black;background-color: white;}#sk-container-id-4 pre{padding: 0;}#sk-container-id-4 div.sk-toggleable {background-color: white;}#sk-container-id-4 label.sk-toggleable__label {cursor: pointer;display: block;width: 100%;margin-bottom: 0;padding: 0.3em;box-sizing: border-box;text-align: center;}#sk-container-id-4 label.sk-toggleable__label-arrow:before {content: \"▸\";float: left;margin-right: 0.25em;color: #696969;}#sk-container-id-4 label.sk-toggleable__label-arrow:hover:before {color: black;}#sk-container-id-4 div.sk-estimator:hover label.sk-toggleable__label-arrow:before {color: black;}#sk-container-id-4 div.sk-toggleable__content {max-height: 0;max-width: 0;overflow: hidden;text-align: left;background-color: #f0f8ff;}#sk-container-id-4 div.sk-toggleable__content pre {margin: 0.2em;color: black;border-radius: 0.25em;background-color: #f0f8ff;}#sk-container-id-4 input.sk-toggleable__control:checked~div.sk-toggleable__content {max-height: 200px;max-width: 100%;overflow: auto;}#sk-container-id-4 input.sk-toggleable__control:checked~label.sk-toggleable__label-arrow:before {content: \"▾\";}#sk-container-id-4 div.sk-estimator input.sk-toggleable__control:checked~label.sk-toggleable__label {background-color: #d4ebff;}#sk-container-id-4 div.sk-label input.sk-toggleable__control:checked~label.sk-toggleable__label {background-color: #d4ebff;}#sk-container-id-4 input.sk-hidden--visually {border: 0;clip: rect(1px 1px 1px 1px);clip: rect(1px, 1px, 1px, 1px);height: 1px;margin: -1px;overflow: hidden;padding: 0;position: absolute;width: 1px;}#sk-container-id-4 div.sk-estimator {font-family: monospace;background-color: #f0f8ff;border: 1px dotted black;border-radius: 0.25em;box-sizing: border-box;margin-bottom: 0.5em;}#sk-container-id-4 div.sk-estimator:hover {background-color: #d4ebff;}#sk-container-id-4 div.sk-parallel-item::after {content: \"\";width: 100%;border-bottom: 1px solid gray;flex-grow: 1;}#sk-container-id-4 div.sk-label:hover label.sk-toggleable__label {background-color: #d4ebff;}#sk-container-id-4 div.sk-serial::before {content: \"\";position: absolute;border-left: 1px solid gray;box-sizing: border-box;top: 0;bottom: 0;left: 50%;z-index: 0;}#sk-container-id-4 div.sk-serial {display: flex;flex-direction: column;align-items: center;background-color: white;padding-right: 0.2em;padding-left: 0.2em;position: relative;}#sk-container-id-4 div.sk-item {position: relative;z-index: 1;}#sk-container-id-4 div.sk-parallel {display: flex;align-items: stretch;justify-content: center;background-color: white;position: relative;}#sk-container-id-4 div.sk-item::before, #sk-container-id-4 div.sk-parallel-item::before {content: \"\";position: absolute;border-left: 1px solid gray;box-sizing: border-box;top: 0;bottom: 0;left: 50%;z-index: -1;}#sk-container-id-4 div.sk-parallel-item {display: flex;flex-direction: column;z-index: 1;position: relative;background-color: white;}#sk-container-id-4 div.sk-parallel-item:first-child::after {align-self: flex-end;width: 50%;}#sk-container-id-4 div.sk-parallel-item:last-child::after {align-self: flex-start;width: 50%;}#sk-container-id-4 div.sk-parallel-item:only-child::after {width: 0;}#sk-container-id-4 div.sk-dashed-wrapped {border: 1px dashed gray;margin: 0 0.4em 0.5em 0.4em;box-sizing: border-box;padding-bottom: 0.4em;background-color: white;}#sk-container-id-4 div.sk-label label {font-family: monospace;font-weight: bold;display: inline-block;line-height: 1.2em;}#sk-container-id-4 div.sk-label-container {text-align: center;}#sk-container-id-4 div.sk-container {/* jupyter's `normalize.less` sets `[hidden] { display: none; }` but bootstrap.min.css set `[hidden] { display: none !important; }` so we also need the `!important` here to be able to override the default hidden behavior on the sphinx rendered scikit-learn.org. See: https://github.com/scikit-learn/scikit-learn/issues/21755 */display: inline-block !important;position: relative;}#sk-container-id-4 div.sk-text-repr-fallback {display: none;}</style><div id=\"sk-container-id-4\" class=\"sk-top-container\"><div class=\"sk-text-repr-fallback\"><pre>GridSearchCV(cv=3, estimator=LinearSVC(max_iter=3500), n_jobs=-1,\n",
              "             param_grid={&#x27;C&#x27;: [0.01, 0.1, 1], &#x27;tol&#x27;: [0.005, 0.001, 0.0001]},\n",
              "             return_train_score=True, scoring=&#x27;f1&#x27;)</pre><b>In a Jupyter environment, please rerun this cell to show the HTML representation or trust the notebook. <br />On GitHub, the HTML representation is unable to render, please try loading this page with nbviewer.org.</b></div><div class=\"sk-container\" hidden><div class=\"sk-item sk-dashed-wrapped\"><div class=\"sk-label-container\"><div class=\"sk-label sk-toggleable\"><input class=\"sk-toggleable__control sk-hidden--visually\" id=\"sk-estimator-id-17\" type=\"checkbox\" ><label for=\"sk-estimator-id-17\" class=\"sk-toggleable__label sk-toggleable__label-arrow\">GridSearchCV</label><div class=\"sk-toggleable__content\"><pre>GridSearchCV(cv=3, estimator=LinearSVC(max_iter=3500), n_jobs=-1,\n",
              "             param_grid={&#x27;C&#x27;: [0.01, 0.1, 1], &#x27;tol&#x27;: [0.005, 0.001, 0.0001]},\n",
              "             return_train_score=True, scoring=&#x27;f1&#x27;)</pre></div></div></div><div class=\"sk-parallel\"><div class=\"sk-parallel-item\"><div class=\"sk-item\"><div class=\"sk-label-container\"><div class=\"sk-label sk-toggleable\"><input class=\"sk-toggleable__control sk-hidden--visually\" id=\"sk-estimator-id-18\" type=\"checkbox\" ><label for=\"sk-estimator-id-18\" class=\"sk-toggleable__label sk-toggleable__label-arrow\">estimator: LinearSVC</label><div class=\"sk-toggleable__content\"><pre>LinearSVC(max_iter=3500)</pre></div></div></div><div class=\"sk-serial\"><div class=\"sk-item\"><div class=\"sk-estimator sk-toggleable\"><input class=\"sk-toggleable__control sk-hidden--visually\" id=\"sk-estimator-id-19\" type=\"checkbox\" ><label for=\"sk-estimator-id-19\" class=\"sk-toggleable__label sk-toggleable__label-arrow\">LinearSVC</label><div class=\"sk-toggleable__content\"><pre>LinearSVC(max_iter=3500)</pre></div></div></div></div></div></div></div></div></div></div>"
            ],
            "text/plain": [
              "GridSearchCV(cv=3, estimator=LinearSVC(max_iter=3500), n_jobs=-1,\n",
              "             param_grid={'C': [0.01, 0.1, 1], 'tol': [0.005, 0.001, 0.0001]},\n",
              "             return_train_score=True, scoring='f1')"
            ]
          },
          "execution_count": 115,
          "metadata": {},
          "output_type": "execute_result"
        }
      ],
      "source": [
        "gscv_svm.fit(x_train_t,y_train)"
      ]
    },
    {
      "cell_type": "code",
      "execution_count": null,
      "id": "b9f8a9e1",
      "metadata": {
        "execution": {
          "iopub.execute_input": "2023-08-28T19:27:29.649343Z",
          "iopub.status.busy": "2023-08-28T19:27:29.648891Z",
          "iopub.status.idle": "2023-08-28T19:27:29.678348Z",
          "shell.execute_reply": "2023-08-28T19:27:29.677065Z"
        },
        "papermill": {
          "duration": 0.092208,
          "end_time": "2023-08-28T19:27:29.680596",
          "exception": false,
          "start_time": "2023-08-28T19:27:29.588388",
          "status": "completed"
        },
        "tags": [],
        "id": "b9f8a9e1",
        "outputId": "1c927d67-d548-45c9-b9a5-60fd184b45bb"
      },
      "outputs": [
        {
          "data": {
            "text/html": [
              "<div>\n",
              "<style scoped>\n",
              "    .dataframe tbody tr th:only-of-type {\n",
              "        vertical-align: middle;\n",
              "    }\n",
              "\n",
              "    .dataframe tbody tr th {\n",
              "        vertical-align: top;\n",
              "    }\n",
              "\n",
              "    .dataframe thead th {\n",
              "        text-align: right;\n",
              "    }\n",
              "</style>\n",
              "<table border=\"1\" class=\"dataframe\">\n",
              "  <thead>\n",
              "    <tr style=\"text-align: right;\">\n",
              "      <th></th>\n",
              "      <th>mean_fit_time</th>\n",
              "      <th>std_fit_time</th>\n",
              "      <th>mean_score_time</th>\n",
              "      <th>std_score_time</th>\n",
              "      <th>param_C</th>\n",
              "      <th>param_tol</th>\n",
              "      <th>params</th>\n",
              "      <th>split0_test_score</th>\n",
              "      <th>split1_test_score</th>\n",
              "      <th>split2_test_score</th>\n",
              "      <th>mean_test_score</th>\n",
              "      <th>std_test_score</th>\n",
              "      <th>rank_test_score</th>\n",
              "      <th>split0_train_score</th>\n",
              "      <th>split1_train_score</th>\n",
              "      <th>split2_train_score</th>\n",
              "      <th>mean_train_score</th>\n",
              "      <th>std_train_score</th>\n",
              "    </tr>\n",
              "  </thead>\n",
              "  <tbody>\n",
              "    <tr>\n",
              "      <th>0</th>\n",
              "      <td>2.952354</td>\n",
              "      <td>0.175852</td>\n",
              "      <td>0.072624</td>\n",
              "      <td>0.001399</td>\n",
              "      <td>0.01</td>\n",
              "      <td>0.005</td>\n",
              "      <td>{'C': 0.01, 'tol': 0.005}</td>\n",
              "      <td>0.865750</td>\n",
              "      <td>0.868483</td>\n",
              "      <td>0.867310</td>\n",
              "      <td>0.867181</td>\n",
              "      <td>0.001119</td>\n",
              "      <td>1</td>\n",
              "      <td>0.976734</td>\n",
              "      <td>0.977115</td>\n",
              "      <td>0.976794</td>\n",
              "      <td>0.976881</td>\n",
              "      <td>0.000167</td>\n",
              "    </tr>\n",
              "    <tr>\n",
              "      <th>1</th>\n",
              "      <td>3.484214</td>\n",
              "      <td>0.316008</td>\n",
              "      <td>0.068472</td>\n",
              "      <td>0.002368</td>\n",
              "      <td>0.01</td>\n",
              "      <td>0.001</td>\n",
              "      <td>{'C': 0.01, 'tol': 0.001}</td>\n",
              "      <td>0.865750</td>\n",
              "      <td>0.868483</td>\n",
              "      <td>0.867310</td>\n",
              "      <td>0.867181</td>\n",
              "      <td>0.001119</td>\n",
              "      <td>1</td>\n",
              "      <td>0.976734</td>\n",
              "      <td>0.977115</td>\n",
              "      <td>0.976794</td>\n",
              "      <td>0.976881</td>\n",
              "      <td>0.000167</td>\n",
              "    </tr>\n",
              "    <tr>\n",
              "      <th>2</th>\n",
              "      <td>4.190689</td>\n",
              "      <td>0.246930</td>\n",
              "      <td>0.069890</td>\n",
              "      <td>0.005249</td>\n",
              "      <td>0.01</td>\n",
              "      <td>0.0001</td>\n",
              "      <td>{'C': 0.01, 'tol': 0.0001}</td>\n",
              "      <td>0.865750</td>\n",
              "      <td>0.868483</td>\n",
              "      <td>0.867310</td>\n",
              "      <td>0.867181</td>\n",
              "      <td>0.001119</td>\n",
              "      <td>1</td>\n",
              "      <td>0.976734</td>\n",
              "      <td>0.977115</td>\n",
              "      <td>0.976794</td>\n",
              "      <td>0.976881</td>\n",
              "      <td>0.000167</td>\n",
              "    </tr>\n",
              "    <tr>\n",
              "      <th>3</th>\n",
              "      <td>9.100217</td>\n",
              "      <td>0.210589</td>\n",
              "      <td>0.066593</td>\n",
              "      <td>0.000638</td>\n",
              "      <td>0.1</td>\n",
              "      <td>0.005</td>\n",
              "      <td>{'C': 0.1, 'tol': 0.005}</td>\n",
              "      <td>0.864205</td>\n",
              "      <td>0.868124</td>\n",
              "      <td>0.867485</td>\n",
              "      <td>0.866605</td>\n",
              "      <td>0.001717</td>\n",
              "      <td>4</td>\n",
              "      <td>0.989824</td>\n",
              "      <td>0.990572</td>\n",
              "      <td>0.989927</td>\n",
              "      <td>0.990108</td>\n",
              "      <td>0.000331</td>\n",
              "    </tr>\n",
              "    <tr>\n",
              "      <th>4</th>\n",
              "      <td>14.270472</td>\n",
              "      <td>0.187761</td>\n",
              "      <td>0.066563</td>\n",
              "      <td>0.000993</td>\n",
              "      <td>0.1</td>\n",
              "      <td>0.001</td>\n",
              "      <td>{'C': 0.1, 'tol': 0.001}</td>\n",
              "      <td>0.864205</td>\n",
              "      <td>0.868124</td>\n",
              "      <td>0.867485</td>\n",
              "      <td>0.866605</td>\n",
              "      <td>0.001717</td>\n",
              "      <td>4</td>\n",
              "      <td>0.989824</td>\n",
              "      <td>0.990572</td>\n",
              "      <td>0.989927</td>\n",
              "      <td>0.990108</td>\n",
              "      <td>0.000331</td>\n",
              "    </tr>\n",
              "    <tr>\n",
              "      <th>5</th>\n",
              "      <td>19.462941</td>\n",
              "      <td>0.818094</td>\n",
              "      <td>0.067768</td>\n",
              "      <td>0.000938</td>\n",
              "      <td>0.1</td>\n",
              "      <td>0.0001</td>\n",
              "      <td>{'C': 0.1, 'tol': 0.0001}</td>\n",
              "      <td>0.864205</td>\n",
              "      <td>0.868124</td>\n",
              "      <td>0.867485</td>\n",
              "      <td>0.866605</td>\n",
              "      <td>0.001717</td>\n",
              "      <td>4</td>\n",
              "      <td>0.989824</td>\n",
              "      <td>0.990572</td>\n",
              "      <td>0.989927</td>\n",
              "      <td>0.990108</td>\n",
              "      <td>0.000331</td>\n",
              "    </tr>\n",
              "    <tr>\n",
              "      <th>6</th>\n",
              "      <td>31.504329</td>\n",
              "      <td>1.810135</td>\n",
              "      <td>0.093919</td>\n",
              "      <td>0.035666</td>\n",
              "      <td>1</td>\n",
              "      <td>0.005</td>\n",
              "      <td>{'C': 1, 'tol': 0.005}</td>\n",
              "      <td>0.856983</td>\n",
              "      <td>0.860272</td>\n",
              "      <td>0.859617</td>\n",
              "      <td>0.858958</td>\n",
              "      <td>0.001421</td>\n",
              "      <td>9</td>\n",
              "      <td>0.990412</td>\n",
              "      <td>0.990941</td>\n",
              "      <td>0.990430</td>\n",
              "      <td>0.990595</td>\n",
              "      <td>0.000245</td>\n",
              "    </tr>\n",
              "    <tr>\n",
              "      <th>7</th>\n",
              "      <td>66.315684</td>\n",
              "      <td>7.901467</td>\n",
              "      <td>0.068031</td>\n",
              "      <td>0.000191</td>\n",
              "      <td>1</td>\n",
              "      <td>0.001</td>\n",
              "      <td>{'C': 1, 'tol': 0.001}</td>\n",
              "      <td>0.856983</td>\n",
              "      <td>0.860272</td>\n",
              "      <td>0.859630</td>\n",
              "      <td>0.858962</td>\n",
              "      <td>0.001423</td>\n",
              "      <td>7</td>\n",
              "      <td>0.990412</td>\n",
              "      <td>0.990941</td>\n",
              "      <td>0.990430</td>\n",
              "      <td>0.990595</td>\n",
              "      <td>0.000245</td>\n",
              "    </tr>\n",
              "    <tr>\n",
              "      <th>8</th>\n",
              "      <td>95.038420</td>\n",
              "      <td>8.192742</td>\n",
              "      <td>0.045054</td>\n",
              "      <td>0.001175</td>\n",
              "      <td>1</td>\n",
              "      <td>0.0001</td>\n",
              "      <td>{'C': 1, 'tol': 0.0001}</td>\n",
              "      <td>0.856983</td>\n",
              "      <td>0.860272</td>\n",
              "      <td>0.859630</td>\n",
              "      <td>0.858962</td>\n",
              "      <td>0.001423</td>\n",
              "      <td>7</td>\n",
              "      <td>0.990412</td>\n",
              "      <td>0.990941</td>\n",
              "      <td>0.990430</td>\n",
              "      <td>0.990595</td>\n",
              "      <td>0.000245</td>\n",
              "    </tr>\n",
              "  </tbody>\n",
              "</table>\n",
              "</div>"
            ],
            "text/plain": [
              "   mean_fit_time  std_fit_time  mean_score_time  std_score_time param_C  \\\n",
              "0       2.952354      0.175852         0.072624        0.001399    0.01   \n",
              "1       3.484214      0.316008         0.068472        0.002368    0.01   \n",
              "2       4.190689      0.246930         0.069890        0.005249    0.01   \n",
              "3       9.100217      0.210589         0.066593        0.000638     0.1   \n",
              "4      14.270472      0.187761         0.066563        0.000993     0.1   \n",
              "5      19.462941      0.818094         0.067768        0.000938     0.1   \n",
              "6      31.504329      1.810135         0.093919        0.035666       1   \n",
              "7      66.315684      7.901467         0.068031        0.000191       1   \n",
              "8      95.038420      8.192742         0.045054        0.001175       1   \n",
              "\n",
              "  param_tol                      params  split0_test_score  split1_test_score  \\\n",
              "0     0.005   {'C': 0.01, 'tol': 0.005}           0.865750           0.868483   \n",
              "1     0.001   {'C': 0.01, 'tol': 0.001}           0.865750           0.868483   \n",
              "2    0.0001  {'C': 0.01, 'tol': 0.0001}           0.865750           0.868483   \n",
              "3     0.005    {'C': 0.1, 'tol': 0.005}           0.864205           0.868124   \n",
              "4     0.001    {'C': 0.1, 'tol': 0.001}           0.864205           0.868124   \n",
              "5    0.0001   {'C': 0.1, 'tol': 0.0001}           0.864205           0.868124   \n",
              "6     0.005      {'C': 1, 'tol': 0.005}           0.856983           0.860272   \n",
              "7     0.001      {'C': 1, 'tol': 0.001}           0.856983           0.860272   \n",
              "8    0.0001     {'C': 1, 'tol': 0.0001}           0.856983           0.860272   \n",
              "\n",
              "   split2_test_score  mean_test_score  std_test_score  rank_test_score  \\\n",
              "0           0.867310         0.867181        0.001119                1   \n",
              "1           0.867310         0.867181        0.001119                1   \n",
              "2           0.867310         0.867181        0.001119                1   \n",
              "3           0.867485         0.866605        0.001717                4   \n",
              "4           0.867485         0.866605        0.001717                4   \n",
              "5           0.867485         0.866605        0.001717                4   \n",
              "6           0.859617         0.858958        0.001421                9   \n",
              "7           0.859630         0.858962        0.001423                7   \n",
              "8           0.859630         0.858962        0.001423                7   \n",
              "\n",
              "   split0_train_score  split1_train_score  split2_train_score  \\\n",
              "0            0.976734            0.977115            0.976794   \n",
              "1            0.976734            0.977115            0.976794   \n",
              "2            0.976734            0.977115            0.976794   \n",
              "3            0.989824            0.990572            0.989927   \n",
              "4            0.989824            0.990572            0.989927   \n",
              "5            0.989824            0.990572            0.989927   \n",
              "6            0.990412            0.990941            0.990430   \n",
              "7            0.990412            0.990941            0.990430   \n",
              "8            0.990412            0.990941            0.990430   \n",
              "\n",
              "   mean_train_score  std_train_score  \n",
              "0          0.976881         0.000167  \n",
              "1          0.976881         0.000167  \n",
              "2          0.976881         0.000167  \n",
              "3          0.990108         0.000331  \n",
              "4          0.990108         0.000331  \n",
              "5          0.990108         0.000331  \n",
              "6          0.990595         0.000245  \n",
              "7          0.990595         0.000245  \n",
              "8          0.990595         0.000245  "
            ]
          },
          "execution_count": 116,
          "metadata": {},
          "output_type": "execute_result"
        }
      ],
      "source": [
        "results_svm=pd.DataFrame(gscv_svm.cv_results_)\n",
        "results_svm"
      ]
    },
    {
      "cell_type": "code",
      "execution_count": null,
      "id": "b0288ad5",
      "metadata": {
        "execution": {
          "iopub.execute_input": "2023-08-28T19:27:29.799886Z",
          "iopub.status.busy": "2023-08-28T19:27:29.799494Z",
          "iopub.status.idle": "2023-08-28T19:27:29.805525Z",
          "shell.execute_reply": "2023-08-28T19:27:29.804567Z"
        },
        "papermill": {
          "duration": 0.068463,
          "end_time": "2023-08-28T19:27:29.807407",
          "exception": false,
          "start_time": "2023-08-28T19:27:29.738944",
          "status": "completed"
        },
        "tags": [],
        "id": "b0288ad5",
        "outputId": "60973647-76c2-44e2-9536-ebe844c58a99"
      },
      "outputs": [
        {
          "data": {
            "text/plain": [
              "{'C': 0.01, 'tol': 0.005}"
            ]
          },
          "execution_count": 117,
          "metadata": {},
          "output_type": "execute_result"
        }
      ],
      "source": [
        "gscv_svm.best_params_"
      ]
    },
    {
      "cell_type": "code",
      "execution_count": null,
      "id": "a6cfccca",
      "metadata": {
        "execution": {
          "iopub.execute_input": "2023-08-28T19:27:29.929391Z",
          "iopub.status.busy": "2023-08-28T19:27:29.928974Z",
          "iopub.status.idle": "2023-08-28T19:27:30.095815Z",
          "shell.execute_reply": "2023-08-28T19:27:30.094796Z"
        },
        "papermill": {
          "duration": 0.229337,
          "end_time": "2023-08-28T19:27:30.098179",
          "exception": false,
          "start_time": "2023-08-28T19:27:29.868842",
          "status": "completed"
        },
        "tags": [],
        "id": "a6cfccca",
        "outputId": "7d424ff5-e07a-46eb-b4a4-222388b159f6"
      },
      "outputs": [
        {
          "data": {
            "text/plain": [
              "(0.9755651975336835, 0.8721612827479789)"
            ]
          },
          "execution_count": 118,
          "metadata": {},
          "output_type": "execute_result"
        }
      ],
      "source": [
        "gscv_svm.score(x_train_t, y_train),gscv_svm.score(x_test_t, y_test)"
      ]
    },
    {
      "cell_type": "code",
      "execution_count": null,
      "id": "da70e1b9",
      "metadata": {
        "execution": {
          "iopub.execute_input": "2023-08-28T19:27:30.219552Z",
          "iopub.status.busy": "2023-08-28T19:27:30.219132Z",
          "iopub.status.idle": "2023-08-28T19:27:30.230719Z",
          "shell.execute_reply": "2023-08-28T19:27:30.229816Z"
        },
        "papermill": {
          "duration": 0.074204,
          "end_time": "2023-08-28T19:27:30.233013",
          "exception": false,
          "start_time": "2023-08-28T19:27:30.158809",
          "status": "completed"
        },
        "tags": [],
        "id": "da70e1b9"
      },
      "outputs": [],
      "source": [
        "y_pred_lsvm=gscv_svm.predict(x_test_t)"
      ]
    },
    {
      "cell_type": "code",
      "execution_count": null,
      "id": "012eaafe",
      "metadata": {
        "execution": {
          "iopub.execute_input": "2023-08-28T19:27:30.352508Z",
          "iopub.status.busy": "2023-08-28T19:27:30.352137Z",
          "iopub.status.idle": "2023-08-28T19:27:30.398132Z",
          "shell.execute_reply": "2023-08-28T19:27:30.396895Z"
        },
        "papermill": {
          "duration": 0.108441,
          "end_time": "2023-08-28T19:27:30.400614",
          "exception": false,
          "start_time": "2023-08-28T19:27:30.292173",
          "status": "completed"
        },
        "tags": [],
        "id": "012eaafe",
        "outputId": "57c77be5-fa63-4604-b196-4380669546eb"
      },
      "outputs": [
        {
          "name": "stdout",
          "output_type": "stream",
          "text": [
            "              precision    recall  f1-score   support\n",
            "\n",
            "           0       0.79      0.62      0.70      6992\n",
            "           1       0.83      0.92      0.87     14167\n",
            "\n",
            "    accuracy                           0.82     21159\n",
            "   macro avg       0.81      0.77      0.78     21159\n",
            "weighted avg       0.82      0.82      0.81     21159\n",
            "\n"
          ]
        }
      ],
      "source": [
        "print(classification_report(y_test,y_pred_lsvm, labels=[0,1]))"
      ]
    },
    {
      "cell_type": "code",
      "execution_count": null,
      "id": "e03e4fff",
      "metadata": {
        "execution": {
          "iopub.execute_input": "2023-08-28T19:27:30.520074Z",
          "iopub.status.busy": "2023-08-28T19:27:30.519694Z",
          "iopub.status.idle": "2023-08-28T19:27:30.525078Z",
          "shell.execute_reply": "2023-08-28T19:27:30.523929Z"
        },
        "papermill": {
          "duration": 0.068021,
          "end_time": "2023-08-28T19:27:30.527811",
          "exception": false,
          "start_time": "2023-08-28T19:27:30.459790",
          "status": "completed"
        },
        "tags": [],
        "id": "e03e4fff"
      },
      "outputs": [],
      "source": [
        "x1= results_svm['param_C']\n",
        "y= results_svm['mean_test_score']\n",
        "y2= results_svm['mean_train_score']\n",
        "x2=results_svm['param_tol']"
      ]
    },
    {
      "cell_type": "code",
      "execution_count": null,
      "id": "dad0e0bd",
      "metadata": {
        "execution": {
          "iopub.execute_input": "2023-08-28T19:27:30.650789Z",
          "iopub.status.busy": "2023-08-28T19:27:30.650377Z",
          "iopub.status.idle": "2023-08-28T19:27:30.884735Z",
          "shell.execute_reply": "2023-08-28T19:27:30.883612Z"
        },
        "papermill": {
          "duration": 0.297075,
          "end_time": "2023-08-28T19:27:30.886973",
          "exception": false,
          "start_time": "2023-08-28T19:27:30.589898",
          "status": "completed"
        },
        "tags": [],
        "id": "dad0e0bd",
        "outputId": "11657596-ecdf-497f-e1eb-c6f573d1d77f"
      },
      "outputs": [
        {
          "data": {
            "text/plain": [
              "[<matplotlib.lines.Line2D at 0x7a71dcfa1ff0>]"
            ]
          },
          "execution_count": 122,
          "metadata": {},
          "output_type": "execute_result"
        },
        {
          "data": {
            "image/png": "[encoded data removed]",
            "text/plain": [
              "<Figure size 640x480 with 1 Axes>"
            ]
          },
          "metadata": {},
          "output_type": "display_data"
        }
      ],
      "source": [
        "plt.plot(x1,y)"
      ]
    },
    {
      "cell_type": "code",
      "execution_count": null,
      "id": "9036b753",
      "metadata": {
        "execution": {
          "iopub.execute_input": "2023-08-28T19:27:31.008685Z",
          "iopub.status.busy": "2023-08-28T19:27:31.008300Z",
          "iopub.status.idle": "2023-08-28T19:27:31.253682Z",
          "shell.execute_reply": "2023-08-28T19:27:31.252414Z"
        },
        "papermill": {
          "duration": 0.308954,
          "end_time": "2023-08-28T19:27:31.256140",
          "exception": false,
          "start_time": "2023-08-28T19:27:30.947186",
          "status": "completed"
        },
        "tags": [],
        "id": "9036b753",
        "outputId": "94882b8e-923a-497b-de88-f819ab906355"
      },
      "outputs": [
        {
          "data": {
            "text/plain": [
              "[<matplotlib.lines.Line2D at 0x7a71dcf3baf0>]"
            ]
          },
          "execution_count": 123,
          "metadata": {},
          "output_type": "execute_result"
        },
        {
          "data": {
            "image/png": "[encoded data removed]",
            "text/plain": [
              "<Figure size 640x480 with 1 Axes>"
            ]
          },
          "metadata": {},
          "output_type": "display_data"
        }
      ],
      "source": [
        "plt.plot(x1,y2)"
      ]
    },
    {
      "cell_type": "markdown",
      "id": "aaec9ffb",
      "metadata": {
        "papermill": {
          "duration": 0.062409,
          "end_time": "2023-08-28T19:27:31.378746",
          "exception": false,
          "start_time": "2023-08-28T19:27:31.316337",
          "status": "completed"
        },
        "tags": [],
        "id": "aaec9ffb"
      },
      "source": [
        "***Insights***\n",
        "\n",
        "*We se that increasing the value of C meaning decreasing value of mean_train_score.This could be because increasing C means decreasing of regularization leading to overfitting of train data, as we  can see increasing the value of C increases the train score upto a certain C after which the score saturates having the heighest value.          \n",
        "For our model we have chosen the value of regularization that is giving the best result for the validation set.         \n",
        "Tolerance doesnt seem to have much effect on rank of the model which is mainly determined by the value of C. We get the heighest value of tolerance as the best parameter. This also can be because it leads to least overfitting of the training data. For our model we see that the default value of tolerance gives the best score.*"
      ]
    },
    {
      "cell_type": "markdown",
      "id": "4726c45c",
      "metadata": {
        "papermill": {
          "duration": 0.059768,
          "end_time": "2023-08-28T19:27:31.499121",
          "exception": false,
          "start_time": "2023-08-28T19:27:31.439353",
          "status": "completed"
        },
        "tags": [],
        "id": "4726c45c"
      },
      "source": [
        "# *Model-2--Logistic Regresssion*"
      ]
    },
    {
      "cell_type": "code",
      "execution_count": null,
      "id": "8153fa0a",
      "metadata": {
        "execution": {
          "iopub.execute_input": "2023-08-28T19:27:31.622489Z",
          "iopub.status.busy": "2023-08-28T19:27:31.622117Z",
          "iopub.status.idle": "2023-08-28T19:27:31.626613Z",
          "shell.execute_reply": "2023-08-28T19:27:31.625741Z"
        },
        "papermill": {
          "duration": 0.068039,
          "end_time": "2023-08-28T19:27:31.628581",
          "exception": false,
          "start_time": "2023-08-28T19:27:31.560542",
          "status": "completed"
        },
        "tags": [],
        "id": "8153fa0a"
      },
      "outputs": [],
      "source": [
        "from sklearn.linear_model import LogisticRegression\n",
        "lr=LogisticRegression(max_iter=1000,C=0.35)"
      ]
    },
    {
      "cell_type": "code",
      "execution_count": null,
      "id": "2ff4955a",
      "metadata": {
        "execution": {
          "iopub.execute_input": "2023-08-28T19:27:31.753248Z",
          "iopub.status.busy": "2023-08-28T19:27:31.752872Z",
          "iopub.status.idle": "2023-08-28T19:31:34.518764Z",
          "shell.execute_reply": "2023-08-28T19:31:34.514661Z"
        },
        "papermill": {
          "duration": 242.887969,
          "end_time": "2023-08-28T19:31:34.578563",
          "exception": false,
          "start_time": "2023-08-28T19:27:31.690594",
          "status": "completed"
        },
        "tags": [],
        "id": "2ff4955a",
        "outputId": "916e190c-cf28-4b9a-8b79-6fb35986aba7"
      },
      "outputs": [
        {
          "data": {
            "text/html": [
              "<style>#sk-container-id-5 {color: black;background-color: white;}#sk-container-id-5 pre{padding: 0;}#sk-container-id-5 div.sk-toggleable {background-color: white;}#sk-container-id-5 label.sk-toggleable__label {cursor: pointer;display: block;width: 100%;margin-bottom: 0;padding: 0.3em;box-sizing: border-box;text-align: center;}#sk-container-id-5 label.sk-toggleable__label-arrow:before {content: \"▸\";float: left;margin-right: 0.25em;color: #696969;}#sk-container-id-5 label.sk-toggleable__label-arrow:hover:before {color: black;}#sk-container-id-5 div.sk-estimator:hover label.sk-toggleable__label-arrow:before {color: black;}#sk-container-id-5 div.sk-toggleable__content {max-height: 0;max-width: 0;overflow: hidden;text-align: left;background-color: #f0f8ff;}#sk-container-id-5 div.sk-toggleable__content pre {margin: 0.2em;color: black;border-radius: 0.25em;background-color: #f0f8ff;}#sk-container-id-5 input.sk-toggleable__control:checked~div.sk-toggleable__content {max-height: 200px;max-width: 100%;overflow: auto;}#sk-container-id-5 input.sk-toggleable__control:checked~label.sk-toggleable__label-arrow:before {content: \"▾\";}#sk-container-id-5 div.sk-estimator input.sk-toggleable__control:checked~label.sk-toggleable__label {background-color: #d4ebff;}#sk-container-id-5 div.sk-label input.sk-toggleable__control:checked~label.sk-toggleable__label {background-color: #d4ebff;}#sk-container-id-5 input.sk-hidden--visually {border: 0;clip: rect(1px 1px 1px 1px);clip: rect(1px, 1px, 1px, 1px);height: 1px;margin: -1px;overflow: hidden;padding: 0;position: absolute;width: 1px;}#sk-container-id-5 div.sk-estimator {font-family: monospace;background-color: #f0f8ff;border: 1px dotted black;border-radius: 0.25em;box-sizing: border-box;margin-bottom: 0.5em;}#sk-container-id-5 div.sk-estimator:hover {background-color: #d4ebff;}#sk-container-id-5 div.sk-parallel-item::after {content: \"\";width: 100%;border-bottom: 1px solid gray;flex-grow: 1;}#sk-container-id-5 div.sk-label:hover label.sk-toggleable__label {background-color: #d4ebff;}#sk-container-id-5 div.sk-serial::before {content: \"\";position: absolute;border-left: 1px solid gray;box-sizing: border-box;top: 0;bottom: 0;left: 50%;z-index: 0;}#sk-container-id-5 div.sk-serial {display: flex;flex-direction: column;align-items: center;background-color: white;padding-right: 0.2em;padding-left: 0.2em;position: relative;}#sk-container-id-5 div.sk-item {position: relative;z-index: 1;}#sk-container-id-5 div.sk-parallel {display: flex;align-items: stretch;justify-content: center;background-color: white;position: relative;}#sk-container-id-5 div.sk-item::before, #sk-container-id-5 div.sk-parallel-item::before {content: \"\";position: absolute;border-left: 1px solid gray;box-sizing: border-box;top: 0;bottom: 0;left: 50%;z-index: -1;}#sk-container-id-5 div.sk-parallel-item {display: flex;flex-direction: column;z-index: 1;position: relative;background-color: white;}#sk-container-id-5 div.sk-parallel-item:first-child::after {align-self: flex-end;width: 50%;}#sk-container-id-5 div.sk-parallel-item:last-child::after {align-self: flex-start;width: 50%;}#sk-container-id-5 div.sk-parallel-item:only-child::after {width: 0;}#sk-container-id-5 div.sk-dashed-wrapped {border: 1px dashed gray;margin: 0 0.4em 0.5em 0.4em;box-sizing: border-box;padding-bottom: 0.4em;background-color: white;}#sk-container-id-5 div.sk-label label {font-family: monospace;font-weight: bold;display: inline-block;line-height: 1.2em;}#sk-container-id-5 div.sk-label-container {text-align: center;}#sk-container-id-5 div.sk-container {/* jupyter's `normalize.less` sets `[hidden] { display: none; }` but bootstrap.min.css set `[hidden] { display: none !important; }` so we also need the `!important` here to be able to override the default hidden behavior on the sphinx rendered scikit-learn.org. See: https://github.com/scikit-learn/scikit-learn/issues/21755 */display: inline-block !important;position: relative;}#sk-container-id-5 div.sk-text-repr-fallback {display: none;}</style><div id=\"sk-container-id-5\" class=\"sk-top-container\"><div class=\"sk-text-repr-fallback\"><pre>LogisticRegression(C=0.35, max_iter=1000)</pre><b>In a Jupyter environment, please rerun this cell to show the HTML representation or trust the notebook. <br />On GitHub, the HTML representation is unable to render, please try loading this page with nbviewer.org.</b></div><div class=\"sk-container\" hidden><div class=\"sk-item\"><div class=\"sk-estimator sk-toggleable\"><input class=\"sk-toggleable__control sk-hidden--visually\" id=\"sk-estimator-id-20\" type=\"checkbox\" checked><label for=\"sk-estimator-id-20\" class=\"sk-toggleable__label sk-toggleable__label-arrow\">LogisticRegression</label><div class=\"sk-toggleable__content\"><pre>LogisticRegression(C=0.35, max_iter=1000)</pre></div></div></div></div></div>"
            ],
            "text/plain": [
              "LogisticRegression(C=0.35, max_iter=1000)"
            ]
          },
          "execution_count": 125,
          "metadata": {},
          "output_type": "execute_result"
        }
      ],
      "source": [
        "lr.fit(x_train_t,y_train)"
      ]
    },
    {
      "cell_type": "code",
      "execution_count": null,
      "id": "a90aea12",
      "metadata": {
        "execution": {
          "iopub.execute_input": "2023-08-28T19:31:34.699483Z",
          "iopub.status.busy": "2023-08-28T19:31:34.698840Z",
          "iopub.status.idle": "2023-08-28T19:31:34.804582Z",
          "shell.execute_reply": "2023-08-28T19:31:34.803532Z"
        },
        "papermill": {
          "duration": 0.168749,
          "end_time": "2023-08-28T19:31:34.806713",
          "exception": false,
          "start_time": "2023-08-28T19:31:34.637964",
          "status": "completed"
        },
        "tags": [],
        "id": "a90aea12",
        "outputId": "a4fac205-2523-413a-80fd-dc06b6d1a0d7"
      },
      "outputs": [
        {
          "data": {
            "text/plain": [
              "(0.9839405645520095, 0.8227704522898057)"
            ]
          },
          "execution_count": 126,
          "metadata": {},
          "output_type": "execute_result"
        }
      ],
      "source": [
        "lr.score(x_train_t, y_train), lr.score(x_test_t, y_test)"
      ]
    },
    {
      "cell_type": "code",
      "execution_count": null,
      "id": "e995c73b",
      "metadata": {
        "execution": {
          "iopub.execute_input": "2023-08-28T19:31:34.930590Z",
          "iopub.status.busy": "2023-08-28T19:31:34.930190Z",
          "iopub.status.idle": "2023-08-28T19:31:34.984225Z",
          "shell.execute_reply": "2023-08-28T19:31:34.983099Z"
        },
        "papermill": {
          "duration": 0.119011,
          "end_time": "2023-08-28T19:31:34.986421",
          "exception": false,
          "start_time": "2023-08-28T19:31:34.867410",
          "status": "completed"
        },
        "tags": [],
        "id": "e995c73b",
        "outputId": "eb77c599-1d36-4e54-c427-3a7041d72499"
      },
      "outputs": [
        {
          "name": "stdout",
          "output_type": "stream",
          "text": [
            "              precision    recall  f1-score   support\n",
            "\n",
            "           0       0.78      0.64      0.71      6992\n",
            "           1       0.84      0.91      0.87     14167\n",
            "\n",
            "    accuracy                           0.82     21159\n",
            "   macro avg       0.81      0.78      0.79     21159\n",
            "weighted avg       0.82      0.82      0.82     21159\n",
            "\n"
          ]
        }
      ],
      "source": [
        "y_pred_lr=lr.predict(x_test_t)\n",
        "from sklearn.metrics import classification_report\n",
        "print(classification_report(y_test,y_pred_lr, labels=[0,1]))"
      ]
    },
    {
      "cell_type": "markdown",
      "id": "5aec5fa4",
      "metadata": {
        "papermill": {
          "duration": 0.06062,
          "end_time": "2023-08-28T19:31:35.108081",
          "exception": false,
          "start_time": "2023-08-28T19:31:35.047461",
          "status": "completed"
        },
        "tags": [],
        "id": "5aec5fa4"
      },
      "source": [
        "***Hyperparameter tuning of LogisticRegression.***"
      ]
    },
    {
      "cell_type": "code",
      "execution_count": null,
      "id": "bcf27149",
      "metadata": {
        "execution": {
          "iopub.execute_input": "2023-08-28T19:31:35.229893Z",
          "iopub.status.busy": "2023-08-28T19:31:35.229200Z",
          "iopub.status.idle": "2023-08-28T19:31:35.234198Z",
          "shell.execute_reply": "2023-08-28T19:31:35.233091Z"
        },
        "papermill": {
          "duration": 0.068076,
          "end_time": "2023-08-28T19:31:35.236301",
          "exception": false,
          "start_time": "2023-08-28T19:31:35.168225",
          "status": "completed"
        },
        "tags": [],
        "id": "bcf27149"
      },
      "outputs": [],
      "source": [
        "from sklearn.model_selection import GridSearchCV\n",
        "param_grid={'solver':['lbfgs','liblinear','sag','newton-cg'],'C':[0.01,0.1,1]}"
      ]
    },
    {
      "cell_type": "code",
      "execution_count": null,
      "id": "c241b142",
      "metadata": {
        "execution": {
          "iopub.execute_input": "2023-08-28T19:31:35.357808Z",
          "iopub.status.busy": "2023-08-28T19:31:35.357149Z",
          "iopub.status.idle": "2023-08-28T19:31:35.362013Z",
          "shell.execute_reply": "2023-08-28T19:31:35.361075Z"
        },
        "papermill": {
          "duration": 0.068231,
          "end_time": "2023-08-28T19:31:35.364307",
          "exception": false,
          "start_time": "2023-08-28T19:31:35.296076",
          "status": "completed"
        },
        "tags": [],
        "id": "c241b142"
      },
      "outputs": [],
      "source": [
        "gscv_lr= GridSearchCV(estimator=LogisticRegression(max_iter=3500),return_train_score=True,\n",
        "                      scoring='f1', param_grid=param_grid,cv=3, n_jobs=-1)"
      ]
    },
    {
      "cell_type": "code",
      "execution_count": null,
      "id": "6432a0fa",
      "metadata": {
        "execution": {
          "iopub.execute_input": "2023-08-28T19:31:35.487687Z",
          "iopub.status.busy": "2023-08-28T19:31:35.487334Z",
          "iopub.status.idle": "2023-08-28T19:49:54.588983Z",
          "shell.execute_reply": "2023-08-28T19:49:54.587642Z"
        },
        "papermill": {
          "duration": 1099.227219,
          "end_time": "2023-08-28T19:49:54.652625",
          "exception": false,
          "start_time": "2023-08-28T19:31:35.425406",
          "status": "completed"
        },
        "tags": [],
        "id": "6432a0fa",
        "outputId": "7c69c073-d1b5-434a-fa9c-6b916e2c8528"
      },
      "outputs": [
        {
          "data": {
            "text/html": [
              "<style>#sk-container-id-6 {color: black;background-color: white;}#sk-container-id-6 pre{padding: 0;}#sk-container-id-6 div.sk-toggleable {background-color: white;}#sk-container-id-6 label.sk-toggleable__label {cursor: pointer;display: block;width: 100%;margin-bottom: 0;padding: 0.3em;box-sizing: border-box;text-align: center;}#sk-container-id-6 label.sk-toggleable__label-arrow:before {content: \"▸\";float: left;margin-right: 0.25em;color: #696969;}#sk-container-id-6 label.sk-toggleable__label-arrow:hover:before {color: black;}#sk-container-id-6 div.sk-estimator:hover label.sk-toggleable__label-arrow:before {color: black;}#sk-container-id-6 div.sk-toggleable__content {max-height: 0;max-width: 0;overflow: hidden;text-align: left;background-color: #f0f8ff;}#sk-container-id-6 div.sk-toggleable__content pre {margin: 0.2em;color: black;border-radius: 0.25em;background-color: #f0f8ff;}#sk-container-id-6 input.sk-toggleable__control:checked~div.sk-toggleable__content {max-height: 200px;max-width: 100%;overflow: auto;}#sk-container-id-6 input.sk-toggleable__control:checked~label.sk-toggleable__label-arrow:before {content: \"▾\";}#sk-container-id-6 div.sk-estimator input.sk-toggleable__control:checked~label.sk-toggleable__label {background-color: #d4ebff;}#sk-container-id-6 div.sk-label input.sk-toggleable__control:checked~label.sk-toggleable__label {background-color: #d4ebff;}#sk-container-id-6 input.sk-hidden--visually {border: 0;clip: rect(1px 1px 1px 1px);clip: rect(1px, 1px, 1px, 1px);height: 1px;margin: -1px;overflow: hidden;padding: 0;position: absolute;width: 1px;}#sk-container-id-6 div.sk-estimator {font-family: monospace;background-color: #f0f8ff;border: 1px dotted black;border-radius: 0.25em;box-sizing: border-box;margin-bottom: 0.5em;}#sk-container-id-6 div.sk-estimator:hover {background-color: #d4ebff;}#sk-container-id-6 div.sk-parallel-item::after {content: \"\";width: 100%;border-bottom: 1px solid gray;flex-grow: 1;}#sk-container-id-6 div.sk-label:hover label.sk-toggleable__label {background-color: #d4ebff;}#sk-container-id-6 div.sk-serial::before {content: \"\";position: absolute;border-left: 1px solid gray;box-sizing: border-box;top: 0;bottom: 0;left: 50%;z-index: 0;}#sk-container-id-6 div.sk-serial {display: flex;flex-direction: column;align-items: center;background-color: white;padding-right: 0.2em;padding-left: 0.2em;position: relative;}#sk-container-id-6 div.sk-item {position: relative;z-index: 1;}#sk-container-id-6 div.sk-parallel {display: flex;align-items: stretch;justify-content: center;background-color: white;position: relative;}#sk-container-id-6 div.sk-item::before, #sk-container-id-6 div.sk-parallel-item::before {content: \"\";position: absolute;border-left: 1px solid gray;box-sizing: border-box;top: 0;bottom: 0;left: 50%;z-index: -1;}#sk-container-id-6 div.sk-parallel-item {display: flex;flex-direction: column;z-index: 1;position: relative;background-color: white;}#sk-container-id-6 div.sk-parallel-item:first-child::after {align-self: flex-end;width: 50%;}#sk-container-id-6 div.sk-parallel-item:last-child::after {align-self: flex-start;width: 50%;}#sk-container-id-6 div.sk-parallel-item:only-child::after {width: 0;}#sk-container-id-6 div.sk-dashed-wrapped {border: 1px dashed gray;margin: 0 0.4em 0.5em 0.4em;box-sizing: border-box;padding-bottom: 0.4em;background-color: white;}#sk-container-id-6 div.sk-label label {font-family: monospace;font-weight: bold;display: inline-block;line-height: 1.2em;}#sk-container-id-6 div.sk-label-container {text-align: center;}#sk-container-id-6 div.sk-container {/* jupyter's `normalize.less` sets `[hidden] { display: none; }` but bootstrap.min.css set `[hidden] { display: none !important; }` so we also need the `!important` here to be able to override the default hidden behavior on the sphinx rendered scikit-learn.org. See: https://github.com/scikit-learn/scikit-learn/issues/21755 */display: inline-block !important;position: relative;}#sk-container-id-6 div.sk-text-repr-fallback {display: none;}</style><div id=\"sk-container-id-6\" class=\"sk-top-container\"><div class=\"sk-text-repr-fallback\"><pre>GridSearchCV(cv=3, estimator=LogisticRegression(max_iter=3500), n_jobs=-1,\n",
              "             param_grid={&#x27;C&#x27;: [0.01, 0.1, 1],\n",
              "                         &#x27;solver&#x27;: [&#x27;lbfgs&#x27;, &#x27;liblinear&#x27;, &#x27;sag&#x27;, &#x27;newton-cg&#x27;]},\n",
              "             return_train_score=True, scoring=&#x27;f1&#x27;)</pre><b>In a Jupyter environment, please rerun this cell to show the HTML representation or trust the notebook. <br />On GitHub, the HTML representation is unable to render, please try loading this page with nbviewer.org.</b></div><div class=\"sk-container\" hidden><div class=\"sk-item sk-dashed-wrapped\"><div class=\"sk-label-container\"><div class=\"sk-label sk-toggleable\"><input class=\"sk-toggleable__control sk-hidden--visually\" id=\"sk-estimator-id-21\" type=\"checkbox\" ><label for=\"sk-estimator-id-21\" class=\"sk-toggleable__label sk-toggleable__label-arrow\">GridSearchCV</label><div class=\"sk-toggleable__content\"><pre>GridSearchCV(cv=3, estimator=LogisticRegression(max_iter=3500), n_jobs=-1,\n",
              "             param_grid={&#x27;C&#x27;: [0.01, 0.1, 1],\n",
              "                         &#x27;solver&#x27;: [&#x27;lbfgs&#x27;, &#x27;liblinear&#x27;, &#x27;sag&#x27;, &#x27;newton-cg&#x27;]},\n",
              "             return_train_score=True, scoring=&#x27;f1&#x27;)</pre></div></div></div><div class=\"sk-parallel\"><div class=\"sk-parallel-item\"><div class=\"sk-item\"><div class=\"sk-label-container\"><div class=\"sk-label sk-toggleable\"><input class=\"sk-toggleable__control sk-hidden--visually\" id=\"sk-estimator-id-22\" type=\"checkbox\" ><label for=\"sk-estimator-id-22\" class=\"sk-toggleable__label sk-toggleable__label-arrow\">estimator: LogisticRegression</label><div class=\"sk-toggleable__content\"><pre>LogisticRegression(max_iter=3500)</pre></div></div></div><div class=\"sk-serial\"><div class=\"sk-item\"><div class=\"sk-estimator sk-toggleable\"><input class=\"sk-toggleable__control sk-hidden--visually\" id=\"sk-estimator-id-23\" type=\"checkbox\" ><label for=\"sk-estimator-id-23\" class=\"sk-toggleable__label sk-toggleable__label-arrow\">LogisticRegression</label><div class=\"sk-toggleable__content\"><pre>LogisticRegression(max_iter=3500)</pre></div></div></div></div></div></div></div></div></div></div>"
            ],
            "text/plain": [
              "GridSearchCV(cv=3, estimator=LogisticRegression(max_iter=3500), n_jobs=-1,\n",
              "             param_grid={'C': [0.01, 0.1, 1],\n",
              "                         'solver': ['lbfgs', 'liblinear', 'sag', 'newton-cg']},\n",
              "             return_train_score=True, scoring='f1')"
            ]
          },
          "execution_count": 130,
          "metadata": {},
          "output_type": "execute_result"
        }
      ],
      "source": [
        "gscv_lr.fit(x_train_t,y_train)"
      ]
    },
    {
      "cell_type": "code",
      "execution_count": null,
      "id": "a69b2cfb",
      "metadata": {
        "execution": {
          "iopub.execute_input": "2023-08-28T19:49:54.839691Z",
          "iopub.status.busy": "2023-08-28T19:49:54.838660Z",
          "iopub.status.idle": "2023-08-28T19:49:54.870250Z",
          "shell.execute_reply": "2023-08-28T19:49:54.869085Z"
        },
        "papermill": {
          "duration": 0.095298,
          "end_time": "2023-08-28T19:49:54.872392",
          "exception": false,
          "start_time": "2023-08-28T19:49:54.777094",
          "status": "completed"
        },
        "tags": [],
        "id": "a69b2cfb",
        "outputId": "bfe30101-238f-4f3e-a852-6ef4bcaabbc2"
      },
      "outputs": [
        {
          "data": {
            "text/html": [
              "<div>\n",
              "<style scoped>\n",
              "    .dataframe tbody tr th:only-of-type {\n",
              "        vertical-align: middle;\n",
              "    }\n",
              "\n",
              "    .dataframe tbody tr th {\n",
              "        vertical-align: top;\n",
              "    }\n",
              "\n",
              "    .dataframe thead th {\n",
              "        text-align: right;\n",
              "    }\n",
              "</style>\n",
              "<table border=\"1\" class=\"dataframe\">\n",
              "  <thead>\n",
              "    <tr style=\"text-align: right;\">\n",
              "      <th></th>\n",
              "      <th>mean_fit_time</th>\n",
              "      <th>std_fit_time</th>\n",
              "      <th>mean_score_time</th>\n",
              "      <th>std_score_time</th>\n",
              "      <th>param_C</th>\n",
              "      <th>param_solver</th>\n",
              "      <th>params</th>\n",
              "      <th>split0_test_score</th>\n",
              "      <th>split1_test_score</th>\n",
              "      <th>split2_test_score</th>\n",
              "      <th>mean_test_score</th>\n",
              "      <th>std_test_score</th>\n",
              "      <th>rank_test_score</th>\n",
              "      <th>split0_train_score</th>\n",
              "      <th>split1_train_score</th>\n",
              "      <th>split2_train_score</th>\n",
              "      <th>mean_train_score</th>\n",
              "      <th>std_train_score</th>\n",
              "    </tr>\n",
              "  </thead>\n",
              "  <tbody>\n",
              "    <tr>\n",
              "      <th>0</th>\n",
              "      <td>73.502000</td>\n",
              "      <td>1.455523</td>\n",
              "      <td>0.076254</td>\n",
              "      <td>0.014331</td>\n",
              "      <td>0.01</td>\n",
              "      <td>lbfgs</td>\n",
              "      <td>{'C': 0.01, 'solver': 'lbfgs'}</td>\n",
              "      <td>0.844538</td>\n",
              "      <td>0.845369</td>\n",
              "      <td>0.844945</td>\n",
              "      <td>0.844951</td>\n",
              "      <td>0.000339</td>\n",
              "      <td>11</td>\n",
              "      <td>0.879670</td>\n",
              "      <td>0.879899</td>\n",
              "      <td>0.879860</td>\n",
              "      <td>0.879809</td>\n",
              "      <td>0.000100</td>\n",
              "    </tr>\n",
              "    <tr>\n",
              "      <th>1</th>\n",
              "      <td>19.606079</td>\n",
              "      <td>0.484151</td>\n",
              "      <td>0.086426</td>\n",
              "      <td>0.006731</td>\n",
              "      <td>0.01</td>\n",
              "      <td>liblinear</td>\n",
              "      <td>{'C': 0.01, 'solver': 'liblinear'}</td>\n",
              "      <td>0.844832</td>\n",
              "      <td>0.845611</td>\n",
              "      <td>0.845249</td>\n",
              "      <td>0.845231</td>\n",
              "      <td>0.000318</td>\n",
              "      <td>9</td>\n",
              "      <td>0.880062</td>\n",
              "      <td>0.880177</td>\n",
              "      <td>0.880243</td>\n",
              "      <td>0.880161</td>\n",
              "      <td>0.000075</td>\n",
              "    </tr>\n",
              "    <tr>\n",
              "      <th>2</th>\n",
              "      <td>16.128505</td>\n",
              "      <td>1.807072</td>\n",
              "      <td>0.078616</td>\n",
              "      <td>0.013183</td>\n",
              "      <td>0.01</td>\n",
              "      <td>sag</td>\n",
              "      <td>{'C': 0.01, 'solver': 'sag'}</td>\n",
              "      <td>0.844578</td>\n",
              "      <td>0.845365</td>\n",
              "      <td>0.844989</td>\n",
              "      <td>0.844977</td>\n",
              "      <td>0.000321</td>\n",
              "      <td>10</td>\n",
              "      <td>0.879695</td>\n",
              "      <td>0.879916</td>\n",
              "      <td>0.879896</td>\n",
              "      <td>0.879836</td>\n",
              "      <td>0.000100</td>\n",
              "    </tr>\n",
              "    <tr>\n",
              "      <th>3</th>\n",
              "      <td>64.311959</td>\n",
              "      <td>1.794990</td>\n",
              "      <td>0.077983</td>\n",
              "      <td>0.002421</td>\n",
              "      <td>0.01</td>\n",
              "      <td>newton-cg</td>\n",
              "      <td>{'C': 0.01, 'solver': 'newton-cg'}</td>\n",
              "      <td>0.844526</td>\n",
              "      <td>0.845369</td>\n",
              "      <td>0.844957</td>\n",
              "      <td>0.844951</td>\n",
              "      <td>0.000344</td>\n",
              "      <td>12</td>\n",
              "      <td>0.879662</td>\n",
              "      <td>0.879913</td>\n",
              "      <td>0.879866</td>\n",
              "      <td>0.879814</td>\n",
              "      <td>0.000109</td>\n",
              "    </tr>\n",
              "    <tr>\n",
              "      <th>4</th>\n",
              "      <td>172.404704</td>\n",
              "      <td>4.913921</td>\n",
              "      <td>0.069942</td>\n",
              "      <td>0.001504</td>\n",
              "      <td>0.1</td>\n",
              "      <td>lbfgs</td>\n",
              "      <td>{'C': 0.1, 'solver': 'lbfgs'}</td>\n",
              "      <td>0.864925</td>\n",
              "      <td>0.866468</td>\n",
              "      <td>0.866172</td>\n",
              "      <td>0.865855</td>\n",
              "      <td>0.000669</td>\n",
              "      <td>8</td>\n",
              "      <td>0.973440</td>\n",
              "      <td>0.973834</td>\n",
              "      <td>0.973692</td>\n",
              "      <td>0.973655</td>\n",
              "      <td>0.000163</td>\n",
              "    </tr>\n",
              "    <tr>\n",
              "      <th>5</th>\n",
              "      <td>37.894807</td>\n",
              "      <td>3.816346</td>\n",
              "      <td>0.077832</td>\n",
              "      <td>0.005719</td>\n",
              "      <td>0.1</td>\n",
              "      <td>liblinear</td>\n",
              "      <td>{'C': 0.1, 'solver': 'liblinear'}</td>\n",
              "      <td>0.865049</td>\n",
              "      <td>0.866504</td>\n",
              "      <td>0.866194</td>\n",
              "      <td>0.865915</td>\n",
              "      <td>0.000625</td>\n",
              "      <td>6</td>\n",
              "      <td>0.973494</td>\n",
              "      <td>0.973849</td>\n",
              "      <td>0.973760</td>\n",
              "      <td>0.973701</td>\n",
              "      <td>0.000151</td>\n",
              "    </tr>\n",
              "    <tr>\n",
              "      <th>6</th>\n",
              "      <td>49.814538</td>\n",
              "      <td>3.272330</td>\n",
              "      <td>0.076500</td>\n",
              "      <td>0.005194</td>\n",
              "      <td>0.1</td>\n",
              "      <td>sag</td>\n",
              "      <td>{'C': 0.1, 'solver': 'sag'}</td>\n",
              "      <td>0.865062</td>\n",
              "      <td>0.866495</td>\n",
              "      <td>0.866202</td>\n",
              "      <td>0.865920</td>\n",
              "      <td>0.000618</td>\n",
              "      <td>5</td>\n",
              "      <td>0.973493</td>\n",
              "      <td>0.973849</td>\n",
              "      <td>0.973745</td>\n",
              "      <td>0.973696</td>\n",
              "      <td>0.000149</td>\n",
              "    </tr>\n",
              "    <tr>\n",
              "      <th>7</th>\n",
              "      <td>101.758355</td>\n",
              "      <td>4.546097</td>\n",
              "      <td>0.083573</td>\n",
              "      <td>0.006494</td>\n",
              "      <td>0.1</td>\n",
              "      <td>newton-cg</td>\n",
              "      <td>{'C': 0.1, 'solver': 'newton-cg'}</td>\n",
              "      <td>0.864925</td>\n",
              "      <td>0.866498</td>\n",
              "      <td>0.866151</td>\n",
              "      <td>0.865858</td>\n",
              "      <td>0.000675</td>\n",
              "      <td>7</td>\n",
              "      <td>0.973448</td>\n",
              "      <td>0.973834</td>\n",
              "      <td>0.973707</td>\n",
              "      <td>0.973663</td>\n",
              "      <td>0.000161</td>\n",
              "    </tr>\n",
              "    <tr>\n",
              "      <th>8</th>\n",
              "      <td>316.864108</td>\n",
              "      <td>8.276075</td>\n",
              "      <td>0.068149</td>\n",
              "      <td>0.001781</td>\n",
              "      <td>1</td>\n",
              "      <td>lbfgs</td>\n",
              "      <td>{'C': 1, 'solver': 'lbfgs'}</td>\n",
              "      <td>0.865944</td>\n",
              "      <td>0.869458</td>\n",
              "      <td>0.868897</td>\n",
              "      <td>0.868100</td>\n",
              "      <td>0.001541</td>\n",
              "      <td>2</td>\n",
              "      <td>0.989907</td>\n",
              "      <td>0.990582</td>\n",
              "      <td>0.989930</td>\n",
              "      <td>0.990140</td>\n",
              "      <td>0.000313</td>\n",
              "    </tr>\n",
              "    <tr>\n",
              "      <th>9</th>\n",
              "      <td>67.220585</td>\n",
              "      <td>2.225519</td>\n",
              "      <td>0.079610</td>\n",
              "      <td>0.004132</td>\n",
              "      <td>1</td>\n",
              "      <td>liblinear</td>\n",
              "      <td>{'C': 1, 'solver': 'liblinear'}</td>\n",
              "      <td>0.865931</td>\n",
              "      <td>0.869462</td>\n",
              "      <td>0.868880</td>\n",
              "      <td>0.868091</td>\n",
              "      <td>0.001546</td>\n",
              "      <td>3</td>\n",
              "      <td>0.989907</td>\n",
              "      <td>0.990582</td>\n",
              "      <td>0.989930</td>\n",
              "      <td>0.990140</td>\n",
              "      <td>0.000313</td>\n",
              "    </tr>\n",
              "    <tr>\n",
              "      <th>10</th>\n",
              "      <td>190.772281</td>\n",
              "      <td>13.586098</td>\n",
              "      <td>0.076098</td>\n",
              "      <td>0.017822</td>\n",
              "      <td>1</td>\n",
              "      <td>sag</td>\n",
              "      <td>{'C': 1, 'solver': 'sag'}</td>\n",
              "      <td>0.865919</td>\n",
              "      <td>0.869409</td>\n",
              "      <td>0.868703</td>\n",
              "      <td>0.868011</td>\n",
              "      <td>0.001507</td>\n",
              "      <td>4</td>\n",
              "      <td>0.989875</td>\n",
              "      <td>0.990566</td>\n",
              "      <td>0.989922</td>\n",
              "      <td>0.990121</td>\n",
              "      <td>0.000315</td>\n",
              "    </tr>\n",
              "    <tr>\n",
              "      <th>11</th>\n",
              "      <td>106.483226</td>\n",
              "      <td>3.089520</td>\n",
              "      <td>0.055140</td>\n",
              "      <td>0.012320</td>\n",
              "      <td>1</td>\n",
              "      <td>newton-cg</td>\n",
              "      <td>{'C': 1, 'solver': 'newton-cg'}</td>\n",
              "      <td>0.865983</td>\n",
              "      <td>0.869462</td>\n",
              "      <td>0.868871</td>\n",
              "      <td>0.868106</td>\n",
              "      <td>0.001520</td>\n",
              "      <td>1</td>\n",
              "      <td>0.989907</td>\n",
              "      <td>0.990582</td>\n",
              "      <td>0.989930</td>\n",
              "      <td>0.990140</td>\n",
              "      <td>0.000313</td>\n",
              "    </tr>\n",
              "  </tbody>\n",
              "</table>\n",
              "</div>"
            ],
            "text/plain": [
              "    mean_fit_time  std_fit_time  mean_score_time  std_score_time param_C  \\\n",
              "0       73.502000      1.455523         0.076254        0.014331    0.01   \n",
              "1       19.606079      0.484151         0.086426        0.006731    0.01   \n",
              "2       16.128505      1.807072         0.078616        0.013183    0.01   \n",
              "3       64.311959      1.794990         0.077983        0.002421    0.01   \n",
              "4      172.404704      4.913921         0.069942        0.001504     0.1   \n",
              "5       37.894807      3.816346         0.077832        0.005719     0.1   \n",
              "6       49.814538      3.272330         0.076500        0.005194     0.1   \n",
              "7      101.758355      4.546097         0.083573        0.006494     0.1   \n",
              "8      316.864108      8.276075         0.068149        0.001781       1   \n",
              "9       67.220585      2.225519         0.079610        0.004132       1   \n",
              "10     190.772281     13.586098         0.076098        0.017822       1   \n",
              "11     106.483226      3.089520         0.055140        0.012320       1   \n",
              "\n",
              "   param_solver                              params  split0_test_score  \\\n",
              "0         lbfgs      {'C': 0.01, 'solver': 'lbfgs'}           0.844538   \n",
              "1     liblinear  {'C': 0.01, 'solver': 'liblinear'}           0.844832   \n",
              "2           sag        {'C': 0.01, 'solver': 'sag'}           0.844578   \n",
              "3     newton-cg  {'C': 0.01, 'solver': 'newton-cg'}           0.844526   \n",
              "4         lbfgs       {'C': 0.1, 'solver': 'lbfgs'}           0.864925   \n",
              "5     liblinear   {'C': 0.1, 'solver': 'liblinear'}           0.865049   \n",
              "6           sag         {'C': 0.1, 'solver': 'sag'}           0.865062   \n",
              "7     newton-cg   {'C': 0.1, 'solver': 'newton-cg'}           0.864925   \n",
              "8         lbfgs         {'C': 1, 'solver': 'lbfgs'}           0.865944   \n",
              "9     liblinear     {'C': 1, 'solver': 'liblinear'}           0.865931   \n",
              "10          sag           {'C': 1, 'solver': 'sag'}           0.865919   \n",
              "11    newton-cg     {'C': 1, 'solver': 'newton-cg'}           0.865983   \n",
              "\n",
              "    split1_test_score  split2_test_score  mean_test_score  std_test_score  \\\n",
              "0            0.845369           0.844945         0.844951        0.000339   \n",
              "1            0.845611           0.845249         0.845231        0.000318   \n",
              "2            0.845365           0.844989         0.844977        0.000321   \n",
              "3            0.845369           0.844957         0.844951        0.000344   \n",
              "4            0.866468           0.866172         0.865855        0.000669   \n",
              "5            0.866504           0.866194         0.865915        0.000625   \n",
              "6            0.866495           0.866202         0.865920        0.000618   \n",
              "7            0.866498           0.866151         0.865858        0.000675   \n",
              "8            0.869458           0.868897         0.868100        0.001541   \n",
              "9            0.869462           0.868880         0.868091        0.001546   \n",
              "10           0.869409           0.868703         0.868011        0.001507   \n",
              "11           0.869462           0.868871         0.868106        0.001520   \n",
              "\n",
              "    rank_test_score  split0_train_score  split1_train_score  \\\n",
              "0                11            0.879670            0.879899   \n",
              "1                 9            0.880062            0.880177   \n",
              "2                10            0.879695            0.879916   \n",
              "3                12            0.879662            0.879913   \n",
              "4                 8            0.973440            0.973834   \n",
              "5                 6            0.973494            0.973849   \n",
              "6                 5            0.973493            0.973849   \n",
              "7                 7            0.973448            0.973834   \n",
              "8                 2            0.989907            0.990582   \n",
              "9                 3            0.989907            0.990582   \n",
              "10                4            0.989875            0.990566   \n",
              "11                1            0.989907            0.990582   \n",
              "\n",
              "    split2_train_score  mean_train_score  std_train_score  \n",
              "0             0.879860          0.879809         0.000100  \n",
              "1             0.880243          0.880161         0.000075  \n",
              "2             0.879896          0.879836         0.000100  \n",
              "3             0.879866          0.879814         0.000109  \n",
              "4             0.973692          0.973655         0.000163  \n",
              "5             0.973760          0.973701         0.000151  \n",
              "6             0.973745          0.973696         0.000149  \n",
              "7             0.973707          0.973663         0.000161  \n",
              "8             0.989930          0.990140         0.000313  \n",
              "9             0.989930          0.990140         0.000313  \n",
              "10            0.989922          0.990121         0.000315  \n",
              "11            0.989930          0.990140         0.000313  "
            ]
          },
          "execution_count": 131,
          "metadata": {},
          "output_type": "execute_result"
        }
      ],
      "source": [
        "results_lr=pd.DataFrame(gscv_lr.cv_results_)\n",
        "results_lr"
      ]
    },
    {
      "cell_type": "code",
      "execution_count": null,
      "id": "ec79beab",
      "metadata": {
        "execution": {
          "iopub.execute_input": "2023-08-28T19:49:54.994791Z",
          "iopub.status.busy": "2023-08-28T19:49:54.994414Z",
          "iopub.status.idle": "2023-08-28T19:49:55.000821Z",
          "shell.execute_reply": "2023-08-28T19:49:54.999832Z"
        },
        "papermill": {
          "duration": 0.069936,
          "end_time": "2023-08-28T19:49:55.002849",
          "exception": false,
          "start_time": "2023-08-28T19:49:54.932913",
          "status": "completed"
        },
        "tags": [],
        "id": "ec79beab",
        "outputId": "2f8ed479-70fc-4613-c130-e86ce69e1945"
      },
      "outputs": [
        {
          "data": {
            "text/plain": [
              "{'C': 1, 'solver': 'newton-cg'}"
            ]
          },
          "execution_count": 132,
          "metadata": {},
          "output_type": "execute_result"
        }
      ],
      "source": [
        "gscv_lr.best_params_"
      ]
    },
    {
      "cell_type": "code",
      "execution_count": null,
      "id": "7f5552fa",
      "metadata": {
        "execution": {
          "iopub.execute_input": "2023-08-28T19:49:55.124854Z",
          "iopub.status.busy": "2023-08-28T19:49:55.124148Z",
          "iopub.status.idle": "2023-08-28T19:49:55.292540Z",
          "shell.execute_reply": "2023-08-28T19:49:55.291648Z"
        },
        "papermill": {
          "duration": 0.231806,
          "end_time": "2023-08-28T19:49:55.294742",
          "exception": false,
          "start_time": "2023-08-28T19:49:55.062936",
          "status": "completed"
        },
        "tags": [],
        "id": "7f5552fa",
        "outputId": "8c6e5bd9-e6da-40ce-f8af-f7acc1aec5f2"
      },
      "outputs": [
        {
          "data": {
            "text/plain": [
              "(0.989801164681811, 0.8727136737607942)"
            ]
          },
          "execution_count": 133,
          "metadata": {},
          "output_type": "execute_result"
        }
      ],
      "source": [
        "gscv_lr.score(x_train_t, y_train),gscv_lr.score(x_test_t, y_test)"
      ]
    },
    {
      "cell_type": "code",
      "execution_count": null,
      "id": "2ee7f01c",
      "metadata": {
        "execution": {
          "iopub.execute_input": "2023-08-28T19:49:55.417576Z",
          "iopub.status.busy": "2023-08-28T19:49:55.417219Z",
          "iopub.status.idle": "2023-08-28T19:49:55.429362Z",
          "shell.execute_reply": "2023-08-28T19:49:55.428506Z"
        },
        "papermill": {
          "duration": 0.076058,
          "end_time": "2023-08-28T19:49:55.431581",
          "exception": false,
          "start_time": "2023-08-28T19:49:55.355523",
          "status": "completed"
        },
        "tags": [],
        "id": "2ee7f01c"
      },
      "outputs": [],
      "source": [
        "y_pred_lr=gscv_lr.predict(x_test_t)"
      ]
    },
    {
      "cell_type": "code",
      "execution_count": null,
      "id": "ba9499a1",
      "metadata": {
        "execution": {
          "iopub.execute_input": "2023-08-28T19:49:55.557050Z",
          "iopub.status.busy": "2023-08-28T19:49:55.556074Z",
          "iopub.status.idle": "2023-08-28T19:49:55.602404Z",
          "shell.execute_reply": "2023-08-28T19:49:55.601356Z"
        },
        "papermill": {
          "duration": 0.110115,
          "end_time": "2023-08-28T19:49:55.604851",
          "exception": false,
          "start_time": "2023-08-28T19:49:55.494736",
          "status": "completed"
        },
        "tags": [],
        "id": "ba9499a1",
        "outputId": "2cf92611-7fd8-4b15-ab46-875dec29bc2a"
      },
      "outputs": [
        {
          "name": "stdout",
          "output_type": "stream",
          "text": [
            "              precision    recall  f1-score   support\n",
            "\n",
            "           0       0.77      0.66      0.71      6992\n",
            "           1       0.84      0.91      0.87     14167\n",
            "\n",
            "    accuracy                           0.82     21159\n",
            "   macro avg       0.81      0.78      0.79     21159\n",
            "weighted avg       0.82      0.82      0.82     21159\n",
            "\n"
          ]
        }
      ],
      "source": [
        "print(classification_report(y_test,y_pred_lr, labels=[0,1]))"
      ]
    },
    {
      "cell_type": "code",
      "execution_count": null,
      "id": "b7158291",
      "metadata": {
        "execution": {
          "iopub.execute_input": "2023-08-28T19:49:55.731383Z",
          "iopub.status.busy": "2023-08-28T19:49:55.730236Z",
          "iopub.status.idle": "2023-08-28T19:49:55.735835Z",
          "shell.execute_reply": "2023-08-28T19:49:55.735084Z"
        },
        "papermill": {
          "duration": 0.070591,
          "end_time": "2023-08-28T19:49:55.737862",
          "exception": false,
          "start_time": "2023-08-28T19:49:55.667271",
          "status": "completed"
        },
        "tags": [],
        "id": "b7158291"
      },
      "outputs": [],
      "source": [
        "x_lr= results_lr['param_C']\n",
        "y_lr= results_lr['mean_test_score']\n",
        "y2_lr= results_lr['mean_train_score']\n"
      ]
    },
    {
      "cell_type": "code",
      "execution_count": null,
      "id": "a9f02b4d",
      "metadata": {
        "execution": {
          "iopub.execute_input": "2023-08-28T19:49:55.863640Z",
          "iopub.status.busy": "2023-08-28T19:49:55.862997Z",
          "iopub.status.idle": "2023-08-28T19:49:56.089851Z",
          "shell.execute_reply": "2023-08-28T19:49:56.088850Z"
        },
        "papermill": {
          "duration": 0.292474,
          "end_time": "2023-08-28T19:49:56.092039",
          "exception": false,
          "start_time": "2023-08-28T19:49:55.799565",
          "status": "completed"
        },
        "tags": [],
        "id": "a9f02b4d",
        "outputId": "b0a3bde3-751d-4497-86de-c89395de0b92"
      },
      "outputs": [
        {
          "data": {
            "text/plain": [
              "[<matplotlib.lines.Line2D at 0x7a71dcfc64d0>]"
            ]
          },
          "execution_count": 137,
          "metadata": {},
          "output_type": "execute_result"
        },
        {
          "data": {
            "image/png": "[encoded data removed]",
            "text/plain": [
              "<Figure size 640x480 with 1 Axes>"
            ]
          },
          "metadata": {},
          "output_type": "display_data"
        }
      ],
      "source": [
        "plt.plot(x_lr,y_lr)"
      ]
    },
    {
      "cell_type": "code",
      "execution_count": null,
      "id": "999b1a0d",
      "metadata": {
        "execution": {
          "iopub.execute_input": "2023-08-28T19:49:56.216118Z",
          "iopub.status.busy": "2023-08-28T19:49:56.215711Z",
          "iopub.status.idle": "2023-08-28T19:49:56.447981Z",
          "shell.execute_reply": "2023-08-28T19:49:56.446829Z"
        },
        "papermill": {
          "duration": 0.297026,
          "end_time": "2023-08-28T19:49:56.450286",
          "exception": false,
          "start_time": "2023-08-28T19:49:56.153260",
          "status": "completed"
        },
        "tags": [],
        "id": "999b1a0d",
        "outputId": "6263138d-f20c-405a-c509-4a3344a15782"
      },
      "outputs": [
        {
          "data": {
            "text/plain": [
              "[<matplotlib.lines.Line2D at 0x7a71cd48f580>]"
            ]
          },
          "execution_count": 138,
          "metadata": {},
          "output_type": "execute_result"
        },
        {
          "data": {
            "image/png": "[encoded data removed]",
            "text/plain": [
              "<Figure size 640x480 with 1 Axes>"
            ]
          },
          "metadata": {},
          "output_type": "display_data"
        }
      ],
      "source": [
        "plt.plot(x_lr,y2_lr)"
      ]
    },
    {
      "cell_type": "markdown",
      "id": "661158d1",
      "metadata": {
        "papermill": {
          "duration": 0.061554,
          "end_time": "2023-08-28T19:49:56.575616",
          "exception": false,
          "start_time": "2023-08-28T19:49:56.514062",
          "status": "completed"
        },
        "tags": [],
        "id": "661158d1"
      },
      "source": [
        "***Insights***\n",
        "\n",
        "*For 'C' we observed here is that for both validation and train score the trend of increase in the value of C, which means that decreasing regularization is leading to an increase in both the train and validation efficiency.This is not the case for our test and train data, this could be because since it is the same dataset overfitting might be resulting better score. The best parameters that were obtained were: solver:'newton-cg' and 'C':1.\n",
        "However, we saw that the solver hardly made any difference for the score and C was main the reason for its change.\n",
        "For the score on our validation set we see that the final parameters yield the best score and the lowest difference between train and validation score.Moreover, the default solver gives the same result as newton-cg*"
      ]
    },
    {
      "cell_type": "markdown",
      "id": "1c75fb1d",
      "metadata": {
        "papermill": {
          "duration": 0.062371,
          "end_time": "2023-08-28T19:49:56.700461",
          "exception": false,
          "start_time": "2023-08-28T19:49:56.638090",
          "status": "completed"
        },
        "tags": [],
        "id": "1c75fb1d"
      },
      "source": [
        "# *Model-3--Perceptron*"
      ]
    },
    {
      "cell_type": "code",
      "execution_count": null,
      "id": "98a5f980",
      "metadata": {
        "execution": {
          "iopub.execute_input": "2023-08-28T19:49:56.826519Z",
          "iopub.status.busy": "2023-08-28T19:49:56.826093Z",
          "iopub.status.idle": "2023-08-28T19:49:56.831117Z",
          "shell.execute_reply": "2023-08-28T19:49:56.830058Z"
        },
        "papermill": {
          "duration": 0.070833,
          "end_time": "2023-08-28T19:49:56.833083",
          "exception": false,
          "start_time": "2023-08-28T19:49:56.762250",
          "status": "completed"
        },
        "tags": [],
        "id": "98a5f980"
      },
      "outputs": [],
      "source": [
        "from sklearn.linear_model import Perceptron\n",
        "perc=Perceptron(eta0=0.01)"
      ]
    },
    {
      "cell_type": "code",
      "execution_count": null,
      "id": "e8a64edf",
      "metadata": {
        "execution": {
          "iopub.execute_input": "2023-08-28T19:49:56.959975Z",
          "iopub.status.busy": "2023-08-28T19:49:56.959555Z",
          "iopub.status.idle": "2023-08-28T19:49:58.134339Z",
          "shell.execute_reply": "2023-08-28T19:49:58.133332Z"
        },
        "papermill": {
          "duration": 1.241089,
          "end_time": "2023-08-28T19:49:58.136441",
          "exception": false,
          "start_time": "2023-08-28T19:49:56.895352",
          "status": "completed"
        },
        "tags": [],
        "id": "e8a64edf",
        "outputId": "b25a3612-0be1-4445-d64b-213f0821b162"
      },
      "outputs": [
        {
          "data": {
            "text/html": [
              "<style>#sk-container-id-7 {color: black;background-color: white;}#sk-container-id-7 pre{padding: 0;}#sk-container-id-7 div.sk-toggleable {background-color: white;}#sk-container-id-7 label.sk-toggleable__label {cursor: pointer;display: block;width: 100%;margin-bottom: 0;padding: 0.3em;box-sizing: border-box;text-align: center;}#sk-container-id-7 label.sk-toggleable__label-arrow:before {content: \"▸\";float: left;margin-right: 0.25em;color: #696969;}#sk-container-id-7 label.sk-toggleable__label-arrow:hover:before {color: black;}#sk-container-id-7 div.sk-estimator:hover label.sk-toggleable__label-arrow:before {color: black;}#sk-container-id-7 div.sk-toggleable__content {max-height: 0;max-width: 0;overflow: hidden;text-align: left;background-color: #f0f8ff;}#sk-container-id-7 div.sk-toggleable__content pre {margin: 0.2em;color: black;border-radius: 0.25em;background-color: #f0f8ff;}#sk-container-id-7 input.sk-toggleable__control:checked~div.sk-toggleable__content {max-height: 200px;max-width: 100%;overflow: auto;}#sk-container-id-7 input.sk-toggleable__control:checked~label.sk-toggleable__label-arrow:before {content: \"▾\";}#sk-container-id-7 div.sk-estimator input.sk-toggleable__control:checked~label.sk-toggleable__label {background-color: #d4ebff;}#sk-container-id-7 div.sk-label input.sk-toggleable__control:checked~label.sk-toggleable__label {background-color: #d4ebff;}#sk-container-id-7 input.sk-hidden--visually {border: 0;clip: rect(1px 1px 1px 1px);clip: rect(1px, 1px, 1px, 1px);height: 1px;margin: -1px;overflow: hidden;padding: 0;position: absolute;width: 1px;}#sk-container-id-7 div.sk-estimator {font-family: monospace;background-color: #f0f8ff;border: 1px dotted black;border-radius: 0.25em;box-sizing: border-box;margin-bottom: 0.5em;}#sk-container-id-7 div.sk-estimator:hover {background-color: #d4ebff;}#sk-container-id-7 div.sk-parallel-item::after {content: \"\";width: 100%;border-bottom: 1px solid gray;flex-grow: 1;}#sk-container-id-7 div.sk-label:hover label.sk-toggleable__label {background-color: #d4ebff;}#sk-container-id-7 div.sk-serial::before {content: \"\";position: absolute;border-left: 1px solid gray;box-sizing: border-box;top: 0;bottom: 0;left: 50%;z-index: 0;}#sk-container-id-7 div.sk-serial {display: flex;flex-direction: column;align-items: center;background-color: white;padding-right: 0.2em;padding-left: 0.2em;position: relative;}#sk-container-id-7 div.sk-item {position: relative;z-index: 1;}#sk-container-id-7 div.sk-parallel {display: flex;align-items: stretch;justify-content: center;background-color: white;position: relative;}#sk-container-id-7 div.sk-item::before, #sk-container-id-7 div.sk-parallel-item::before {content: \"\";position: absolute;border-left: 1px solid gray;box-sizing: border-box;top: 0;bottom: 0;left: 50%;z-index: -1;}#sk-container-id-7 div.sk-parallel-item {display: flex;flex-direction: column;z-index: 1;position: relative;background-color: white;}#sk-container-id-7 div.sk-parallel-item:first-child::after {align-self: flex-end;width: 50%;}#sk-container-id-7 div.sk-parallel-item:last-child::after {align-self: flex-start;width: 50%;}#sk-container-id-7 div.sk-parallel-item:only-child::after {width: 0;}#sk-container-id-7 div.sk-dashed-wrapped {border: 1px dashed gray;margin: 0 0.4em 0.5em 0.4em;box-sizing: border-box;padding-bottom: 0.4em;background-color: white;}#sk-container-id-7 div.sk-label label {font-family: monospace;font-weight: bold;display: inline-block;line-height: 1.2em;}#sk-container-id-7 div.sk-label-container {text-align: center;}#sk-container-id-7 div.sk-container {/* jupyter's `normalize.less` sets `[hidden] { display: none; }` but bootstrap.min.css set `[hidden] { display: none !important; }` so we also need the `!important` here to be able to override the default hidden behavior on the sphinx rendered scikit-learn.org. See: https://github.com/scikit-learn/scikit-learn/issues/21755 */display: inline-block !important;position: relative;}#sk-container-id-7 div.sk-text-repr-fallback {display: none;}</style><div id=\"sk-container-id-7\" class=\"sk-top-container\"><div class=\"sk-text-repr-fallback\"><pre>Perceptron(eta0=0.01)</pre><b>In a Jupyter environment, please rerun this cell to show the HTML representation or trust the notebook. <br />On GitHub, the HTML representation is unable to render, please try loading this page with nbviewer.org.</b></div><div class=\"sk-container\" hidden><div class=\"sk-item\"><div class=\"sk-estimator sk-toggleable\"><input class=\"sk-toggleable__control sk-hidden--visually\" id=\"sk-estimator-id-24\" type=\"checkbox\" checked><label for=\"sk-estimator-id-24\" class=\"sk-toggleable__label sk-toggleable__label-arrow\">Perceptron</label><div class=\"sk-toggleable__content\"><pre>Perceptron(eta0=0.01)</pre></div></div></div></div></div>"
            ],
            "text/plain": [
              "Perceptron(eta0=0.01)"
            ]
          },
          "execution_count": 140,
          "metadata": {},
          "output_type": "execute_result"
        }
      ],
      "source": [
        "perc.fit(x_train_t,y_train)"
      ]
    },
    {
      "cell_type": "code",
      "execution_count": null,
      "id": "90968edb",
      "metadata": {
        "execution": {
          "iopub.execute_input": "2023-08-28T19:49:58.260562Z",
          "iopub.status.busy": "2023-08-28T19:49:58.260176Z",
          "iopub.status.idle": "2023-08-28T19:49:58.369418Z",
          "shell.execute_reply": "2023-08-28T19:49:58.368189Z"
        },
        "papermill": {
          "duration": 0.173839,
          "end_time": "2023-08-28T19:49:58.371628",
          "exception": false,
          "start_time": "2023-08-28T19:49:58.197789",
          "status": "completed"
        },
        "tags": [],
        "id": "90968edb",
        "outputId": "66ece18c-899a-408e-d5dc-a92db4ff5915"
      },
      "outputs": [
        {
          "data": {
            "text/plain": [
              "(0.9764475737823007, 0.8048111914551728)"
            ]
          },
          "execution_count": 141,
          "metadata": {},
          "output_type": "execute_result"
        }
      ],
      "source": [
        "perc.score(x_train_t,y_train), perc.score(x_test_t,y_test)"
      ]
    },
    {
      "cell_type": "code",
      "execution_count": null,
      "id": "4f5102a8",
      "metadata": {
        "execution": {
          "iopub.execute_input": "2023-08-28T19:49:58.498215Z",
          "iopub.status.busy": "2023-08-28T19:49:58.497479Z",
          "iopub.status.idle": "2023-08-28T19:49:58.551406Z",
          "shell.execute_reply": "2023-08-28T19:49:58.550333Z"
        },
        "papermill": {
          "duration": 0.118911,
          "end_time": "2023-08-28T19:49:58.553414",
          "exception": false,
          "start_time": "2023-08-28T19:49:58.434503",
          "status": "completed"
        },
        "tags": [],
        "id": "4f5102a8",
        "outputId": "623ad74d-9201-4e48-e93c-5f5edea343b4"
      },
      "outputs": [
        {
          "name": "stdout",
          "output_type": "stream",
          "text": [
            "              precision    recall  f1-score   support\n",
            "\n",
            "           0       0.73      0.65      0.69      6992\n",
            "           1       0.84      0.88      0.86     14167\n",
            "\n",
            "    accuracy                           0.80     21159\n",
            "   macro avg       0.78      0.77      0.77     21159\n",
            "weighted avg       0.80      0.80      0.80     21159\n",
            "\n"
          ]
        }
      ],
      "source": [
        "y_pred_perc=perc.predict(x_test_t)\n",
        "from sklearn.metrics import classification_report\n",
        "print(classification_report(y_test,y_pred_perc, labels=[0,1]))"
      ]
    },
    {
      "cell_type": "markdown",
      "id": "f2bcd62a",
      "metadata": {
        "papermill": {
          "duration": 0.06172,
          "end_time": "2023-08-28T19:49:58.676209",
          "exception": false,
          "start_time": "2023-08-28T19:49:58.614489",
          "status": "completed"
        },
        "tags": [],
        "id": "f2bcd62a"
      },
      "source": [
        "*We see that the f1-score for both 0 and 1 is  for this model is lower than the earlier  two. Moreso, for 1 than for 0. It could be because of that we get a lower test score.*"
      ]
    },
    {
      "cell_type": "markdown",
      "id": "89c79345",
      "metadata": {
        "papermill": {
          "duration": 0.062596,
          "end_time": "2023-08-28T19:49:58.800372",
          "exception": false,
          "start_time": "2023-08-28T19:49:58.737776",
          "status": "completed"
        },
        "tags": [],
        "id": "89c79345"
      },
      "source": [
        "***Hyperparameter tuning of Perceptron.***"
      ]
    },
    {
      "cell_type": "code",
      "execution_count": null,
      "id": "684eff3f",
      "metadata": {
        "execution": {
          "iopub.execute_input": "2023-08-28T19:49:58.927734Z",
          "iopub.status.busy": "2023-08-28T19:49:58.927043Z",
          "iopub.status.idle": "2023-08-28T19:49:58.932075Z",
          "shell.execute_reply": "2023-08-28T19:49:58.931138Z"
        },
        "papermill": {
          "duration": 0.070551,
          "end_time": "2023-08-28T19:49:58.934232",
          "exception": false,
          "start_time": "2023-08-28T19:49:58.863681",
          "status": "completed"
        },
        "tags": [],
        "id": "684eff3f"
      },
      "outputs": [],
      "source": [
        "from sklearn.model_selection import GridSearchCV\n",
        "param_grid={'eta0':[0.01,0.05,1,10], 'penalty':['l1','l2',None]}\n"
      ]
    },
    {
      "cell_type": "code",
      "execution_count": null,
      "id": "faceddf0",
      "metadata": {
        "execution": {
          "iopub.execute_input": "2023-08-28T19:49:59.059869Z",
          "iopub.status.busy": "2023-08-28T19:49:59.059180Z",
          "iopub.status.idle": "2023-08-28T19:49:59.063946Z",
          "shell.execute_reply": "2023-08-28T19:49:59.063269Z"
        },
        "papermill": {
          "duration": 0.069482,
          "end_time": "2023-08-28T19:49:59.066089",
          "exception": false,
          "start_time": "2023-08-28T19:49:58.996607",
          "status": "completed"
        },
        "tags": [],
        "id": "faceddf0"
      },
      "outputs": [],
      "source": [
        "gscv_perc= GridSearchCV(estimator=perc,param_grid=param_grid,cv=3,n_jobs=-1)"
      ]
    },
    {
      "cell_type": "code",
      "execution_count": null,
      "id": "2c367a96",
      "metadata": {
        "execution": {
          "iopub.execute_input": "2023-08-28T19:49:59.190857Z",
          "iopub.status.busy": "2023-08-28T19:49:59.190489Z",
          "iopub.status.idle": "2023-08-28T19:50:23.049974Z",
          "shell.execute_reply": "2023-08-28T19:50:23.048945Z"
        },
        "papermill": {
          "duration": 23.924814,
          "end_time": "2023-08-28T19:50:23.052326",
          "exception": false,
          "start_time": "2023-08-28T19:49:59.127512",
          "status": "completed"
        },
        "tags": [],
        "id": "2c367a96",
        "outputId": "66cdae9f-e067-44e9-f1bb-ada0b9d89e7b"
      },
      "outputs": [
        {
          "data": {
            "text/html": [
              "<style>#sk-container-id-8 {color: black;background-color: white;}#sk-container-id-8 pre{padding: 0;}#sk-container-id-8 div.sk-toggleable {background-color: white;}#sk-container-id-8 label.sk-toggleable__label {cursor: pointer;display: block;width: 100%;margin-bottom: 0;padding: 0.3em;box-sizing: border-box;text-align: center;}#sk-container-id-8 label.sk-toggleable__label-arrow:before {content: \"▸\";float: left;margin-right: 0.25em;color: #696969;}#sk-container-id-8 label.sk-toggleable__label-arrow:hover:before {color: black;}#sk-container-id-8 div.sk-estimator:hover label.sk-toggleable__label-arrow:before {color: black;}#sk-container-id-8 div.sk-toggleable__content {max-height: 0;max-width: 0;overflow: hidden;text-align: left;background-color: #f0f8ff;}#sk-container-id-8 div.sk-toggleable__content pre {margin: 0.2em;color: black;border-radius: 0.25em;background-color: #f0f8ff;}#sk-container-id-8 input.sk-toggleable__control:checked~div.sk-toggleable__content {max-height: 200px;max-width: 100%;overflow: auto;}#sk-container-id-8 input.sk-toggleable__control:checked~label.sk-toggleable__label-arrow:before {content: \"▾\";}#sk-container-id-8 div.sk-estimator input.sk-toggleable__control:checked~label.sk-toggleable__label {background-color: #d4ebff;}#sk-container-id-8 div.sk-label input.sk-toggleable__control:checked~label.sk-toggleable__label {background-color: #d4ebff;}#sk-container-id-8 input.sk-hidden--visually {border: 0;clip: rect(1px 1px 1px 1px);clip: rect(1px, 1px, 1px, 1px);height: 1px;margin: -1px;overflow: hidden;padding: 0;position: absolute;width: 1px;}#sk-container-id-8 div.sk-estimator {font-family: monospace;background-color: #f0f8ff;border: 1px dotted black;border-radius: 0.25em;box-sizing: border-box;margin-bottom: 0.5em;}#sk-container-id-8 div.sk-estimator:hover {background-color: #d4ebff;}#sk-container-id-8 div.sk-parallel-item::after {content: \"\";width: 100%;border-bottom: 1px solid gray;flex-grow: 1;}#sk-container-id-8 div.sk-label:hover label.sk-toggleable__label {background-color: #d4ebff;}#sk-container-id-8 div.sk-serial::before {content: \"\";position: absolute;border-left: 1px solid gray;box-sizing: border-box;top: 0;bottom: 0;left: 50%;z-index: 0;}#sk-container-id-8 div.sk-serial {display: flex;flex-direction: column;align-items: center;background-color: white;padding-right: 0.2em;padding-left: 0.2em;position: relative;}#sk-container-id-8 div.sk-item {position: relative;z-index: 1;}#sk-container-id-8 div.sk-parallel {display: flex;align-items: stretch;justify-content: center;background-color: white;position: relative;}#sk-container-id-8 div.sk-item::before, #sk-container-id-8 div.sk-parallel-item::before {content: \"\";position: absolute;border-left: 1px solid gray;box-sizing: border-box;top: 0;bottom: 0;left: 50%;z-index: -1;}#sk-container-id-8 div.sk-parallel-item {display: flex;flex-direction: column;z-index: 1;position: relative;background-color: white;}#sk-container-id-8 div.sk-parallel-item:first-child::after {align-self: flex-end;width: 50%;}#sk-container-id-8 div.sk-parallel-item:last-child::after {align-self: flex-start;width: 50%;}#sk-container-id-8 div.sk-parallel-item:only-child::after {width: 0;}#sk-container-id-8 div.sk-dashed-wrapped {border: 1px dashed gray;margin: 0 0.4em 0.5em 0.4em;box-sizing: border-box;padding-bottom: 0.4em;background-color: white;}#sk-container-id-8 div.sk-label label {font-family: monospace;font-weight: bold;display: inline-block;line-height: 1.2em;}#sk-container-id-8 div.sk-label-container {text-align: center;}#sk-container-id-8 div.sk-container {/* jupyter's `normalize.less` sets `[hidden] { display: none; }` but bootstrap.min.css set `[hidden] { display: none !important; }` so we also need the `!important` here to be able to override the default hidden behavior on the sphinx rendered scikit-learn.org. See: https://github.com/scikit-learn/scikit-learn/issues/21755 */display: inline-block !important;position: relative;}#sk-container-id-8 div.sk-text-repr-fallback {display: none;}</style><div id=\"sk-container-id-8\" class=\"sk-top-container\"><div class=\"sk-text-repr-fallback\"><pre>GridSearchCV(cv=3, estimator=Perceptron(eta0=0.01), n_jobs=-1,\n",
              "             param_grid={&#x27;eta0&#x27;: [0.01, 0.05, 1, 10],\n",
              "                         &#x27;penalty&#x27;: [&#x27;l1&#x27;, &#x27;l2&#x27;, None]})</pre><b>In a Jupyter environment, please rerun this cell to show the HTML representation or trust the notebook. <br />On GitHub, the HTML representation is unable to render, please try loading this page with nbviewer.org.</b></div><div class=\"sk-container\" hidden><div class=\"sk-item sk-dashed-wrapped\"><div class=\"sk-label-container\"><div class=\"sk-label sk-toggleable\"><input class=\"sk-toggleable__control sk-hidden--visually\" id=\"sk-estimator-id-25\" type=\"checkbox\" ><label for=\"sk-estimator-id-25\" class=\"sk-toggleable__label sk-toggleable__label-arrow\">GridSearchCV</label><div class=\"sk-toggleable__content\"><pre>GridSearchCV(cv=3, estimator=Perceptron(eta0=0.01), n_jobs=-1,\n",
              "             param_grid={&#x27;eta0&#x27;: [0.01, 0.05, 1, 10],\n",
              "                         &#x27;penalty&#x27;: [&#x27;l1&#x27;, &#x27;l2&#x27;, None]})</pre></div></div></div><div class=\"sk-parallel\"><div class=\"sk-parallel-item\"><div class=\"sk-item\"><div class=\"sk-label-container\"><div class=\"sk-label sk-toggleable\"><input class=\"sk-toggleable__control sk-hidden--visually\" id=\"sk-estimator-id-26\" type=\"checkbox\" ><label for=\"sk-estimator-id-26\" class=\"sk-toggleable__label sk-toggleable__label-arrow\">estimator: Perceptron</label><div class=\"sk-toggleable__content\"><pre>Perceptron(eta0=0.01)</pre></div></div></div><div class=\"sk-serial\"><div class=\"sk-item\"><div class=\"sk-estimator sk-toggleable\"><input class=\"sk-toggleable__control sk-hidden--visually\" id=\"sk-estimator-id-27\" type=\"checkbox\" ><label for=\"sk-estimator-id-27\" class=\"sk-toggleable__label sk-toggleable__label-arrow\">Perceptron</label><div class=\"sk-toggleable__content\"><pre>Perceptron(eta0=0.01)</pre></div></div></div></div></div></div></div></div></div></div>"
            ],
            "text/plain": [
              "GridSearchCV(cv=3, estimator=Perceptron(eta0=0.01), n_jobs=-1,\n",
              "             param_grid={'eta0': [0.01, 0.05, 1, 10],\n",
              "                         'penalty': ['l1', 'l2', None]})"
            ]
          },
          "execution_count": 145,
          "metadata": {},
          "output_type": "execute_result"
        }
      ],
      "source": [
        "gscv_perc.fit(x_train_t,y_train)"
      ]
    },
    {
      "cell_type": "code",
      "execution_count": null,
      "id": "60be31f2",
      "metadata": {
        "execution": {
          "iopub.execute_input": "2023-08-28T19:50:23.178459Z",
          "iopub.status.busy": "2023-08-28T19:50:23.178073Z",
          "iopub.status.idle": "2023-08-28T19:50:23.201326Z",
          "shell.execute_reply": "2023-08-28T19:50:23.200597Z"
        },
        "papermill": {
          "duration": 0.087921,
          "end_time": "2023-08-28T19:50:23.203203",
          "exception": false,
          "start_time": "2023-08-28T19:50:23.115282",
          "status": "completed"
        },
        "tags": [],
        "id": "60be31f2",
        "outputId": "e7b6aa91-e550-4b27-e4fd-18c984321b67"
      },
      "outputs": [
        {
          "data": {
            "text/html": [
              "<div>\n",
              "<style scoped>\n",
              "    .dataframe tbody tr th:only-of-type {\n",
              "        vertical-align: middle;\n",
              "    }\n",
              "\n",
              "    .dataframe tbody tr th {\n",
              "        vertical-align: top;\n",
              "    }\n",
              "\n",
              "    .dataframe thead th {\n",
              "        text-align: right;\n",
              "    }\n",
              "</style>\n",
              "<table border=\"1\" class=\"dataframe\">\n",
              "  <thead>\n",
              "    <tr style=\"text-align: right;\">\n",
              "      <th></th>\n",
              "      <th>mean_fit_time</th>\n",
              "      <th>std_fit_time</th>\n",
              "      <th>mean_score_time</th>\n",
              "      <th>std_score_time</th>\n",
              "      <th>param_eta0</th>\n",
              "      <th>param_penalty</th>\n",
              "      <th>params</th>\n",
              "      <th>split0_test_score</th>\n",
              "      <th>split1_test_score</th>\n",
              "      <th>split2_test_score</th>\n",
              "      <th>mean_test_score</th>\n",
              "      <th>std_test_score</th>\n",
              "      <th>rank_test_score</th>\n",
              "    </tr>\n",
              "  </thead>\n",
              "  <tbody>\n",
              "    <tr>\n",
              "      <th>0</th>\n",
              "      <td>2.070093</td>\n",
              "      <td>0.193070</td>\n",
              "      <td>0.046881</td>\n",
              "      <td>0.001998</td>\n",
              "      <td>0.01</td>\n",
              "      <td>l1</td>\n",
              "      <td>{'eta0': 0.01, 'penalty': 'l1'}</td>\n",
              "      <td>0.705191</td>\n",
              "      <td>0.690487</td>\n",
              "      <td>0.711223</td>\n",
              "      <td>0.702300</td>\n",
              "      <td>0.008708</td>\n",
              "      <td>8</td>\n",
              "    </tr>\n",
              "    <tr>\n",
              "      <th>1</th>\n",
              "      <td>1.214295</td>\n",
              "      <td>0.030122</td>\n",
              "      <td>0.047718</td>\n",
              "      <td>0.001937</td>\n",
              "      <td>0.01</td>\n",
              "      <td>l2</td>\n",
              "      <td>{'eta0': 0.01, 'penalty': 'l2'}</td>\n",
              "      <td>0.792585</td>\n",
              "      <td>0.779364</td>\n",
              "      <td>0.783978</td>\n",
              "      <td>0.785309</td>\n",
              "      <td>0.005479</td>\n",
              "      <td>5</td>\n",
              "    </tr>\n",
              "    <tr>\n",
              "      <th>2</th>\n",
              "      <td>1.292693</td>\n",
              "      <td>0.071896</td>\n",
              "      <td>0.049656</td>\n",
              "      <td>0.004776</td>\n",
              "      <td>0.01</td>\n",
              "      <td>None</td>\n",
              "      <td>{'eta0': 0.01, 'penalty': None}</td>\n",
              "      <td>0.799534</td>\n",
              "      <td>0.801483</td>\n",
              "      <td>0.796585</td>\n",
              "      <td>0.799201</td>\n",
              "      <td>0.002014</td>\n",
              "      <td>4</td>\n",
              "    </tr>\n",
              "    <tr>\n",
              "      <th>3</th>\n",
              "      <td>2.971315</td>\n",
              "      <td>0.369301</td>\n",
              "      <td>0.046823</td>\n",
              "      <td>0.003947</td>\n",
              "      <td>0.05</td>\n",
              "      <td>l1</td>\n",
              "      <td>{'eta0': 0.05, 'penalty': 'l1'}</td>\n",
              "      <td>0.709110</td>\n",
              "      <td>0.668814</td>\n",
              "      <td>0.711731</td>\n",
              "      <td>0.696552</td>\n",
              "      <td>0.019643</td>\n",
              "      <td>9</td>\n",
              "    </tr>\n",
              "    <tr>\n",
              "      <th>4</th>\n",
              "      <td>1.165130</td>\n",
              "      <td>0.080810</td>\n",
              "      <td>0.048493</td>\n",
              "      <td>0.003036</td>\n",
              "      <td>0.05</td>\n",
              "      <td>l2</td>\n",
              "      <td>{'eta0': 0.05, 'penalty': 'l2'}</td>\n",
              "      <td>0.766758</td>\n",
              "      <td>0.754809</td>\n",
              "      <td>0.722960</td>\n",
              "      <td>0.748176</td>\n",
              "      <td>0.018486</td>\n",
              "      <td>6</td>\n",
              "    </tr>\n",
              "    <tr>\n",
              "      <th>5</th>\n",
              "      <td>1.545158</td>\n",
              "      <td>0.099581</td>\n",
              "      <td>0.052494</td>\n",
              "      <td>0.003703</td>\n",
              "      <td>0.05</td>\n",
              "      <td>None</td>\n",
              "      <td>{'eta0': 0.05, 'penalty': None}</td>\n",
              "      <td>0.801822</td>\n",
              "      <td>0.806038</td>\n",
              "      <td>0.805526</td>\n",
              "      <td>0.804462</td>\n",
              "      <td>0.001878</td>\n",
              "      <td>1</td>\n",
              "    </tr>\n",
              "    <tr>\n",
              "      <th>6</th>\n",
              "      <td>5.373315</td>\n",
              "      <td>0.722320</td>\n",
              "      <td>0.048506</td>\n",
              "      <td>0.002827</td>\n",
              "      <td>1</td>\n",
              "      <td>l1</td>\n",
              "      <td>{'eta0': 1, 'penalty': 'l1'}</td>\n",
              "      <td>0.645127</td>\n",
              "      <td>0.716801</td>\n",
              "      <td>0.682112</td>\n",
              "      <td>0.681347</td>\n",
              "      <td>0.029266</td>\n",
              "      <td>11</td>\n",
              "    </tr>\n",
              "    <tr>\n",
              "      <th>7</th>\n",
              "      <td>1.453986</td>\n",
              "      <td>0.256480</td>\n",
              "      <td>0.042748</td>\n",
              "      <td>0.000235</td>\n",
              "      <td>1</td>\n",
              "      <td>l2</td>\n",
              "      <td>{'eta0': 1, 'penalty': 'l2'}</td>\n",
              "      <td>0.694153</td>\n",
              "      <td>0.678284</td>\n",
              "      <td>0.686455</td>\n",
              "      <td>0.686297</td>\n",
              "      <td>0.006479</td>\n",
              "      <td>10</td>\n",
              "    </tr>\n",
              "    <tr>\n",
              "      <th>8</th>\n",
              "      <td>2.236068</td>\n",
              "      <td>0.276902</td>\n",
              "      <td>0.046361</td>\n",
              "      <td>0.002308</td>\n",
              "      <td>1</td>\n",
              "      <td>None</td>\n",
              "      <td>{'eta0': 1, 'penalty': None}</td>\n",
              "      <td>0.792013</td>\n",
              "      <td>0.805360</td>\n",
              "      <td>0.802411</td>\n",
              "      <td>0.799928</td>\n",
              "      <td>0.005725</td>\n",
              "      <td>3</td>\n",
              "    </tr>\n",
              "    <tr>\n",
              "      <th>9</th>\n",
              "      <td>3.977634</td>\n",
              "      <td>0.813568</td>\n",
              "      <td>0.047249</td>\n",
              "      <td>0.002485</td>\n",
              "      <td>10</td>\n",
              "      <td>l1</td>\n",
              "      <td>{'eta0': 10, 'penalty': 'l1'}</td>\n",
              "      <td>0.709534</td>\n",
              "      <td>0.721843</td>\n",
              "      <td>0.710841</td>\n",
              "      <td>0.714073</td>\n",
              "      <td>0.005520</td>\n",
              "      <td>7</td>\n",
              "    </tr>\n",
              "    <tr>\n",
              "      <th>10</th>\n",
              "      <td>1.762933</td>\n",
              "      <td>0.259696</td>\n",
              "      <td>0.048585</td>\n",
              "      <td>0.000747</td>\n",
              "      <td>10</td>\n",
              "      <td>l2</td>\n",
              "      <td>{'eta0': 10, 'penalty': 'l2'}</td>\n",
              "      <td>0.589958</td>\n",
              "      <td>0.653708</td>\n",
              "      <td>0.620839</td>\n",
              "      <td>0.621502</td>\n",
              "      <td>0.026030</td>\n",
              "      <td>12</td>\n",
              "    </tr>\n",
              "    <tr>\n",
              "      <th>11</th>\n",
              "      <td>2.616378</td>\n",
              "      <td>0.202267</td>\n",
              "      <td>0.036509</td>\n",
              "      <td>0.009826</td>\n",
              "      <td>10</td>\n",
              "      <td>None</td>\n",
              "      <td>{'eta0': 10, 'penalty': None}</td>\n",
              "      <td>0.801992</td>\n",
              "      <td>0.808136</td>\n",
              "      <td>0.799720</td>\n",
              "      <td>0.803282</td>\n",
              "      <td>0.003555</td>\n",
              "      <td>2</td>\n",
              "    </tr>\n",
              "  </tbody>\n",
              "</table>\n",
              "</div>"
            ],
            "text/plain": [
              "    mean_fit_time  std_fit_time  mean_score_time  std_score_time param_eta0  \\\n",
              "0        2.070093      0.193070         0.046881        0.001998       0.01   \n",
              "1        1.214295      0.030122         0.047718        0.001937       0.01   \n",
              "2        1.292693      0.071896         0.049656        0.004776       0.01   \n",
              "3        2.971315      0.369301         0.046823        0.003947       0.05   \n",
              "4        1.165130      0.080810         0.048493        0.003036       0.05   \n",
              "5        1.545158      0.099581         0.052494        0.003703       0.05   \n",
              "6        5.373315      0.722320         0.048506        0.002827          1   \n",
              "7        1.453986      0.256480         0.042748        0.000235          1   \n",
              "8        2.236068      0.276902         0.046361        0.002308          1   \n",
              "9        3.977634      0.813568         0.047249        0.002485         10   \n",
              "10       1.762933      0.259696         0.048585        0.000747         10   \n",
              "11       2.616378      0.202267         0.036509        0.009826         10   \n",
              "\n",
              "   param_penalty                           params  split0_test_score  \\\n",
              "0             l1  {'eta0': 0.01, 'penalty': 'l1'}           0.705191   \n",
              "1             l2  {'eta0': 0.01, 'penalty': 'l2'}           0.792585   \n",
              "2           None  {'eta0': 0.01, 'penalty': None}           0.799534   \n",
              "3             l1  {'eta0': 0.05, 'penalty': 'l1'}           0.709110   \n",
              "4             l2  {'eta0': 0.05, 'penalty': 'l2'}           0.766758   \n",
              "5           None  {'eta0': 0.05, 'penalty': None}           0.801822   \n",
              "6             l1     {'eta0': 1, 'penalty': 'l1'}           0.645127   \n",
              "7             l2     {'eta0': 1, 'penalty': 'l2'}           0.694153   \n",
              "8           None     {'eta0': 1, 'penalty': None}           0.792013   \n",
              "9             l1    {'eta0': 10, 'penalty': 'l1'}           0.709534   \n",
              "10            l2    {'eta0': 10, 'penalty': 'l2'}           0.589958   \n",
              "11          None    {'eta0': 10, 'penalty': None}           0.801992   \n",
              "\n",
              "    split1_test_score  split2_test_score  mean_test_score  std_test_score  \\\n",
              "0            0.690487           0.711223         0.702300        0.008708   \n",
              "1            0.779364           0.783978         0.785309        0.005479   \n",
              "2            0.801483           0.796585         0.799201        0.002014   \n",
              "3            0.668814           0.711731         0.696552        0.019643   \n",
              "4            0.754809           0.722960         0.748176        0.018486   \n",
              "5            0.806038           0.805526         0.804462        0.001878   \n",
              "6            0.716801           0.682112         0.681347        0.029266   \n",
              "7            0.678284           0.686455         0.686297        0.006479   \n",
              "8            0.805360           0.802411         0.799928        0.005725   \n",
              "9            0.721843           0.710841         0.714073        0.005520   \n",
              "10           0.653708           0.620839         0.621502        0.026030   \n",
              "11           0.808136           0.799720         0.803282        0.003555   \n",
              "\n",
              "    rank_test_score  \n",
              "0                 8  \n",
              "1                 5  \n",
              "2                 4  \n",
              "3                 9  \n",
              "4                 6  \n",
              "5                 1  \n",
              "6                11  \n",
              "7                10  \n",
              "8                 3  \n",
              "9                 7  \n",
              "10               12  \n",
              "11                2  "
            ]
          },
          "execution_count": 146,
          "metadata": {},
          "output_type": "execute_result"
        }
      ],
      "source": [
        "results_perc=pd.DataFrame(gscv_perc.cv_results_)\n",
        "results_perc"
      ]
    },
    {
      "cell_type": "code",
      "execution_count": null,
      "id": "aea4629c",
      "metadata": {
        "execution": {
          "iopub.execute_input": "2023-08-28T19:50:23.330562Z",
          "iopub.status.busy": "2023-08-28T19:50:23.329463Z",
          "iopub.status.idle": "2023-08-28T19:50:23.335527Z",
          "shell.execute_reply": "2023-08-28T19:50:23.334832Z"
        },
        "papermill": {
          "duration": 0.07109,
          "end_time": "2023-08-28T19:50:23.337409",
          "exception": false,
          "start_time": "2023-08-28T19:50:23.266319",
          "status": "completed"
        },
        "tags": [],
        "id": "aea4629c",
        "outputId": "1c69277a-507e-4286-8e6f-e0f9c770a15f"
      },
      "outputs": [
        {
          "data": {
            "text/plain": [
              "({'eta0': 0.05, 'penalty': None}, 0.8044619034289604)"
            ]
          },
          "execution_count": 147,
          "metadata": {},
          "output_type": "execute_result"
        }
      ],
      "source": [
        "gscv_perc.best_params_ ,gscv_perc.best_score_"
      ]
    },
    {
      "cell_type": "code",
      "execution_count": null,
      "id": "78a50f09",
      "metadata": {
        "execution": {
          "iopub.execute_input": "2023-08-28T19:50:23.467009Z",
          "iopub.status.busy": "2023-08-28T19:50:23.466325Z",
          "iopub.status.idle": "2023-08-28T19:50:23.470905Z",
          "shell.execute_reply": "2023-08-28T19:50:23.470042Z"
        },
        "papermill": {
          "duration": 0.0722,
          "end_time": "2023-08-28T19:50:23.472966",
          "exception": false,
          "start_time": "2023-08-28T19:50:23.400766",
          "status": "completed"
        },
        "tags": [],
        "id": "78a50f09"
      },
      "outputs": [],
      "source": [
        "x1=results_perc['param_eta0']\n",
        "y= results_perc['mean_test_score']\n",
        "#y2= results_perc['mean_train_score']"
      ]
    },
    {
      "cell_type": "code",
      "execution_count": null,
      "id": "4693910c",
      "metadata": {
        "execution": {
          "iopub.execute_input": "2023-08-28T19:50:23.600892Z",
          "iopub.status.busy": "2023-08-28T19:50:23.600497Z",
          "iopub.status.idle": "2023-08-28T19:50:23.843062Z",
          "shell.execute_reply": "2023-08-28T19:50:23.841973Z"
        },
        "papermill": {
          "duration": 0.310175,
          "end_time": "2023-08-28T19:50:23.845365",
          "exception": false,
          "start_time": "2023-08-28T19:50:23.535190",
          "status": "completed"
        },
        "tags": [],
        "id": "4693910c",
        "outputId": "3d06760e-64ac-4ac4-99e2-8f6c178873bc"
      },
      "outputs": [
        {
          "data": {
            "text/plain": [
              "[<matplotlib.lines.Line2D at 0x7a71b9a9cf40>]"
            ]
          },
          "execution_count": 149,
          "metadata": {},
          "output_type": "execute_result"
        },
        {
          "data": {
            "image/png": "[encoded data removed]",
            "text/plain": [
              "<Figure size 640x480 with 1 Axes>"
            ]
          },
          "metadata": {},
          "output_type": "display_data"
        }
      ],
      "source": [
        "plt.plot(x1,y)"
      ]
    },
    {
      "cell_type": "markdown",
      "id": "c8662f25",
      "metadata": {
        "papermill": {
          "duration": 0.062209,
          "end_time": "2023-08-28T19:50:23.970076",
          "exception": false,
          "start_time": "2023-08-28T19:50:23.907867",
          "status": "completed"
        },
        "tags": [],
        "id": "c8662f25"
      },
      "source": [
        "*From the hyperparameter tuning above we  make the following observations:     \n",
        "1.Learning parameter eta0 does not not follow any particular trend with efficiency. Here we get 0.05 as the best eta0, but for the validation set we have we get the best results using 0.01 as eta0, which is expected since there is no specific trend of eta0 and efficiency.*       \n",
        "*2. We see also the efficiency for different penalties follow the following order: None>l2>l1. The best parameter for this is 'None' which is also the default parameter. It is the same parameter we have used in our final model.*"
      ]
    },
    {
      "cell_type": "markdown",
      "id": "cafca9ea",
      "metadata": {
        "papermill": {
          "duration": 0.06184,
          "end_time": "2023-08-28T19:50:24.094424",
          "exception": false,
          "start_time": "2023-08-28T19:50:24.032584",
          "status": "completed"
        },
        "tags": [],
        "id": "cafca9ea"
      },
      "source": [
        "# *Balancing Datasets*"
      ]
    },
    {
      "cell_type": "markdown",
      "id": "9c5619f3",
      "metadata": {
        "papermill": {
          "duration": 0.061747,
          "end_time": "2023-08-28T19:50:24.218713",
          "exception": false,
          "start_time": "2023-08-28T19:50:24.156966",
          "status": "completed"
        },
        "tags": [],
        "id": "9c5619f3"
      },
      "source": [
        "*We have seen above that the train_dataset is imbalanced due to higher positive reviews than negitive reviews.We balance this datset and see if it improves effciency.We do this using two balancing methods--oversampling and undersampling*\n",
        "***1.SMOTE--oversampling             \n",
        "2.NearMiss--undersampling***"
      ]
    },
    {
      "cell_type": "code",
      "execution_count": null,
      "id": "1462fcd5",
      "metadata": {
        "execution": {
          "iopub.execute_input": "2023-08-28T19:50:24.345101Z",
          "iopub.status.busy": "2023-08-28T19:50:24.344721Z",
          "iopub.status.idle": "2023-08-28T19:50:24.354254Z",
          "shell.execute_reply": "2023-08-28T19:50:24.353219Z"
        },
        "papermill": {
          "duration": 0.075158,
          "end_time": "2023-08-28T19:50:24.356199",
          "exception": false,
          "start_time": "2023-08-28T19:50:24.281041",
          "status": "completed"
        },
        "tags": [],
        "id": "1462fcd5",
        "outputId": "171055b7-d605-4cda-dc3b-69ed0339a567"
      },
      "outputs": [
        {
          "data": {
            "text/plain": [
              "1    94594\n",
              "0    47005\n",
              "Name: sentiment, dtype: int64"
            ]
          },
          "execution_count": 150,
          "metadata": {},
          "output_type": "execute_result"
        }
      ],
      "source": [
        "y_train.value_counts()#imbalanced"
      ]
    },
    {
      "cell_type": "markdown",
      "id": "fca4a9ec",
      "metadata": {
        "papermill": {
          "duration": 0.062641,
          "end_time": "2023-08-28T19:50:24.481933",
          "exception": false,
          "start_time": "2023-08-28T19:50:24.419292",
          "status": "completed"
        },
        "tags": [],
        "id": "fca4a9ec"
      },
      "source": [
        "***2.NearMiss--undersampling***"
      ]
    },
    {
      "cell_type": "code",
      "execution_count": null,
      "id": "01c516a6",
      "metadata": {
        "execution": {
          "iopub.execute_input": "2023-08-28T19:50:24.609197Z",
          "iopub.status.busy": "2023-08-28T19:50:24.608478Z",
          "iopub.status.idle": "2023-08-28T19:50:24.961302Z",
          "shell.execute_reply": "2023-08-28T19:50:24.960379Z"
        },
        "papermill": {
          "duration": 0.41938,
          "end_time": "2023-08-28T19:50:24.963776",
          "exception": false,
          "start_time": "2023-08-28T19:50:24.544396",
          "status": "completed"
        },
        "tags": [],
        "id": "01c516a6"
      },
      "outputs": [],
      "source": [
        "from imblearn.under_sampling import NearMiss\n",
        "nm=NearMiss( )"
      ]
    },
    {
      "cell_type": "code",
      "execution_count": null,
      "id": "cb2dd57b",
      "metadata": {
        "execution": {
          "iopub.execute_input": "2023-08-28T19:50:25.091716Z",
          "iopub.status.busy": "2023-08-28T19:50:25.091338Z",
          "iopub.status.idle": "2023-08-28T19:54:08.267793Z",
          "shell.execute_reply": "2023-08-28T19:54:08.266775Z"
        },
        "papermill": {
          "duration": 223.243275,
          "end_time": "2023-08-28T19:54:08.270220",
          "exception": false,
          "start_time": "2023-08-28T19:50:25.026945",
          "status": "completed"
        },
        "tags": [],
        "id": "cb2dd57b"
      },
      "outputs": [],
      "source": [
        "x_bal,y_bal=nm.fit_resample(x_train_t,y_train)"
      ]
    },
    {
      "cell_type": "code",
      "execution_count": null,
      "id": "83bb3037",
      "metadata": {
        "execution": {
          "iopub.execute_input": "2023-08-28T19:54:08.399301Z",
          "iopub.status.busy": "2023-08-28T19:54:08.398697Z",
          "iopub.status.idle": "2023-08-28T19:54:08.407047Z",
          "shell.execute_reply": "2023-08-28T19:54:08.406347Z"
        },
        "papermill": {
          "duration": 0.074765,
          "end_time": "2023-08-28T19:54:08.408862",
          "exception": false,
          "start_time": "2023-08-28T19:54:08.334097",
          "status": "completed"
        },
        "tags": [],
        "id": "83bb3037",
        "outputId": "612229cd-a352-4826-efad-8b316ade3bca"
      },
      "outputs": [
        {
          "data": {
            "text/plain": [
              "0    47005\n",
              "1    47005\n",
              "Name: sentiment, dtype: int64"
            ]
          },
          "execution_count": 153,
          "metadata": {},
          "output_type": "execute_result"
        }
      ],
      "source": [
        "y_bal.value_counts()"
      ]
    },
    {
      "cell_type": "code",
      "execution_count": null,
      "id": "f096112f",
      "metadata": {
        "execution": {
          "iopub.execute_input": "2023-08-28T19:54:08.538512Z",
          "iopub.status.busy": "2023-08-28T19:54:08.537522Z",
          "iopub.status.idle": "2023-08-28T19:56:41.860438Z",
          "shell.execute_reply": "2023-08-28T19:56:41.859581Z"
        },
        "papermill": {
          "duration": 153.45428,
          "end_time": "2023-08-28T19:56:41.927100",
          "exception": false,
          "start_time": "2023-08-28T19:54:08.472820",
          "status": "completed"
        },
        "tags": [],
        "id": "f096112f",
        "outputId": "baaa7af6-2dbd-453a-9e0c-42865522e083"
      },
      "outputs": [
        {
          "data": {
            "text/html": [
              "<style>#sk-container-id-9 {color: black;background-color: white;}#sk-container-id-9 pre{padding: 0;}#sk-container-id-9 div.sk-toggleable {background-color: white;}#sk-container-id-9 label.sk-toggleable__label {cursor: pointer;display: block;width: 100%;margin-bottom: 0;padding: 0.3em;box-sizing: border-box;text-align: center;}#sk-container-id-9 label.sk-toggleable__label-arrow:before {content: \"▸\";float: left;margin-right: 0.25em;color: #696969;}#sk-container-id-9 label.sk-toggleable__label-arrow:hover:before {color: black;}#sk-container-id-9 div.sk-estimator:hover label.sk-toggleable__label-arrow:before {color: black;}#sk-container-id-9 div.sk-toggleable__content {max-height: 0;max-width: 0;overflow: hidden;text-align: left;background-color: #f0f8ff;}#sk-container-id-9 div.sk-toggleable__content pre {margin: 0.2em;color: black;border-radius: 0.25em;background-color: #f0f8ff;}#sk-container-id-9 input.sk-toggleable__control:checked~div.sk-toggleable__content {max-height: 200px;max-width: 100%;overflow: auto;}#sk-container-id-9 input.sk-toggleable__control:checked~label.sk-toggleable__label-arrow:before {content: \"▾\";}#sk-container-id-9 div.sk-estimator input.sk-toggleable__control:checked~label.sk-toggleable__label {background-color: #d4ebff;}#sk-container-id-9 div.sk-label input.sk-toggleable__control:checked~label.sk-toggleable__label {background-color: #d4ebff;}#sk-container-id-9 input.sk-hidden--visually {border: 0;clip: rect(1px 1px 1px 1px);clip: rect(1px, 1px, 1px, 1px);height: 1px;margin: -1px;overflow: hidden;padding: 0;position: absolute;width: 1px;}#sk-container-id-9 div.sk-estimator {font-family: monospace;background-color: #f0f8ff;border: 1px dotted black;border-radius: 0.25em;box-sizing: border-box;margin-bottom: 0.5em;}#sk-container-id-9 div.sk-estimator:hover {background-color: #d4ebff;}#sk-container-id-9 div.sk-parallel-item::after {content: \"\";width: 100%;border-bottom: 1px solid gray;flex-grow: 1;}#sk-container-id-9 div.sk-label:hover label.sk-toggleable__label {background-color: #d4ebff;}#sk-container-id-9 div.sk-serial::before {content: \"\";position: absolute;border-left: 1px solid gray;box-sizing: border-box;top: 0;bottom: 0;left: 50%;z-index: 0;}#sk-container-id-9 div.sk-serial {display: flex;flex-direction: column;align-items: center;background-color: white;padding-right: 0.2em;padding-left: 0.2em;position: relative;}#sk-container-id-9 div.sk-item {position: relative;z-index: 1;}#sk-container-id-9 div.sk-parallel {display: flex;align-items: stretch;justify-content: center;background-color: white;position: relative;}#sk-container-id-9 div.sk-item::before, #sk-container-id-9 div.sk-parallel-item::before {content: \"\";position: absolute;border-left: 1px solid gray;box-sizing: border-box;top: 0;bottom: 0;left: 50%;z-index: -1;}#sk-container-id-9 div.sk-parallel-item {display: flex;flex-direction: column;z-index: 1;position: relative;background-color: white;}#sk-container-id-9 div.sk-parallel-item:first-child::after {align-self: flex-end;width: 50%;}#sk-container-id-9 div.sk-parallel-item:last-child::after {align-self: flex-start;width: 50%;}#sk-container-id-9 div.sk-parallel-item:only-child::after {width: 0;}#sk-container-id-9 div.sk-dashed-wrapped {border: 1px dashed gray;margin: 0 0.4em 0.5em 0.4em;box-sizing: border-box;padding-bottom: 0.4em;background-color: white;}#sk-container-id-9 div.sk-label label {font-family: monospace;font-weight: bold;display: inline-block;line-height: 1.2em;}#sk-container-id-9 div.sk-label-container {text-align: center;}#sk-container-id-9 div.sk-container {/* jupyter's `normalize.less` sets `[hidden] { display: none; }` but bootstrap.min.css set `[hidden] { display: none !important; }` so we also need the `!important` here to be able to override the default hidden behavior on the sphinx rendered scikit-learn.org. See: https://github.com/scikit-learn/scikit-learn/issues/21755 */display: inline-block !important;position: relative;}#sk-container-id-9 div.sk-text-repr-fallback {display: none;}</style><div id=\"sk-container-id-9\" class=\"sk-top-container\"><div class=\"sk-text-repr-fallback\"><pre>Perceptron(eta0=0.01)</pre><b>In a Jupyter environment, please rerun this cell to show the HTML representation or trust the notebook. <br />On GitHub, the HTML representation is unable to render, please try loading this page with nbviewer.org.</b></div><div class=\"sk-container\" hidden><div class=\"sk-item\"><div class=\"sk-estimator sk-toggleable\"><input class=\"sk-toggleable__control sk-hidden--visually\" id=\"sk-estimator-id-28\" type=\"checkbox\" checked><label for=\"sk-estimator-id-28\" class=\"sk-toggleable__label sk-toggleable__label-arrow\">Perceptron</label><div class=\"sk-toggleable__content\"><pre>Perceptron(eta0=0.01)</pre></div></div></div></div></div>"
            ],
            "text/plain": [
              "Perceptron(eta0=0.01)"
            ]
          },
          "execution_count": 154,
          "metadata": {},
          "output_type": "execute_result"
        }
      ],
      "source": [
        "#fitting linearsvm\n",
        "lsvc.fit(x_bal,y_bal)\n",
        "lr.fit(x_bal, y_bal)\n",
        "perc.fit(x_bal,y_bal)"
      ]
    },
    {
      "cell_type": "code",
      "execution_count": null,
      "id": "5bd12f25",
      "metadata": {
        "execution": {
          "iopub.execute_input": "2023-08-28T19:56:42.057139Z",
          "iopub.status.busy": "2023-08-28T19:56:42.056718Z",
          "iopub.status.idle": "2023-08-28T19:56:42.370751Z",
          "shell.execute_reply": "2023-08-28T19:56:42.369589Z"
        },
        "papermill": {
          "duration": 0.381668,
          "end_time": "2023-08-28T19:56:42.372911",
          "exception": false,
          "start_time": "2023-08-28T19:56:41.991243",
          "status": "completed"
        },
        "tags": [],
        "id": "5bd12f25",
        "outputId": "0ab8d9e5-128e-4e60-dc40-1799648fa1c8"
      },
      "outputs": [
        {
          "name": "stdout",
          "output_type": "stream",
          "text": [
            "0.8339112564354269 0.7391181057705941\n",
            "0.8340030649933968 0.7363296942199536\n",
            "0.8379790817731764 0.7304693038423365\n"
          ]
        }
      ],
      "source": [
        "print(lsvc.score(x_train_t,y_train), lsvc.score(x_test_t,y_test))\n",
        "print(lr.score(x_train_t,y_train), lr.score(x_test_t,y_test))\n",
        "print(perc.score(x_train_t,y_train), perc.score(x_test_t,y_test))"
      ]
    },
    {
      "cell_type": "code",
      "execution_count": null,
      "id": "6b2466c5",
      "metadata": {
        "execution": {
          "iopub.execute_input": "2023-08-28T19:56:42.502929Z",
          "iopub.status.busy": "2023-08-28T19:56:42.502249Z",
          "iopub.status.idle": "2023-08-28T19:56:42.558077Z",
          "shell.execute_reply": "2023-08-28T19:56:42.556857Z"
        },
        "papermill": {
          "duration": 0.123073,
          "end_time": "2023-08-28T19:56:42.560342",
          "exception": false,
          "start_time": "2023-08-28T19:56:42.437269",
          "status": "completed"
        },
        "tags": [],
        "id": "6b2466c5",
        "outputId": "339b7d02-73c6-4b4a-cb42-bb46196fc98b"
      },
      "outputs": [
        {
          "name": "stdout",
          "output_type": "stream",
          "text": [
            "              precision    recall  f1-score   support\n",
            "\n",
            "           0       0.58      0.79      0.67      6992\n",
            "           1       0.87      0.72      0.79     14167\n",
            "\n",
            "    accuracy                           0.74     21159\n",
            "   macro avg       0.72      0.75      0.73     21159\n",
            "weighted avg       0.77      0.74      0.75     21159\n",
            "\n"
          ]
        }
      ],
      "source": [
        "y_pred_lsvc=lsvc.predict(x_test_t)\n",
        "from sklearn.metrics import classification_report\n",
        "print(classification_report(y_test,y_pred_lsvc, labels=[0,1]))"
      ]
    },
    {
      "cell_type": "code",
      "execution_count": null,
      "id": "834b0726",
      "metadata": {
        "execution": {
          "iopub.execute_input": "2023-08-28T19:56:42.690431Z",
          "iopub.status.busy": "2023-08-28T19:56:42.689339Z",
          "iopub.status.idle": "2023-08-28T19:56:42.744525Z",
          "shell.execute_reply": "2023-08-28T19:56:42.743426Z"
        },
        "papermill": {
          "duration": 0.122251,
          "end_time": "2023-08-28T19:56:42.746675",
          "exception": false,
          "start_time": "2023-08-28T19:56:42.624424",
          "status": "completed"
        },
        "tags": [],
        "id": "834b0726",
        "outputId": "461da415-4136-4fe8-8e8f-178ea8681f66"
      },
      "outputs": [
        {
          "name": "stdout",
          "output_type": "stream",
          "text": [
            "              precision    recall  f1-score   support\n",
            "\n",
            "           0       0.57      0.80      0.67      6992\n",
            "           1       0.88      0.71      0.78     14167\n",
            "\n",
            "    accuracy                           0.74     21159\n",
            "   macro avg       0.72      0.75      0.72     21159\n",
            "weighted avg       0.78      0.74      0.74     21159\n",
            "\n"
          ]
        }
      ],
      "source": [
        "y_pred_lr=lr.predict(x_test_t)\n",
        "print(classification_report(y_test,y_pred_lr, labels=[0,1]))"
      ]
    },
    {
      "cell_type": "code",
      "execution_count": null,
      "id": "c09495a2",
      "metadata": {
        "execution": {
          "iopub.execute_input": "2023-08-28T19:56:42.881432Z",
          "iopub.status.busy": "2023-08-28T19:56:42.880612Z",
          "iopub.status.idle": "2023-08-28T19:56:42.936153Z",
          "shell.execute_reply": "2023-08-28T19:56:42.934828Z"
        },
        "papermill": {
          "duration": 0.125678,
          "end_time": "2023-08-28T19:56:42.938473",
          "exception": false,
          "start_time": "2023-08-28T19:56:42.812795",
          "status": "completed"
        },
        "tags": [],
        "id": "c09495a2",
        "outputId": "e51e69cb-d402-4ae8-ce2c-7aa901c5c49f"
      },
      "outputs": [
        {
          "name": "stdout",
          "output_type": "stream",
          "text": [
            "              precision    recall  f1-score   support\n",
            "\n",
            "           0       0.56      0.83      0.67      6992\n",
            "           1       0.89      0.68      0.77     14167\n",
            "\n",
            "    accuracy                           0.73     21159\n",
            "   macro avg       0.73      0.76      0.72     21159\n",
            "weighted avg       0.78      0.73      0.74     21159\n",
            "\n"
          ]
        }
      ],
      "source": [
        "y_pred_perc=perc.predict(x_test_t)\n",
        "print(classification_report(y_test,y_pred_perc, labels=[0,1]))"
      ]
    },
    {
      "cell_type": "markdown",
      "id": "e7b3a07f",
      "metadata": {
        "papermill": {
          "duration": 0.06379,
          "end_time": "2023-08-28T19:56:43.066506",
          "exception": false,
          "start_time": "2023-08-28T19:56:43.002716",
          "status": "completed"
        },
        "tags": [],
        "id": "e7b3a07f"
      },
      "source": [
        "*Above, we have used undersampling to balance our imbalanced dataset. This means that we have reduced the number of majority samples to bring a balance in the dataset. We see that all the models give a worse result with this kind of method. This is because.*      \n",
        "\n",
        "*1. As we can see from the classification report that even with this method, there has been no increase in the f1 score for predicting 0 but there has been a decrease in the f1 score for predicting 1.*          \n",
        "*2. Undersampling the positive sentiment data might have deleted some important information relevant for better performance*"
      ]
    },
    {
      "cell_type": "markdown",
      "id": "0da1952b",
      "metadata": {
        "papermill": {
          "duration": 0.063439,
          "end_time": "2023-08-28T19:56:43.194181",
          "exception": false,
          "start_time": "2023-08-28T19:56:43.130742",
          "status": "completed"
        },
        "tags": [],
        "id": "0da1952b"
      },
      "source": [
        "***1.SMOTE--oversampling***"
      ]
    },
    {
      "cell_type": "code",
      "execution_count": null,
      "id": "7a029e07",
      "metadata": {
        "execution": {
          "iopub.execute_input": "2023-08-28T19:56:43.324214Z",
          "iopub.status.busy": "2023-08-28T19:56:43.323572Z",
          "iopub.status.idle": "2023-08-28T19:56:43.332768Z",
          "shell.execute_reply": "2023-08-28T19:56:43.331775Z"
        },
        "papermill": {
          "duration": 0.076564,
          "end_time": "2023-08-28T19:56:43.334877",
          "exception": false,
          "start_time": "2023-08-28T19:56:43.258313",
          "status": "completed"
        },
        "tags": [],
        "id": "7a029e07",
        "outputId": "fc2793a4-087e-4dbb-ec3a-52b1be2c80c6"
      },
      "outputs": [
        {
          "data": {
            "text/plain": [
              "1    94594\n",
              "0    47005\n",
              "Name: sentiment, dtype: int64"
            ]
          },
          "execution_count": 159,
          "metadata": {},
          "output_type": "execute_result"
        }
      ],
      "source": [
        "y_train.value_counts()"
      ]
    },
    {
      "cell_type": "code",
      "execution_count": null,
      "id": "cbf02ab1",
      "metadata": {
        "execution": {
          "iopub.execute_input": "2023-08-28T19:56:43.466152Z",
          "iopub.status.busy": "2023-08-28T19:56:43.465774Z",
          "iopub.status.idle": "2023-08-28T19:56:43.470113Z",
          "shell.execute_reply": "2023-08-28T19:56:43.469098Z"
        },
        "papermill": {
          "duration": 0.07156,
          "end_time": "2023-08-28T19:56:43.472168",
          "exception": false,
          "start_time": "2023-08-28T19:56:43.400608",
          "status": "completed"
        },
        "tags": [],
        "id": "cbf02ab1"
      },
      "outputs": [],
      "source": [
        "from imblearn.over_sampling import SMOTE\n",
        "SM= SMOTE()"
      ]
    },
    {
      "cell_type": "code",
      "execution_count": null,
      "id": "e409f954",
      "metadata": {
        "execution": {
          "iopub.execute_input": "2023-08-28T19:56:43.602234Z",
          "iopub.status.busy": "2023-08-28T19:56:43.601586Z",
          "iopub.status.idle": "2023-08-28T19:58:31.031413Z",
          "shell.execute_reply": "2023-08-28T19:58:31.030256Z"
        },
        "papermill": {
          "duration": 107.497794,
          "end_time": "2023-08-28T19:58:31.034245",
          "exception": false,
          "start_time": "2023-08-28T19:56:43.536451",
          "status": "completed"
        },
        "tags": [],
        "id": "e409f954"
      },
      "outputs": [],
      "source": [
        "x_bal1,y_bal1= SM.fit_resample(x_train_t, y_train)"
      ]
    },
    {
      "cell_type": "code",
      "execution_count": null,
      "id": "3daffe79",
      "metadata": {
        "execution": {
          "iopub.execute_input": "2023-08-28T19:58:31.164868Z",
          "iopub.status.busy": "2023-08-28T19:58:31.164479Z",
          "iopub.status.idle": "2023-08-28T19:58:31.174213Z",
          "shell.execute_reply": "2023-08-28T19:58:31.173240Z"
        },
        "papermill": {
          "duration": 0.076989,
          "end_time": "2023-08-28T19:58:31.176177",
          "exception": false,
          "start_time": "2023-08-28T19:58:31.099188",
          "status": "completed"
        },
        "tags": [],
        "id": "3daffe79",
        "outputId": "84794660-28ce-4190-b536-90871b504ea1"
      },
      "outputs": [
        {
          "data": {
            "text/plain": [
              "1    94594\n",
              "0    94594\n",
              "Name: sentiment, dtype: int64"
            ]
          },
          "execution_count": 162,
          "metadata": {},
          "output_type": "execute_result"
        }
      ],
      "source": [
        "y_bal1.value_counts()"
      ]
    },
    {
      "cell_type": "code",
      "execution_count": null,
      "id": "0ab007f5",
      "metadata": {
        "execution": {
          "iopub.execute_input": "2023-08-28T19:58:31.305267Z",
          "iopub.status.busy": "2023-08-28T19:58:31.304858Z",
          "iopub.status.idle": "2023-08-28T20:03:22.102035Z",
          "shell.execute_reply": "2023-08-28T20:03:22.100969Z"
        },
        "papermill": {
          "duration": 290.929296,
          "end_time": "2023-08-28T20:03:22.168990",
          "exception": false,
          "start_time": "2023-08-28T19:58:31.239694",
          "status": "completed"
        },
        "tags": [],
        "id": "0ab007f5",
        "outputId": "688cac09-589a-4a56-cf9e-d203aa17cdad"
      },
      "outputs": [
        {
          "data": {
            "text/html": [
              "<style>#sk-container-id-10 {color: black;background-color: white;}#sk-container-id-10 pre{padding: 0;}#sk-container-id-10 div.sk-toggleable {background-color: white;}#sk-container-id-10 label.sk-toggleable__label {cursor: pointer;display: block;width: 100%;margin-bottom: 0;padding: 0.3em;box-sizing: border-box;text-align: center;}#sk-container-id-10 label.sk-toggleable__label-arrow:before {content: \"▸\";float: left;margin-right: 0.25em;color: #696969;}#sk-container-id-10 label.sk-toggleable__label-arrow:hover:before {color: black;}#sk-container-id-10 div.sk-estimator:hover label.sk-toggleable__label-arrow:before {color: black;}#sk-container-id-10 div.sk-toggleable__content {max-height: 0;max-width: 0;overflow: hidden;text-align: left;background-color: #f0f8ff;}#sk-container-id-10 div.sk-toggleable__content pre {margin: 0.2em;color: black;border-radius: 0.25em;background-color: #f0f8ff;}#sk-container-id-10 input.sk-toggleable__control:checked~div.sk-toggleable__content {max-height: 200px;max-width: 100%;overflow: auto;}#sk-container-id-10 input.sk-toggleable__control:checked~label.sk-toggleable__label-arrow:before {content: \"▾\";}#sk-container-id-10 div.sk-estimator input.sk-toggleable__control:checked~label.sk-toggleable__label {background-color: #d4ebff;}#sk-container-id-10 div.sk-label input.sk-toggleable__control:checked~label.sk-toggleable__label {background-color: #d4ebff;}#sk-container-id-10 input.sk-hidden--visually {border: 0;clip: rect(1px 1px 1px 1px);clip: rect(1px, 1px, 1px, 1px);height: 1px;margin: -1px;overflow: hidden;padding: 0;position: absolute;width: 1px;}#sk-container-id-10 div.sk-estimator {font-family: monospace;background-color: #f0f8ff;border: 1px dotted black;border-radius: 0.25em;box-sizing: border-box;margin-bottom: 0.5em;}#sk-container-id-10 div.sk-estimator:hover {background-color: #d4ebff;}#sk-container-id-10 div.sk-parallel-item::after {content: \"\";width: 100%;border-bottom: 1px solid gray;flex-grow: 1;}#sk-container-id-10 div.sk-label:hover label.sk-toggleable__label {background-color: #d4ebff;}#sk-container-id-10 div.sk-serial::before {content: \"\";position: absolute;border-left: 1px solid gray;box-sizing: border-box;top: 0;bottom: 0;left: 50%;z-index: 0;}#sk-container-id-10 div.sk-serial {display: flex;flex-direction: column;align-items: center;background-color: white;padding-right: 0.2em;padding-left: 0.2em;position: relative;}#sk-container-id-10 div.sk-item {position: relative;z-index: 1;}#sk-container-id-10 div.sk-parallel {display: flex;align-items: stretch;justify-content: center;background-color: white;position: relative;}#sk-container-id-10 div.sk-item::before, #sk-container-id-10 div.sk-parallel-item::before {content: \"\";position: absolute;border-left: 1px solid gray;box-sizing: border-box;top: 0;bottom: 0;left: 50%;z-index: -1;}#sk-container-id-10 div.sk-parallel-item {display: flex;flex-direction: column;z-index: 1;position: relative;background-color: white;}#sk-container-id-10 div.sk-parallel-item:first-child::after {align-self: flex-end;width: 50%;}#sk-container-id-10 div.sk-parallel-item:last-child::after {align-self: flex-start;width: 50%;}#sk-container-id-10 div.sk-parallel-item:only-child::after {width: 0;}#sk-container-id-10 div.sk-dashed-wrapped {border: 1px dashed gray;margin: 0 0.4em 0.5em 0.4em;box-sizing: border-box;padding-bottom: 0.4em;background-color: white;}#sk-container-id-10 div.sk-label label {font-family: monospace;font-weight: bold;display: inline-block;line-height: 1.2em;}#sk-container-id-10 div.sk-label-container {text-align: center;}#sk-container-id-10 div.sk-container {/* jupyter's `normalize.less` sets `[hidden] { display: none; }` but bootstrap.min.css set `[hidden] { display: none !important; }` so we also need the `!important` here to be able to override the default hidden behavior on the sphinx rendered scikit-learn.org. See: https://github.com/scikit-learn/scikit-learn/issues/21755 */display: inline-block !important;position: relative;}#sk-container-id-10 div.sk-text-repr-fallback {display: none;}</style><div id=\"sk-container-id-10\" class=\"sk-top-container\"><div class=\"sk-text-repr-fallback\"><pre>Perceptron(eta0=0.01)</pre><b>In a Jupyter environment, please rerun this cell to show the HTML representation or trust the notebook. <br />On GitHub, the HTML representation is unable to render, please try loading this page with nbviewer.org.</b></div><div class=\"sk-container\" hidden><div class=\"sk-item\"><div class=\"sk-estimator sk-toggleable\"><input class=\"sk-toggleable__control sk-hidden--visually\" id=\"sk-estimator-id-29\" type=\"checkbox\" checked><label for=\"sk-estimator-id-29\" class=\"sk-toggleable__label sk-toggleable__label-arrow\">Perceptron</label><div class=\"sk-toggleable__content\"><pre>Perceptron(eta0=0.01)</pre></div></div></div></div></div>"
            ],
            "text/plain": [
              "Perceptron(eta0=0.01)"
            ]
          },
          "execution_count": 163,
          "metadata": {},
          "output_type": "execute_result"
        }
      ],
      "source": [
        "lsvc.fit(x_bal1,y_bal1)\n",
        "lr.fit(x_bal1, y_bal1)\n",
        "perc.fit(x_bal1,y_bal1)"
      ]
    },
    {
      "cell_type": "code",
      "execution_count": null,
      "id": "970c849f",
      "metadata": {
        "execution": {
          "iopub.execute_input": "2023-08-28T20:03:22.300764Z",
          "iopub.status.busy": "2023-08-28T20:03:22.300387Z",
          "iopub.status.idle": "2023-08-28T20:03:22.587991Z",
          "shell.execute_reply": "2023-08-28T20:03:22.586479Z"
        },
        "papermill": {
          "duration": 0.356076,
          "end_time": "2023-08-28T20:03:22.590276",
          "exception": false,
          "start_time": "2023-08-28T20:03:22.234200",
          "status": "completed"
        },
        "tags": [],
        "id": "970c849f",
        "outputId": "632183fd-8f2f-42ec-8ff5-e2ca570a05fc"
      },
      "outputs": [
        {
          "name": "stdout",
          "output_type": "stream",
          "text": [
            "0.9721678825415434 0.796209650739638\n",
            "0.9772597264104973 0.7971076137813696\n",
            "0.9713698543068807 0.793184933125384\n"
          ]
        }
      ],
      "source": [
        "print(lsvc.score(x_train_t,y_train), lsvc.score(x_test_t,y_test))\n",
        "print(lr.score(x_train_t,y_train), lr.score(x_test_t,y_test))\n",
        "print(perc.score(x_train_t,y_train), perc.score(x_test_t,y_test))"
      ]
    },
    {
      "cell_type": "code",
      "execution_count": null,
      "id": "2f326561",
      "metadata": {
        "execution": {
          "iopub.execute_input": "2023-08-28T20:03:22.721317Z",
          "iopub.status.busy": "2023-08-28T20:03:22.720904Z",
          "iopub.status.idle": "2023-08-28T20:03:22.775008Z",
          "shell.execute_reply": "2023-08-28T20:03:22.773885Z"
        },
        "papermill": {
          "duration": 0.121821,
          "end_time": "2023-08-28T20:03:22.777108",
          "exception": false,
          "start_time": "2023-08-28T20:03:22.655287",
          "status": "completed"
        },
        "tags": [],
        "id": "2f326561",
        "outputId": "99781089-1e43-4900-8b60-5339c93ff343"
      },
      "outputs": [
        {
          "name": "stdout",
          "output_type": "stream",
          "text": [
            "              precision    recall  f1-score   support\n",
            "\n",
            "           0       0.68      0.72      0.70      6992\n",
            "           1       0.86      0.83      0.85     14167\n",
            "\n",
            "    accuracy                           0.80     21159\n",
            "   macro avg       0.77      0.78      0.77     21159\n",
            "weighted avg       0.80      0.80      0.80     21159\n",
            "\n"
          ]
        }
      ],
      "source": [
        "y_pred_lsvc=lsvc.predict(x_test_t)\n",
        "print(classification_report(y_test,y_pred_lsvc, labels=[0,1]))"
      ]
    },
    {
      "cell_type": "code",
      "execution_count": null,
      "id": "f9804b7d",
      "metadata": {
        "execution": {
          "iopub.execute_input": "2023-08-28T20:03:22.909095Z",
          "iopub.status.busy": "2023-08-28T20:03:22.908702Z",
          "iopub.status.idle": "2023-08-28T20:03:22.963094Z",
          "shell.execute_reply": "2023-08-28T20:03:22.961920Z"
        },
        "papermill": {
          "duration": 0.122811,
          "end_time": "2023-08-28T20:03:22.965406",
          "exception": false,
          "start_time": "2023-08-28T20:03:22.842595",
          "status": "completed"
        },
        "tags": [],
        "id": "f9804b7d",
        "outputId": "993f50d3-dd4c-40f3-ed0d-5c4014b96e95"
      },
      "outputs": [
        {
          "name": "stdout",
          "output_type": "stream",
          "text": [
            "              precision    recall  f1-score   support\n",
            "\n",
            "           0       0.69      0.71      0.70      6992\n",
            "           1       0.85      0.84      0.85     14167\n",
            "\n",
            "    accuracy                           0.80     21159\n",
            "   macro avg       0.77      0.77      0.77     21159\n",
            "weighted avg       0.80      0.80      0.80     21159\n",
            "\n"
          ]
        }
      ],
      "source": [
        "y_pred_lr=lr.predict(x_test_t)\n",
        "print(classification_report(y_test,y_pred_lr, labels=[0,1]))"
      ]
    },
    {
      "cell_type": "code",
      "execution_count": null,
      "id": "5e794b8c",
      "metadata": {
        "execution": {
          "iopub.execute_input": "2023-08-28T20:03:23.161096Z",
          "iopub.status.busy": "2023-08-28T20:03:23.160684Z",
          "iopub.status.idle": "2023-08-28T20:03:23.214132Z",
          "shell.execute_reply": "2023-08-28T20:03:23.212867Z"
        },
        "papermill": {
          "duration": 0.183961,
          "end_time": "2023-08-28T20:03:23.216046",
          "exception": false,
          "start_time": "2023-08-28T20:03:23.032085",
          "status": "completed"
        },
        "tags": [],
        "id": "5e794b8c",
        "outputId": "348bd7ae-e09f-4189-9be4-8f0269089f0f"
      },
      "outputs": [
        {
          "name": "stdout",
          "output_type": "stream",
          "text": [
            "              precision    recall  f1-score   support\n",
            "\n",
            "           0       0.68      0.69      0.69      6992\n",
            "           1       0.85      0.84      0.84     14167\n",
            "\n",
            "    accuracy                           0.79     21159\n",
            "   macro avg       0.77      0.77      0.77     21159\n",
            "weighted avg       0.79      0.79      0.79     21159\n",
            "\n"
          ]
        }
      ],
      "source": [
        "y_pred_perc=perc.predict(x_test_t)\n",
        "print(classification_report(y_test,y_pred_perc, labels=[0,1]))"
      ]
    },
    {
      "cell_type": "markdown",
      "id": "8ec4905b",
      "metadata": {
        "papermill": {
          "duration": 0.064235,
          "end_time": "2023-08-28T20:03:23.347759",
          "exception": false,
          "start_time": "2023-08-28T20:03:23.283524",
          "status": "completed"
        },
        "tags": [],
        "id": "8ec4905b"
      },
      "source": [
        "*Here, we see there is not much difference in the f1_score in predicting the 0, but the f1_score for predicting 1 has decreased. This can be because the score is calculated on the test data and not the train data.       \n",
        "It seems that the test data itself is positively biased leading to better results using a biased dataset.*"
      ]
    },
    {
      "cell_type": "markdown",
      "id": "550a4557",
      "metadata": {
        "papermill": {
          "duration": 0.0642,
          "end_time": "2023-08-28T20:03:23.476195",
          "exception": false,
          "start_time": "2023-08-28T20:03:23.411995",
          "status": "completed"
        },
        "tags": [],
        "id": "550a4557"
      },
      "source": [
        "# *Model 4-Ensemble-VotingClassifier*"
      ]
    },
    {
      "cell_type": "markdown",
      "id": "48497f49",
      "metadata": {
        "papermill": {
          "duration": 0.063647,
          "end_time": "2023-08-28T20:03:23.603684",
          "exception": false,
          "start_time": "2023-08-28T20:03:23.540037",
          "status": "completed"
        },
        "tags": [],
        "id": "48497f49"
      },
      "source": [
        "***The three models presented above are the best performing models. Apart from these I have tried KNN, DesicionTree, SDGRegressor, MultinomialNB and DummyClassifer. Also, I have used ensemble methods --RandomForest, BaggingClassifier( for all the above three models).None of these trials gave better results for test_datasets.       \n",
        "Tree related models gave almost a 100 percent accuracy for train_data but the result for test data was much lower. Even after hyperparameter tuning and reducing overfitting with parameters like max_depth, min_leaf_size, etc, the efficiency for test data did not increase beyond 0.8.\n",
        "For other models they were the accuracy of the model was not that good for both train and test datasets.\n",
        "For bagging, even though the accuracy went above 0.8, the accuracy for single models was better.***"
      ]
    },
    {
      "cell_type": "markdown",
      "id": "041fc179",
      "metadata": {
        "papermill": {
          "duration": 0.063299,
          "end_time": "2023-08-28T20:03:23.731573",
          "exception": false,
          "start_time": "2023-08-28T20:03:23.668274",
          "status": "completed"
        },
        "tags": [],
        "id": "041fc179"
      },
      "source": [
        "***Therefore we have chosen VotingClassifier and for that we have chosen to use three best performing models as estimators for voting.Using this we got the best score for the model.***"
      ]
    },
    {
      "cell_type": "code",
      "execution_count": null,
      "id": "a212f20d",
      "metadata": {
        "execution": {
          "iopub.execute_input": "2023-08-28T20:03:23.864118Z",
          "iopub.status.busy": "2023-08-28T20:03:23.863708Z",
          "iopub.status.idle": "2023-08-28T20:03:23.867922Z",
          "shell.execute_reply": "2023-08-28T20:03:23.867108Z"
        },
        "papermill": {
          "duration": 0.073459,
          "end_time": "2023-08-28T20:03:23.869903",
          "exception": false,
          "start_time": "2023-08-28T20:03:23.796444",
          "status": "completed"
        },
        "tags": [],
        "id": "a212f20d"
      },
      "outputs": [],
      "source": [
        "from sklearn.ensemble import VotingClassifier"
      ]
    },
    {
      "cell_type": "code",
      "execution_count": null,
      "id": "cceebaa5",
      "metadata": {
        "execution": {
          "iopub.execute_input": "2023-08-28T20:03:24.001110Z",
          "iopub.status.busy": "2023-08-28T20:03:24.000663Z",
          "iopub.status.idle": "2023-08-28T20:03:24.004850Z",
          "shell.execute_reply": "2023-08-28T20:03:24.004141Z"
        },
        "papermill": {
          "duration": 0.07183,
          "end_time": "2023-08-28T20:03:24.006614",
          "exception": false,
          "start_time": "2023-08-28T20:03:23.934784",
          "status": "completed"
        },
        "tags": [],
        "id": "cceebaa5"
      },
      "outputs": [],
      "source": [
        "VC = VotingClassifier(estimators = [('est1', lr), ('est2', lsvc), ('est3', perc)])\n"
      ]
    },
    {
      "cell_type": "code",
      "execution_count": null,
      "id": "466b3bad",
      "metadata": {
        "execution": {
          "iopub.execute_input": "2023-08-28T20:03:24.137218Z",
          "iopub.status.busy": "2023-08-28T20:03:24.136823Z",
          "iopub.status.idle": "2023-08-28T20:07:32.210471Z",
          "shell.execute_reply": "2023-08-28T20:07:32.209305Z"
        },
        "papermill": {
          "duration": 248.208002,
          "end_time": "2023-08-28T20:07:32.279422",
          "exception": false,
          "start_time": "2023-08-28T20:03:24.071420",
          "status": "completed"
        },
        "tags": [],
        "id": "466b3bad",
        "outputId": "72f06d78-147d-4452-8cb0-a21de4abf793"
      },
      "outputs": [
        {
          "data": {
            "text/html": [
              "<style>#sk-container-id-11 {color: black;background-color: white;}#sk-container-id-11 pre{padding: 0;}#sk-container-id-11 div.sk-toggleable {background-color: white;}#sk-container-id-11 label.sk-toggleable__label {cursor: pointer;display: block;width: 100%;margin-bottom: 0;padding: 0.3em;box-sizing: border-box;text-align: center;}#sk-container-id-11 label.sk-toggleable__label-arrow:before {content: \"▸\";float: left;margin-right: 0.25em;color: #696969;}#sk-container-id-11 label.sk-toggleable__label-arrow:hover:before {color: black;}#sk-container-id-11 div.sk-estimator:hover label.sk-toggleable__label-arrow:before {color: black;}#sk-container-id-11 div.sk-toggleable__content {max-height: 0;max-width: 0;overflow: hidden;text-align: left;background-color: #f0f8ff;}#sk-container-id-11 div.sk-toggleable__content pre {margin: 0.2em;color: black;border-radius: 0.25em;background-color: #f0f8ff;}#sk-container-id-11 input.sk-toggleable__control:checked~div.sk-toggleable__content {max-height: 200px;max-width: 100%;overflow: auto;}#sk-container-id-11 input.sk-toggleable__control:checked~label.sk-toggleable__label-arrow:before {content: \"▾\";}#sk-container-id-11 div.sk-estimator input.sk-toggleable__control:checked~label.sk-toggleable__label {background-color: #d4ebff;}#sk-container-id-11 div.sk-label input.sk-toggleable__control:checked~label.sk-toggleable__label {background-color: #d4ebff;}#sk-container-id-11 input.sk-hidden--visually {border: 0;clip: rect(1px 1px 1px 1px);clip: rect(1px, 1px, 1px, 1px);height: 1px;margin: -1px;overflow: hidden;padding: 0;position: absolute;width: 1px;}#sk-container-id-11 div.sk-estimator {font-family: monospace;background-color: #f0f8ff;border: 1px dotted black;border-radius: 0.25em;box-sizing: border-box;margin-bottom: 0.5em;}#sk-container-id-11 div.sk-estimator:hover {background-color: #d4ebff;}#sk-container-id-11 div.sk-parallel-item::after {content: \"\";width: 100%;border-bottom: 1px solid gray;flex-grow: 1;}#sk-container-id-11 div.sk-label:hover label.sk-toggleable__label {background-color: #d4ebff;}#sk-container-id-11 div.sk-serial::before {content: \"\";position: absolute;border-left: 1px solid gray;box-sizing: border-box;top: 0;bottom: 0;left: 50%;z-index: 0;}#sk-container-id-11 div.sk-serial {display: flex;flex-direction: column;align-items: center;background-color: white;padding-right: 0.2em;padding-left: 0.2em;position: relative;}#sk-container-id-11 div.sk-item {position: relative;z-index: 1;}#sk-container-id-11 div.sk-parallel {display: flex;align-items: stretch;justify-content: center;background-color: white;position: relative;}#sk-container-id-11 div.sk-item::before, #sk-container-id-11 div.sk-parallel-item::before {content: \"\";position: absolute;border-left: 1px solid gray;box-sizing: border-box;top: 0;bottom: 0;left: 50%;z-index: -1;}#sk-container-id-11 div.sk-parallel-item {display: flex;flex-direction: column;z-index: 1;position: relative;background-color: white;}#sk-container-id-11 div.sk-parallel-item:first-child::after {align-self: flex-end;width: 50%;}#sk-container-id-11 div.sk-parallel-item:last-child::after {align-self: flex-start;width: 50%;}#sk-container-id-11 div.sk-parallel-item:only-child::after {width: 0;}#sk-container-id-11 div.sk-dashed-wrapped {border: 1px dashed gray;margin: 0 0.4em 0.5em 0.4em;box-sizing: border-box;padding-bottom: 0.4em;background-color: white;}#sk-container-id-11 div.sk-label label {font-family: monospace;font-weight: bold;display: inline-block;line-height: 1.2em;}#sk-container-id-11 div.sk-label-container {text-align: center;}#sk-container-id-11 div.sk-container {/* jupyter's `normalize.less` sets `[hidden] { display: none; }` but bootstrap.min.css set `[hidden] { display: none !important; }` so we also need the `!important` here to be able to override the default hidden behavior on the sphinx rendered scikit-learn.org. See: https://github.com/scikit-learn/scikit-learn/issues/21755 */display: inline-block !important;position: relative;}#sk-container-id-11 div.sk-text-repr-fallback {display: none;}</style><div id=\"sk-container-id-11\" class=\"sk-top-container\"><div class=\"sk-text-repr-fallback\"><pre>Perceptron(eta0=0.01)</pre><b>In a Jupyter environment, please rerun this cell to show the HTML representation or trust the notebook. <br />On GitHub, the HTML representation is unable to render, please try loading this page with nbviewer.org.</b></div><div class=\"sk-container\" hidden><div class=\"sk-item\"><div class=\"sk-estimator sk-toggleable\"><input class=\"sk-toggleable__control sk-hidden--visually\" id=\"sk-estimator-id-30\" type=\"checkbox\" checked><label for=\"sk-estimator-id-30\" class=\"sk-toggleable__label sk-toggleable__label-arrow\">Perceptron</label><div class=\"sk-toggleable__content\"><pre>Perceptron(eta0=0.01)</pre></div></div></div></div></div>"
            ],
            "text/plain": [
              "Perceptron(eta0=0.01)"
            ]
          },
          "execution_count": 170,
          "metadata": {},
          "output_type": "execute_result"
        }
      ],
      "source": [
        "lsvc.fit(x_train_t,y_train)\n",
        "lr.fit(x_train_t,y_train)\n",
        "perc.fit(x_train_t,y_train)\n"
      ]
    },
    {
      "cell_type": "code",
      "execution_count": null,
      "id": "121bba55",
      "metadata": {
        "execution": {
          "iopub.execute_input": "2023-08-28T20:07:32.409429Z",
          "iopub.status.busy": "2023-08-28T20:07:32.409047Z",
          "iopub.status.idle": "2023-08-28T20:11:36.796329Z",
          "shell.execute_reply": "2023-08-28T20:11:36.795095Z"
        },
        "papermill": {
          "duration": 244.520175,
          "end_time": "2023-08-28T20:11:36.863809",
          "exception": false,
          "start_time": "2023-08-28T20:07:32.343634",
          "status": "completed"
        },
        "tags": [],
        "id": "121bba55",
        "outputId": "000f703f-2133-46fb-e0f8-eaed903ba23b"
      },
      "outputs": [
        {
          "data": {
            "text/html": [
              "<style>#sk-container-id-12 {color: black;background-color: white;}#sk-container-id-12 pre{padding: 0;}#sk-container-id-12 div.sk-toggleable {background-color: white;}#sk-container-id-12 label.sk-toggleable__label {cursor: pointer;display: block;width: 100%;margin-bottom: 0;padding: 0.3em;box-sizing: border-box;text-align: center;}#sk-container-id-12 label.sk-toggleable__label-arrow:before {content: \"▸\";float: left;margin-right: 0.25em;color: #696969;}#sk-container-id-12 label.sk-toggleable__label-arrow:hover:before {color: black;}#sk-container-id-12 div.sk-estimator:hover label.sk-toggleable__label-arrow:before {color: black;}#sk-container-id-12 div.sk-toggleable__content {max-height: 0;max-width: 0;overflow: hidden;text-align: left;background-color: #f0f8ff;}#sk-container-id-12 div.sk-toggleable__content pre {margin: 0.2em;color: black;border-radius: 0.25em;background-color: #f0f8ff;}#sk-container-id-12 input.sk-toggleable__control:checked~div.sk-toggleable__content {max-height: 200px;max-width: 100%;overflow: auto;}#sk-container-id-12 input.sk-toggleable__control:checked~label.sk-toggleable__label-arrow:before {content: \"▾\";}#sk-container-id-12 div.sk-estimator input.sk-toggleable__control:checked~label.sk-toggleable__label {background-color: #d4ebff;}#sk-container-id-12 div.sk-label input.sk-toggleable__control:checked~label.sk-toggleable__label {background-color: #d4ebff;}#sk-container-id-12 input.sk-hidden--visually {border: 0;clip: rect(1px 1px 1px 1px);clip: rect(1px, 1px, 1px, 1px);height: 1px;margin: -1px;overflow: hidden;padding: 0;position: absolute;width: 1px;}#sk-container-id-12 div.sk-estimator {font-family: monospace;background-color: #f0f8ff;border: 1px dotted black;border-radius: 0.25em;box-sizing: border-box;margin-bottom: 0.5em;}#sk-container-id-12 div.sk-estimator:hover {background-color: #d4ebff;}#sk-container-id-12 div.sk-parallel-item::after {content: \"\";width: 100%;border-bottom: 1px solid gray;flex-grow: 1;}#sk-container-id-12 div.sk-label:hover label.sk-toggleable__label {background-color: #d4ebff;}#sk-container-id-12 div.sk-serial::before {content: \"\";position: absolute;border-left: 1px solid gray;box-sizing: border-box;top: 0;bottom: 0;left: 50%;z-index: 0;}#sk-container-id-12 div.sk-serial {display: flex;flex-direction: column;align-items: center;background-color: white;padding-right: 0.2em;padding-left: 0.2em;position: relative;}#sk-container-id-12 div.sk-item {position: relative;z-index: 1;}#sk-container-id-12 div.sk-parallel {display: flex;align-items: stretch;justify-content: center;background-color: white;position: relative;}#sk-container-id-12 div.sk-item::before, #sk-container-id-12 div.sk-parallel-item::before {content: \"\";position: absolute;border-left: 1px solid gray;box-sizing: border-box;top: 0;bottom: 0;left: 50%;z-index: -1;}#sk-container-id-12 div.sk-parallel-item {display: flex;flex-direction: column;z-index: 1;position: relative;background-color: white;}#sk-container-id-12 div.sk-parallel-item:first-child::after {align-self: flex-end;width: 50%;}#sk-container-id-12 div.sk-parallel-item:last-child::after {align-self: flex-start;width: 50%;}#sk-container-id-12 div.sk-parallel-item:only-child::after {width: 0;}#sk-container-id-12 div.sk-dashed-wrapped {border: 1px dashed gray;margin: 0 0.4em 0.5em 0.4em;box-sizing: border-box;padding-bottom: 0.4em;background-color: white;}#sk-container-id-12 div.sk-label label {font-family: monospace;font-weight: bold;display: inline-block;line-height: 1.2em;}#sk-container-id-12 div.sk-label-container {text-align: center;}#sk-container-id-12 div.sk-container {/* jupyter's `normalize.less` sets `[hidden] { display: none; }` but bootstrap.min.css set `[hidden] { display: none !important; }` so we also need the `!important` here to be able to override the default hidden behavior on the sphinx rendered scikit-learn.org. See: https://github.com/scikit-learn/scikit-learn/issues/21755 */display: inline-block !important;position: relative;}#sk-container-id-12 div.sk-text-repr-fallback {display: none;}</style><div id=\"sk-container-id-12\" class=\"sk-top-container\"><div class=\"sk-text-repr-fallback\"><pre>VotingClassifier(estimators=[(&#x27;est1&#x27;,\n",
              "                              LogisticRegression(C=0.35, max_iter=1000)),\n",
              "                             (&#x27;est2&#x27;, LinearSVC(C=0.02, max_iter=1500)),\n",
              "                             (&#x27;est3&#x27;, Perceptron(eta0=0.01))])</pre><b>In a Jupyter environment, please rerun this cell to show the HTML representation or trust the notebook. <br />On GitHub, the HTML representation is unable to render, please try loading this page with nbviewer.org.</b></div><div class=\"sk-container\" hidden><div class=\"sk-item sk-dashed-wrapped\"><div class=\"sk-label-container\"><div class=\"sk-label sk-toggleable\"><input class=\"sk-toggleable__control sk-hidden--visually\" id=\"sk-estimator-id-31\" type=\"checkbox\" ><label for=\"sk-estimator-id-31\" class=\"sk-toggleable__label sk-toggleable__label-arrow\">VotingClassifier</label><div class=\"sk-toggleable__content\"><pre>VotingClassifier(estimators=[(&#x27;est1&#x27;,\n",
              "                              LogisticRegression(C=0.35, max_iter=1000)),\n",
              "                             (&#x27;est2&#x27;, LinearSVC(C=0.02, max_iter=1500)),\n",
              "                             (&#x27;est3&#x27;, Perceptron(eta0=0.01))])</pre></div></div></div><div class=\"sk-parallel\"><div class=\"sk-parallel-item\"><div class=\"sk-item\"><div class=\"sk-label-container\"><div class=\"sk-label sk-toggleable\"><label>est1</label></div></div><div class=\"sk-serial\"><div class=\"sk-item\"><div class=\"sk-estimator sk-toggleable\"><input class=\"sk-toggleable__control sk-hidden--visually\" id=\"sk-estimator-id-32\" type=\"checkbox\" ><label for=\"sk-estimator-id-32\" class=\"sk-toggleable__label sk-toggleable__label-arrow\">LogisticRegression</label><div class=\"sk-toggleable__content\"><pre>LogisticRegression(C=0.35, max_iter=1000)</pre></div></div></div></div></div></div><div class=\"sk-parallel-item\"><div class=\"sk-item\"><div class=\"sk-label-container\"><div class=\"sk-label sk-toggleable\"><label>est2</label></div></div><div class=\"sk-serial\"><div class=\"sk-item\"><div class=\"sk-estimator sk-toggleable\"><input class=\"sk-toggleable__control sk-hidden--visually\" id=\"sk-estimator-id-33\" type=\"checkbox\" ><label for=\"sk-estimator-id-33\" class=\"sk-toggleable__label sk-toggleable__label-arrow\">LinearSVC</label><div class=\"sk-toggleable__content\"><pre>LinearSVC(C=0.02, max_iter=1500)</pre></div></div></div></div></div></div><div class=\"sk-parallel-item\"><div class=\"sk-item\"><div class=\"sk-label-container\"><div class=\"sk-label sk-toggleable\"><label>est3</label></div></div><div class=\"sk-serial\"><div class=\"sk-item\"><div class=\"sk-estimator sk-toggleable\"><input class=\"sk-toggleable__control sk-hidden--visually\" id=\"sk-estimator-id-34\" type=\"checkbox\" ><label for=\"sk-estimator-id-34\" class=\"sk-toggleable__label sk-toggleable__label-arrow\">Perceptron</label><div class=\"sk-toggleable__content\"><pre>Perceptron(eta0=0.01)</pre></div></div></div></div></div></div></div></div></div></div>"
            ],
            "text/plain": [
              "VotingClassifier(estimators=[('est1',\n",
              "                              LogisticRegression(C=0.35, max_iter=1000)),\n",
              "                             ('est2', LinearSVC(C=0.02, max_iter=1500)),\n",
              "                             ('est3', Perceptron(eta0=0.01))])"
            ]
          },
          "execution_count": 171,
          "metadata": {},
          "output_type": "execute_result"
        }
      ],
      "source": [
        "VC.fit(x_train_t, y_train)"
      ]
    },
    {
      "cell_type": "code",
      "execution_count": null,
      "id": "091bc05e",
      "metadata": {
        "execution": {
          "iopub.execute_input": "2023-08-28T20:11:36.998789Z",
          "iopub.status.busy": "2023-08-28T20:11:36.998415Z",
          "iopub.status.idle": "2023-08-28T20:11:38.311378Z",
          "shell.execute_reply": "2023-08-28T20:11:38.310425Z"
        },
        "papermill": {
          "duration": 1.385844,
          "end_time": "2023-08-28T20:11:38.313494",
          "exception": false,
          "start_time": "2023-08-28T20:11:36.927650",
          "status": "completed"
        },
        "tags": [],
        "id": "091bc05e",
        "outputId": "0296b524-bbe5-440a-a5ae-a2c641c37cdb"
      },
      "outputs": [
        {
          "data": {
            "text/plain": [
              "(0.9838346316005057, 0.8227704522898057)"
            ]
          },
          "execution_count": 172,
          "metadata": {},
          "output_type": "execute_result"
        }
      ],
      "source": [
        "VC.score(x_train_t,y_train), VC.score(x_test_t,y_test)"
      ]
    },
    {
      "cell_type": "code",
      "execution_count": null,
      "id": "8dcc4d94",
      "metadata": {
        "execution": {
          "iopub.execute_input": "2023-08-28T20:11:38.446311Z",
          "iopub.status.busy": "2023-08-28T20:11:38.445931Z",
          "iopub.status.idle": "2023-08-28T20:11:38.653171Z",
          "shell.execute_reply": "2023-08-28T20:11:38.652101Z"
        },
        "papermill": {
          "duration": 0.277437,
          "end_time": "2023-08-28T20:11:38.655340",
          "exception": false,
          "start_time": "2023-08-28T20:11:38.377903",
          "status": "completed"
        },
        "tags": [],
        "id": "8dcc4d94",
        "outputId": "04098910-880c-45a3-cd17-cc79c20a2956"
      },
      "outputs": [
        {
          "name": "stdout",
          "output_type": "stream",
          "text": [
            "              precision    recall  f1-score   support\n",
            "\n",
            "           0       0.78      0.64      0.71      6992\n",
            "           1       0.84      0.91      0.87     14167\n",
            "\n",
            "    accuracy                           0.82     21159\n",
            "   macro avg       0.81      0.78      0.79     21159\n",
            "weighted avg       0.82      0.82      0.82     21159\n",
            "\n"
          ]
        }
      ],
      "source": [
        "y_pred_VC=VC.predict(x_test_t)\n",
        "print(classification_report(y_test,y_pred_VC, labels=[0,1]))"
      ]
    },
    {
      "cell_type": "markdown",
      "id": "ba04d4de",
      "metadata": {
        "papermill": {
          "duration": 0.064525,
          "end_time": "2023-08-28T20:11:38.784573",
          "exception": false,
          "start_time": "2023-08-28T20:11:38.720048",
          "status": "completed"
        },
        "tags": [],
        "id": "ba04d4de"
      },
      "source": [
        "*There is not much space for hyperparameter tuning in this model. Between voting='soft' or 'hard','hard' voting gives better result for both train and test. It is also the default parameter, so that has been kept the same.*"
      ]
    },
    {
      "cell_type": "markdown",
      "id": "33b6117d",
      "metadata": {
        "papermill": {
          "duration": 0.06466,
          "end_time": "2023-08-28T20:11:38.914643",
          "exception": false,
          "start_time": "2023-08-28T20:11:38.849983",
          "status": "completed"
        },
        "tags": [],
        "id": "33b6117d"
      },
      "source": [
        "***Checking and preprocessing test data and doing the final predictions***"
      ]
    },
    {
      "cell_type": "code",
      "execution_count": null,
      "id": "58716256",
      "metadata": {
        "execution": {
          "iopub.execute_input": "2023-08-28T20:11:39.061372Z",
          "iopub.status.busy": "2023-08-28T20:11:39.060488Z",
          "iopub.status.idle": "2023-08-28T20:11:39.067463Z",
          "shell.execute_reply": "2023-08-28T20:11:39.066429Z"
        },
        "papermill": {
          "duration": 0.083885,
          "end_time": "2023-08-28T20:11:39.070152",
          "exception": false,
          "start_time": "2023-08-28T20:11:38.986267",
          "status": "completed"
        },
        "tags": [],
        "id": "58716256",
        "outputId": "17222125-1a09-4ded-8a52-273873b50c7a"
      },
      "outputs": [
        {
          "data": {
            "text/plain": [
              "((55315, 4), (55315, 2))"
            ]
          },
          "execution_count": 174,
          "metadata": {},
          "output_type": "execute_result"
        }
      ],
      "source": [
        "test_data.shape, sample_data.shape"
      ]
    },
    {
      "cell_type": "code",
      "execution_count": null,
      "id": "eb227a02",
      "metadata": {
        "execution": {
          "iopub.execute_input": "2023-08-28T20:11:39.216033Z",
          "iopub.status.busy": "2023-08-28T20:11:39.215637Z",
          "iopub.status.idle": "2023-08-28T20:11:39.226747Z",
          "shell.execute_reply": "2023-08-28T20:11:39.225440Z"
        },
        "papermill": {
          "duration": 0.093262,
          "end_time": "2023-08-28T20:11:39.228876",
          "exception": false,
          "start_time": "2023-08-28T20:11:39.135614",
          "status": "completed"
        },
        "tags": [],
        "id": "eb227a02",
        "outputId": "1b48fa82-3ce3-4a3b-acf8-32d8223a2542"
      },
      "outputs": [
        {
          "data": {
            "text/html": [
              "<div>\n",
              "<style scoped>\n",
              "    .dataframe tbody tr th:only-of-type {\n",
              "        vertical-align: middle;\n",
              "    }\n",
              "\n",
              "    .dataframe tbody tr th {\n",
              "        vertical-align: top;\n",
              "    }\n",
              "\n",
              "    .dataframe thead th {\n",
              "        text-align: right;\n",
              "    }\n",
              "</style>\n",
              "<table border=\"1\" class=\"dataframe\">\n",
              "  <thead>\n",
              "    <tr style=\"text-align: right;\">\n",
              "      <th></th>\n",
              "      <th>movieid</th>\n",
              "      <th>reviewerName</th>\n",
              "      <th>isTopCritic</th>\n",
              "      <th>reviewText</th>\n",
              "    </tr>\n",
              "  </thead>\n",
              "  <tbody>\n",
              "    <tr>\n",
              "      <th>0</th>\n",
              "      <td>legend_marty_mcfly_oracle</td>\n",
              "      <td>John Kim</td>\n",
              "      <td>False</td>\n",
              "      <td>Green slowly cranks up the dread with style an...</td>\n",
              "    </tr>\n",
              "    <tr>\n",
              "      <th>1</th>\n",
              "      <td>terminator_katniss_everdeen_glimmer</td>\n",
              "      <td>Brian Chaney</td>\n",
              "      <td>False</td>\n",
              "      <td>Philip Noyce's direction is elegant and unforc...</td>\n",
              "    </tr>\n",
              "    <tr>\n",
              "      <th>2</th>\n",
              "      <td>james_bond_labyrinth_gollum</td>\n",
              "      <td>Danielle Parker</td>\n",
              "      <td>False</td>\n",
              "      <td>It wouldn't do to say what path Maria ultimate...</td>\n",
              "    </tr>\n",
              "    <tr>\n",
              "      <th>3</th>\n",
              "      <td>v_quest_han_solo_wondrous</td>\n",
              "      <td>Brittany Lane</td>\n",
              "      <td>False</td>\n",
              "      <td>Pig is not exactly the arthouse John Wick that...</td>\n",
              "    </tr>\n",
              "    <tr>\n",
              "      <th>4</th>\n",
              "      <td>enigma_hulk_surreal_starlight</td>\n",
              "      <td>Justin Willis</td>\n",
              "      <td>False</td>\n",
              "      <td>An imaginative no-budget musical of sorts abou...</td>\n",
              "    </tr>\n",
              "  </tbody>\n",
              "</table>\n",
              "</div>"
            ],
            "text/plain": [
              "                               movieid     reviewerName  isTopCritic  \\\n",
              "0            legend_marty_mcfly_oracle         John Kim        False   \n",
              "1  terminator_katniss_everdeen_glimmer     Brian Chaney        False   \n",
              "2          james_bond_labyrinth_gollum  Danielle Parker        False   \n",
              "3            v_quest_han_solo_wondrous    Brittany Lane        False   \n",
              "4        enigma_hulk_surreal_starlight    Justin Willis        False   \n",
              "\n",
              "                                          reviewText  \n",
              "0  Green slowly cranks up the dread with style an...  \n",
              "1  Philip Noyce's direction is elegant and unforc...  \n",
              "2  It wouldn't do to say what path Maria ultimate...  \n",
              "3  Pig is not exactly the arthouse John Wick that...  \n",
              "4  An imaginative no-budget musical of sorts abou...  "
            ]
          },
          "execution_count": 175,
          "metadata": {},
          "output_type": "execute_result"
        }
      ],
      "source": [
        "test_data.head()"
      ]
    },
    {
      "cell_type": "code",
      "execution_count": null,
      "id": "8b3d1d63",
      "metadata": {
        "execution": {
          "iopub.execute_input": "2023-08-28T20:11:39.367120Z",
          "iopub.status.busy": "2023-08-28T20:11:39.366663Z",
          "iopub.status.idle": "2023-08-28T20:11:39.419432Z",
          "shell.execute_reply": "2023-08-28T20:11:39.418357Z"
        },
        "papermill": {
          "duration": 0.126936,
          "end_time": "2023-08-28T20:11:39.422005",
          "exception": false,
          "start_time": "2023-08-28T20:11:39.295069",
          "status": "completed"
        },
        "tags": [],
        "id": "8b3d1d63",
        "outputId": "271e0efb-2a5d-4ce5-b3ed-a0c7078e2f41"
      },
      "outputs": [
        {
          "data": {
            "text/plain": [
              "movieid            0\n",
              "reviewerName       0\n",
              "isTopCritic        0\n",
              "reviewText      2510\n",
              "dtype: int64"
            ]
          },
          "execution_count": 176,
          "metadata": {},
          "output_type": "execute_result"
        }
      ],
      "source": [
        "test_data.isnull().sum()"
      ]
    },
    {
      "cell_type": "code",
      "execution_count": null,
      "id": "cbe10ec6",
      "metadata": {
        "execution": {
          "iopub.execute_input": "2023-08-28T20:11:39.561252Z",
          "iopub.status.busy": "2023-08-28T20:11:39.560827Z",
          "iopub.status.idle": "2023-08-28T20:11:39.568909Z",
          "shell.execute_reply": "2023-08-28T20:11:39.568013Z"
        },
        "papermill": {
          "duration": 0.077052,
          "end_time": "2023-08-28T20:11:39.570920",
          "exception": false,
          "start_time": "2023-08-28T20:11:39.493868",
          "status": "completed"
        },
        "tags": [],
        "id": "cbe10ec6"
      },
      "outputs": [],
      "source": [
        "x_final=test_data[['reviewText','reviewerName']]"
      ]
    },
    {
      "cell_type": "code",
      "execution_count": null,
      "id": "6e46ab66",
      "metadata": {
        "execution": {
          "iopub.execute_input": "2023-08-28T20:11:39.706204Z",
          "iopub.status.busy": "2023-08-28T20:11:39.705732Z",
          "iopub.status.idle": "2023-08-28T20:11:39.733346Z",
          "shell.execute_reply": "2023-08-28T20:11:39.732438Z"
        },
        "papermill": {
          "duration": 0.09894,
          "end_time": "2023-08-28T20:11:39.735280",
          "exception": false,
          "start_time": "2023-08-28T20:11:39.636340",
          "status": "completed"
        },
        "tags": [],
        "id": "6e46ab66",
        "outputId": "d1d9f6a9-1283-4663-c0e6-827339fae362"
      },
      "outputs": [
        {
          "data": {
            "text/plain": [
              "reviewText      2510\n",
              "reviewerName       0\n",
              "dtype: int64"
            ]
          },
          "execution_count": 178,
          "metadata": {},
          "output_type": "execute_result"
        }
      ],
      "source": [
        "x_final.isnull().sum()"
      ]
    },
    {
      "cell_type": "code",
      "execution_count": null,
      "id": "eea0910f",
      "metadata": {
        "execution": {
          "iopub.execute_input": "2023-08-28T20:11:39.870531Z",
          "iopub.status.busy": "2023-08-28T20:11:39.869895Z",
          "iopub.status.idle": "2023-08-28T20:11:39.884172Z",
          "shell.execute_reply": "2023-08-28T20:11:39.883059Z"
        },
        "papermill": {
          "duration": 0.085069,
          "end_time": "2023-08-28T20:11:39.886421",
          "exception": false,
          "start_time": "2023-08-28T20:11:39.801352",
          "status": "completed"
        },
        "tags": [],
        "id": "eea0910f",
        "outputId": "b7feae46-febf-40cb-8099-3b20388527dd"
      },
      "outputs": [
        {
          "name": "stderr",
          "output_type": "stream",
          "text": [
            "/tmp/ipykernel_20/1397152920.py:1: SettingWithCopyWarning: \n",
            "A value is trying to be set on a copy of a slice from a DataFrame.\n",
            "Try using .loc[row_indexer,col_indexer] = value instead\n",
            "\n",
            "See the caveats in the documentation: https://pandas.pydata.org/pandas-docs/stable/user_guide/indexing.html#returning-a-view-versus-a-copy\n",
            "  x_final['reviewText']=si.transform(x_final[['reviewText']])\n"
          ]
        }
      ],
      "source": [
        "x_final['reviewText']=si.transform(x_final[['reviewText']])"
      ]
    },
    {
      "cell_type": "code",
      "execution_count": null,
      "id": "7f7af51c",
      "metadata": {
        "execution": {
          "iopub.execute_input": "2023-08-28T20:11:40.021582Z",
          "iopub.status.busy": "2023-08-28T20:11:40.021245Z",
          "iopub.status.idle": "2023-08-28T20:11:40.027893Z",
          "shell.execute_reply": "2023-08-28T20:11:40.026938Z"
        },
        "papermill": {
          "duration": 0.076481,
          "end_time": "2023-08-28T20:11:40.029805",
          "exception": false,
          "start_time": "2023-08-28T20:11:39.953324",
          "status": "completed"
        },
        "tags": [],
        "id": "7f7af51c",
        "outputId": "f9b4e40a-da5b-4fbd-e715-9aaf502a22b5"
      },
      "outputs": [
        {
          "data": {
            "text/plain": [
              "(55315, 2)"
            ]
          },
          "execution_count": 180,
          "metadata": {},
          "output_type": "execute_result"
        }
      ],
      "source": [
        "x_final.shape"
      ]
    },
    {
      "cell_type": "code",
      "execution_count": null,
      "id": "81e8f7fa",
      "metadata": {
        "execution": {
          "iopub.execute_input": "2023-08-28T20:11:40.166361Z",
          "iopub.status.busy": "2023-08-28T20:11:40.165391Z",
          "iopub.status.idle": "2023-08-28T20:11:44.294424Z",
          "shell.execute_reply": "2023-08-28T20:11:44.293630Z"
        },
        "papermill": {
          "duration": 4.198632,
          "end_time": "2023-08-28T20:11:44.296715",
          "exception": false,
          "start_time": "2023-08-28T20:11:40.098083",
          "status": "completed"
        },
        "tags": [],
        "id": "81e8f7fa"
      },
      "outputs": [],
      "source": [
        "x_final_t=ct2.transform(x_final)"
      ]
    },
    {
      "cell_type": "code",
      "execution_count": null,
      "id": "8af124fa",
      "metadata": {
        "execution": {
          "iopub.execute_input": "2023-08-28T20:11:44.431527Z",
          "iopub.status.busy": "2023-08-28T20:11:44.430917Z",
          "iopub.status.idle": "2023-08-28T20:11:44.852972Z",
          "shell.execute_reply": "2023-08-28T20:11:44.852216Z"
        },
        "papermill": {
          "duration": 0.49188,
          "end_time": "2023-08-28T20:11:44.854843",
          "exception": false,
          "start_time": "2023-08-28T20:11:44.362963",
          "status": "completed"
        },
        "tags": [],
        "id": "8af124fa",
        "outputId": "28dc4df7-9cee-4730-ca3c-3056d6838e59"
      },
      "outputs": [
        {
          "data": {
            "text/plain": [
              "array(['POSITIVE', 'POSITIVE', 'POSITIVE', ..., 'NEGATIVE', 'POSITIVE',\n",
              "       'NEGATIVE'], dtype=object)"
            ]
          },
          "execution_count": 182,
          "metadata": {},
          "output_type": "execute_result"
        }
      ],
      "source": [
        "sentiment=VC.predict(x_final_t)\n",
        "sentiment= le.inverse_transform(sentiment)\n",
        "sentiment"
      ]
    },
    {
      "cell_type": "code",
      "execution_count": null,
      "id": "7477ecb9",
      "metadata": {
        "execution": {
          "iopub.execute_input": "2023-08-28T20:11:44.988508Z",
          "iopub.status.busy": "2023-08-28T20:11:44.987900Z",
          "iopub.status.idle": "2023-08-28T20:11:44.996331Z",
          "shell.execute_reply": "2023-08-28T20:11:44.995195Z"
        },
        "papermill": {
          "duration": 0.077794,
          "end_time": "2023-08-28T20:11:44.998292",
          "exception": false,
          "start_time": "2023-08-28T20:11:44.920498",
          "status": "completed"
        },
        "tags": [],
        "id": "7477ecb9",
        "outputId": "5a16fd1b-a549-4fce-e750-92e52820b599"
      },
      "outputs": [
        {
          "data": {
            "text/html": [
              "<div>\n",
              "<style scoped>\n",
              "    .dataframe tbody tr th:only-of-type {\n",
              "        vertical-align: middle;\n",
              "    }\n",
              "\n",
              "    .dataframe tbody tr th {\n",
              "        vertical-align: top;\n",
              "    }\n",
              "\n",
              "    .dataframe thead th {\n",
              "        text-align: right;\n",
              "    }\n",
              "</style>\n",
              "<table border=\"1\" class=\"dataframe\">\n",
              "  <thead>\n",
              "    <tr style=\"text-align: right;\">\n",
              "      <th></th>\n",
              "      <th>id</th>\n",
              "      <th>sentiment</th>\n",
              "    </tr>\n",
              "  </thead>\n",
              "  <tbody>\n",
              "    <tr>\n",
              "      <th>0</th>\n",
              "      <td>0</td>\n",
              "      <td>NEGATIVE</td>\n",
              "    </tr>\n",
              "    <tr>\n",
              "      <th>1</th>\n",
              "      <td>1</td>\n",
              "      <td>NEGATIVE</td>\n",
              "    </tr>\n",
              "    <tr>\n",
              "      <th>2</th>\n",
              "      <td>2</td>\n",
              "      <td>NEGATIVE</td>\n",
              "    </tr>\n",
              "    <tr>\n",
              "      <th>3</th>\n",
              "      <td>3</td>\n",
              "      <td>NEGATIVE</td>\n",
              "    </tr>\n",
              "    <tr>\n",
              "      <th>4</th>\n",
              "      <td>4</td>\n",
              "      <td>NEGATIVE</td>\n",
              "    </tr>\n",
              "  </tbody>\n",
              "</table>\n",
              "</div>"
            ],
            "text/plain": [
              "   id sentiment\n",
              "0   0  NEGATIVE\n",
              "1   1  NEGATIVE\n",
              "2   2  NEGATIVE\n",
              "3   3  NEGATIVE\n",
              "4   4  NEGATIVE"
            ]
          },
          "execution_count": 183,
          "metadata": {},
          "output_type": "execute_result"
        }
      ],
      "source": [
        "sample_data.head()"
      ]
    },
    {
      "cell_type": "code",
      "execution_count": null,
      "id": "a2e82af7",
      "metadata": {
        "execution": {
          "iopub.execute_input": "2023-08-28T20:11:45.132377Z",
          "iopub.status.busy": "2023-08-28T20:11:45.131699Z",
          "iopub.status.idle": "2023-08-28T20:11:45.152005Z",
          "shell.execute_reply": "2023-08-28T20:11:45.151251Z"
        },
        "papermill": {
          "duration": 0.089397,
          "end_time": "2023-08-28T20:11:45.153973",
          "exception": false,
          "start_time": "2023-08-28T20:11:45.064576",
          "status": "completed"
        },
        "tags": [],
        "id": "a2e82af7"
      },
      "outputs": [],
      "source": [
        "submission=pd.DataFrame(columns=['id','sentiment'])\n",
        "submission['id']=np.arange(0,len(sentiment))\n",
        "submission['sentiment']=sentiment"
      ]
    },
    {
      "cell_type": "code",
      "execution_count": null,
      "id": "41d53998",
      "metadata": {
        "execution": {
          "iopub.execute_input": "2023-08-28T20:11:45.288577Z",
          "iopub.status.busy": "2023-08-28T20:11:45.287891Z",
          "iopub.status.idle": "2023-08-28T20:11:45.291749Z",
          "shell.execute_reply": "2023-08-28T20:11:45.291036Z"
        },
        "papermill": {
          "duration": 0.073226,
          "end_time": "2023-08-28T20:11:45.293560",
          "exception": false,
          "start_time": "2023-08-28T20:11:45.220334",
          "status": "completed"
        },
        "tags": [],
        "id": "41d53998"
      },
      "outputs": [],
      "source": [
        "#submission.to_csv('submission.csv',index=False)"
      ]
    },
    {
      "cell_type": "markdown",
      "id": "fc7e6043",
      "metadata": {
        "papermill": {
          "duration": 0.065934,
          "end_time": "2023-08-28T20:11:45.425171",
          "exception": false,
          "start_time": "2023-08-28T20:11:45.359237",
          "status": "completed"
        },
        "tags": [],
        "id": "fc7e6043"
      },
      "source": [
        "# *COMPARISON*"
      ]
    },
    {
      "cell_type": "code",
      "execution_count": null,
      "id": "b4b56d20",
      "metadata": {
        "execution": {
          "iopub.execute_input": "2023-08-28T20:11:45.559856Z",
          "iopub.status.busy": "2023-08-28T20:11:45.559194Z",
          "iopub.status.idle": "2023-08-28T20:11:45.563687Z",
          "shell.execute_reply": "2023-08-28T20:11:45.562727Z"
        },
        "papermill": {
          "duration": 0.073722,
          "end_time": "2023-08-28T20:11:45.565620",
          "exception": false,
          "start_time": "2023-08-28T20:11:45.491898",
          "status": "completed"
        },
        "tags": [],
        "id": "b4b56d20"
      },
      "outputs": [],
      "source": [
        "comp={'Model':['LinearSVC','LogisticRegression','Perceptron','VotingClassifier'],\n",
        "      'F1_score_0':[0.70,0.71,0.69,0.71 ],\n",
        "      'F1_score_1':[0.87, 0.87 ,0.86,0.87]}"
      ]
    },
    {
      "cell_type": "code",
      "execution_count": null,
      "id": "81f393a7",
      "metadata": {
        "execution": {
          "iopub.execute_input": "2023-08-28T20:11:45.702177Z",
          "iopub.status.busy": "2023-08-28T20:11:45.701497Z",
          "iopub.status.idle": "2023-08-28T20:11:45.711777Z",
          "shell.execute_reply": "2023-08-28T20:11:45.710760Z"
        },
        "papermill": {
          "duration": 0.082197,
          "end_time": "2023-08-28T20:11:45.713822",
          "exception": false,
          "start_time": "2023-08-28T20:11:45.631625",
          "status": "completed"
        },
        "tags": [],
        "id": "81f393a7",
        "outputId": "cda57026-a3f5-4b2d-dd3a-2b5929914383"
      },
      "outputs": [
        {
          "data": {
            "text/html": [
              "<div>\n",
              "<style scoped>\n",
              "    .dataframe tbody tr th:only-of-type {\n",
              "        vertical-align: middle;\n",
              "    }\n",
              "\n",
              "    .dataframe tbody tr th {\n",
              "        vertical-align: top;\n",
              "    }\n",
              "\n",
              "    .dataframe thead th {\n",
              "        text-align: right;\n",
              "    }\n",
              "</style>\n",
              "<table border=\"1\" class=\"dataframe\">\n",
              "  <thead>\n",
              "    <tr style=\"text-align: right;\">\n",
              "      <th></th>\n",
              "      <th>Model</th>\n",
              "      <th>F1_score_0</th>\n",
              "      <th>F1_score_1</th>\n",
              "    </tr>\n",
              "  </thead>\n",
              "  <tbody>\n",
              "    <tr>\n",
              "      <th>0</th>\n",
              "      <td>LinearSVC</td>\n",
              "      <td>0.70</td>\n",
              "      <td>0.87</td>\n",
              "    </tr>\n",
              "    <tr>\n",
              "      <th>1</th>\n",
              "      <td>LogisticRegression</td>\n",
              "      <td>0.71</td>\n",
              "      <td>0.87</td>\n",
              "    </tr>\n",
              "    <tr>\n",
              "      <th>2</th>\n",
              "      <td>Perceptron</td>\n",
              "      <td>0.69</td>\n",
              "      <td>0.86</td>\n",
              "    </tr>\n",
              "    <tr>\n",
              "      <th>3</th>\n",
              "      <td>VotingClassifier</td>\n",
              "      <td>0.71</td>\n",
              "      <td>0.87</td>\n",
              "    </tr>\n",
              "  </tbody>\n",
              "</table>\n",
              "</div>"
            ],
            "text/plain": [
              "                Model  F1_score_0  F1_score_1\n",
              "0           LinearSVC        0.70        0.87\n",
              "1  LogisticRegression        0.71        0.87\n",
              "2          Perceptron        0.69        0.86\n",
              "3    VotingClassifier        0.71        0.87"
            ]
          },
          "execution_count": 187,
          "metadata": {},
          "output_type": "execute_result"
        }
      ],
      "source": [
        "df= pd.DataFrame(comp)\n",
        "df"
      ]
    },
    {
      "cell_type": "code",
      "execution_count": null,
      "id": "e4163f86",
      "metadata": {
        "execution": {
          "iopub.execute_input": "2023-08-28T20:11:45.850130Z",
          "iopub.status.busy": "2023-08-28T20:11:45.849432Z",
          "iopub.status.idle": "2023-08-28T20:11:46.076565Z",
          "shell.execute_reply": "2023-08-28T20:11:46.075761Z"
        },
        "papermill": {
          "duration": 0.297517,
          "end_time": "2023-08-28T20:11:46.078402",
          "exception": false,
          "start_time": "2023-08-28T20:11:45.780885",
          "status": "completed"
        },
        "tags": [],
        "id": "e4163f86",
        "outputId": "fd8075eb-808d-4cdb-a24c-293db54a391c"
      },
      "outputs": [
        {
          "data": {
            "text/plain": [
              "[<matplotlib.lines.Line2D at 0x7a71da50d900>]"
            ]
          },
          "execution_count": 188,
          "metadata": {},
          "output_type": "execute_result"
        },
        {
          "data": {
            "image/png": "[encoded data removed]",
            "text/plain": [
              "<Figure size 640x480 with 1 Axes>"
            ]
          },
          "metadata": {},
          "output_type": "display_data"
        }
      ],
      "source": [
        "plt.plot(df['Model'],df['F1_score_0'] )"
      ]
    },
    {
      "cell_type": "code",
      "execution_count": null,
      "id": "aa4fa5c5",
      "metadata": {
        "execution": {
          "iopub.execute_input": "2023-08-28T20:11:46.214719Z",
          "iopub.status.busy": "2023-08-28T20:11:46.214118Z",
          "iopub.status.idle": "2023-08-28T20:11:46.421671Z",
          "shell.execute_reply": "2023-08-28T20:11:46.420564Z"
        },
        "papermill": {
          "duration": 0.277883,
          "end_time": "2023-08-28T20:11:46.423988",
          "exception": false,
          "start_time": "2023-08-28T20:11:46.146105",
          "status": "completed"
        },
        "tags": [],
        "id": "aa4fa5c5",
        "outputId": "48504071-dec6-4383-df8c-916fcc2da531"
      },
      "outputs": [
        {
          "data": {
            "text/plain": [
              "[<matplotlib.lines.Line2D at 0x7a71da5cb820>]"
            ]
          },
          "execution_count": 189,
          "metadata": {},
          "output_type": "execute_result"
        },
        {
          "data": {
            "image/png": "[encoded data removed]",
            "text/plain": [
              "<Figure size 640x480 with 1 Axes>"
            ]
          },
          "metadata": {},
          "output_type": "display_data"
        }
      ],
      "source": [
        "plt.plot(df['Model'],df['F1_score_1'] )"
      ]
    },
    {
      "cell_type": "markdown",
      "id": "c0b50d7d",
      "metadata": {
        "papermill": {
          "duration": 0.066829,
          "end_time": "2023-08-28T20:11:46.559164",
          "exception": false,
          "start_time": "2023-08-28T20:11:46.492335",
          "status": "completed"
        },
        "tags": [],
        "id": "c0b50d7d"
      },
      "source": [
        "*The Scores observed after submission have been of the order:*   \n",
        "\n",
        "***VC> LogReg>LinSVC>Perceptron***\n"
      ]
    },
    {
      "cell_type": "markdown",
      "id": "5d579efb",
      "metadata": {
        "papermill": {
          "duration": 0.069469,
          "end_time": "2023-08-28T20:11:46.696085",
          "exception": false,
          "start_time": "2023-08-28T20:11:46.626616",
          "status": "completed"
        },
        "tags": [],
        "id": "5d579efb"
      },
      "source": [
        "*The difference between accuracy is very close in the first three models. We see that's because the f1_score_1 for all the three is the same.*\n",
        "\n",
        "*We see also, that f1_score_0 for VC and LogReg is only slightly higher leading to a slight increase in efficiency.*\n",
        "\n",
        "*Perceptron gives the worst score out of all these models, because as seen above it has the lowest f1_score for predicting both the positive and the negitive sentiments.*\n"
      ]
    }
  ],
  "metadata": {
    "kernelspec": {
      "display_name": "Python 3",
      "language": "python",
      "name": "python3"
    },
    "language_info": {
      "codemirror_mode": {
        "name": "ipython",
        "version": 3
      },
      "file_extension": ".py",
      "mimetype": "text/x-python",
      "name": "python",
      "nbconvert_exporter": "python",
      "pygments_lexer": "ipython3",
      "version": "3.10.10"
    },
    "papermill": {
      "default_parameters": {},
      "duration": 2978.89057,
      "end_time": "2023-08-28T20:11:49.391104",
      "environment_variables": {},
      "exception": null,
      "input_path": "__notebook__.ipynb",
      "output_path": "__notebook__.ipynb",
      "parameters": {},
      "start_time": "2023-08-28T19:22:10.500534",
      "version": "2.4.0"
    },
    "colab": {
      "provenance": []
    }
  },
  "nbformat": 4,
  "nbformat_minor": 5
}